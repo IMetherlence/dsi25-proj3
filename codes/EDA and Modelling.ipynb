{
 "cells": [
  {
   "cell_type": "markdown",
   "metadata": {},
   "source": [
    "# EDA and Modelling\n",
    "---"
   ]
  },
  {
   "cell_type": "markdown",
   "metadata": {},
   "source": [
    "## Import Libraries"
   ]
  },
  {
   "cell_type": "code",
   "execution_count": 1,
   "metadata": {},
   "outputs": [],
   "source": [
    "import numpy as np\n",
    "import pandas as pd\n",
    "import re\n",
    "import string\n",
    "import nltk\n",
    "import seaborn as sns\n",
    "import matplotlib.pyplot as plt\n",
    "\n",
    "pd.set_option('display.max_colwidth', 100) # More readable pandas output for huge column sizes"
   ]
  },
  {
   "cell_type": "markdown",
   "metadata": {},
   "source": [
    "### Useful Functions"
   ]
  },
  {
   "cell_type": "markdown",
   "metadata": {},
   "source": [
    "Here is our function for our stopwords"
   ]
  },
  {
   "cell_type": "code",
   "execution_count": 2,
   "metadata": {},
   "outputs": [],
   "source": [
    "stopwords = nltk.corpus.stopwords.words('english') # These are our stop words"
   ]
  },
  {
   "cell_type": "markdown",
   "metadata": {},
   "source": [
    "This function removes punctuations, before tokenizing our text and then stemming the text after we removed stopwords."
   ]
  },
  {
   "cell_type": "code",
   "execution_count": 3,
   "metadata": {},
   "outputs": [],
   "source": [
    "ps = nltk.PorterStemmer()\n",
    "\n",
    "def clean_text_stem(text):\n",
    "    text = \"\".join([word.lower() for word in text if word not in string.punctuation])\n",
    "    # \\W matches any non-word character (equivalent to [^a-zA-Z0-9_]). This does not include spaces i.e. \\s\n",
    "    # Add a + just in case there are 2 or more spaces between certain words\n",
    "    tokens = re.split('\\W+', text) # This function removes punctuations, before tokenizing our text and then stemming the text.\n",
    "    \n",
    "    # apply stemming and stopwords exclusion within the same step\n",
    "    text = [ps.stem(word) for word in tokens if word not in stopwords]\n",
    "    return text\n",
    "\n",
    "# Text Cleaner using stem method"
   ]
  },
  {
   "cell_type": "markdown",
   "metadata": {},
   "source": [
    "This function removes punctuations, before tokenizing our text and then lemmatizing the text after we removed stopwords."
   ]
  },
  {
   "cell_type": "code",
   "execution_count": 4,
   "metadata": {},
   "outputs": [],
   "source": [
    "wn = nltk.WordNetLemmatizer()\n",
    "\n",
    "def clean_text_lemmatize(text):\n",
    "    text = \"\".join([word.lower() for word in text if word not in string.punctuation])\n",
    "    # \\W matches any non-word character (equivalent to [^a-zA-Z0-9_]). This does not include spaces i.e. \\s\n",
    "    # Add a + just in case there are 2 or more spaces between certain words\n",
    "    tokens = re.split('\\W+', text)\n",
    "    \n",
    "    # apply lemmatize and stopwords exclusion within the same step\n",
    "    text = [wn.lemmatize(word) for word in tokens if word not in stopwords]\n",
    "    return text"
   ]
  },
  {
   "cell_type": "markdown",
   "metadata": {},
   "source": [
    "This function removes punctuations, before tokenizing our text and then lemmatizing the text after we removed stopwords.\n",
    "\n",
    "The stopwords for this function can be adjusted in this particular function, compared to the previous ones. This needs to have a list add_stopwords declared before using."
   ]
  },
  {
   "cell_type": "code",
   "execution_count": 5,
   "metadata": {},
   "outputs": [],
   "source": [
    "\n",
    "\n",
    "def clean_text_lemmatize_more_stopwords(text):\n",
    "    text = \"\".join([word.lower() for word in text if word not in string.punctuation])\n",
    "    # \\W matches any non-word character (equivalent to [^a-zA-Z0-9_]). This does not include spaces i.e. \\s\n",
    "    # Add a + just in case there are 2 or more spaces between certain words\n",
    "    tokens = re.split('\\W+', text)\n",
    "    \n",
    "    # apply lemmatize and stopwords exclusion within the same step\n",
    "    text = [wn.lemmatize(word) for word in tokens if word not in add_stopwords] # This function removes punctuations, before tokenizing our text and then lemmatizing the text.\n",
    "    return text"
   ]
  },
  {
   "cell_type": "markdown",
   "metadata": {},
   "source": [
    "This function simply remove punctuations in a given text."
   ]
  },
  {
   "cell_type": "code",
   "execution_count": 6,
   "metadata": {},
   "outputs": [],
   "source": [
    "def remove_punct(text):\n",
    "    # store character only if it is not a punctuation\n",
    "    text_nopunct = \"\".join([char for char in text if char not in string.punctuation])\n",
    "    return text_nopunct"
   ]
  },
  {
   "cell_type": "markdown",
   "metadata": {},
   "source": [
    "## Import Cleaned Data\n",
    "Let's start by importing our cleaned data from our previous notebook."
   ]
  },
  {
   "cell_type": "code",
   "execution_count": 7,
   "metadata": {},
   "outputs": [
    {
     "data": {
      "text/html": [
       "<div>\n",
       "<style scoped>\n",
       "    .dataframe tbody tr th:only-of-type {\n",
       "        vertical-align: middle;\n",
       "    }\n",
       "\n",
       "    .dataframe tbody tr th {\n",
       "        vertical-align: top;\n",
       "    }\n",
       "\n",
       "    .dataframe thead th {\n",
       "        text-align: right;\n",
       "    }\n",
       "</style>\n",
       "<table border=\"1\" class=\"dataframe\">\n",
       "  <thead>\n",
       "    <tr style=\"text-align: right;\">\n",
       "      <th></th>\n",
       "      <th>Unnamed: 0</th>\n",
       "      <th>selftext</th>\n",
       "      <th>title</th>\n",
       "      <th>subreddit</th>\n",
       "    </tr>\n",
       "  </thead>\n",
       "  <tbody>\n",
       "    <tr>\n",
       "      <th>0</th>\n",
       "      <td>0</td>\n",
       "      <td>Been going pretty hard with drugs for a while recently quit and looking back at messages and pos...</td>\n",
       "      <td>Does anyone look back at messages and post's you have sent and cringe.</td>\n",
       "      <td>1</td>\n",
       "    </tr>\n",
       "    <tr>\n",
       "      <th>1</th>\n",
       "      <td>1</td>\n",
       "      <td>So, does anyone know if you can go to rehab and still keep your job if you work from home?\\n\\nI ...</td>\n",
       "      <td>Rehab and working from home???</td>\n",
       "      <td>1</td>\n",
       "    </tr>\n",
       "    <tr>\n",
       "      <th>2</th>\n",
       "      <td>2</td>\n",
       "      <td>I didn’t know how to phrase the question so I will try to clarify: my[26F] brother [21m] has bee...</td>\n",
       "      <td>What would you have wanted your sibling to say when they noticed there was a problem with alcohol?</td>\n",
       "      <td>1</td>\n",
       "    </tr>\n",
       "    <tr>\n",
       "      <th>3</th>\n",
       "      <td>3</td>\n",
       "      <td>I'm not trying to sell y'all insurance. Rather, I've been looking at hosting an event (meditatio...</td>\n",
       "      <td>What sort of \"liability insurance\" do y'all have at your events?</td>\n",
       "      <td>1</td>\n",
       "    </tr>\n",
       "    <tr>\n",
       "      <th>4</th>\n",
       "      <td>4</td>\n",
       "      <td>Im 29m and coming up on 11 months sober now and im almost done with my 4th step. Ive done the st...</td>\n",
       "      <td>Does it actually get better?</td>\n",
       "      <td>1</td>\n",
       "    </tr>\n",
       "  </tbody>\n",
       "</table>\n",
       "</div>"
      ],
      "text/plain": [
       "   Unnamed: 0  \\\n",
       "0           0   \n",
       "1           1   \n",
       "2           2   \n",
       "3           3   \n",
       "4           4   \n",
       "\n",
       "                                                                                              selftext  \\\n",
       "0  Been going pretty hard with drugs for a while recently quit and looking back at messages and pos...   \n",
       "1  So, does anyone know if you can go to rehab and still keep your job if you work from home?\\n\\nI ...   \n",
       "2  I didn’t know how to phrase the question so I will try to clarify: my[26F] brother [21m] has bee...   \n",
       "3  I'm not trying to sell y'all insurance. Rather, I've been looking at hosting an event (meditatio...   \n",
       "4  Im 29m and coming up on 11 months sober now and im almost done with my 4th step. Ive done the st...   \n",
       "\n",
       "                                                                                                title  \\\n",
       "0                              Does anyone look back at messages and post's you have sent and cringe.   \n",
       "1                                                                      Rehab and working from home???   \n",
       "2  What would you have wanted your sibling to say when they noticed there was a problem with alcohol?   \n",
       "3                                    What sort of \"liability insurance\" do y'all have at your events?   \n",
       "4                                                                        Does it actually get better?   \n",
       "\n",
       "   subreddit  \n",
       "0          1  \n",
       "1          1  \n",
       "2          1  \n",
       "3          1  \n",
       "4          1  "
      ]
     },
     "execution_count": 7,
     "metadata": {},
     "output_type": "execute_result"
    }
   ],
   "source": [
    "data = pd.read_csv('data/cleaned_data.csv')\n",
    "data.head()"
   ]
  },
  {
   "cell_type": "markdown",
   "metadata": {},
   "source": [
    "## Count Vectorise (1,1) with Lemmatisation\n",
    "\n",
    "We will apply Natural Language Processing to our data by lemmatising the data first, followed by count vectorisation. \n",
    "\n",
    "We have opted to lemmatise the text instead of stemming as stemming results in words that are in weird formats (e.g. smoking becomes smok instead of smoke), and furthermore, we have access to hardware for faster processing.\n",
    "\n",
    "### Merging out selftext and title columns together"
   ]
  },
  {
   "cell_type": "code",
   "execution_count": 8,
   "metadata": {},
   "outputs": [],
   "source": [
    "data_nopunct = pd.DataFrame()\n",
    "\n",
    "data_nopunct['selftext_title'] = data['selftext'].apply(lambda x: remove_punct(str(x))) + data['title'].apply(lambda x: remove_punct(str(x)))\n",
    "# Remove punctuations from our selftext and title columns, then merging them into our combined seltext_title column\n",
    "\n",
    "data_nopunct.fillna('', inplace = True)\n",
    "# This should not appear here, but these code is here in case there is any potential null values."
   ]
  },
  {
   "cell_type": "markdown",
   "metadata": {},
   "source": [
    "### Count Vectorise (1,1) our Data"
   ]
  },
  {
   "cell_type": "code",
   "execution_count": 9,
   "metadata": {
    "scrolled": true
   },
   "outputs": [
    {
     "name": "stdout",
     "output_type": "stream",
     "text": [
      "(3298, 16626)\n",
      "['', '0', '0000', '0167', '027', '030', '0330', '042', '0430', '05', '060', '07l', '09', '091719', '0free', '0its', '0mg', '0quit', '1', '10', '100', '1000', '10000', '100000', '10000x', '1000calorie', '1000mph', '1000th', '1000x', '100k', '100lbs', '100w', '100x', '101', '1010', '1010pm', '1011', '1012', '10120', '1012mg', '1013', '1014', '1015', '102', '103', '104', '1040', '1044x2', '105', '106', '107', '108', '109', '109500', '10am', '10days', '10hi', '10hrs', '10ish', '10km', '10mg1', '10packs', '10pm', '10th', '10weeks', '10x', '10yo', '11', '110', '1100', '1100pm', '110th', '111', '1112', '112', '1120', '1122', '1124', '113', '1130', '116', '11am', '11b', '11pm', '11th', '12', '120', '1200', '1206', '120lbs', '120oz', '1212', '121212', '1213', '1214', '1215', '1216', '122', '1224', '123', '1234', '1235', '1236', '124', '124125', '125', '127', '12829', '129one', '12am', '12amp12', '12amp12the', '12day', '12kg', '12mg', '12pm', '12stepper', '12th', '12x12', '12years', '12yo', '13', '130', '13092021', '130lb', '131', '1314', '1315', '1317', '132', '1320', '134', '13491', '13600', '138', '139', '13940', '13ml', '13months', '13th', '13years', '14', '140', '1415', '1416', '142', '1421', '1430pack', '145', '146', '148', '149th', '14mg', '14mg24', '14mg24hr', '14months', '14th', '15', '150', '1500', '15002000', '150bpm', '150pm', '150w', '151', '1516', '1516ish', '152', '1520', '1520days', '1521', '1525', '1530', '155', '156', '15898517', '159', '15day', '15i', '15mg', '15th', '15year', '15years', '15yr', '15yrs', '16', '160', '160110', '1618', '164', '166', '167', '16am', '16oz', '16th', '17', '170', '1708', '171', '1721', '175', '175l', '175ml', '17f', '17she', '17th', '17years', '17yrs', '18', '180', '180lbs', '1819', '1819years', '1820mg', '1825', '1828', '183', '1833', '184', '187', '18f', '18h', '18mg', '18th', '18y', '19', '190lbs', '192', '1920', '1921', '1930s', '1934', '1937', '1956', '197lbs', '198', '1986', '1995', '1996', '1998', '19f', '19th', '19yo', '1a', '1againah', '1am', '1amp3', '1day', '1km', '1l', '1m', '1month', '1myself', '1pm', '1rpm', '1sec', '1st', '1stso', '1week', '1y', '1year', '1½', '2', '20', '200', '2000', '2000s', '2001', '2002', '2003', '2003i', '2004', '2005', '2006', '2007', '2008', '20092010', '200ct', '200lbs', '2010', '20112015', '2012', '20122014', '2012i', '2013', '2014', '2015', '2016', '20162021', '2017', '2018', '2018ish', '2018summer', '2019', '2020', '2021', '2021april', '2021august', '2021august18', '2022', '2024', '2025', '2030', '205lbs', '20f', '20ish', '20k', '20lbs', '20mg', '20mgml', '20th', '20x', '21', '210', '211', '2122', '2130', '217', '21921day', '21f', '21k', '21m', '21mg', '21st', '21yearold', '22', '220', '22f', '22m', '22nd', '22y', '22yo', '23', '230', '2300', '230187', '2305', '2306', '230am', '2325', '234', '23f', '23m', '23rd', '23th', '23yo', '24', '240', '242pmday', '244', '245', '2469', '247', '24921', '24f', '24h', '24hr', '24hrs', '24th', '25', '250', '2500', '250400', '2510', '25102031', '2526', '2530', '25day', '25f', '25female', '25g', '25lbs', '25m', '25mg', '25mins', '25oz', '25th', '25ths', '25yearold', '25yrs', '26', '260lbs', '2627', '263', '264975', '269', '26f', '26m', '26th', '27', '2722ft', '276', '27f', '27m', '27th', '28', '28f', '28m', '28th', '28years', '29', '2920', '29f', '29m', '29th', '29yearold', '2am', '2amp4', '2ed', '2ish', '2mg', '2nd', '2o', '2th', '2time', '2x', '2x6mg', '2xweek', '2yrs', '3', '30', '300', '3000', '3000001x', '300800', '300am', '301', '3040', '3045', '30d', '30day', '30f', '30hrs', '30m', '30mg', '30mins', '30minutes', '30ml', '30th', '30years', '30yo', '31', '310ish', '313', '317am', '31m', '31st', '31y', '31yo', '32', '32f', '32m', '32nd', '33', '330', '333', '33f', '33m', '34', '3464315', '34m', '34when', '34x', '35', '35000', '3540', '35f', '35hours', '35hs', '35s', '36', '3600', '365', '36hrs', '36k', '36oz', '37', '374', '38', '385', '39', '3a2818', '3am', '3d', '3day', '3litres', '3mg', '3mg3x', '3months', '3mpty', '3pm', '3rd', '3week', '3x', '3xweek', '3y', '3y5m', '3yearold', '4', '40', '400', '400m', '408am', '40m', '41', '410', '411', '413', '4136685530support', '42', '420pm', '4270', '42f', '43', '430', '430pm', '4320', '43rd', '44', '4416', '44m', '45', '4560', '457', '45ish', '45minutes', '46', '4647', '46b', '47', '48', '48h', '48hr', '49', '4am', '4day', '4hour', '4ish', '4l', '4lbs', '4mg', '4pm', '4runner', '4th', '4th5th', '4week', '4weeks', '4x', '5', '50', '500', '5000', '500000', '500m', '500ml', '501', '50100day', '5050', '5055', '509', '50k', '50mg', '50yearold', '51', '510', '511', '52', '525', '525i', '52week', '53', '530', '530am12am', '54', '543', '545pm', '548', '55', '55lbs', '56', '561', '56am', '57', '57male', '57y', '58', '59', '5am', '5h', '5ish', '5k', '5km', '5l', '5lbs', '5mg', '5months', '5pm', '5step', '5th', '5th7th', '5thday', '5x', '5y', '5year', '5years', '5yrs', '6', '60', '600', '600puffs', '6080', '60lbs', '60oz', '60w', '61', '610', '612', '618', '62', '63', '630', '630pm', '64', '648', '65', '67', '67years', '68', '682', '684', '68th', '6am', '6ish', '6lbs', '6mg', '6mo', '6months', '6pm', '6th', '6weeks', '7', '70', '700', '700am', '7080', '70g', '71', '710', '71618', '72', '73', '730', '7308pm', '7314', '74', '74kickin', '75', '750ml', '757', '759', '76', '77', '7778', '78', '7882075023', '79', '791', '7980', '7am', '7day', '7ish', '7mg', '7pm', '7pm12am', '7th', '7yearold', '7years', '8', '80', '800', '8000', '800010000', '8090', '80oz', '810', '8102020', '812', '82', '828', '83', '830', '83001', '830am', '84', '85', '858', '8590', '86', '8687', '87', '88', '89', '8am', '8days', '8h', '8k', '8mg', '8months', '8plus', '8pm', '8smoking', '8th', '8yo', '8yrs', '9', '90', '900', '900ish', '90day', '90i', '90ish', '90kg', '90lbs', '90th', '90yr', '91', '910pm', '911', '91103', '9119', '912', '914', '92', '927', '93', '930', '9321', '9394', '94', '94days', '95', '959', '96', '97', '98', '98your', '99', '9918', '9am', '9mg', '9pm', '9th', 'a4', 'aa', 'aaa', 'aaanyone', 'aabest', 'aaers', 'aafrom', 'aai', 'aaim', 'aaintergrouporghttpsaaintergrouporgmeetingslooking', 'aana', 'aareferencing', 'aaron', 'aasholes', 'aasmart', 'aastill', 'aatype', 'aawhy', 'ab', 'aback', 'abandon', 'abandoned', 'abandoning', 'abandonment', 'abate', 'abdomen', 'abdominal', 'abeing', 'abhorrent', 'ability', 'abit', 'ablation', 'able', 'abloom', 'abnormal', 'abolishing', 'abolition', 'abortion', 'abou', 'aboutdrove', 'aboutwhat', 'abowt', 'abrahamicmonotheistic', 'abroad', 'abruptly', 'abscence', 'absence', 'absent', 'absolute', 'absolutely', 'absolution', 'absorb', 'absorbed', 'absorbs', 'absorption', 'abstain', 'abstained', 'abstainim', 'abstaining', 'abstinence', 'absue', 'absurd', 'absurdly', 'abt', 'abu', 'abunch', 'abundant', 'abuse', 'abusealcoholism', 'abused', 'abuser', 'abusing', 'abusive', 'abusively', 'abv', 'abysmal', 'abyss', 'ac', 'aca', 'academic', 'acai', 'accelerated', 'accent', 'accentuated', 'accept', 'acceptable', 'acceptance', 'accepted', 'accepting', 'acceptnext', 'accepts', 'access', 'accessibility', 'accessible', 'accessing', 'accessory', 'accident', 'accidentally', 'accidently', 'accommodate', 'accommodation', 'accomodation', 'accompanied', 'accompany', 'accomplish', 'accomplished', 'accomplishment', 'according', 'accordingly', 'accordion', 'account', 'accountabilibuddy', 'accountability', 'accountabilityi', 'accountable', 'accountablefirst', 'accountablemy', 'accounted', 'accounting', 'accruing', 'accumulate', 'accumulated', 'accumulating', 'accurate', 'accurately', 'accusation', 'accusatory', 'accused', 'accuses', 'accusing', 'accustomed', 'ace', 'acetaldehyde', 'acetic', 'achard', 'ache', 'achescrampsstabbing', 'achey', 'achieve', 'achieved', 'achievement', 'achieving', 'achilles', 'aching', 'achy', 'acid', 'acknowledge', 'acknowledged', 'acknowledges', 'acknowledging', 'acknowledgment', 'acne', 'acounter', 'acquaintance', 'acquire', 'acquired', 'acquiredimplemented', 'acquiring', 'acrid', 'acrimony', 'acronym', 'across', 'acrosssuggestions', 'act', 'acted', 'acting', 'action', 'actionable', 'activated', 'activates', 'active', 'actively', 'activist', 'activity', 'actor', 'actress', 'actual', 'actually', 'actuallyy', 'acupuncture', 'acute', 'ad', 'adage', 'adamant', 'adaptive', 'add', 'added', 'adderall', 'addication', 'addicitve', 'addict', 'addictalcoholic', 'addicted', 'addictedadvice', 'addicting', 'addiction', 'addictioncigarettes', 'addictiondecided', 'addictionhttpsyoutube8nqjqn0d9a4', 'addictioni', 'addictionim', 'addictionlmao', 'addictionmade', 'addictionrehab', 'addictionsappreciation', 'addictionsjust', 'addictive', 'addictliar', 'addictsalcoholics', 'adding', 'addition', 'additional', 'additionally', 'additive', 'addmitted', 'address', 'addressed', 'addressing', 'adducted', 'adelaide', 'adequate', 'adhd', 'adherence', 'adhesive', 'adjective', 'adjust', 'adjusted', 'adjusting', 'adjustment', 'administer', 'administration', 'admire', 'admiring', 'admission', 'admit', 'admits', 'admitted', 'admittedly', 'admitting', 'adolescence', 'adopt', 'adopted', 'adopter', 'adopting', 'adoption', 'adores', 'adrenaline', 'adress', 'adult', 'adultdiagnosis', 'adultlike', 'advance', 'advance1', 'advance2', 'advanceadvice', 'advanceallen', 'advanceam', 'advanceany', 'advanceare', 'advancecan', 'advanced', 'advanceday', 'advancedisulfiram', 'advancefatigue', 'advancehard', 'advancehelp', 'advancehow', 'advancehurting', 'advancei', 'advanceis', 'advancejust', 'advancelooking', 'advancemaking', 'advancemeetings', 'advanceneed', 'advanceobsessed', 'advancepossible', 'advancequit', 'advancequitting', 'advancetime', 'advancetminus', 'advancetrying', 'advanceur', 'advanceweek', 'advantage', 'advent', 'adventure', 'adverse', 'advert', 'adverthttpsyoutubecomwatchvudhiqs29zgsampfeatureshare', 'advertised', 'advertisedquiting', 'advice', 'advice14', 'advice24', 'adviceadvice', 'advicebest', 'advicecant', 'adviced', 'adviceday', 'adviceencouragement', 'adviceexperiencetips', 'advicefeedbackencouragement', 'advicefirst', 'advicehelp', 'advicehow', 'advicei', 'adviceis', 'adviceit', 'advicejust', 'advicemy', 'adviceneed', 'advicenew', 'advicepain', 'adviceperspectives', 'advicequitting', 'adviceshould', 'advicesome', 'advicespiraling', 'advicestarting', 'advicestopping', 'advicestressed', 'advicetips', 'advicetoday', 'advicetwo', 'advicewanting', 'advil', 'advisable', 'advise', 'advised', 'adviseis', 'adviser', 'advises', 'advocacy', 'advocate', 'advocating', 'aed', 'aerobic', 'aest', 'aesthetic', 'af', 'aff', 'affair', 'affairany', 'affect', 'affected', 'affectedeffected', 'affecting', 'affection', 'affectionate', 'affectsweaning', 'affiliated', 'affiliation', 'affinity', 'affirm', 'affirmation', 'affirmed', 'affirming', 'affliction', 'afford', 'affordable', 'affront', 'afganistan', 'afghanistan', 'aforementioned', 'afraid', 'africa', 'aftereffect', 'aftergoing', 'afterjust', 'afterlife', 'aftermath', 'afternoon', 'afterquitting', 'afters', 'aftertaste', 'afterward', 'afterwards', 'afterwars', 'aftr', 'ag', 'again40', 'again6', 'againa', 'againaccidentally', 'againbeen', 'againdealing', 'againdiary', 'againdid', 'againdoctor', 'againeasily', 'againhookah', 'againhow', 'againi', 'againif', 'againim', 'againits', 'againkeep', 'againlapsed', 'againlife', 'againm40', 'againmaking', 'againmy', 'againon', 'againrecovery', 'againrelapse', 'againrelapsed', 'againspeaker', 'againstarted', 'againtemptations', 'againthe', 'againwill', 'againyesterday', 'age', 'aged', 'agejust', 'agency', 'agenda', 'agent', 'agestep', 'aggravate', 'aggravating', 'aggravation', 'aggressive', 'aggressively', 'aggressivetrying', 'aghhhi', 'agian', 'agility', 'agingcopd', 'agitated', 'agitation', 'agnostic', 'ago', 'agoit', 'agojust', 'agony', 'agoraphobia', 'agoraphobic', 'agree', 'agreeall', 'agreed', 'agreehow', 'agreeing', 'agreement', 'agrees', 'agreewhen', 'agression', 'ah', 'aha', 'ahah', 'ahalf', 'ahead', 'aheadletter', 'ahhh', 'ahhhh', 'ahold', 'ahole', 'ahs', 'aid', 'aide', 'aided', 'ailment', 'aim', 'aimed', 'aiming', 'aimless', 'aimlessly', 'aint', 'air', 'airbnb', 'aired', 'airflow', 'airing', 'airplane', 'airport', 'airsoft', 'aisle', 'aitaaita', 'aka', 'akin', 'akron', 'al', 'ala', 'alan', 'alano', 'alanon', 'alarm', 'alarming', 'alaska', 'alateen', 'albeit', 'alberta', 'alberto', 'alc', 'alchohol', 'alchoholic', 'alcholic', 'alcholics', 'alchool', 'alchy', 'alcohlic', 'alcohol', 'alcohol2nd', 'alcohol814', 'alcoholalcohol', 'alcoholbenzodiazepenes', 'alcoholcan', 'alcoholcomplications', 'alcoholdrug', 'alcoholdrugs', 'alcoholfor', 'alcoholi', 'alcoholic', 'alcoholic20', 'alcoholicalcohol', 'alcoholicdifference', 'alcoholicdo', 'alcoholicgrateful', 'alcoholichi', 'alcoholici', 'alcoholicquestion', 'alcoholicsalcoholic', 'alcoholicsanonymous', 'alcoholicsgoing', 'alcoholism', 'alcoholrunning', 'alcoholsick', 'alcoholsmokingsocial', 'alcoholspecific', 'alcoholusage', 'alcoholworked', 'aldous', 'aleen', 'alen', 'alens', 'alert', 'alex', 'alexandre', 'ali', 'alienate', 'alienated', 'alienating', 'align', 'alike', 'alive', 'all1', 'all1st', 'all26', 'all6', 'all6th', 'all8', 'alla', 'allan', 'allanyone', 'allat', 'allback', 'allbrushing', 'allcold', 'allday', 'alldoes', 'allegedly', 'allen', 'allergic', 'allergy', 'allergybig', 'alleviate', 'alleviates', 'alleviating', 'alleyway', 'allfeeling', 'allgoing', 'allhelp', 'allheres', 'allhey', 'allhow', 'alli', 'allim', 'alljust', 'alll', 'allll', 'allllll', 'allmy', 'allnew', 'allocate', 'alloholic', 'allornothing', 'allover', 'allow', 'allowed', 'allowed90', 'allowing', 'allowinggiving', 'allows', 'allpowerful', 'allquit', 'allrelapse', 'allsobriety', 'allthe', 'allthird', 'alltoday', 'alltrying', 'allurerelapsed', 'allways', 'allwill', 'ally', 'allyou', 'almighty', 'almost', 'almost1', 'almost300', 'almoust', 'alone', 'aloneabandoned', 'alonealthough', 'alonehello', 'alonei', 'alonevery', 'along', 'alongside', 'aloof', 'alot', 'aloud', 'alp', 'already', 'alreadythree', 'alright', 'alseep', 'also', 'alsodid', 'alsoi', 'alt', 'altar', 'alter', 'altercation', 'altering', 'alternated', 'alternating', 'alternative', 'alternativeshow', 'alternativesi', 'although', 'alto', 'altogether', 'altoids', 'altruism', 'altruistic', 'aluminum', 'alway', 'always', 'alzheimers', 'ama', 'amanda', 'amazed', 'amazement', 'amazes', 'amazing', 'amazing3', 'amazingit', 'amazon', 'amber', 'ambien', 'ambition', 'ambitious', 'ambulance', 'ambulatory', 'amd', 'amday', 'amen', 'amend', 'amended', 'amendment', 'amends', 'america', 'american', 'ami', 'ammends', 'ammonia', 'ammoniasmelling', 'amneeding', 'among', 'amongst', 'amoung', 'amount', 'amounted', 'amp', 'amped', 'ampfamily', 'amphetamine', 'ample', 'amplified', 'amplifying', 'ampnbsp', 'ampor', 'ampx200b', 'amusing', 'amwas', 'amy', 'an', 'ana', 'anal', 'analogy', 'analyse', 'analysis', 'analyze', 'analyzing', 'anarchist', 'anchor', 'anchored', 'ancient', 'andneedless', 'andor', 'andrew', 'android', 'anecdotally', 'anecdote', 'anesthesia', 'anesthetized', 'angel', 'angeles', 'angelos', 'angelwarrior', 'anger', 'angle', 'anglequestion', 'angloirish', 'angrier', 'angrily', 'angry', 'angrysad', 'angrytouchy', 'anguish', 'anhedonia', 'animal', 'animates', 'ankle', 'anna', 'annafurdererhttpswwwinstagramcomannafurderer', 'annihilate', 'anniversary', 'annnnd', 'announce', 'announced', 'annoy', 'annoyance', 'annoyed', 'annoying', 'annual', 'anomaly', 'anon', 'anonymity', 'anonymous', 'anonymous1', 'anonymousaa', 'anonymoushttpsaaintergrouporg', 'anonymously', 'anorexia', 'another', 'anothers', 'anothertransitions', 'answer', 'answerbe', 'answered', 'answering', 'answerlittle', 'answerswhat', 'antabuse', 'antabusedisulfiram', 'antagonist', 'antelope', 'anti', 'antianxiety', 'antibiotic', 'antic', 'anticipated', 'anticipating', 'anticipation', 'antidepressant', 'antiorganized', 'antipsychotic', 'antique', 'antismoking', 'antisocial', 'antithetical', 'antsy', 'anus', 'anvil', 'anxiety', 'anxietyafter', 'anxietydepression', 'anxietyexcuses', 'anxietyfree', 'anxietyi', 'anxietyspiraling', 'anxietystress', 'anxietywhich', 'anxious', 'anxiousness', 'anxioussad', 'anybodies', 'anybody', 'anybodys', 'anycravings', 'anyhoo', 'anyhow', 'anylising', 'anymor', 'anymore', 'anymore34', 'anymore4', 'anymoream', 'anymorecan', 'anymoreday', 'anymorei', 'anymoreif', 'anymorelosing', 'anymoremy', 'anymoretold', 'anymorewhy', 'anyone', 'anyoneamazon', 'anyoneday', 'anyonedepersonalization', 'anyonehow', 'anyonei', 'anyones', 'anyonesymptoms', 'anyonewhat', 'anything', 'anything3', 'anythingis', 'anythingmessing', 'anythingmy', 'anytime', 'anyway', 'anywayover', 'anyways', 'anywaysi', 'anywaysmy', 'anywhere', 'anywheredo', 'anywho', 'aorry', 'aoverwhelmed', 'ap', 'aparr', 'apart', 'apartment', 'apathy', 'apex', 'aplenty', 'apocalyptic', 'apologetic', 'apologise', 'apologised', 'apologising', 'apologize', 'apologized', 'apologizeshould', 'apologizesmoking', 'apologizing', 'apology', 'app', 'appalachian', 'appalledmy', 'appapp', 'apparearance', 'apparent', 'apparently', 'apparentlywhat', 'appartment', 'appeal', 'appear', 'appearance', 'appearancequestions', 'appeared', 'appearing', 'appears', 'appease', 'appeasing', 'appetite', 'appetizer', 'appi', 'apple', 'appletshighlightcom', 'appliance', 'applicability', 'applicable', 'application', 'applied', 'applies', 'apply', 'applying', 'appointment', 'appreciate', 'appreciated', 'appreciated19', 'appreciated1st', 'appreciated3', 'appreciated30', 'appreciated4', 'appreciateda', 'appreciatedadvice', 'appreciatedany', 'appreciatedchampix', 'appreciatedchantix', 'appreciatedcoming', 'appreciatedcutting', 'appreciateddo', 'appreciatedhad', 'appreciatedhelp', 'appreciatedhow', 'appreciatedi', 'appreciatedim', 'appreciatedin', 'appreciatedlooking', 'appreciatedlosing', 'appreciatedmy', 'appreciatedneed', 'appreciatednever', 'appreciatednovember', 'appreciatednyc', 'appreciatedon', 'appreciatedone', 'appreciatedput', 'appreciatedquitting', 'appreciatedshould', 'appreciatedsober', 'appreciatedsobriety', 'appreciatedstill', 'appreciatedtrying', 'appreciateduninvited', 'appreciation', 'appreciative', 'apprentice', 'approach', 'approachable', 'approached', 'approachhear', 'approaching', 'appropriate', 'appropriately', 'approval', 'approve', 'approved', 'approx', 'approx10', 'approximately', 'apps', 'appsreminders', 'appstore', 'apr', 'april', 'aprilmayish', 'apt', 'apts', 'arab', 'arabic', 'arbitrary', 'archaic', 'archangel', 'architect', 'archived', 'arduous', 'area', 'area2', 'areawasn', 'arent', 'aresecond', 'argh', 'arguably', 'argue', 'argued', 'arguing', 'argument', 'argumentative', 'argumentatively', 'argumentos', 'arise', 'arizona', 'arkansas', 'arm', 'armani', 'armed', 'armpit', 'army', 'arnt', 'arose', 'around', 'aroundmy', 'aroundthree', 'aroused', 'arrange', 'arranged', 'arrangement', 'arrest', 'arrested', 'arresti', 'arresting', 'arrggggh', 'arrive', 'arrived', 'arrives', 'arriving', 'arrogance', 'arrogant', 'arround', 'arse', 'art', 'artery', 'article', 'artist', 'artwork', 'as', 'asap', 'asd', 'ash', 'ashamed', 'ashamedi', 'ashma', 'ashtray', 'asia', 'asian', 'aside', 'asinine', 'ask', 'askam', 'askcommit', 'asked', 'asker', 'askfirst', 'asking', 'askingtalking', 'asks', 'asktalk', 'asleep', 'aslong', 'aspect', 'aspiration', 'aspiring', 'ass', 'ass2', 'assassination', 'assault', 'assaulted', 'assaulting', 'assay', 'assed', 'assemble', 'asserting', 'assertion', 'assessed', 'assessment', 'asset', 'asshole', 'assholespouse', 'assign', 'assigned', 'assignment', 'assist', 'assistance', 'assistant', 'assisted', 'assisting', 'associate', 'associated', 'associating', 'association', 'associationscurrent', 'assorted', 'assortment', 'assume', 'assumed', 'assumes', 'assuming', 'assumption', 'assurance', 'assure', 'assured', 'assures', 'assuring', 'ast', 'asthma', 'asthmatic', 'astonishing', 'astonishingly', 'astounding', 'astray', 'astronomically', 'aswell', 'asylum', 'asymptomatic', 'ate', 'aterty', 'atheism', 'atheist', 'athey', 'athiest', 'athlete', 'athletic', 'athletics', 'ativan', 'atlanta', 'atleast', 'atm', 'atomic', 'atomizer', 'atone', 'atoning', 'atreak', 'atrocious', 'atrophied', 'atrophy', 'att', 'atta', 'attach', 'attached', 'attachment', 'attack', 'attacked', 'attacking', 'attackunless', 'attain', 'attaks', 'attempt', 'attempted', 'attempting', 'attemptsmy', 'attemptsthat', 'attend', 'attendance', 'attendant', 'attended', 'attendhow', 'attending', 'attends', 'attention', 'attentiveness', 'attestant', 'attic', 'attire', 'attitude', 'attorney', 'attracted', 'attraction', 'attractive', 'attractivebe', 'attribute', 'attributed', 'attrition', 'au', 'aud', 'audiblebooksadudible', 'audio', 'audiobook', 'audiobooks', 'auditory', 'aug', 'august', 'auidobook', 'aunt', 'aura', 'austin', 'austinites', 'australia', 'authentic', 'authenticity', 'author', 'authority', 'autism', 'autistic', 'auto', 'autoimmune', 'autoimmunity', 'automates', 'automatic', 'automatically', 'automotive', 'autonomous', 'autopilot', 'autumn', 'avail', 'availability', 'available', 'availed', 'avebury', 'avenue', 'average', 'averaged', 'averaging', 'averse', 'averted', 'avid', 'avoid', 'avoidance', 'avoidant', 'avoidbest', 'avoided', 'avoiding', 'await', 'awaiting', 'awake', 'awakened', 'awakening', 'awaking', 'aware', 'awareness', 'away', 'away3', 'awayday', 'awaydo', 'awayhow', 'awayi', 'awayim', 'awayjust', 'awaythe', 'awaytrying', 'awaytwo', 'awe', 'aweinspiring', 'awesome', 'awesomepattern', 'awful', 'awfulcringe', 'awfully', 'awfulwhat', 'awhile', 'awkward', 'awkwardly', 'awkwardness', 'awkwardnessanother', 'awn', 'awoke', 'awoken', 'aws', 'awww', 'axial', 'axiom', 'ayahuasca', 'ayyyyyyeee', 'az', 'b', 'ba', 'babayyy', 'babble', 'babied', 'baby', 'babysit', 'babysitter', 'babysitting', 'babyst3ps88', 'bac', 'bacardi', 'baccy', 'bachelor', 'bachlors', 'back', 'back14', 'backafraid', 'backbeen', 'backcigarettes', 'backday', 'backed', 'backfirst', 'backgarden', 'background', 'backgroundalcohol', 'backhelp', 'backhow', 'backing', 'backjuuling', 'backlash', 'backmy', 'backpack', 'backpacker', 'backpacking', 'backquit', 'backseat', 'backsleep', 'backsought', 'backstory', 'backthe', 'backunsure', 'backup', 'backward', 'backwards', 'backwhat', 'backwoods', 'backyard', 'bad', 'badam', 'badcigarettes', 'badcoping', 'badge', 'badgering', 'badhas', 'badhelp', 'badits', 'badkind', 'badly', 'badmouthed', 'badonly', 'badsponsor', 'badthis', 'badyayy', 'bae', 'baffled', 'baffling', 'bag', 'baggage', 'baggies', 'baggy', 'bailed', 'bait', 'baited', 'bake', 'baked', 'baking', 'balaam', 'balance', 'balanced', 'balancing', 'balcony', 'bald', 'ball', 'ballache', 'balled', 'balling', 'ballpark', 'bam', 'ban', 'banana', 'band', 'bandage', 'bandaid', 'bandwagon', 'bang', 'banged', 'banging', 'bank', 'banking', 'bankrolled', 'bankrupt', 'bankruptcy', 'banned', 'baptisedfollowed', 'bar', 'barbaric', 'barbed', 'barbituratesalcohol', 'barcelona', 'bare', 'barelly', 'barely', 'bargaining', 'bark', 'barking', 'barley', 'barman', 'barred', 'barren', 'barrett', 'barrier', 'bartend', 'bartender', 'bartending', 'base', 'baseball', 'based', 'baseline', 'basement', 'bash', 'bashing', 'basic', 'basically', 'basicaly', 'basicly', 'basis', 'basketball', 'bastard', 'bastarding', 'bat', 'batch', 'bath', 'bathroom', 'bathroomshower', 'bathtub', 'batman', 'batshit', 'battered', 'battery', 'battle', 'battledo', 'battleresponsibility', 'battling', 'bawled', 'bawling', 'bay', 'bb', 'bbpage', 'bbq', 'bc', 'bcs', 'bcus', 'bday', 'be2', 'be5', 'beable', 'beach', 'beaded', 'beall', 'beam', 'beaming', 'bean', 'beany', 'bear', 'bearable', 'beard', 'beast', 'beastly', 'beat', 'beaten', 'beating', 'beautiful', 'beautify', 'beauty', 'beca7se', 'became', 'beckoning', 'beckons', 'become', 'becomerock', 'becomes', 'becoming', 'becouse', 'becuase', 'bed', 'bedridden', 'bedroom', 'bedsheet', 'bedtime', 'beef', 'beefed', 'beer', 'beer3', 'beeralcohol', 'beerliquor', 'beernewbie', 'beersalcoholic', 'beerscocktails', 'beershalf', 'beersnight', 'beery', 'beetroot', 'before1', 'beforeafter', 'beforealcohol', 'beforeanyone', 'beforebigger', 'beforeday', 'beforehand', 'beg', 'began', 'begenerated', 'begets', 'begged', 'begging', 'begin', 'beginner', 'beginning', 'beginningback', 'begrieving', 'begrudgingly', 'begun', 'behave', 'behaved', 'behaving', 'behavior', 'behavioral', 'behaviour', 'behavioural', 'behavioursthat', 'behind', 'behindi', 'behold', 'behow', 'being', 'beingthis', 'beirut', 'beis', 'belch', 'belief', 'believe', 'believed', 'believer', 'believing', 'beligerantly', 'belittling', 'belive', 'bell', 'belladonna', 'bellaresearch', 'bellatake', 'belligerence', 'belligerent', 'belligerently', 'belly', 'belong', 'belonged', 'belonging', 'belongs', 'beloved', 'belt', 'benadryl', 'bench', 'bend', 'bended', 'bender', 'bendingly', 'beneficial', 'benefit', 'benefitting', 'benifits', 'bent', 'benzo', 'benzodiazepenes', 'benzos', 'berate', 'berating', 'berelapsed', 'berry', 'beseeched', 'beseeking', 'beside', 'besides', 'best', 'bestcoming', 'bestfriend', 'bestfriends', 'besthow', 'besti', 'bestlooking', 'bestowal', 'bestowed', 'bet', 'beta', 'betrayed', 'betrayer', 'better', 'better2', 'betteranxiety', 'betteranyone', 'betterbroken', 'bettercooler', 'bettercraving', 'bettereasierat', 'betterfeeling', 'betterhow', 'betteri', 'betterits', 'betterive', 'betterlots', 'betterment', 'bettermy', 'betterneed', 'betterppp', 'betterquitting', 'bettershould', 'bettersleep', 'bettersuccessfully', 'bettertodays', 'betty', 'beu', 'bev', 'beverage', 'beverly', 'bewildered', 'bewilderment', 'beyond', 'bf', 'bf28m', 'bff', 'bfs', 'bibasilar', 'bible', 'biblical', 'bic', 'bich', 'bicoastal', 'bicycle', 'bidi', 'big', 'bigger', 'biggest', 'bigshot', 'bike', 'biking', 'bile', 'bilirubin', 'bill', 'billing', 'billion', 'billy', 'bin', 'binary', 'bind', 'binge', 'binge17m', 'binged', 'bingedrinking', 'bingedrunk', 'bingeplease', 'binging', 'bingo', 'bio', 'biological', 'biology', 'biopsy', 'bipolar', 'bird', 'birmingham', 'birth', 'birthday', 'birthdayholiday', 'birthdayupdate', 'bit', 'bitch', 'bitchiness', 'bitching', 'bitchy', 'bitday', 'bite', 'biting', 'bitter', 'bitterly', 'bitterness', 'biz', 'bizarre', 'bjj', 'bla', 'black', 'blacked', 'blackedout', 'blacking', 'blackingbrowning', 'blackout', 'blackoutjust', 'bladder', 'blade', 'blah', 'blame', 'blamed', 'blaming', 'bland', 'blandness', 'blank', 'blanket', 'blanketed', 'blanking', 'blankly', 'blast', 'blasted', 'blasting', 'blatant', 'blazed', 'bleak', 'bleeding', 'bleeeeeh', 'blehhhh', 'blemish', 'blend', 'bless', 'blessed', 'blessednervous', 'blesshere', 'blessing', 'blew', 'blight', 'blimp', 'blind', 'blinded', 'blinder', 'blindfolded', 'blindly', 'blindness', 'blink', 'blinspot', 'blip', 'blip29', 'bliss', 'blissful', 'blister', 'blistered', 'bloated', 'bloatedreflux', 'bloating', 'block', 'blockage', 'blockchain', 'blockdo', 'blocked', 'blocker', 'blocking', 'blocklimiter', 'blog', 'blood', 'bloodadvice', 'bloodied', 'bloodline', 'bloodor', 'bloodstream', 'bloodtar', 'bloodwork', 'bloody', 'blotchy', 'blow', 'blower', 'blowing', 'blown', 'blubbering', 'blubbery', 'blue', 'bluefuzz', 'blunt', 'blunted', 'bluntly', 'blur', 'blurays', 'blurred', 'blurry', 'blurt', 'bmws', 'board', 'boat', 'boatjust', 'bob', 'bobsled', 'bock', 'bodily', 'body', 'bodybuilding', 'bodyday', 'bodyi', 'bodysystem', 'bogged', 'boggling', 'boiling', 'bojangles', 'bol', 'bold', 'bolstering', 'bomb', 'bombarded', 'bombed', 'bonamassa', 'bond', 'bondage', 'bonded', 'bonding', 'bone', 'boner', 'bong', 'bonkers', 'bonus', 'book', 'bookadditional', 'bookclub', 'booked', 'booking', 'bookjust', 'bookshelf', 'bookwho', 'boom', 'boost', 'boosted', 'booster', 'boot', 'booted', 'booth', 'bootstrap', 'booze', 'boozing', 'bop', 'border', 'bordering', 'borderline', 'bordom', 'bored', 'boredom', 'boredome', 'boredomi', 'boredomrunning', 'boring', 'born', 'borrowed', 'bos', 'boss', 'bot', 'botanical', 'bothdo', 'bother', 'bothered', 'bothering', 'bottle', 'bottled', 'bottlemocktails', 'bottler', 'bottom', 'bottomless', 'bought', 'bounce', 'bouncing', 'bouncy', 'bound', 'boundariesnot', 'boundary', 'boundry', 'bourbon', 'bout', 'bowel', 'bowl', 'bowling', 'box', 'boxed', 'boy', 'boyfried', 'boyfriend', 'boyfriend28', 'boynton', 'bp', 'bpd', 'bpm', 'brace', 'bracelet', 'bracket', 'brag', 'bragged', 'bragging', 'brain', 'brained', 'brainer', 'brainfog', 'brainruined', 'brainwash', 'brainwashed', 'brainwashing', 'braised', 'braises', 'brand', 'branded', 'brandnewoldschool', 'brando', 'brandy', 'brat', 'braveheartlooking', 'braver', 'bravery', 'brawl', 'brazillian', 'brazillion', 'breach', 'bread', 'break', 'breakdown', 'breaker', 'breakfast', 'breaking', 'breakout', 'breakthrough', 'breakup', 'breast', 'breastfeed', 'breastfeeding', 'breath', 'breathalyzer', 'breathe', 'breathed', 'breathes', 'breathing', 'breathless', 'breathslast', 'breathwork', 'breeze', 'breezed', 'breo', 'breqthe', 'brevity', 'brewery', 'brewerybar', 'brian', 'brick', 'bricking', 'bricksre', 'bride', 'bridge', 'brief', 'briefly', 'bright', 'brighter', 'brilliant', 'brimming', 'bring', 'bringing', 'bringmeups', 'brings', 'brining', 'brink', 'brisbane', 'broach', 'broad', 'broadening', 'broccoli', 'broke', 'brokefractured', 'broken', 'brokenquit', 'bronchitis', 'bronchodilator', 'bronchus', 'bronzing', 'brooklyn', 'brosupdate', 'brother', 'brother28yo', 'brought', 'brown', 'brownish', 'browse', 'browsed', 'bruise', 'bruised', 'bruising', 'brunch', 'brush', 'brushed', 'brushing', 'brutal', 'brutalfirst', 'brutally', 'brutually', 'bsort', 'btw', 'btwday', 'btwhow', 'btwps', 'bubbalicious', 'bubble', 'bubbly', 'buck', 'buckwild', 'bud', 'buddhist', 'buddiesjust', 'buddy', 'buddy2', 'budge', 'budget', 'budging', 'buff', 'buffer', 'bug', 'buggy', 'build', 'building', 'buildup', 'built', 'bulimic', 'bulk', 'bull', 'bullet', 'bullh1t', 'bullied', 'bullshit', 'bullshitter', 'bullsht', 'bully', 'bullying', 'bum', 'bummed', 'bummer', 'bumming', 'bump', 'bumped', 'bunch', 'bupoprione', 'bupropion', 'bupropionwellbutrin', 'buproprion', 'buproprione', 'bur', 'burden', 'buried', 'burj', 'burn', 'burned', 'burning', 'burnout', 'burnt', 'burny', 'burp', 'burping', 'burry', 'burst', 'burton', 'bury', 'burying', 'bus', 'bush', 'busier', 'busily', 'business', 'businessmen', 'busking', 'bussing', 'bussy', 'bust', 'busted', 'bustedass', 'busy', 'busyday', 'butfuck', 'butmy', 'buts', 'butt', 'butter', 'butterfly', 'butthe', 'button', 'buttonpaws', 'buuuuuuuut', 'buy', 'buying', 'buzz', 'buzzed', 'buzzer', 'buzzing', 'buzzjust', 'bvvp', 'bwithout', 'bybipolar', 'byby', 'bye', 'byefew', 'byproduct', 'c', 'ca', 'caare', 'cab', 'cabby', 'cabin', 'cabinet', 'cackle', 'cactus', 'cad', 'cadc', 'cafeteria', 'caffeine', 'cage', 'cake', 'calamity', 'calculate', 'calculation', 'caleb', 'caliburn', 'california', 'call', 'called', 'calling', 'callously', 'calm', 'calmed', 'calmer', 'calming', 'calmly', 'calmness', 'calorie', 'camcorder', 'came', 'camel', 'camera', 'camming', 'camomille', 'camp', 'campaign', 'camping', 'campus', 'can', 'can543', 'canada', 'canadai', 'canadian', 'cancel', 'canceled', 'cancelled', 'cancer', 'cancerlandia', 'cancerlike', 'cancerous', 'candidate', 'candle', 'candy', 'cani', 'canker', 'cannabidiol', 'cannabis', 'cannew', 'cannot', 'canoe', 'canreached', 'cant', 'cantwo', 'cantwont', 'canyon', 'cap', 'capability', 'capable', 'capacity', 'capatable', 'capital', 'capitalism', 'capone', 'capsize', 'captain', 'caption', 'car', 'carall', 'caramel', 'caravan', 'carbonated', 'carbonation', 'carcinogen', 'carcinoma', 'card', 'cardboard', 'cardiac', 'cardio', 'cardiologist', 'cardiovascular', 'care', 'care1', 'carebecome', 'cared', 'career', 'carefree', 'careful', 'carefully', 'carer', 'caress', 'caretaker', 'carewhen', 'caring', 'carl', 'carlie', 'carnegie', 'carnival', 'carolina', 'carpet', 'carr', 'carrclose', 'carried', 'carrock', 'carrot', 'carrs', 'carry', 'carrying', 'carryon', 'carsick', 'cart', 'carton', 'carving', 'cascading', 'case', 'casedamned', 'caseday', 'casetapering', 'cash', 'cashed', 'cashier', 'casino', 'cast', 'casting', 'casual', 'casually', 'cat', 'catalyst', 'cataract', 'catastrophe', 'catch', 'catchhi', 'catching', 'category', 'cater', 'cath', 'catharsis', 'cathartic', 'cathartic18', 'catholic', 'caught', 'cause', 'caused', 'causehow', 'causing', 'caustic', 'caution', 'cautious', 'cautiously', 'cave', 'caveat', 'caved', 'caveday', 'cavernous', 'caving', 'cbd', 'cbn', 'cbt', 'cc', 'cca', 'cease', 'cedar', 'celcius', 'celebrant', 'celebrate', 'celebrated', 'celebratedouble', 'celebrating', 'celebration', 'celebratory', 'celebrity', 'celere', 'celery', 'cell', 'cement', 'cemented', 'censoring', 'center', 'centerdness', 'centered', 'centerfold', 'centering', 'central', 'centre', 'centred', 'centredm', 'centrerelapse', 'century', 'cept', 'ceremonial', 'ceremony', 'certain', 'certainly', 'certainty', 'cessation', 'cesspool', 'cetera', 'cetyl', 'chain', 'chained', 'chainscan', 'chainsmoke', 'chainsmoked', 'chainsmoker', 'chainsmoking', 'chainvaping', 'chair', 'chaired', 'chairing', 'chairinghosting', 'chairperson', 'chalk', 'chalked', 'challenge', 'challenged', 'challenging', 'challrnge', 'chamber', 'chamomile', 'champ8', 'champagne', 'champix', 'champixchantix', 'chance', 'change', 'changed', 'changeif', 'changer', 'changesmy', 'changestarting', 'changin', 'changing', 'channel', 'chant', 'chantix', 'chany', 'chaos', 'chaotic', 'chap', 'chapter', 'character', 'charade', 'charcoal', 'charge', 'charged', 'charging', 'charismatic', 'charitably', 'charity', 'charleston', 'charlie', 'charlotte', 'charm', 'chart', 'chase', 'chased', 'chaser', 'chasing', 'chat', 'chatconnect', 'chatted', 'chatter', 'chatting', 'cheap', 'cheaper', 'cheapest', 'cheat', 'cheated', 'cheaterslove', 'cheating', 'check', 'checked', 'checkin', 'checking', 'checkins', 'checklist', 'checknot', 'checkout', 'checkpoint', 'cheek', 'cheeky', 'cheer', 'cheerful', 'cheerfully', 'cheering', 'cheers1', 'cheersawful', 'cheersday', 'cheersdoes', 'cheershad', 'cheersquestion', 'cheese', 'cheeseburger', 'cheesy', 'cheever', 'chef', 'chemical', 'chemicalgenetic', 'chemistry', 'cherish', 'cherished', 'cherishes', 'cherry', 'chess', 'chest', 'chest3', 'chestaa', 'chesttightness', 'chesty', 'chevron', 'chew', 'cheweat', 'chewed', 'chewing', 'chewy', 'chicago', 'chick', 'chicken', 'chickened', 'child', 'childcare', 'childhood', 'childish', 'childishembarrassing', 'childrens', 'chill', 'chilled', 'chillin', 'chilly', 'chime', 'chiming', 'chimney', 'chip', 'chipper', 'chipsdoes', 'chitchat', 'chocolate', 'choice', 'choicehelping', 'choiceslapse', 'choir', 'choked', 'chokeday', 'choking', 'choo', 'choohow', 'choose', 'chooses', 'choosing', 'chopper', 'chord', 'chore', 'chose', 'chosen', 'christ', 'christian', 'christianity', 'christmas', 'chronic', 'chronically', 'chronicle', 'chuck', 'chucking', 'chuckle', 'chug', 'chugging', 'chunk', 'church', 'churchim', 'churchmeetings', 'churchy', 'churning', 'ci', 'cider', 'cig', 'cigar', 'cigaratte', 'cigarattes', 'cigaret', 'cigarette', 'cigarettealcohollink', 'cigaretteand', 'cigaretteday', 'cigarettefour', 'cigarettefree', 'cigarettei', 'cigaretteim', 'cigarettemy', 'cigaretteshoping', 'cigarettesi', 'cigarettesnicotine', 'cigarettesthis', 'cigaretteswithdrawal', 'cigaretts', 'cigaretttes', 'cigarillo', 'cigarretes', 'cigarrette', 'cigarrettes', 'cigarttessss', 'cigatettes', 'cigecig', 'cigfeeling', 'cigg', 'ciggaretes', 'ciggarette', 'ciggarettes', 'ciggarites', 'ciggars', 'ciggartes', 'ciggerate', 'ciggerates', 'ciggie', 'ciggies', 'ciggs', 'ciggy', 'cigs', 'cigs5', 'cigsim', 'cigstobacco', 'cigsvapes', 'cinema', 'cinnamon', 'circa', 'circle', 'circling', 'circulation', 'circumcised', 'circumstance', 'circumstancesany', 'circumstancesi', 'cirrhosis', 'cited', 'citisine', 'city', 'citystate', 'civil', 'civilized', 'cke', 'claim', 'claimed', 'claiming', 'clanking', 'clap', 'clara', 'clarify', 'clarity', 'clasped', 'class', 'classic', 'classical', 'classification', 'classified', 'classify', 'classmate', 'claw', 'clean', 'cleanagain', 'cleaned', 'cleaner', 'cleaning', 'cleanmy', 'cleanout', 'cleanse', 'cleansed', 'clear', 'clearance', 'cleared', 'clearer', 'clearest', 'cleari', 'clearing', 'clearlungs', 'clearly', 'clearwhite', 'cleaved', 'clench', 'clenched', 'clenching', 'clever', 'cleverly', 'cliche', 'cliché', 'clichés', 'click', 'clickbaity', 'clicked', 'clicking', 'clickscan', 'client', 'cliff', 'climate', 'climax', 'climb', 'climbed', 'climbing', 'cling', 'clinging', 'clingy', 'clinic', 'clinical', 'clip', 'clipper', 'cliquey', 'clld', 'cloaking', 'clock', 'clockwork', 'clogged', 'clonazepam', 'close', 'closed', 'closedcongratulate', 'closely', 'closer', 'closest', 'closet', 'closeted', 'closing', 'closure', 'clot', 'cloth', 'clothed', 'clothes', 'clothing', 'cloud', 'clouded', 'clouding', 'cloudis', 'cloudy', 'clove', 'clownoctober', 'club', 'clubhouse', 'clubsrestaurants', 'clue', 'clueless', 'clung', 'clutch', 'clutching', 'cluttered', 'cnt', 'cnts', 'co', 'coach', 'coached', 'coaching', 'coast', 'coaster', 'coat', 'coax', 'coca', 'cocaine', 'cochair', 'cocktail', 'cocky', 'coda', 'code', 'codependency', 'codependent', 'coffe', 'coffee', 'coffeeday', 'coffeered', 'coffeeteabeerwater', 'coffin', 'coffinmary', 'cogarette', 'cognition', 'cognitive', 'cohen', 'coherent', 'coil', 'coin', 'coincidentally', 'coincidently', 'coke', 'cola', 'cold', 'colder', 'coldflu', 'coldturkey', 'cole', 'coliseum', 'collagaues', 'collapse', 'collapsed', 'collapsing', 'collateral', 'colleague', 'collect', 'collected', 'collecting', 'collection', 'collective', 'collectively', 'college', 'collegebigger', 'collegenow', 'collision', 'colllege', 'cologne', 'colon', 'color', 'colorado', 'coloringrecovery', 'colossal', 'colour', 'column', 'coma', 'combat', 'combative', 'combed', 'combination', 'combined', 'combo', 'come', 'come18', 'come6', 'comeasyouare', 'comeback', 'comer', 'comfort', 'comfortable', 'comfortably', 'comforting', 'comfy', 'comic', 'coming', 'comingdon', 'comingrelapse', 'commandeers', 'commander', 'commanderinchief', 'commemorate', 'commemoratethe', 'commence', 'commenced', 'commencing', 'commend', 'commendable', 'comment', 'commented', 'commenter', 'commenti', 'commenting', 'commentssmy', 'commentthings', 'commercial', 'comming', 'commingled', 'commiserate', 'commission', 'commit', 'commitapply', 'commitment', 'committal', 'committed', 'committedabolition', 'committedis', 'committing', 'common', 'commonasking', 'commonly', 'commotion', 'commun', 'commune', 'communicate', 'communicated', 'communicating', 'communication', 'community', 'community3', 'communityi', 'communityquit', 'commute', 'comorbidities', 'companion', 'companionship', 'company', 'companyfirms', 'comparable', 'comparableanyone', 'comparabletaste', 'compare', 'compared', 'comparehave', 'comparing', 'comparison', 'compartment', 'compartmentalise', 'compass', 'compassion', 'compassionate', 'compelled', 'compensate', 'compensated', 'compensation', 'compete', 'competed', 'competely', 'competence', 'competition', 'competitive', 'competiton', 'compiled', 'compiling', 'complacent', 'complain', 'complained', 'complaining', 'complains', 'complaint', 'complete', 'completed', 'completely', 'completelywhen', 'completing', 'completion', 'completly', 'complex', 'complexity', 'compliance', 'complicate', 'complicated', 'complicating', 'complication', 'compliment', 'complimented', 'complétant', 'component', 'composed', 'composition', 'composure', 'compound', 'comprehend', 'comprehension', 'compressed', 'compression', 'comprise', 'compromised', 'compulsion', 'compulsive', 'compulsively', 'compulsivly', 'compunction', 'computer', 'comradery', 'con', 'conceal', 'conceding', 'conceited', 'conceived', 'concenti', 'concentrate', 'concentrated', 'concentrating', 'concentration', 'concept', 'conception', 'conceptionto', 'conceptual', 'conceptualize', 'concern', 'concerned', 'concerning', 'concerningly', 'concert', 'concertday', 'concerted', 'conciseness', 'conclude', 'concluding', 'conclusion', 'concrete', 'condemnation', 'condense', 'condenses', 'condescending', 'condition', 'conditionally', 'conditioned', 'condonation', 'condone', 'condoned', 'conducive', 'conduct', 'conducting', 'confess', 'confessed', 'confession', 'confessionapology', 'confessionary', 'confidant', 'confided', 'confidence', 'confident', 'confidential', 'confidentiality', 'confidently', 'confine', 'confined', 'confirmed', 'conflict', 'conflicted', 'conflicting', 'conformity', 'confront', 'confrontation', 'confrontational', 'confronted', 'confronting', 'confuse', 'confused', 'confusing', 'confusion', 'congested', 'congestion', 'congrats', 'congratulate', 'congratulated', 'congress', 'conjured', 'connect', 'connected', 'connecting', 'connection', 'conquer', 'conquered', 'conscience', 'conscious', 'consciously', 'consciousness', 'consecutive', 'consecutively', 'consensual', 'consensus', 'consent', 'consequence', 'consequent', 'consequently', 'conservative', 'consider', 'considerable', 'considerably', 'consideration', 'considered', 'considering', 'considers', 'consipated', 'consist', 'consisted', 'consistency', 'consistent', 'consistently', 'consistentlyalmost', 'consisting', 'consists', 'constant', 'constantly', 'constipated', 'constipation', 'constitute', 'constitutionally', 'constraint', 'construct', 'construction', 'constructive', 'constructively', 'consult', 'consulted', 'consulting', 'consume', 'consumed', 'consumes', 'consuming', 'consumption', 'consumptionbumps', 'contact', 'contacted', 'contacting', 'contain', 'contained', 'container', 'containing', 'contains', 'contego', 'contemplate', 'contemplated', 'contemplating', 'contemplation', 'contempt', 'contend', 'content', 'contention', 'contentment', 'contentquitsure', 'contest', 'context', 'contingent', 'continually', 'continue', 'continued', 'continues', 'continuethis', 'continuing', 'continuity', 'continuous', 'continuously', 'contraception', 'contract', 'contracted', 'contradict', 'contrast', 'contrasting', 'contribute', 'contributed', 'contributes', 'contributing', 'contriubted', 'control', 'controlfood', 'controlhow', 'controli', 'controll', 'controlled', 'controller', 'controlling', 'controversial', 'controversyam', 'convenience', 'conveniencei', 'convenient', 'conveniently', 'convention', 'conventional', 'conversation', 'conversationalist', 'conversationsproblems', 'convert', 'converted', 'convey', 'conviction', 'convince', 'convinced', 'convinces', 'convincing', 'convo', 'convoluted', 'convos', 'cook', 'cooked', 'cookedhaving', 'cooking', 'cooky', 'cool', 'cooled', 'cooler', 'cooling', 'coolness', 'cooltransgressive', 'coolvomiting', 'coombia', 'coors', 'cop', 'coparented', 'copd', 'cope', 'copehow', 'copei', 'coping', 'copious', 'copy', 'copypasta', 'cordial', 'core', 'corinthian', 'corn', 'cornbread', 'corner', 'cornered', 'corona', 'corporate', 'corpse', 'correct', 'corrected', 'correctly', 'correlate', 'correlated', 'correlation', 'correspondence', 'corridor', 'corrupt', 'cosby', 'cosign', 'cosmic', 'cosplaying', 'cost', 'costbenefit', 'costco', 'costed', 'costing', 'costsi', 'costume', 'cosy', 'cotinine', 'cottage', 'cotton', 'couch', 'cough', 'coughed', 'coughing', 'could', 'couldmt', 'couldnt', 'couldntbreathing', 'couldshould', 'couldthat', 'couldve', 'counciling', 'counseler', 'counseling', 'counselingwhich', 'counselling', 'counsellingtherapy', 'counsellor', 'counselor', 'counselorsecular', 'count', 'counted', 'counter', 'counterargument', 'counterbalance', 'counterintuitive', 'counterproductive', 'counting', 'countless', 'country', 'countrymy', 'countryside', 'county', 'countycalifornia', 'couole', 'coup', 'coupe', 'couple', 'couple3', 'coupled', 'coupling', 'courage', 'courageous', 'course', 'coursecorrected', 'court', 'courtesy', 'courthouse', 'cousin', 'cover', 'covered', 'covering', 'covertly', 'coverup', 'covid', 'covid19', 'covid19medical', 'covidthey', 'cow', 'coward', 'cowering', 'coworker', 'coworkers', 'coyote', 'coz', 'cozy', 'cpl', 'cps', 'crack', 'cracked', 'crackhead', 'cracking', 'crackle', 'crackthe', 'craft', 'craigslist', 'craings', 'crammed', 'crankier', 'crankiness', 'cranky', 'crap', 'crappy', 'crappyness', 'crash', 'crashbrother', 'crashed', 'crashing', 'crate', 'crave', 'craved', 'craven', 'craves', 'craving', 'cravinggoround', 'cravingscravings', 'cravingsday', 'cravingsincessant', 'cravingsother', 'cravingsurges', 'cravingurge', 'cravingwithdrawal', 'cravv', 'crawl', 'crawled', 'crawling', 'craziest', 'craziness', 'crazy', 'cream', 'create', 'created', 'creates', 'createthe', 'creating', 'creative', 'creativity', 'creator', 'creature', 'credential', 'credibilityanything', 'credible', 'credit', 'creep', 'creeper', 'creeping', 'creepy', 'crept', 'crew', 'crib', 'cried', 'criedalmost', 'crier', 'criminal', 'cringe', 'cringey', 'cringing', 'cringy', 'cripple', 'crippled', 'crippling', 'crisis', 'criterion', 'critical', 'critically', 'criticism', 'criticize', 'croaky', 'crob', 'crohn', 'crop', 'cropping', 'crosby', 'cross', 'crossed', 'crossedjust', 'crossfitter', 'crossroad', 'crowd', 'crown', 'crucial', 'crucified', 'crude', 'cruel', 'cruise', 'cruising', 'crumbled', 'crumbling', 'crummy', 'crush', 'crushed', 'crushing', 'crust', 'crutch', 'cry', 'cry60', 'cryogenesis', 'cryptocurrency', 'crystal', 'ct', 'cu', 'cube', 'cuddle', 'cuddled', 'cue', 'cuggerates', 'culminated', 'culprit', 'cult', 'cultist', 'cultivating', 'cultreligious', 'culture', 'culty', 'cumulative', 'cunning', 'cunt', 'cuntish', 'cup', 'cupboard', 'curb', 'curbed', 'curbing', 'cure', 'cureall', 'cured', 'curiosity', 'curious', 'curiouswill', 'current', 'currently', 'curse', 'cursed', 'cursing', 'curtain', 'curve', 'cushion', 'cushy', 'cuss', 'cussed', 'custody', 'custom', 'customer', 'cut', 'cutback', 'cutest', 'cuting', 'cutoff', 'cutout', 'cuttie', 'cutting', 'cuz', 'cv', 'cycle', 'cyclical', 'cycling', 'cyclist', 'cylinder', 'cynical', 'cystic', 'cytisine', 'cytokine', 'cz', 'célereintroduction', 'd1', 'da', 'dab', 'dabbled', 'dad', 'daddy', 'dailey', 'daily', 'dale', 'dalliance', 'damage', 'damaged', 'damageis', 'damaging', 'dammit', 'dammitalmost', 'damn', 'damned', 'damp', 'dampd', 'dance', 'dancing', 'dancy', 'dang', 'danger', 'dangerous', 'dangerously', 'daniel', 'dank', 'danlos', 'daoist', 'dare', 'dared', 'darioi', 'dariusabzedcommailtodariusabzedcom', 'dariusoverturning', 'dark', 'darkest', 'darkness', 'darn', 'darren', 'dart', 'dash', 'data', 'date', 'dated', 'dating', 'daughter', 'david', 'dawn', 'dawned', 'day', 'day1', 'day10', 'day12', 'day21', 'daya', 'dayalcoholic', 'dayalcoholics', 'daybad', 'dayconfidence', 'daydream', 'daydreaming', 'dayer', 'dayeveningnight', 'dayfirst', 'dayhard', 'dayhelp', 'dayi', 'dayis', 'dayjust', 'daynature', 'dayneed', 'daynight', 'dayone', 'dayother', 'dayrandom', 'dayreplacement', 'dayroad', 'days100', 'days15', 'days4', 'days453', 'daysa', 'daysdietary', 'dayshardest', 'dayshow', 'dayslast', 'daysper', 'daysstepping', 'daysweeksmonths', 'daythings', 'daytime', 'daytoday', 'daytwo', 'daywhat', 'daywithout', 'dayyeah', 'dback', 'dbt', 'dc', 'dcary', 'dcyf', 'dd', 'de', 'deactivated', 'dead', 'dead6', 'deadi', 'deadliest', 'deadline', 'deadly', 'deaf', 'deal', 'dealbreaker', 'dealbreakers', 'dealer', 'dealing', 'dealt', 'dealthy', 'dear', 'dearly', 'death', 'deathbed', 'deathi', 'deathliterally', 'deathly', 'deathmy', 'deathsticks', 'debate', 'debated', 'debating', 'debauchery', 'debilitating', 'debit', 'debris', 'debt', 'dec', 'decade', 'decaf', 'decease', 'deceased', 'deceive', 'deceiving', 'december', 'decency', 'decent', 'decently', 'decentralized', 'deception', 'decide', 'decided', 'decidedd', 'decides', 'deciding', 'decipher', 'decision', 'decisionand', 'decjan', 'deck', 'decker', 'declare', 'decline', 'declined', 'declining', 'decluttering', 'decompress', 'decoration', 'decrease', 'decreased', 'decreasing', 'dedicate', 'dedicated', 'dedication', 'deducting', 'deed', 'deeling', 'deem', 'deemed', 'deems', 'deep', 'deepened', 'deepening', 'deeper', 'deeperor', 'deepest', 'deeply', 'deeplyembedded', 'def', 'default', 'defeat', 'defeated', 'defeatedfirst', 'defect', 'defective', 'defended', 'defender', 'defending', 'defense', 'defensive', 'deferring', 'deffenly', 'deffinetly', 'deficiency', 'deficient', 'deficit', 'defies', 'definately', 'define', 'defined', 'defines', 'definite', 'definitely', 'definitevly', 'definition', 'definitively', 'deflation', 'deflection', 'defo', 'defy', 'degenerate', 'degradation', 'degraded', 'degrading', 'degree', 'dehydrate', 'dehydrated', 'dehydratedi', 'dehydrates', 'dehydration', 'delapilated', 'delay', 'delayed', 'delaying', 'delegitimize', 'delete', 'deleted', 'deleting', 'deli', 'deliberately', 'deliberatelyom', 'delicate', 'delicious', 'delight', 'delighted', 'delirious', 'delirium', 'deliverance', 'delivered', 'delivers', 'delivery', 'delt', 'deluding', 'delusion', 'delusional', 'delve', 'demand', 'demanded', 'demanding', 'demeanor', 'dementia', 'demise', 'demon', 'demonic', 'demonized', 'demonstrate', 'demonstrated', 'demonstration', 'demoralising', 'denial', 'denied', 'denies', 'denmark', 'denomination', 'denominational', 'dense', 'density', 'dent', 'dental', 'dentist', 'dentistalcohol', 'deny', 'denying', 'deodorant', 'departing', 'department', 'departure', 'depend', 'dependant', 'depended', 'dependence', 'dependency', 'dependent', 'depending', 'depends', 'depersonalization', 'depletion', 'deployment', 'deposit', 'depressant', 'depressed', 'depresses', 'depressing', 'depression', 'depressionadhd', 'depressionanxiety', 'depressionsense', 'depressionthis', 'depressive', 'deprivation', 'deprived', 'depriving', 'depro', 'depth', 'derail', 'derailing', 'deranged', 'derealization', 'derived', 'derrrrrrrrrrrrrrrrrrrrr', 'descends', 'descent', 'describe', 'described', 'describes', 'describing', 'description', 'descriptionsobriety', 'desect', 'desert', 'deserted', 'deserting', 'deserve', 'deserved', 'deserves', 'design', 'designated', 'designed', 'desire', 'desired', 'desiring', 'desk', 'desktop', 'despair', 'desparation', 'desperate', 'desperatehow', 'desperatei', 'desperately', 'desperation', 'despise', 'despite', 'dessert', 'destination', 'destined', 'destiny', 'destorying', 'destress', 'destroy', 'destroyed', 'destroying', 'destroys', 'destruct', 'destructing', 'destruction', 'destructive', 'detach', 'detached', 'detail', 'detailsbut', 'detect', 'detected', 'detection', 'deter', 'deteriorated', 'deteriorating', 'determinatiin', 'determination', 'determine', 'determined', 'determining', 'deterrent', 'deterring', 'detested', 'detox', 'detoxed', 'detoxing', 'detrimental', 'detrimentals', 'deucheflute', 'devastated', 'devastating', 'develop', 'develope', 'developed', 'developer', 'developing', 'development', 'develops', 'deviation', 'device', 'devil', 'devious', 'devolved', 'devote', 'dh', 'dhabi', 'dharmic', 'diabetes', 'diabetic', 'diablo', 'diagnosed', 'diagnosis', 'diagnosisdid', 'diahorrea', 'dialectic', 'dialog', 'dialogue', 'diarrhea', 'diary', 'diazepam', 'dice', 'dick', 'dickhead', 'dickhole', 'dicksitting', 'dicrease', 'dictated', 'dida', 'didcelebrating', 'diddo', 'didi', 'didnt', 'didthree', 'die', 'died', 'dieing', 'dieoff', 'diet', 'dietary', 'dietitian', 'differ', 'difference', 'differencei', 'different', 'differentdoes', 'differentjust', 'differently', 'differentnicotine', 'differing', 'differs', 'difficult', 'difficultadvice', 'difficulty', 'diffrent', 'diffuser', 'différente', 'dig', 'digest', 'digestion', 'digestive', 'digging', 'digit', 'dignity', 'dilemma', 'dilerium', 'diligence', 'dilute', 'diluting', 'dim', 'dimension', 'diminish', 'diminishes', 'diminishing', 'diner', 'ding', 'dining', 'dinner', 'dip', 'diploma', 'dipped', 'dipping', 'dipsophobiahttpswwwmedicinenetcomdipsophobiadefinitionhtm', 'dipsophobialike', 'dire', 'direct', 'directed', 'direction', 'direction10', 'directionguidance', 'directioni', 'directionless', 'directly', 'director', 'directory', 'dirt', 'dirty', 'dis', 'disability', 'disabled', 'disagree', 'disagreement', 'disappear', 'disappeared', 'disappearing', 'disappears', 'disappearsif', 'disappoint', 'disappointed', 'disappointing', 'disappointment', 'disapproval', 'disassociates', 'disassociation', 'disaster', 'disastrous', 'disbanded', 'disbelief', 'disbeliefi', 'discarded', 'discharge', 'discharged', 'discipline', 'disciplined', 'disclaimer', 'disclosed', 'disclosure', 'discography', 'discomfort', 'disconcertinganxiety', 'disconnect', 'disconnected', 'disconnection', 'discontent', 'discontinued', 'discord', 'discourage', 'discouraged', 'discouragement', 'discouraging', 'discourse', 'discover', 'discovered', 'discovering', 'discovery', 'discrete', 'discriminate', 'discus', 'discussed', 'discussing', 'discussion', 'disdain', 'disdainful', 'disease', 'diseaseor', 'disenfranchised', 'disentangle', 'disgrace', 'disguise', 'disguisting', 'disgust', 'disgusted', 'disgusting', 'disgustingly', 'dish', 'disheartening', 'dishonest', 'dishonestwhat', 'dishonesty', 'dishonor', 'disingenuous', 'disinterested', 'dislike', 'disliked', 'disliking', 'dismal', 'dismantle', 'dismay', 'dismayed', 'dismiss', 'dismissed', 'disneyland', 'disolving', 'disomfort', 'disorder', 'disorderalcoholic', 'disordered', 'disorienting', 'dispatcher', 'dispensary', 'dispite', 'displaced', 'displacement', 'display', 'displaying', 'disposable', 'disposablevapeshopcomauhttpsdisposablevapeshopcomau', 'disposal', 'dispose', 'disregard', 'disrepair', 'disrespect', 'disrespectful', 'disrupt', 'disrupted', 'disrupting', 'disruptive', 'disrythmia', 'dissapear', 'dissapoint', 'dissapointed', 'dissapointment', 'dissatisfaction', 'dissect', 'disservice', 'dissidence', 'dissipate', 'dissipates', 'dissociative', 'dissolve', 'dissolved', 'dissonance', 'distance', 'distanced', 'distancing', 'distant', 'distantly', 'distasteful', 'distill', 'distillate', 'distinct', 'distinction', 'distinguish', 'distorted', 'distortion', 'distract', 'distractcomfort', 'distracted', 'distracting', 'distraction', 'distractionsnervousnessrestlessness', 'distracts', 'distraught', 'distress', 'distressed', 'district', 'disturb', 'disturbance', 'disturbed', 'disturbing', 'disulfiram', 'disulfirum', 'ditch', 'ditching', 'diva', 'dive', 'dived', 'diverged', 'diversifying', 'diverting', 'divide', 'dividend', 'divine', 'divinely', 'diving', 'division', 'divorce', 'divorced', 'divorcing', 'diy', 'dizeeeeeeeeez', 'dizziness', 'dizzinessheadaches', 'dizzinness', 'dizzy', 'dizzying', 'dizzyness', 'dk', 'dm', 'do', 'do18', 'doaa', 'doable', 'doadvice', 'doanxiety', 'dobf', 'doc', 'docan', 'doconfidence', 'doctor', 'doctorbe', 'doctorcalling', 'doctorchantixchampix', 'doctordont', 'doctore', 'doctori', 'doctorsmed', 'doctorurgent', 'document', 'documentary', 'documentation', 'documented', 'documenting', 'dodge', 'dodging', 'doempty', 'doesnt', 'doexhausted', 'doexperience', 'dog', 'doge', 'dogged', 'dogging', 'doggo', 'dogshithypnosis', 'dohavent', 'dohelp', 'dohey', 'dohi', 'dohow', 'doi', 'doin', 'doingsaying', 'doingsobriety', 'doingwould', 'doinsomnia', 'doits', 'doive', 'dolack', 'dollar', 'dome', 'domestic', 'dominate', 'dominated', 'dominating', 'domino', 'donate', 'donated', 'donation', 'done', 'done32', 'doneed', 'donehow', 'donei', 'doneis', 'donemourning', 'doneonly', 'donkey', 'dono', 'donor', 'donot', 'dont', 'donut', 'doom', 'doomed', 'doomsday', 'doopinion', 'door', 'door5', 'doorknob', 'doorstep', 'doover', 'doozie', 'doozy', 'dopamine', 'dope', 'doped', 'dopesick', 'dopls', 'doquit', 'dora', 'doras', 'doraville', 'doread', 'dork', 'dorm', 'dos', 'dosage', 'dosaythink', 'dose', 'dosing', 'dosmall', 'dosnt', 'doso', 'dospiritual', 'dot', 'dothoughts', 'dotoday', 'dotrying', 'double', 'doubling', 'doubt', 'doubtchances', 'doubted', 'doubtful', 'doubting', 'douchebag', 'doug', 'dour', 'dove', 'dowhat', 'dowhere', 'dowill', 'down', 'downday', 'downfall', 'downhill', 'downi', 'downing', 'download', 'downloaded', 'downpour', 'downright', 'downside', 'downsive', 'downstairs', 'downtown', 'downvote', 'downvotes', 'downward', 'downwards', 'downwhen', 'downyall', 'doze', 'dozen', 'dozing', 'dr', 'drafted', 'drag', 'dragged', 'dragging', 'dragon', 'drain', 'drained', 'draining', 'drama', 'dramatic', 'dramatically', 'drank', 'dranklack', 'drastic', 'drastically', 'draw', 'drawer', 'drawing', 'drawn', 'dread', 'dreaded', 'dreadful', 'dreading', 'dream', 'dreamed', 'dreaming', 'dreamlike', 'dreamt', 'dreamwhen', 'dredging', 'drenched', 'dress', 'dressed', 'dresser', 'drier', 'drift', 'drifted', 'drifting', 'drill', 'drink', 'drink90', 'drinkam', 'drinkcoffee', 'drinker', 'drinkhow', 'drinkhttpsyoutubeotiytbljzqc', 'drinking', 'drinkingaa', 'drinkingbody', 'drinkingdrugging', 'drinkingfuck', 'drinkinggoing', 'drinkinghow', 'drinkingi', 'drinkingis', 'drinkingneed', 'drinkingpretty', 'drinkingstill', 'drinkingstruggling', 'drinkingsugar', 'drinkingusing', 'drinkingweird', 'drinksand', 'drinksim', 'drinkuse', 'drip', 'dripper', 'drive', 'drived', 'driven', 'driver', 'driveway', 'driving', 'drlow', 'drog', 'drone', 'droopy', 'drop', 'dropped', 'dropping', 'drove', 'drown', 'drowned', 'drowning', 'drowningwhen', 'drowsiness', 'drowsy', 'drs', 'drug', 'drugdrink', 'drugged', 'druggies', 'drugging', 'drugsalcohol', 'drugsalcoholsex', 'drugscw', 'drugsis', 'drugsmethheroin', 'drugsmy', 'drum', 'drunk', 'drunk2', 'drunkam', 'drunkdoes', 'drunken', 'drunkenly', 'drunker', 'drunkest', 'drunkexhausted', 'drunkhigh', 'drunki', 'drunktipsy', 'drunkusing', 'drunkwife', 'drusing', 'dry', 'dryer', 'drying', 'dt', 'dts', 'dual', 'dubai', 'dubaihttpsedubaivisaaevisa14daysvisitvisadubai', 'dublin', 'duck', 'duct', 'dude', 'due', 'dug', 'duh', 'duho7761', 'duis', 'dull', 'dulled', 'dulling', 'dumb', 'dumbass', 'dummy', 'dump', 'dumped', 'dumpster', 'dunked', 'dunno', 'duo', 'duration', 'dust', 'dusting', 'dusty', 'dutch', 'dutifully', 'duty', 'duvet', 'dv', 'dwell', 'dwi', 'dwindled', 'dwindles', 'dy', 'dyed', 'dying', 'dyingi', 'dynamic', 'dynamical', 'dysfunctional', 'dysmorphia', 'dysplasia', 'e', 'e39', 'eachother', 'eager', 'eagerly', 'ealised', 'ealr8rhat', 'ear', 'earl', 'earlier', 'earliest', 'early', 'earlyquitsure', 'earlystarted', 'earn', 'earned', 'earnest', 'earnestly', 'earning', 'earplug', 'earth', 'earthly', 'earthone', 'earthquake', 'ease', 'eased', 'easier', 'easier7', 'easierany', 'easierbetter', 'easierday', 'easieri', 'easierright', 'easierslipped', 'easiest', 'easilly', 'easily', 'easing', 'east', 'eastern', 'eastjk', 'easy', 'easyer', 'easyi', 'easyway', 'eat', 'eatdrink', 'eaten', 'eater', 'eating', 'eats', 'ebb', 'ebby', 'ec', 'ecg', 'echo', 'ecig', 'ecigarette', 'ecigarettes', 'ecigs', 'eckhart', 'ecofriendly', 'economical', 'economy', 'ecstasy', 'ecstatic', 'ect', 'ecthas', 'ectopic', 'ectwhat', 'eczema', 'ed', 'edge', 'edgea', 'edged', 'edgerelapse', 'edible', 'edit', 'editing', 'edition', 'editionthe', 'edm', 'ednos', 'educate', 'educated', 'education', 'eeben', 'eeg', 'eff', 'effect', 'effected', 'effecting', 'effective', 'effectivefor', 'effectively', 'effectiveness', 'effectivewhat', 'effectshow', 'effectsi', 'effectsneed', 'effectsvivitrolnaltrexone', 'efficacy', 'efficiency', 'efficiently', 'effing', 'effort', 'effortless', 'effortlessly', 'effortsdealing', 'eg', 'egg', 'ego', 'egodriven', 'eh', 'ehlers', 'eight', 'eighth', 'eim', 'either', 'eitherday', 'eitheri', 'eitherwill', 'ejaculation', 'eject', 'ejuice', 'ekg', 'el', 'elaborate', 'elapsed', 'elated', 'elbow', 'elder', 'elderberry', 'elderly', 'eldest', 'electric', 'electrical', 'electrician', 'electronic', 'electronics', 'elegant', 'elemantary', 'element', 'elephant', 'elevate', 'elevated', 'elevates', 'elevation', 'elevator', 'eleven', 'elf', 'eligible', 'eliminate', 'eliminating', 'elimination', 'eliquid', 'elisabeth', 'eloquent', 'else', 'elsea', 'elsei', 'elseolfactory', 'elsesmoking', 'elsesmokingdrinkinng', 'elsestarted', 'elsesure', 'elsethrowing', 'elseunspoken', 'elsewhere', 'eludes', 'em', 'emaar', 'email', 'emailing', 'embark', 'embarking', 'embarrassed', 'embarrassing', 'embarrassment', 'embrace', 'embraced', 'embracing', 'emdr', 'emerged', 'emergency', 'emily', 'eminem', 'emirate', 'emo', 'emojisbroke', 'emotion', 'emotional', 'emotionalchild', 'emotionalcrying', 'emotionally', 'empathetic', 'empathic', 'empathise', 'empathy', 'emphasis', 'emphasize', 'emphasized', 'emphatically', 'emphysema', 'employed', 'employedit', 'employee', 'employer', 'employment', 'empower', 'empowered', 'empowering', 'emptiness', 'empty', 'emptying', 'emt', 'en', 'enable', 'enabled', 'enabler', 'enablers', 'enables', 'enabling', 'enact', 'enacted', 'encounter', 'encountered', 'encourage', 'encouraged', 'encouragement', 'encouragement7', 'encouragementadvice', 'encouragementcharacter', 'encouragementday', 'encouragementdo', 'encouragementi', 'encouragementit', 'encouragementtipsthird', 'encourages', 'encouraging', 'end', 'endall', 'endanger', 'endeavors4', 'ended', 'endgoal', 'ending', 'endless', 'endlessly', 'endmaking', 'endmy', 'endno', 'endorphin', 'endorse', 'endorsing', 'endsi', 'endulge', 'endurance', 'endure', 'endured', 'enduring', 'enemy', 'enemy2', 'enemyboredom', 'energetic', 'energiesmy', 'energized', 'energy', 'energyreally', 'enfield', 'enforce', 'enforcement', 'engage', 'engaged', 'engaging', 'engineer', 'engineered', 'engineering', 'england', 'english', 'english1', 'englishits', 'engorging', 'engrained', 'engraved', 'enhance', 'enhancement', 'enhances', 'enjoy', 'enjoyable', 'enjoyablecelebrating', 'enjoyed', 'enjoyfull', 'enjoying', 'enjoyment', 'enjoys', 'enlarged', 'enlighten', 'enlightened', 'enlightening', 'enmeshed', 'enormous', 'enough', 'enoughalcohoicsanymous', 'enoughdont', 'enoughfeeling', 'enoughh', 'enoughi', 'enoughso', 'enought', 'enraging', 'enslaved', 'enslaving', 'ensued', 'ensure', 'ensured', 'ensures', 'entail', 'entailed', 'entanglement', 'enter', 'entered', 'entering', 'enters', 'entertain', 'entertaining', 'entertainment', 'entertainmenthardest', 'enthused', 'enthusiasm', 'enthusiastic', 'enticingly', 'entire', 'entirely', 'entirelyi', 'entirety', 'entitled', 'entity', 'entourage', 'entrance', 'entrepreneur', 'entrust', 'entry', 'envelops', 'envious', 'environment', 'envoyer', 'envy', 'enzyme', 'enzymesenlarged', 'eon', 'ephemeral', 'epic', 'epidemic', 'epilepsy', 'epiphany', 'episode', 'episodebipolar', 'epitome', 'equal', 'equally', 'equate', 'equating', 'equation', 'equinox', 'equip', 'equipped', 'equivalent', 'er', 'era', 'erase', 'erection', 'eric', 'ernest', 'eroded', 'errand', 'erratically', 'erred', 'error', 'ery', 'escalate', 'escalated', 'escalates', 'escalator', 'escapade', 'escape', 'escapea', 'escaped', 'escaping', 'escapism', 'escapismdepressed', 'esh', 'esmoke', 'esophageal', 'esophagus', 'esp', 'especially', 'especiallyrelapsed', 'essay', 'essence', 'essential', 'essentially', 'establish', 'established', 'establishing', 'estate', 'esteem', 'estimate', 'esv', 'et', 'etc', 'etcadvice', 'etchas', 'etcquitting', 'eternal', 'eternally', 'eternity', 'ethanol', 'ether', 'ethereal', 'ethic', 'ethical', 'ethically', 'ethicallysourced', 'etiquette', 'ets', 'euphemism', 'euphoria', 'euphoric', 'euro', 'europe', 'european', 'evacuation', 'evade', 'evaluate', 'evaluated', 'evaporate', 'evaporates', 'evasive', 'eve', 'even', 'evening', 'eveningis', 'event', 'eventhough', 'eventual', 'eventually', 'eventualy', 'ever', 'everday', 'everlasting', 'everracing', 'everrryyyythingggggg', 'eversince', 'every', 'everybody', 'everybodyany', 'everybodyday', 'everybodylooking', 'everybodys', 'everyday', 'everynight', 'everyone', 'everyone1', 'everyone51', 'everyone60', 'everyoneday', 'everyonehow', 'everyonei', 'everyoneis', 'everyoneits', 'everyonejust', 'everyonenick', 'everyones', 'everyonesober', 'everyonestarting', 'everyonethe', 'everyonewithdrawal', 'everything', 'everythingi', 'everythings', 'everythingshes', 'everythingsmoking', 'everytime', 'everywhere', 'evicted', 'evidence', 'evil', 'evocative', 'evolution', 'evolve', 'evolved', 'evolving', 'evrything', 'ewallet', 'ex', 'exacerbates', 'exacerbation', 'exact', 'exacting', 'exactly', 'exaggerating', 'exaggeration', 'exam', 'examination', 'examine', 'example', 'exampledrinking', 'exasperated', 'excedrin', 'exceed', 'exceeding', 'exceedingly', 'excel', 'excellent', 'except', 'exception', 'exceptional', 'exceptionally', 'excersizes', 'excess', 'excessive', 'excessively', 'exchange', 'excite', 'excited', 'excitedalmost', 'excitedly', 'excitement', 'excites', 'exciting', 'excitingly', 'exclaimed', 'excluded', 'excluding', 'exclusively', 'excruciating', 'excruciatingly', 'excusable', 'excuse', 'excused', 'execpt', 'execute', 'exemple', 'exemption', 'exensive', 'exercise', 'exercised', 'exerciseday', 'exercising', 'exert', 'exfriends', 'exhale', 'exhaling', 'exhaust', 'exhausted', 'exhausted1', 'exhaustible', 'exhausting', 'exhaustingam', 'exhaustion', 'exhibit', 'exist', 'existance', 'existant', 'existed', 'existence', 'existential', 'existing', 'exists', 'exit', 'exited', 'exnon', 'exonerated', 'expand', 'expanded', 'expect', 'expectation', 'expected', 'expecti', 'expecting', 'expects', 'expedia', 'expelling', 'expense', 'expensive', 'expensiveanyone', 'expensivevape', 'experience', 'experience5th', 'experienceanyone', 'experiencebenefits', 'experienced', 'experiencefeeling', 'experiencemy', 'experiencesrecommendations', 'experiencesstories', 'experiencesuccess', 'experiencesusing', 'experiencing', 'experiment', 'experimental', 'experimentalregretfully', 'experimentation', 'experimenting', 'expert', 'expertly', 'expired', 'explain', 'explaincold', 'explained', 'explaining', 'explains', 'explanation', 'explanationcravings', 'expletive', 'explicitly', 'explode', 'exploited', 'exploration', 'explore', 'exploring', 'explosion', 'explosive', 'exponentially', 'expose', 'exposed', 'exposing', 'exposure', 'express', 'expressed', 'expressing', 'expression', 'exsactly', 'exsmoker', 'exsmokers', 'exspouse', 'extend', 'extended', 'extensive', 'extensor', 'extent', 'extenti', 'external', 'extinguished', 'extinguisher', 'extinguishing', 'extra', 'extract', 'extracurricular', 'extraordinary', 'extravagant', 'extraverted', 'extreme', 'extremelly', 'extremely', 'exwife', 'eye', 'eyeball', 'eyecoordination', 'eyeing', 'eyeopener', 'eyeopening', 'eyesight', 'f', 'f27', 'f30', 'facade', 'face', 'facebook', 'faced', 'faceguys', 'facepalm', 'facet', 'facetoface', 'facial', 'facilitates', 'facility', 'facilityi', 'facilty', 'facing', 'fact', 'factor', 'factorluck', 'factory', 'factually', 'fade', 'faded', 'fading', 'fag', 'fail', 'failed', 'faili', 'failing', 'failnonsupportive', 'failrecently', 'fails', 'failure', 'failurerelapse', 'faint', 'faintrelapsed', 'fair', 'fairly', 'fairminded', 'fairweather', 'faith', 'faithful', 'fake', 'faked', 'faking', 'fall', 'fallacy', 'fallen', 'falling', 'fallowing', 'false', 'falsedid', 'falter', 'faltered', 'fame', 'familial', 'familiar', 'familly', 'family', 'familybut', 'familyfriends', 'familyloved', 'famine', 'famous', 'fan', 'fanatic', 'fancy', 'fantasize', 'fantastic', 'fantastically', 'fantasy', 'far', 'faralcoholic', 'farday', 'farm', 'farmer', 'farming', 'farsecond', 'fart', 'farted', 'farther', 'farthest', 'farting', 'fashion', 'fast', 'faster', 'fastest', 'fasting', 'fat', 'fatal', 'fatalism', 'fate', 'father', 'fathom', 'fatigue', 'fatigued', 'fatter', 'fatty', 'fault', 'faultfinding', 'faulty', 'faux', 'fav', 'favor', 'favorably', 'favorite', 'favour', 'favourite', 'favs', 'façade', 'fb', 'fbi', 'fck', 'fcked', 'fcking', 'fda', 'fdaapproved', 'fear', 'feared', 'fearful', 'fearing', 'fearless', 'fearlessly', 'fearmongering', 'feast', 'feat', 'feature', 'feb', 'february', 'fecommend', 'fed', 'federal', 'fee', 'feed', 'feedbacam', 'feedback', 'feedbacklooking', 'feeddback', 'feeding', 'feeing', 'feel', 'feel30', 'feeler', 'feelgood', 'feelin', 'feeling', 'feeling7', 'feelingday', 'feelingjust', 'feelingrelapse', 'feelings6', 'feining', 'fell', 'fella', 'fellettes', 'felling', 'fellow', 'fellowfella', 'fellowship', 'fellowshipi', 'fellowshipping', 'felon', 'felony', 'felt', 'female', 'fence', 'fenceandtarp', 'fenderbenders', 'fentanyl', 'feral', 'ferrari', 'fes', 'festival', 'fetal', 'fetish', 'fever', 'fewer', 'fg', 'fiance', 'fiancee', 'fiancé', 'fiancée', 'fiber', 'fibroscan', 'fidget', 'fidgeting', 'fidgetty', 'fidgety', 'field', 'fiend', 'fiending', 'fifteen', 'fifth', 'fifty', 'fight', 'fighter', 'fighting', 'figuratively', 'figure', 'figured', 'figuring', 'fil', 'filed', 'filing', 'fill', 'filled', 'filler', 'filling', 'film', 'filmhe', 'filmmaker', 'filmsshows', 'filter', 'filtered', 'filthy', 'final', 'finalize', 'finally', 'finallyquitting', 'finance', 'financial', 'financially', 'financing', 'find', 'finding', 'fine', 'finemy', 'fineserenity', 'fineso', 'finger', 'fingertip', 'finish', 'finished', 'finishing', 'finite', 'fir', 'fire', 'fired', 'firefighter', 'fireplace', 'firing', 'firm', 'firmer', 'firmly', 'first', 'first7', 'firstly', 'firstmy', 'firsttime', 'firstwent', 'fish', 'fishbone', 'fishing', 'fissure', 'fit', 'fitness', 'fitter', 'fitting', 'five', 'fivei', 'fix', 'fixation', 'fixday', 'fixed', 'fixer', 'fixing', 'fizzled', 'fk', 'fking', 'fkn', 'fl', 'flag', 'flagship', 'flair', 'flaked', 'flaking', 'flame', 'flaminghaired', 'flamy', 'flare', 'flareups', 'flaring', 'flash', 'flashback', 'flashed', 'flask', 'flat', 'flatmatesfriends', 'flatout', 'flavor', 'flavored', 'flavour', 'flaw', 'flawed', 'flawlessly', 'fleeting', 'flehm', 'flem', 'fleshwhat', 'flew', 'flex', 'flexible', 'flick', 'flight', 'flinch', 'fling', 'flip', 'flipped', 'flipping', 'flirt', 'flirting', 'flirty', 'float', 'floater', 'floating', 'flog', 'flood', 'flooding', 'floor', 'floored', 'flop', 'flopping', 'florida', 'flourishing', 'flow', 'flowed', 'flower', 'flowered', 'flowing', 'flown', 'floyd', 'flu', 'fluctuating', 'fluid', 'flulike', 'flum', 'flunk', 'flush', 'flushed', 'flushedhot', 'flushedoverwarm', 'flushing', 'flute', 'fly', 'flyer', 'flying', 'fml', 'fmla', 'fmmm', 'fn', 'fngs', 'fo', 'fob', 'focus', 'focused', 'focusing', 'focussing', 'foe', 'fog', 'fogged', 'foggier', 'foggy', 'foil', 'fold', 'folic', 'folk', 'folksi', 'follow', 'followed', 'follower', 'following', 'follows', 'fomo', 'fond', 'fondly', 'fondness', 'food', 'foodgetting', 'foodhelp', 'foodsbeverages', 'fool', 'fooled', 'fooling', 'foolish', 'foolishly', 'foolishness', 'foot', 'footage', 'football', 'foothold', 'footing', 'forbidden', 'forbidding', 'force', 'forced', 'forcing', 'ford', 'fordrinking', 'forecasting', 'forehead', 'foreign', 'foreigner', 'foremost', 'foreseeable', 'forest', 'forever', 'foreverday', 'forevermy', 'forfeited', 'forgave', 'forge', 'forget', 'forgets', 'forgettinf', 'forgetting', 'forgive', 'forgiven', 'forgiveness', 'forgives', 'forgiving', 'forgo', 'forgot', 'forgotten', 'fork', 'form', 'formal', 'formality', 'formally', 'format', 'formation', 'formative', 'formatting', 'formed', 'former', 'forming', 'fornot', 'forseeable', 'fort', 'fortes', 'forth', 'forthright', 'fortitude', 'fortunate', 'fortunately', 'fortunateunfortunate', 'forty', 'fortyfour', 'forum', 'forward', 'forward30', 'forwardlooking', 'forwardscared', 'foster', 'fought', 'foul', 'found', 'foundation', 'foundthem', 'fountain', 'four', 'fourfive', 'fourmonth', 'fourteen', 'fourth', 'foward', 'fown', 'foxhole', 'fractured', 'fragile', 'frail', 'frame', 'framework', 'framing', 'france', 'francisco', 'frankly', 'frantic', 'frantically', 'frat', 'fraternity', 'fraud', 'fray', 'freak', 'freaked', 'freakin', 'freaking', 'frederick', 'free', 'free28th', 'free3', 'free5', 'free6', 'freebase', 'freed', 'freedom', 'freefall', 'freeing', 'freelancer', 'freely', 'freemax', 'freenegative', 'freeor', 'freetherapy', 'freetoday', 'freezer', 'freezing', 'french', 'frequency', 'frequent', 'frequented', 'frequently', 'fresh', 'freshener', 'fresherday1', 'freshjust', 'freshly', 'freshman', 'freudian', 'fri', 'frickin', 'frickkken', 'friction', 'friday', 'fridayfriday', 'fridayi', 'fridge', 'fried', 'friedfatty', 'friend', 'frienddrinking', 'friendgroup', 'friendhookup', 'friendless', 'friendlike', 'friendliness', 'friendly', 'friendsfamilypartnersexes', 'friendsfew', 'friendsfirst', 'friendship', 'friendshow', 'friendsi', 'friendsim', 'friendslovers', 'friendsrunning', 'friendssupport', 'friendstrying', 'friendswas', 'friendtrying', 'friendwork', 'fries2999', 'fright', 'frighten', 'frightened', 'frightening', 'frittering', 'fro', 'from3', 'fromdaily', 'fromthoughts', 'front', 'frothing', 'frown', 'frowned', 'frozen', 'fruit', 'fruitfulwhat', 'frustrate', 'frustrated', 'frustrates', 'frustrating', 'frustratingcan', 'frustratingonline', 'frustration', 'frustrationsproblems', 'fryer', 'fucing', 'fuck', 'fuckat', 'fucked', 'fucker', 'fuckfriend', 'fuckfuck', 'fuckin', 'fucking', 'fuckserious', 'fuckup', 'fucky', 'fuctioning', 'fuel', 'fueled', 'fueling', 'fuelled', 'fukin', 'fukn', 'fulfil', 'fulfill', 'fulfilled', 'fulfilling', 'fulfillingly', 'fulfillment', 'full', 'fullest', 'fullsteam', 'fulltime', 'fully', 'fumble', 'fume', 'fuming', 'fun', 'function', 'functional', 'functioned', 'functioning', 'functioningcompletely', 'fund', 'fundamental', 'fundamentalist', 'funding', 'fundont', 'funeral', 'funk', 'funky', 'funniest', 'funny', 'furious', 'furniture', 'furst', 'furthermore', 'furthest', 'fuse', 'fusion', 'fuss', 'fussy', 'futile', 'future', 'future3', 'futuristic', 'fuuuck', 'fuuuckam', 'fuuuuck', 'fuxk', 'fuzziness', 'fuzzy', 'fwb', 'fwiw', 'fword', 'g', 'gaba', 'gag', 'gain', 'gained', 'gaini', 'gaining', 'gal', 'gall', 'gallbladder', 'gallon', 'gallstone', 'gals10', 'gambling', 'game', 'gamealex', 'gameplan', 'gamesmusichobbiessports', 'gaming', 'gandalf', 'gang', 'gangbanged', 'gangmaybe', 'gap', 'garage', 'garagewhat', 'garbage', 'garbagesmokers', 'garden', 'gardening', 'garlic', 'garmin', 'garner', 'gas', 'gash', 'gaslight', 'gaslighted', 'gasoline', 'gassy', 'gastritis', 'gastro', 'gated', 'gather', 'gathered', 'gathering', 'gatorade', 'gaunt', 'gave', 'gaves', 'gb', 'gdrivehttpstinyurlcomaagive2keepdaily', 'gear', 'geezer', 'gem', 'gender', 'gene', 'general', 'generalized', 'generally', 'generating', 'generation', 'generic', 'generous', 'generously', 'genetic', 'genetics', 'geniunely', 'genius', 'gent', 'gentle', 'gentleman', 'gentler', 'gently', 'genuine', 'genuinely', 'genus', 'genz', 'geoff', 'gerald', 'gerd', 'german', 'germany', 'germanyday', 'gernoymous', 'geronymous', 'gesture', 'get', 'getaway', 'getconflicted', 'geting', 'getis', 'gets48', 'getting', 'gettingstaying', 'gettogether', 'gf', 'gfs', 'ghost', 'ghosted', 'ghosting', 'gi', 'giant', 'giantsized', 'giantvapes', 'gibson', 'giddy', 'gift', 'gifted', 'gig', 'giggly', 'gilt', 'gimme', 'gin', 'ginger', 'gingerbread', 'giorgio', 'girl', 'girlfriend', 'girth', 'give', 'givea', 'giveadvice', 'giveaway', 'givejust', 'given', 'givenday', 'giver', 'givestarting', 'giving', 'glad', 'gladly', 'glamorizing', 'glamorous', 'gland', 'glare', 'glas', 'glass', 'glassescontacts', 'glassfirst', 'glassi', 'glassware', 'glasswareother', 'glassy', 'glazed', 'glimmer', 'glo', 'global', 'globe', 'gloom', 'glorified', 'glorifies', 'glorious', 'glove', 'glovesmasks', 'glow', 'glowing', 'glowingsobriety', 'glue', 'glutamate', 'glute', 'gnawing', 'gnwhy', 'go', 'goal', 'goalsix', 'god', 'god1', 'god100', 'goday', 'godconsciousness', 'goddamn', 'godgiven', 'godhigher', 'godlike', 'godly', 'godoverloaded', 'godsend', 'godshaped', 'goesday', 'goesi', 'gohow', 'goi', 'goin', 'going', 'goinghooooooooohboy', 'goingi', 'goingim', 'goingwhats', 'gold', 'golden', 'goldenquitting', 'goldifish', 'golf', 'golfing', 'golly', 'gomy', 'gone', 'gonemiss', 'gonerthis', 'gonetreachery', 'gonew', 'gonma', 'gonna', 'goo', 'good', 'goodbye', 'goodbyed', 'goodday', 'goodhappy', 'goodhttpspreviewreddit95oo0l2ddoo71jpgwidth1200ampformatpjpgampautowebpampsfc7c7bfc09bbf8c09a1ea3fadd3822eeff10aadd', 'goodi', 'goodman', 'goodmasochistic', 'goodmorning', 'goodness', 'goodnight', 'goodnormal', 'goodquit', 'goodreadshttpswwwgoodreadscombookshow40121378anyone', 'goodstop', 'goodto', 'goodx4', 'goodzoom', 'goof', 'google', 'googled', 'googling', 'goop', 'goose', 'goosebump', 'goproclone', 'gosh', 'gospel', 'gossip', 'gossiped', 'gossiping', 'gosteps', 'got', 'gothird', 'goto', 'gotta', 'gotten', 'gottenhad', 'gottenworking', 'gouvernamental', 'government', 'governor', 'govs', 'goweed', 'gp', 'grab', 'grabbed', 'grabbing', 'grace', 'gracious', 'grad', 'grade', 'gradually', 'graduallyhave', 'graduate', 'graduated', 'graduating', 'graduation', 'graf', 'graft', 'grail', 'grain', 'gram', 'grammar', 'grammarim', 'gran', 'grand', 'grandchild', 'grandfather', 'grandiosity', 'grandma', 'grandmother', 'grandpa', 'grandparent', 'grandson', 'grandsponsor', 'grant', 'granted', 'grap', 'grapevine', 'grapey', 'graphic', 'graphicborrowed', 'grapple', 'grasp', 'graspday', 'grasping', 'grass', 'grateful', 'grateful1', 'gratefully', 'gratefulstill', 'gratification', 'gratify', 'gratitude', 'gratuitous', 'grave', 'gravings', 'gravitate', 'gravity', 'gravy', 'gray', 'greasy', 'great', 'great21', 'greatalcohol', 'greatanyone', 'greater', 'greatest', 'greatfeel', 'greatful', 'greatgoing', 'greati', 'greatly', 'greatmy', 'greatness', 'greatscared', 'greatstop', 'greattea', 'greed', 'greedy', 'green', 'greener', 'greenfront', 'greeting', 'grew', 'grey', 'grief', 'griefi', 'grievance', 'grieve', 'grieved', 'grieving', 'griffith', 'grill', 'grilling', 'grim', 'grimy', 'grind', 'grinding', 'grindr', 'grip', 'gripe', 'gripped', 'grocery', 'groggy', 'groomed', 'groove', 'gross', 'grotesque', 'ground', 'grounded', 'grounding', 'group', 'groupal', 'groupfeel', 'grouphow', 'groupmentor', 'groupmoment', 'groupthinking', 'grow', 'growing', 'growler', 'grown', 'grownup', 'grows', 'growth', 'growthplease', 'grubby', 'grudge', 'gruelling', 'grumpiness', 'grumpy', 'grunge', 'grunt', 'gt', 'gtat', 'gtcall', 'gti', 'gtlt', 'gtltits', 'gtninety', 'gtno', 'gtremember', 'gtwhere', 'gtwhy', 'guarantee', 'guaranteed', 'guard', 'guardian', 'guess', 'guessanother', 'guessed', 'guessi', 'guessing', 'guessrough', 'guest', 'guidance', 'guide', 'guided', 'guideline', 'guiding', 'guilt', 'guilted', 'guiltshame', 'guilty', 'guiltystruggling', 'guise', 'guit', 'guitar', 'gulf', 'gulp', 'gum', 'gumlozenge', 'gumlozenges', 'gummies', 'gummints', 'gumnicotine', 'gumpatches', 'gumpatchesnic', 'gumshttpswwwredditcomrstopsmokingcomments73vub5beforeafterquittingsmokingfouryearsofgum', 'gumvip2', 'gun', 'gung', 'gunna', 'gunpoint', 'gunsmy', 'guru', 'guster', 'gut', 'guttate', 'gutted', 'gutter', 'guy', 'guyfeeling', 'guylooking', 'guys2', 'guysadvice', 'guysantabuse', 'guysany', 'guysday', 'guyshaving', 'guysi', 'guysjust', 'guysone', 'guysonly', 'guysthinking', 'guysthis', 'guyswhat', 'guysxone', 'guzzling', 'gym', 'gymnastics', 'h', 'ha', 'habbit', 'habbits', 'habit', 'habitbeen', 'habitboredomits', 'habiti', 'habitintroduction', 'habitmental', 'habitsday', 'habitsi', 'habitual', 'habitually', 'hack', 'hacking', 'hadconsidering', 'hadnt', 'hadrian', 'hadtreatment', 'hah', 'haha', 'hahaadded', 'hahah', 'hahaha', 'hahaprogress', 'hair', 'haircut', 'hairline', 'hairstylist', 'hairy', 'half', 'halfassed', 'halfmeasures', 'halfsmoked', 'halfstepping', 'halfunpopular', 'halfway', 'halfwayhell', 'hall', 'hallowed', 'halloween', 'hallucination', 'hallucinogen', 'hallucinosis', 'halt', 'hamered', 'hammer', 'hammered', 'hammerits', 'hampi', 'hand', 'handcuff', 'handcuffed', 'handed', 'handful', 'handhas', 'handicappossible', 'handle', 'handle14', 'handled', 'handling', 'handshearts', 'handsome', 'handtomouth', 'hang', 'hanged', 'hanger', 'hanging', 'hangout', 'hangover', 'hangxiety', 'happen', 'happened', 'happenedabout', 'happenedi', 'happeni', 'happening', 'happeninghe', 'happeningnot', 'happenneed', 'happens', 'happensnicotine', 'happensnot', 'happenthree', 'happenwithdrawal', 'happier', 'happiest', 'happily', 'happiness', 'happy', 'happyer', 'happyish', 'happymentally', 'happystarting', 'harassed', 'harassing', 'harbouring', 'hard', 'hardcore', 'hardday', 'harder', 'hardest', 'hardly', 'hardmode', 'hardons', 'hardquitting', 'hardserious', 'hardship', 'hardshipsobriety', 'hardthe', 'harm', 'harmed', 'harmful', 'harmfull', 'harming', 'harmless', 'harmony', 'harness', 'harp', 'harsh', 'harvest', 'hashies', 'hashimotos', 'hask', 'haslooking', 'hasnt', 'hassle', 'hastily', 'hat', 'hate', 'hated', 'hateful', 'hating', 'hatred', 'haulage', 'hauler', 'haunt', 'haunted', 'haunting', 'hav', 'havebrother', 'havefinally', 'havehello', 'havei', 'havent', 'havesober', 'havnt', 'hawaii', 'hay', 'hazardous', 'haze', 'hazeldon', 'hazy', 'hazysobriety', 'he', 'head', 'head88', 'headache', 'headachy', 'headam', 'headed', 'headedness', 'heading', 'headline', 'headmoral', 'headphone', 'headrush', 'headstrong', 'headwhat', 'heal', 'healed', 'healer', 'healhy', 'healing', 'healingalternative', 'heals', 'health', 'healthadmission', 'healthcan', 'healthcare', 'healthful', 'healthier', 'healthiest', 'healthily', 'healthilyrelapsing', 'healthlooking', 'healthy', 'healthybalanced', 'healthyhelp', 'healthyi', 'heap', 'hear', 'heard', 'heardfelt', 'hearing', 'hears', 'heart', 'heartache', 'heartbeat', 'heartbreak', 'heartbreaking', 'heartbroken', 'heartburn', 'heartday', 'hearted', 'heartedly', 'heartfelt', 'hearti', 'heartiest', 'heartily', 'heartmy', 'heat', 'heater', 'heath', 'heathy', 'heating', 'heaven', 'heavenly', 'heavenways', 'heavier', 'heaviest', 'heavily', 'heavy', 'heavybinge', 'heavydaily', 'heavyish', 'heck', 'hectic', 'hed', 'hedger', 'heed', 'heee', 'heeeeelpp', 'heel', 'heeling', 'heets', 'hegelian', 'hehe', 'hehehe6', 'height', 'heightened', 'heightening', 'heirloom', 'held', 'hell', 'hella', 'hellacious', 'helli', 'hellish', 'helllooooooo', 'hello', 'help', 'help20', 'help23', 'helpaddicted', 'helpadvice', 'helpany', 'helpback', 'helpcan', 'helpcelebrate', 'helpchat', 'helpcig', 'helpcommentsfreshly', 'helpcravings', 'helpday', 'helpdo', 'helped', 'helped3', 'helpedbeing', 'helpednicotine', 'helper', 'helpflying', 'helpful', 'helpfulglutamate', 'helpfulis', 'helpfullooking', 'helpfulrelapse', 'helpfulsticking', 'helpfulupdate', 'helphelp', 'helphi', 'helphow', 'helpi', 'helpim', 'helping', 'helpless', 'helpline', 'helpmade', 'helpmeeting', 'helpmy', 'helpneed', 'helpnic', 'helpnot', 'helpppi', 'helpppl', 'helpquitters', 'helpso', 'helpsub', 'helpswent', 'helpunsure', 'helpusing', 'helpweird', 'helpwell', 'helpwhat', 'helpwhen', 'helth', 'hemingway', 'hemmerhoids', 'hemp', 'henbane', 'hence', 'hepatitis', 'herb', 'herbal', 'herbert', 'herculean', 'here', 'here1', 'here20', 'here22', 'here2nd', 'herea', 'hereditary', 'herehas', 'herehere', 'herehttpswwwredditcomrstopsmokingcommentsp9mbpkadviceandencouragementneeded', 'herehttpswwwredditcomrstopsmokingcommentspdwrihoneweekupdate', 'herei', 'hereinformation', 'herepotential', 'heresupport', 'heretomorrow', 'herhow', 'herion', 'hermon', 'hero', 'heroic', 'heroin', 'heroine', 'heroinfentanyl', 'herour', 'heshe', 'hesheit', 'hesitant', 'hesitate', 'hesitation', 'heterosexual', 'hey', 'heyjust', 'heyy', 'heyyyyyyy', 'hg', 'hi', 'hiccup', 'hid', 'hidden', 'hidding', 'hide', 'hiding', 'hierarchy', 'high', 'highcompared', 'higher', 'highest', 'highfull', 'highlight', 'highlighthttpsletshighlightcom', 'highly', 'highness', 'highschool', 'hights', 'highvisibility', 'higonna', 'hiiigh', 'hiim', 'hijacked', 'hike', 'hiked', 'hiker', 'hikewalk', 'hiking', 'hilarious', 'hill', 'himadvice', 'himam', 'himboyfriend', 'himher', 'himmy', 'himselfherself', 'himselftips', 'himsomeone', 'himuk', 'hinder', 'hinderance', 'hinderer', 'hindering', 'hinders', 'hindsight', 'hindu', 'hint', 'hip', 'hipaa', 'hippie', 'hire', 'hired', 'hisher', 'history', 'hit', 'hitherto', 'hits2nd', 'hitter', 'hitting', 'hivemind', 'ho', 'hobby', 'hof', 'hold', 'holding', 'hole', 'holiday', 'holier', 'holler', 'hollow', 'hollywood', 'holy', 'home', 'homeaway', 'homegroup', 'homei', 'homeimprovement', 'homeless', 'homelesshas', 'homelessness', 'homeostasis', 'homeowner', 'homepassive', 'homesick', 'homesickness', 'hometown', 'homework', 'homicidal', 'homie', 'homosexual', 'hone', 'honest', 'honesti', 'honestly', 'honestserious', 'honesty', 'honestyopenness', 'honey', 'honeymoon', 'honor', 'honour', 'hoo', 'hood', 'hook', 'hookah', 'hooked', 'hooking', 'hookup', 'hoorah', 'hop', 'hope', 'hopeanyone', 'hopecan', 'hoped', 'hopeful', 'hopefully', 'hopefulness', 'hopehelp', 'hopeless', 'hopelesshow', 'hopelessi', 'hopelessly', 'hopelessness', 'hopenever', 'hoping', 'hopkins', 'hopping', 'horizon', 'hormonal', 'hormone', 'horn', 'hornet', 'horny', 'horrendous', 'horrible', 'horriblethanks', 'horribly', 'horrid', 'horrific', 'horrifically', 'horrified', 'horror', 'horse', 'horseback', 'horseman', 'hospice', 'hospital', 'hospitalization', 'hospitalize', 'hospitalized', 'hospitalscpr', 'host', 'hostage', 'hosted', 'hostel', 'hosting', 'hot', 'hotdamn', 'hotel', 'hotline', 'hotrod', 'hour', 'hourly', 'hours1st', 'hoursone', 'house', 'housed', 'houseday', 'housefor', 'household', 'housemate', 'houseneed', 'housethe', 'housework', 'housing', 'hovering', 'how35', 'howduel', 'howdy', 'however', 'howhow', 'howif', 'howit', 'howlong', 'howwhat', 'howwhen', 'hp', 'hqd', 'hr', 'hrper', 'hrresting', 'hscollege', 'httpsaachatsorgdiscordhttpsaachatsorgdiscordan', 'httpsaaintergrouporghttpsaaintergrouporg', 'httpsappsapplecomcaapphappyerid1537711110httpsappsapplecomcaapphappyerid1537711110', 'httpsappsapplecomusappaabigbookunofficialid990308161great', 'httpsappsmokefreeappcomstoragecertificatessandosh1633696859jpgcrossed', 'httpscalendlycommarcosanderconsultationhttpscalendlycommarcosanderconsultation', 'httpschatwhatsappcomcnh9cldkdpol2wmllkoknvjoin', 'httpsdavidnichterncommeditation', 'httpsdiscordggfaydycurnrhttpsdiscordggfaydycurnrlets', 'httpsdrugscienceorgukwpcontentuploads202007psilocybinpharmacologypdfhttpsdrugscienceorgukwpcontentuploads202007psilocybinpharmacologypdf', 'httpsfilescatboxmoe19a4vxmp3some', 'httpsfilescatboxmoe1pefqvmp3people', 'httpsfilescatboxmoe6bklpsmp3my', 'httpsfinanceyahoocomnewsclearmindmedicinepartnersclinipacecommence120000038htmlguccounter1ampgucereferrerahr0chm6ly93d3cuz29vz2xllmnvbs8ampgucereferrersigaqaaakarkfcirqkpawqhblrwslg4qma3zoaekc5kta3kmfpmxddacsqnezly9nlqhvjcxn15hja1f3dktsa6qzvulztyfzssxennf55q32wsfs0t7x0klujdl9h7vt8djifmwsstylzlpbuwju0y5ck2hsjohjw2x2mreatfhttpsfinanceyahoocomnewsclearmindmedicinepartnersclinipacecommence120000038htmlguccounter1ampgucereferrerahr0chm6ly93d3cuz29vz2xllmnvbs8ampgucereferrersigaqaaakarkfcirqkpawqhblrwslg4qma3zoaekc5kta3kmfpmxddacsqnezly9nlqhvjcxn15hja1f3dktsa6qzvulztyfzssxennf55q32wsfs0t7x0klujdl9h7vt8djifmwsstylzlpbuwju0y5ck2hsjohjw2x2mreatfclearmind', 'httpsformjotformcom212593608418056httpsformjotformcom212593608418056help', 'httpsformsglevfgk4qrv3dlgcvj39httpsformsglevfgk4qrv3dlgcvj39looking', 'httpsimgurcoma8qp8xzzhttpsimgurcoma8qp8xzz', 'httpsimgurcomabe7b8cqhttpsimgurcomabe7b8cq', 'httpsimgurcomah07kjwlhttpsimgurcomah07kjwl', 'httpsimgurcomaookavx5maruman', 'httpsimgurcomavawfkeohttpsimgurcomavawfkeo', 'httpsimgurcomaxg06aughttpsimgurcomaxg06aug', 'httpsitunesapplecomusappsobertodayrecoverytimeid1239464706mt86', 'httpskiffstorycomhttpskiffstorycom', 'httpsmyoutubecomwatchvbuqtdpuzxvkpeaceful', 'httpsopenspotifycomepisode1ug1hp80qaxi8cp70778yysizzdp7y3stgrezre4k0cwampdlbranch1httpsopenspotifycomepisode1ug1hp80qaxi8cp70778yysizzdp7y3stgrezre4k0cwampdlbranch1ians', 'httpsopenspotifycomtrack3gxbgr41nsdsmhw3gguxtasiyo87oaf7qr2cgfq2oaalegmusic', 'httpsopenspotifycomtrack6uzuk63got3itnuoxr4nhtsihhbrmfiwtzqlmqdj0sixlw56', 'httpsplaygooglecomstoreappsdetailsidcomfireshooterslifetipslife', 'httpsplaygooglecomstoreappsdetailsidcomhappyer4lifehttpsplaygooglecomstoreappsdetailsidcomhappyer4life', 'httpsplaygooglecomstoreappsdetailsidcomibyteappssobertodayamphlenus', 'httpspreviewreddit0iuido15n3v71jpgwidth640ampformatpjpgampautowebpampscf736f43a6337ff812418f29913b78cd41c25263', 'httpspreviewreddit19ceno2f71s71jpgwidth640ampformatpjpgampautowebpampseaaba324325b9912bfda11ce6ed1d64ac20eff7dvaping', 'httpspreviewreddit25rch0ui5uv71jpgwidth1080ampformatpjpgampautowebpampsa61f780510013c5d743d8b765ba8498becb101ce', 'httpspreviewreddit3shplp15n3v71jpgwidth640ampformatpjpgampautowebpampse025b77a1a193b6bfaaaa19e617c993b4483d958', 'httpspreviewreddit48b0fm15n3v71jpgwidth576ampformatpjpgampautowebpamps032015226f3ba4f7b451fecba55764a816af9251', 'httpspreviewreddit48upevti5uv71jpgwidth1080ampformatpjpgampautowebpamps896784f16af960aa90d7d0e114fc9a0fe1aa972b', 'httpspreviewreddit57q5gh15n3v71jpgwidth784ampformatpjpgampautowebpamps4368931ebb7d937eeeeca927e08452eeca44bc20', 'httpspreviewreddit9iw04v15n3v71jpgwidth656ampformatpjpgampautowebpamps4a908293954cd88788620a0d2fee81fa979966f7smoking', 'httpspreviewreddita6lkbgh2q5o71pngwidth898ampformatpngampautowebpampsb9f675b31c0a7bc8db2448c81ad0ece8e79b7e56just', 'httpspreviewredditap4sbwti5uv71jpgwidth1080ampformatpjpgampautowebpamps9b1189b06657e32c0bdcfb3756579b03dfe0368f', 'httpspreviewredditc6smdwdywvq71jpgwidth1125ampformatpjpgampautowebpampsbe7c2c67f569e71e22b2b846c8f66676a6b4232bmusc', 'httpspreviewredditcgvf7o2f71s71jpgwidth636ampformatpjpgampautowebpampsb446def933337babe4877d267942fbba5376874a', 'httpspreviewredditd3h2yh15n3v71jpgwidth640ampformatpjpgampautowebpampsdf35bf32079a7634e1e07bc3c7303db7584ee019', 'httpspreviewredditf8zukr2f71s71jpgwidth576ampformatpjpgampautowebpamps9dea3fdeacbfa6c43ef2436f4a7b7ff37f1d0c69', 'httpspreviewredditfqkiydrnamr71pngwidth460ampformatpngampautowebpamps8c56ac12e1afec44a935eb68288ee710cb4d9e5cfor', 'httpspreviewredditinn4suti5uv71jpgwidth1080ampformatpjpgampautowebpamps621c894bf33b74bad10105f2f4e691ecf3a3de8d', 'httpspreviewredditjc0t3sbaq8t71jpgwidth940ampformatpjpgampautowebpampsc38ac6f632308594a6634a7f2bb991c38a65aac1this', 'httpspreviewredditlbs2do2f71s71jpgwidth640ampformatpjpgampautowebpamps00b160a4897b369505a4e75880d1de6b8412fc56', 'httpspreviewreddits5fodq2f71s71jpgwidth1272ampformatpjpgampautowebpamps75c905cbba97334ad374bff134188fd41aa6d79d', 'httpspreviewreddittc3bsyomf0v71jpgwidth300ampformatpjpgampautowebpamps58997f9e983721921ae8d553329d8896d6663995ask', 'httpspreviewredditwv54mst8h0v71jpgwidth300ampformatpjpgampautowebpamps3c0155dbdcd3d224b4543d030e6e1dc33f44627cdo', 'httpspreviewredditxj2d3xti5uv71jpgwidth1080ampformatpjpgampautowebpampsc54d4b92c71287a113c131642a58bcd217cc0870journey', 'httpspreviewredditxne8si15n3v71jpgwidth640ampformatpjpgampautowebpamps0110820d838675af3ab6455b84df0377d78f8e20', 'httpspreviewredditxt4juo2f71s71jpgwidth656ampformatpjpgampautowebpamps3204411a7786a70318b85d7edda1cc959cc89835', 'httpspubmedncbinlmnihgov10631398httpspubmedncbinlmnihgov10631398any', 'httpspubmedncbinlmnihgov10631398httpspubmedncbinlmnihgov10631398does', 'httpsredcaplinkcoaststudyhttpsredcaplinkcoaststudycurrent', 'httpsredcapmuscedusurveyssk7p9ch7hjrhttpsredcapmuscedusurveyssk7p9ch7hjr', 'httpsresearchscparticipantlogindynamicace94fc6ff5145bcb26ca4c7699ee335', 'httpsresearchscparticipantlogindynamicace94fc6ff5145bcb26ca4c7699ee335httpsresearchscparticipantlogindynamicace94fc6ff5145bcb26ca4c7699ee335', 'httpssharedescriptcomviewtp747zhbjjchttpssharedescriptcomviewtp747zhbjjc', 'httpstmeteenheavenburn', 'httpsvmtiktokcomzmrlfmjroi', 'httpswwwaaorgpagesenuslivingsoberpdfformati', 'httpswwwcancerresearchukorgaboutcancerlungcancersurvivalhttpswwwcancerresearchukorgaboutcancerlungcancersurvival', 'httpswwwdailymailcouknewsarticle9906321trevorbauerhearingday3htmlaa', 'httpswwwfacebookcomdailyponderableshttpswwwfacebookcomdailyponderablesan', 'httpswwwfacebookcomgroupswarriorvapersworldwidehttpswwwfacebookcomgroupswarriorvapersworldwidenew', 'httpswwwfatherlycomhealthscienceburn1000caloriesworkout', 'httpswwwfumessentialcomproductsfumquitnaturallypack2httpswwwfumessentialcomproductsfumquitnaturallypack2fum', 'httpswwwglobaldrugsurveycomhttpswwwglobaldrugsurveycom', 'httpswwwgooglecomampswwwnytimescom20211012healthecigarettesfdavuseamphtmlthoughts', 'httpswwwhealthlinecomhealthlungcancerspreadtobrainhttpswwwhealthlinecomhealthlungcancerspreadtobrain1', 'httpswwwkickstartercomprojectskiffstory111176120ref8jfy9qamptoken7da40c2bhttpswwwkickstartercomprojectskiffstory111176120ref8jfy9qamptoken7da40c2bquit', 'httpswwwncbinlmnihgovpmcarticlespmc3662348httpswwwncbinlmnihgovpmcarticlespmc3662348', 'httpswwwredditcomralcoholicsanonymouscommentsq90lwzgoodbyeutmsourceshareamputmmediumiosappamputmnameiossmflooking', 'httpswwwredditcomrhappyerhttpswwwredditcomrhappyer', 'httpswwwredditcomrstopsmokingcommentsj3i3ux3rdattemptofa15yearsmokerdayone', 'httpswwwyoutubecomcmarcosandercoachinghttpswwwyoutubecomcmarcosandercoaching', 'httpswwwyoutubecomwatchv02npu36xecampt20shttpswwwyoutubecomwatchv02npu36xecampt20si', 'httpswwwyoutubecomwatchv1skb8l53c0ampt1shttpswwwyoutubecomwatchv1skb8l53c0ampt1sim', 'httpswwwyoutubecomwatchv1zocsyxlw04my', 'httpswwwyoutubecomwatchv4cvtkctbrimhttpswwwyoutubecomwatchv4cvtkctbrimdrunk', 'httpswwwyoutubecomwatchv6e5dkyzdndwhttpswwwyoutubecomwatchv6e5dkyzdndw', 'httpswwwyoutubecomwatchv6eghiys2tsampabchanneltedxtalkshttpswwwyoutubecomwatchv6eghiys2tsampabchanneltedxtalks', 'httpswwwyoutubecomwatchvfggbdqz6xuampt2shttpswwwyoutubecomwatchvfggbdqz6xuampt2sit', 'httpswwwyoutubecomwatchvt4fgvjc5ytcampt45ssobriety', 'httpswwwyoutubecomwatchvtwag0wwgj3eampt11s', 'httpswwwyoutubecomwatchvugn2lxyeeampt4shttpswwwyoutubecomwatchvugn2lxyeeampt4s', 'httpswwwyoutubecomwatchvwebwfkaoqhe', 'httpswwwyoutubecomwatchvyquo1ex8fxs', 'httpswwwyoutubecomwatchvyx2mvkotyampt523salmost', 'httpswwwyoutubecomwatchvzwfefk56co4ampt39shttpswwwyoutubecomwatchvzwfefk56co4ampt39sis', 'httpsyoutube10xwmuxesdchttpsyoutube10xwmuxesdcfrustration', 'httpsyoutube8nuds9g46uc', 'httpsyoutubeez1aynukt4httpsyoutubeez1aynukt4a', 'httpsyoutubeezcdcv8pumshttpsyoutubeezcdcv8pumssobriety', 'httpsyoutubehfl3yh7fs4gthe', 'httpsyoutubehyuur14osjkhttpsyoutubehyuur14osjksobriety', 'httpsyoutubejkqoxgukj3kalchohol', 'httpsyoutubejkqoxgukj3kalcohol', 'httpsyoutubejkqoxgukj3kfacts', 'httpsyoutubejkqoxgukj3kinteresting', 'httpsyoutubek27woa6dexshttpsyoutubek27woa6dexs', 'httpsyoutubekevtdhz4cdyhttpsyoutubekevtdhz4cdysobriety', 'httpsyoutubempjr3drclmhttpsyoutubempjr3drclm', 'httpsyoutubeoffehoocp0httpsyoutubeoffehoocp0100', 'httpsyoutubeoks9guqrdashttpsyoutubeoks9guqrdas', 'httpsyoutubeon4ps8i1e', 'httpsyoutubertio3kqvngghttpsyoutubertio3kqvngg', 'httpsyoutuberyypbwz6zkhttpsyoutuberyypbwz6zk', 'httpsyoutubetub6yk1vrpqhttpsyoutubetub6yk1vrpqsobriety', 'httpsyoutubezxm5p3ublx8httpsyoutubezxm5p3ublx8sobriety', 'httpszoomuswebinarregister8516331062518wnwygslaaoqbgsylo6h0xahttpszoomuswebinarregister8516331062518wnwygslaaoqbgsylo6h0xaclearmind', 'hubby', 'huddled', 'huff', 'huffing', 'hug', 'huge', 'hugely', 'hugged', 'hugging', 'hugh', 'huh', 'huhi', 'huhwhat', 'hulk', 'human', 'humanity', 'humanize', 'humanizing', 'humble', 'humbled', 'humbling', 'humbly', 'humid', 'humidifier', 'humiliated', 'humiliating', 'humiliation', 'humility', 'humor', 'humorousopennessholding', 'hump', 'hunch', 'hundred', 'hung', 'hunger', 'hungerhelp', 'hungover', 'hungry', 'hurdle', 'hurricane', 'hurry', 'hurt', 'hurtful', 'hurting', 'hurtrejected', 'hurtsim', 'husband', 'hushed', 'hust', 'husteling', 'hustle', 'hustling', 'huuuge', 'huxley', 'hve', 'hybrid', 'hyde', 'hydrate', 'hydrated', 'hype', 'hyped', 'hyper', 'hyperactivity', 'hypertension', 'hypnic', 'hypnogogic', 'hypnosis', 'hypnotherapist', 'hypnotherapy', 'hypnotist', 'hypnotized', 'hypo', 'hypochondriac', 'hypocrisy', 'hypocritical', 'hypomanic', 'hypothetical', 'hypoxia', 'hysterical', 'hésitez', 'i22f', 'i70', 'ia', 'iam', 'ian', 'iboga', 'ibsibd', 'ibuprofen', 'ice', 'iced', 'iching', 'ick', 'ickiness', 'icky', 'icon', 'icu', 'id', 'ida', 'idaa', 'iday', 'idea', 'ideai', 'ideal', 'ideally', 'ideanicotine', 'ideasfirst', 'ideation', 'idek', 'identical', 'identified', 'identify', 'identifying', 'identity', 'ideology', 'idiocy', 'idiot', 'idiotic', 'idk', 'idkhow', 'idki', 'idling', 'idol', 'idolization', 'idolized', 'ie', 'iffy', 'ifwhen', 'ig', 'ignite', 'ignorance', 'ignorancethat', 'ignorant', 'ignore', 'ignored', 'ignores', 'ignoring', 'ihas', 'ihi', 'ii', 'iike', 'iirc', 'ik', 'il', 'ill', 'illegal', 'illfirst', 'illicit', 'illinois', 'illness', 'illogical', 'illuminated', 'illusion', 'illusory', 'illustrate', 'im', 'ima', 'image', 'imagery', 'imagine', 'imagined', 'imagining', 'imbalance', 'imbecile', 'imbibe', 'img', 'immature', 'immaturity', 'immeasurable', 'immeasurably', 'immediate', 'immediately', 'immeditate', 'immemorial', 'immense', 'immensely', 'immerse', 'immersed', 'immersion', 'immigrant', 'immoral', 'immortal', 'immune', 'immunity', 'imo', 'imopem', 'impa', 'impact', 'impacted', 'impacting', 'impair', 'impaired', 'impairment', 'impending', 'imperceptibly', 'imperfection', 'impermanent', 'impersonal', 'impinge', 'implant', 'implement', 'implemented', 'implied', 'implies', 'implode', 'implore', 'implores', 'implying', 'importance', 'important', 'importantly', 'impose', 'imposed', 'imposing', 'imposition', 'impossibility', 'impossible', 'impossible30', 'impossibly', 'imposter', 'impound', 'impress', 'impressed', 'impression', 'impressionable', 'impressive', 'improper', 'improve', 'improved', 'improvelongterm', 'improvement', 'improves', 'improving', 'impulse', 'impulsive', 'impulsively', 'impulsivity', 'in', 'ina', 'inability', 'inaccurate', 'inadequate', 'inappropiate', 'inappropriate', 'inattentive', 'inaugurated', 'inauguration', 'inbetween', 'inc', 'incapable', 'incapacitated', 'incarcerated', 'incarceration', 'incase', 'incense', 'incentive', 'incessantly', 'inch', 'incident', 'inclination', 'inclinded', 'incline', 'include', 'included', 'includes', 'including', 'inclusive', 'incoherent', 'income', 'incoming', 'incomplete', 'inconsiderate', 'inconsistent', 'inconstancy', 'incontinent', 'inconvenience', 'inconvenienced', 'inconvenient', 'incorrect', 'incorrectly', 'increase', 'increased', 'increasing', 'increasingly', 'incredible', 'incredibly', 'incurable', 'inday', 'indecisive', 'indeed', 'indefinitely', 'independence', 'independent', 'independently', 'indescribable', 'indescribably', 'index', 'india', 'indicate', 'indicated', 'indicates', 'indicative', 'indicator', 'indifferent', 'indirect', 'indispensable', 'individual', 'individually', 'indoctrination', 'indoes', 'indoor', 'indoors', 'indrinking', 'induce', 'induced', 'inducing', 'inducingstressful', 'indulge', 'indulgence', 'indulging', 'industrial', 'industry', 'inebriatingantidepressants', 'inebriation', 'inefficient', 'inescapable', 'inescapably', 'inevitable', 'inevitably', 'inexorably', 'inexperience', 'infact', 'infantalized', 'infantry', 'infection', 'inferior', 'inferiority', 'infidelity', 'infinite', 'infinitely', 'infinity24', 'infintely', 'inflamed', 'inflames', 'inflammation', 'inflammatory', 'inflict', 'inflicted', 'influence', 'influenced', 'influenceits', 'influencer', 'info', 'inform', 'informal', 'information', 'informationaddiction', 'informationhealth', 'informationstop', 'informed', 'infrequent', 'infrequently', 'infringement', 'infront', 'infuriated', 'infuriatingday', 'infused', 'ingested', 'ingestion', 'ingrained', 'ingredient', 'inhabited', 'inhalation', 'inhalator', 'inhale', 'inhaled', 'inhaleexhale', 'inhaler', 'inhaling', 'inheritance', 'inherited', 'inhibition', 'inhibits', 'ini', 'initally', 'initial', 'initially', 'initiate', 'initiated', 'initiative', 'initiatve', 'injure', 'injured', 'injury', 'inlaws', 'inlove', 'inner', 'innetwork', 'innocent', 'innocently', 'innuendo', 'innumerable', 'inpatient', 'inperson', 'inposted', 'input', 'inputboyfriend', 'inputfirst', 'inputi', 'inputim', 'insane', 'insanei', 'insanely', 'insanity', 'insecure', 'insecurity', 'insensitive', 'inseparable', 'inshallah', 'inside', 'insidenot', 'insidious', 'insight', 'insightanyone', 'insightful', 'insightneed', 'insightsstep', 'insignificant', 'insinuate', 'insinuated', 'insinuating', 'insist', 'insisted', 'insistent', 'insisting', 'insists', 'insofar', 'insomnia', 'inspected', 'inspection', 'inspiration', 'inspirational', 'inspirationday', 'inspirationfirst', 'inspire', 'inspired', 'inspires', 'inspiring', 'instagram', 'instagramtears', 'installed', 'instance', 'instant', 'instantly', 'instarting', 'instead', 'instead2', 'insteada', 'instill', 'instilled', 'instinct', 'instinctively', 'institution', 'instread', 'instructed', 'instruction', 'instructor', 'instrumental', 'insular', 'insult', 'insulted', 'insulting', 'insurance', 'insure', 'insuring', 'insurmountable', 'int', 'intact', 'intake', 'intakemy', 'intangible', 'integrate', 'integrity', 'intel', 'intellectual', 'intellectually', 'intelligence', 'intelligent', 'intend', 'intended', 'intending', 'intends', 'intense', 'intensely', 'intensemore', 'intensified', 'intensify', 'intensity', 'intensive', 'intent', 'intention', 'intentional', 'intentionally', 'intently', 'interact', 'interacted', 'interacting', 'interaction', 'interacts', 'interagation', 'intercepted', 'interconnected', 'interest', 'interested', 'interestedlooking', 'interesting', 'interestingly', 'interfere', 'interfering', 'intergroup', 'intermingled', 'intermission', 'intermittent', 'internal', 'internalize', 'internally', 'international', 'internationallyadvised', 'internet', 'interning', 'internment', 'internship', 'interpret', 'interpretation', 'interrogate', 'interrupt', 'interrupted', 'interruption', 'intersection', 'interstate', 'intertwined', 'interval', 'intervening', 'intervention', 'interview', 'inthe', 'intimacy', 'intimate', 'intimately', 'intimidate', 'intimidated', 'intimidating', 'intolerable', 'intolerance', 'intoxicated', 'intoxicating', 'intoxication', 'intricacy', 'intrigue', 'intrigued', 'intriguing', 'intrinsic', 'intrinsically', 'intro', 'introduce', 'introduced', 'introduces', 'introducing', 'introduction', 'introductory', 'introductoryhttpswwwredditcomrstopsmokingcommentsp9mbpkadviceandencouragementneeded', 'introspective', 'introvert', 'introverted', 'intrusive', 'intuition', 'intuitive', 'invalidate', 'invalidated', 'invalidating', 'invalided', 'invaluable', 'invariably', 'invasive', 'invented', 'inventory', 'invest', 'invested', 'investedsurrounded', 'investigate', 'investigation', 'investing', 'investment', 'investor', 'invincibility', 'invitation', 'invite', 'invited', 'inviting', 'invokes', 'involuntarily', 'involuntary', 'involve', 'involved', 'involvedday', 'involves', 'involves12784', 'involving', 'inward', 'io', 'iop', 'iota', 'ipa', 'ipad', 'ipaday', 'ipas', 'ipay', 'iphone', 'iplay', 'iq', 'iqos', 'ir', 'iraq', 'irascible', 'ireland', 'irish', 'irked', 'irl', 'ironic', 'ironically', 'irony', 'irratible', 'irrational', 'irrationally', 'irregular', 'irreparable', 'irreparably', 'irresistible', 'irresitable', 'irreversible', 'irritability', 'irritable', 'irritant', 'irritated', 'irritating', 'irritation', 'isaiah', 'isfeeling', 'ish', 'isi', 'islamic', 'island', 'ism', 'isnt', 'isolate', 'isolated', 'isolating', 'isolation', 'isolationim', 'isquit', 'issmoking', 'issue', 'issue1', 'issueam', 'issued', 'issuei', 'issuesbugs', 'issuesquestion', 'issuesyada', 'issuie', 'isthe', 'it100', 'it3', 'it5', 'it6', 'it9', 'itaa', 'italian', 'italmost', 'itany', 'itare', 'itattempt', 'itbaking', 'itbeen', 'itbupropion', 'itcant', 'itch', 'itchburning', 'itchecking', 'itching', 'itchy', 'itcigalike', 'itd', 'itday', 'itdepression', 'itdiary', 'itdoes', 'item', 'itfeeling', 'itfor', 'itgetting', 'itgod', 'itgot', 'itgroup', 'itguilty', 'ithad', 'itheightened', 'ithello', 'ithi', 'ithow', 'iti', 'itidk', 'itim', 'itinerary', 'itit', 'itkeep', 'itlast', 'itlit', 'itll', 'itlong', 'itmaking', 'itmaybe', 'itmushrooms', 'itmy', 'itnaltrexone', 'itnearly', 'itneed', 'itnew', 'itno', 'itnoone', 'itone', 'itquestion', 'itquitsure', 'itquitting', 'itrecommended', 'itreset', 'itrien', 'itstarted', 'itstep', 'itstop', 'itstopped', 'itstory', 'itthank', 'itthe', 'itvape', 'itwatching', 'itwelp', 'itwent', 'itwhat', 'itwill', 'itworking', 'iv', 'ive', 'ive37m', 'ivedone', 'ivy', 'iwndday', 'iwndwyt', 'iwndwytalmost', 'iwndwytalright', 'iwndwytday', 'iwndwytday21', 'iwndwytfeeling', 'iwndwytgetting', 'iwndwythere', 'iwndwytmorning', 'iwndwytone', 'iwndwytspiralling', 'iwndwyttime', 'iwndwytwhat', 'jack', 'jacket', 'jaded', 'jaeger', 'jager', 'jahbiddy', 'jail', 'jam', 'james', 'jameson', 'jan', 'jane', 'janice', 'janitorial', 'january', 'januaryjune', 'japan', 'japaneese', 'jar', 'jarring', 'jason', 'jaundice', 'jaw', 'jawline', 'jazzed', 'jealous', 'jealousy', 'jeep', 'jeez', 'jefferson', 'jelly', 'jeopardize', 'jeopardizing', 'jeopardy', 'jerk', 'jerking', 'jerky', 'jersey', 'jesus', 'jesushey', 'jill', 'jim', 'jimmie', 'jims', 'jingle', 'jist', 'jitsu', 'jittery', 'jiu', 'jive', 'jk', 'jnot', 'jo', 'job', 'jobin', 'jobless', 'jobpls', 'joe', 'jog', 'jogger', 'jogging', 'john', 'join', 'joined', 'joining', 'joiningdecided', 'joint', 'joke', 'joke12', 'joked', 'jokehow', 'joketonight', 'jokey', 'joking', 'jolly', 'jolt', 'jon', 'jonesing', 'jonny', 'jonnylee', 'jordanfirst', 'jose', 'jot', 'jotting', 'journal', 'journaled', 'journaling', 'journalist', 'journey', 'journey37th', 'journey5', 'journeyare', 'journeyhash', 'journeyhow', 'journeyi', 'journeysober', 'journeysquit', 'journeysuggestions', 'journeytips', 'journeytwo', 'journeywhat', 'journeyworks', 'joy', 'joyarguably', 'joyday', 'joyful', 'joyfully', 'joyless', 'joyous', 'jre', 'judge', 'judged', 'judgement', 'judgemental', 'judging', 'judgingjust', 'judgingreaching', 'judgment', 'judgmental', 'juggled', 'juice', 'juicing', 'jul', 'julie', 'july', 'jumbled', 'jump', 'jumped', 'jumping', 'jun', 'june', 'jung', 'junior', 'junk', 'junkie', 'junky', 'jus', 'justbought', 'justfalling', 'justi', 'justice', 'justicewelp', 'justifiable', 'justification', 'justified', 'justify', 'justifying', 'justmake', 'justneed', 'justnot', 'juul', 'juuls', 'k', 'kalms', 'kanger', 'kansa', 'karma', 'kay', 'kayaking', 'kayla', 'keen', 'keenly', 'keep', 'keeper', 'keeping', 'kellyi4lsbuacukmailtokellyi4lsbuacuk', 'kept', 'kernellike', 'ketamine', 'kettle', 'key', 'keyboard', 'keyring', 'khalifa', 'khalifahttpsedubaivisaaeblogburjkhalifa', 'kick', 'kickbackmovie', 'kickboxing', 'kicked', 'kicker', 'kicking', 'kickstarter', 'kid', 'kidanyone', 'kidding', 'kiddo', 'kidnapped', 'kidney', 'kidsfirst', 'kiff', 'kill', 'killed', 'killer', 'killing', 'kilter', 'kin', 'kind', 'kinda', 'kinder', 'kindergarten', 'kindhearted', 'kindle', 'kindled', 'kindling', 'kindly', 'kindness', 'kindstruggling', 'king', 'kiosk', 'kirkland', 'kiss', 'kissing', 'kit', 'kitchen', 'kitten', 'kjow', 'klonopin', 'km', 'knack', 'knee', 'knelt', 'knew', 'knife', 'knock', 'knocked', 'knocking', 'know', 'know50', 'knowabruptly', 'knowam', 'knowcomplete', 'knowi', 'knowing', 'knowits', 'knowledgable', 'knowledge', 'knowledgeable', 'known', 'knowneed', 'knownow', 'knowquitting', 'knox', 'knuckle', 'knuckling', 'kong', 'konw', 'koolaid', 'kozecke', 'kpins', 'kratom', 'kryptonitesometimes', 'kudzu', 'kyle', 'küblerross', 'l', 'la', 'lab', 'label', 'labeled', 'labeling', 'labor', 'labored', 'labyrinth', 'laced', 'lack', 'lacked', 'lacking', 'lactose', 'lad', 'ladder', 'lady', 'lagging', 'laid', 'lame', 'lament', 'lamenting', 'lamp', 'lamplike', 'land', 'landed', 'landing', 'landlord', 'landscape', 'landslide', 'lane', 'language', 'languagealcohol', 'languageeyes', 'languageguys', 'languagei', 'lanka', 'lap', 'lapse', 'lapsed', 'laptop', 'large', 'largely', 'larger', 'largest', 'lark', 'lash', 'lashing', 'lasik', 'last', 'last3', 'lasted', 'laster', 'lasting', 'lastly', 'lastweird', 'lat', 'latching', 'late', 'latehave', 'latei', 'lateish', 'lately', 'latent', 'later', 'later60', 'latera', 'laterproud', 'latersome', 'latest', 'latter', 'laugh', 'laughed', 'laughing', 'launched', 'launching', 'laundry', 'laurel', 'lava', 'law', 'lawn', 'lawsuit', 'lawyer', 'laxative', 'lay', 'layed', 'layer', 'laying', 'layoff', 'layout', 'laziness', 'lazy', 'lb', 'lbgtq', 'lcbo', 'le', 'lead', 'leadcontributed', 'leader', 'leading', 'leaf', 'leafed', 'leaffree', 'league', 'leak', 'leaked', 'lean', 'leaning', 'leap', 'leapi', 'learn', 'learned', 'learning', 'learnt', 'lease', 'leasing', 'least', 'leave', 'leaving', 'lebanon', 'lebowski', 'lecture', 'lecturepodcast', 'lecturing', 'led', 'lee', 'leech', 'leeching', 'left', 'leftside', 'leg', 'legacy', 'legal', 'legalization', 'legally', 'legend', 'legion', 'legislation', 'legit', 'legitimate', 'legitimately', 'lego', 'leisure', 'lemme', 'lemon', 'lemonade', 'lend', 'length', 'lengthen', 'lengthy', 'lens', 'leo', 'lesion', 'lessback', 'lessen', 'lesser', 'lessi', 'lesson', 'lessthanpeak', 'lest', 'let', 'lethal', 'lethargic', 'letter', 'letting', 'lettuce', 'level', 'leveled', 'levelheaded', 'levelsenzymes', 'levelstate', 'lexapro', 'lgbt', 'lgbtq', 'lglutamine', 'liability', 'liar', 'libby', 'liberal', 'liberated', 'liberating', 'libido', 'library', 'librium', 'license', 'licensed', 'lick', 'licken', 'licorice', 'lid', 'lie', 'lied', 'liesdelusions', 'lieu', 'life', 'life2557', 'life4', 'life6', 'life69', 'life98', 'lifealtering', 'lifeblah', 'lifechanging', 'lifedating', 'lifediary', 'lifehealthrelationships', 'lifehere', 'lifei', 'lifeit', 'lifeiwndwytofficially', 'lifelong', 'lifemy', 'lifeneed', 'lifeplease', 'lifespan', 'lifestronger', 'lifestyle', 'lifestylefeeling', 'lifestylevaping', 'lifethey', 'lifethink', 'lifetime', 'lifetoday', 'lifetrying', 'lifewe', 'lifey', 'lift', 'lifted', 'liften', 'lifting', 'light', 'lightday', 'lighted', 'lightening', 'lighter', 'lightheaded', 'lighting', 'lightly', 'like', 'likeboyfriend', 'likecbd', 'liked', 'likedcommentedviewedshared', 'likehelp', 'likei', 'likelihood', 'likely', 'likeminded', 'likewhat', 'likewise', 'likewithin', 'liking', 'lil', 'lile', 'limb', 'limbo', 'lime', 'limit', 'limitation', 'limited', 'limiter', 'limiting', 'limitless', 'limping', 'linda', 'lindsey', 'line', 'lineage', 'linear', 'linearly', 'lined', 'lineswill', 'lingered', 'lingering', 'lingers', 'lining', 'link', 'linked', 'linkhttpswwwfatherlycomhealthscienceburn1000caloriesworkoutthis', 'linking', 'lion', 'lip', 'lipping', 'liq', 'liqour', 'liquid', 'liquor', 'liquour', 'list', 'listday', 'listed', 'listen', 'listened', 'listenfirst', 'listening', 'listeningadmitting', 'listeningfeeling', 'listeningfirst', 'listeninghow', 'listeningjoy', 'listeningscrew', 'listeningstuck', 'listeningtriggers', 'listens', 'listenting', 'listerine', 'lit', 'liter', 'literal', 'literally', 'literature', 'literaturestep', 'litre', 'litter', 'littered', 'little', 'live', 'lived', 'livedie', 'livejournal', 'lively', 'liver', 'livesno', 'livesquitting', 'livestream', 'livi', 'living', 'livrs', 'lizard', 'lkinda', 'llike', 'lmao', 'lmaoanyone', 'lmaoare', 'lmfao', 'lmfaoseriously', 'lo', 'load', 'loaded', 'loading', 'loathes', 'loathing', 'lobby', 'local', 'locale', 'locally', 'locate', 'located', 'location', 'lock', 'lockbox', 'lockdown', 'locked', 'lode', 'lodge', 'lodged', 'log', 'logic', 'logical', 'logically', 'login', 'logistically', 'logistics', 'logo', 'logoration', 'lokos', 'lol', 'lol1', 'lolanyone', 'lolbacksliding', 'lolcoffee', 'lolday', 'loldoes', 'lolfirst', 'lolhow', 'lolim', 'lollooking', 'lollypops', 'lolweight', 'lolwhat', 'loma', 'london', 'lone', 'loneliness', 'lonely', 'lonelyi', 'loner', 'lonesome', 'long', 'long30', 'longed', 'longer', 'longerterm', 'longest', 'longi', 'longing', 'longquit', 'longs', 'longterm', 'longtime', 'lonley', 'look', 'lookalikes', 'looked', 'looking', 'lookingthis', 'lookoutholy', 'looming', 'looooong', 'loooot', 'loop', 'loose', 'loosely', 'loosen', 'loosening', 'loosing', 'lord', 'los', 'lose', 'loser', 'loses', 'losing', 'loss', 'lost', 'lostdid', 'losthow', 'lot', 'lotday', 'lothow', 'loti', 'lotr', 'lottery', 'lotthoughts', 'lottoo', 'lotus', 'loud', 'louder', 'loudi', 'loudly', 'louis', 'lounge', 'lousy', 'love', 'loved', 'lovedrinking', 'lovei', 'loveinventory', 'loveits', 'lovelooking', 'lovely', 'lover', 'loverecovering', 'loving', 'lovingly', 'low', 'lowbottom', 'lower', 'lowering', 'lowest', 'lowkey', 'lowstakes', 'loyal', 'lozenge', 'lozengeshey', 'lsd', 'lsw', 'lt3', 'lt3help', 'lt3just', 'lt3need', 'lt3what', 'lthow', 'lubricant', 'lucid', 'luck', 'luck1', 'luck1st', 'luck20', 'luckback', 'luckday', 'lucked', 'luckely', 'luckfeeling', 'luckfirst', 'luckfully', 'luckhey', 'luckhopefully', 'lucki', 'luckily', 'luckive', 'lucklast', 'luckneed', 'luckquitting', 'lucksmoke', 'lucksmoking', 'luckthinking', 'luckthis', 'luckwife', 'lucky', 'luckyfell', 'luckyneed', 'luggage', 'luke', 'lunatic', 'lunch', 'lunchtime', 'lunesta', 'lung', 'lungsi', 'lungsincreased', 'lured', 'lurk', 'lurked', 'lurker', 'lurking', 'luscious', 'lust', 'lusted', 'luster', 'lutheran', 'luxurious', 'luxury', 'lv', 'lving', 'lvls', 'lyfting', 'lyftuber', 'lying', 'lyme', 'lymph', 'm19', 'm23', 'm24', 'm25', 'm27', 'm36', 'm39', 'mabye', 'macaroni', 'machine', 'macholike', 'mackinac', 'macroscopic', 'mad', 'madddd', 'maddening', 'made', 'madhow', 'madness', 'mafuck', 'magazine', 'magic', 'magical', 'magically', 'magnesium', 'magnet', 'magnificent', 'magnitude', 'mail', 'mailbox', 'mailed', 'main', 'mainly', 'mainlyas', 'mainstream', 'maintain', 'maintained', 'maintaining', 'maintenance', 'maintence', 'majer', 'major', 'majority', 'majorly', 'make', 'maker', 'makeup', 'makewhat', 'making', 'malady', 'malaise', 'malaligned', 'male', 'malformation', 'malicious', 'malignancy', 'malignant', 'malipulative', 'mall', 'malnourished', 'man', 'managable', 'managble', 'manage', 'manageable', 'managed', 'management', 'manager', 'manages', 'managing', 'managingdoing', 'manahed', 'mandate', 'mandatory', 'mane', 'maneuver', 'manger', 'manhattan', 'mania', 'mania19', 'maniac', 'manic', 'manicdepressive', 'manifest', 'manifestill', 'manifesting', 'manipulate', 'manipulated', 'manipulates', 'manipulating', 'manipulation', 'manipulative', 'manipulator', 'manmade', 'manned', 'mannedciggerette', 'manner', 'manthing', 'mantra', 'mantralean', 'manual', 'manually', 'manufacturer', 'manure', 'many', 'manya', 'map', 'maple', 'marathon', 'march', 'marching', 'marchwernickekorsakoff', 'marcoi', 'margarita', 'marge', 'margin', 'marijuana', 'marilyn', 'marine', 'mark', 'markbf', 'marked', 'marker', 'market', 'marketed', 'marketgood', 'marketing', 'markhow', 'markwhat', 'marlboro', 'marlon', 'marriage', 'married', 'marry', 'marrying', 'martha', 'martyr', 'marveled', 'marveling', 'marvelous', 'marvelous5', 'mary', 'maryland', 'mashed', 'mask', 'masking', 'masochist', 'masquerade', 'masqueraded', 'mass', 'massage', 'massive', 'massively', 'master', 'mastered', 'masturbate', 'match', 'matched', 'mate', 'matej', 'material', 'materialist', 'materialize', 'materialized', 'math', 'mathematically', 'matrix', 'matter', 'mattered', 'matthew', 'mature', 'maturity', 'maura', 'maureen', 'max', 'maxed', 'maximum', 'maxx', 'may', 'maybe', 'maybean', 'mayjune', 'mayne', 'mayweather', 'maze', 'mb', 'mba', 'mcdonalds', 'mcl', 'md', 'mdma', 'me1', 'me24', 'me25yo', 'me3', 'me30', 'me4', 'me452', 'meaddicted', 'meagain', 'meager', 'meal', 'mealmost', 'mean', 'meaning', 'meaningful', 'meaningless', 'meant', 'meantime', 'meantimehow', 'meanwhile', 'meanyone', 'measure', 'measured', 'measurement', 'measuring', 'meat', 'mebanking', 'mecan', 'mechaired', 'mechanic', 'mechanical', 'mechanisim', 'mechanism', 'mecravings', 'med', 'meday', 'medealing', 'medear', 'mediation', 'medic', 'medical', 'medically', 'medicalreligious', 'medicare', 'medicate', 'medicated', 'medicating', 'medication', 'medicinally', 'medicine', 'mediocre', 'mediscuss', 'meditate', 'meditated', 'meditating', 'meditation', 'medium', 'mednaltrexone', 'meekly', 'meen', 'meet', 'meeting', 'meetingcan', 'meetingcommitment', 'meetingextremely', 'meetinggoing', 'meetinghttpsaaintergrouporgoiaameetingsdaily', 'meetingsany', 'meetingsbirmingham', 'meetingsdoes', 'meetingsis', 'meetingsmy', 'meetingsonline', 'meetingsshould', 'meetingsvirtual', 'meetingsweek', 'meetingsyoung', 'meetingtwo', 'meetingwhats', 'mefinally', 'mefirst', 'mefuck', 'mega', 'meguys', 'meh', 'mehappy', 'mehow', 'mei', 'mejust', 'mel', 'melancholia', 'melancholic', 'melatonin', 'melbourne', 'mellow', 'melooking', 'melt', 'meltdown', 'melter', 'melting', 'meltinghelp', 'member', 'memberscertain', 'membership', 'meme', 'memorable', 'memorial', 'memory', 'men', 'menace', 'mend', 'mended', 'menicotine', 'mening', 'menothing', 'mensponsors', 'ment', 'mental', 'mentalemotional', 'mentality', 'mentally', 'mentallyemotionallyspiritually', 'menthol', 'mentholated', 'mentholy', 'mention', 'mentioned', 'mentioning', 'mentor', 'mentoring', 'menu', 'mepictures', 'meplace', 'meplease', 'mequestion', 'mequit', 'mequitting', 'merch', 'mercy', 'mere', 'merely', 'mereplace', 'meridian', 'merry', 'mescared', 'mesh', 'mesmoked', 'mesponsorship', 'mess', 'message', 'messaged', 'messageinvitation', 'messagerelapsed', 'messaging', 'messall', 'messanger', 'messed', 'messing', 'messy', 'met', 'metabolism', 'metal', 'metallic', 'metaphor', 'metaphorically', 'metastasis', 'meteor', 'meter', 'meth', 'methadone', 'methis', 'method', 'methodology', 'meticulously', 'metomorrow', 'metough', 'metreachery', 'mever', 'mewhat', 'mexican', 'mexico', 'meyou', 'meyoung', 'mf', 'mfer', 'mfers', 'mg', 'mgdl', 'mia', 'mic', 'michael', 'michelle', 'mickey', 'micro', 'microdecision', 'microdosing', 'microphone', 'microscopic', 'mid', 'midbottom', 'middle', 'middleaged', 'midmeal', 'midnight', 'midnite', 'midst', 'midteens', 'midterm', 'midway', 'midweek', 'midwest', 'midwestern', 'midwife', 'might', 'mighty', 'migraine', 'migrane', 'mike', 'mikei', 'mil', 'mild', 'mildly', 'mile', 'milestone', 'milestonesa', 'militant', 'military', 'milk', 'mill', 'millenials', 'miller', 'million', 'millionaire', 'millionth', 'mimicking', 'mimosa', 'min', 'mind', 'mindaltering', 'mindbody', 'mindcan', 'mindcontroling', 'minddamnit', 'minded', 'mindedness', 'mindful', 'mindfulday', 'mindfully', 'mindfulness', 'mindhacks', 'minding', 'mindless', 'mindlessly', 'mindset', 'mindsetquitting', 'mine', 'minethe', 'mingle', 'mini', 'minibic', 'minimal', 'minimally', 'minimised', 'minimize', 'minimum', 'miniplan', 'minmum', 'minnesota', 'minor', 'minority', 'mint', 'minty', 'minus', 'minuscule', 'minute', 'miracle', 'miraclestoday', 'miracolous', 'miraculous', 'miraculously', 'mirage', 'mirror', 'mirtazipine', 'misadventure', 'miscarriage', 'mischaracterization', 'misdeed', 'misdemeanor', 'misdiagnosed', 'misdomener', 'miserable', 'miserableneed', 'miserably', 'misery', 'mishandling', 'misinformation', 'mismanaging', 'miss', 'missed', 'missing', 'missingday', 'mission', 'mississippi', 'mist', 'mistake', 'mistakei', 'mistaken', 'mistakesresentment', 'mistreat', 'mistreatment', 'mistrust', 'misunderstanding', 'misunderstood', 'mitcham', 'mitigated', 'mix', 'mixed', 'mixie', 'mixing', 'mj', 'ml', 'mmoll', 'mnf', 'mo', 'moan', 'moaning', 'mobile', 'mobility', 'moblie', 'mockery', 'mocktails', 'mod', 'modafinil', 'mode', 'model', 'modeled', 'modelleadership', 'modelos', 'moderate', 'moderated', 'moderately', 'moderating', 'moderation', 'modern', 'modest', 'modifying', 'module', 'mohamed', 'moisturizers', 'moke', 'mold', 'molested', 'mom', 'mom60yo', 'moment', 'momentarily', 'momentary', 'momenthow', 'momentum', 'momma', 'mommy', 'mon', 'monastery', 'monday', 'mondaytuesday', 'monetary', 'money', 'moneyevery', 'moneyfuck', 'moneymy', 'moneytell', 'monitor', 'monitored', 'monitoring', 'monk', 'monkey', 'monkeynicotine', 'mono', 'monolithic', 'monologue', 'monotone', 'monotonous', 'monster', 'montenegro', 'month', 'month1month', 'monthi', 'monthly', 'monthmonth', 'months548', 'months64', 'months68', 'monthsa', 'monthshow', 'monthsi', 'monthso', 'monthwill', 'montjs', 'monumental', 'mooch', 'mood', 'moodiness', 'moody', 'moon', 'mop', 'mope', 'mopped', 'moral', 'morality', 'morally', 'morbidly', 'moreday', 'morei', 'moreis', 'moreless', 'moremy', 'moreorless', 'moreover', 'moresuddenly', 'morex', 'morgue', 'morning', 'morning2', 'morningevening', 'morninggoing', 'morningsafternoonsnights', 'mortality', 'mortgage', 'mortified', 'moscow', 'mostly', 'motel', 'moth', 'mother', 'motif', 'motion', 'motionless', 'motivate', 'motivated', 'motivatedis', 'motivatedquitting', 'motivates', 'motivating', 'motivation', 'motivational', 'motivator', 'motive', 'motor', 'motorcycle', 'motto', 'mould', 'mountain', 'mountaineering', 'mountaintop', 'mounting', 'mourn', 'mourning', 'mouth', 'mouthing', 'mouthwash', 'move', 'moveand', 'moved', 'movei', 'movement', 'movementthoughts', 'movie', 'moving', 'mp', 'mph', 'mr', 'mri', 'msurface', 'mtf', 'mtfking', 'mtgclass', 'much', 'much22nd', 'much2nd', 'mucha', 'muchconcentration', 'muchla', 'muchone', 'muchplease', 'muchstop', 'muchteeth', 'muchwhat', 'mucous', 'mucus', 'mucusincreased', 'muenshesterlike', 'muffin', 'mug', 'mule', 'multi', 'multiple', 'multiply', 'multitude', 'multivitamin', 'mum', 'mummy', 'munch', 'munchies', 'mundane', 'mundaneindulgence', 'municipality', 'municpal', 'murder', 'murdered', 'murdering', 'musc', 'muscle', 'musclesnerve', 'muscular', 'museum', 'mush', 'mushroom', 'music', 'musical', 'musician', 'musiciansathletes', 'must', 'mustbreaking', 'muster', 'mustve', 'mutals', 'mute', 'muted', 'mutiple', 'mutual', 'muzzle', 'mwntally', 'my26f', 'my27m', 'myelf', 'myf25', 'mykonos', 'myle', 'myopia', 'myriad', 'mysef', 'mysel', 'myself100', 'myself2', 'myself20', 'myself4', 'myself60', 'myself90', 'myselfadvice', 'myselfback', 'myselfbondage', 'myselfboth', 'myselfcan', 'myselfday', 'myselfi', 'myselfive', 'myselfjust', 'myselflove', 'myselfmy', 'myselfpicked', 'myselfquit', 'myselfruined', 'myselfsober', 'myselfwhy', 'mysterious', 'mysteriously', 'mystic', 'mystical', 'myth', 'mythology', 'mégane', 'n', 'na', 'nacho', 'nagging', 'naggy', 'nah', 'nahyan', 'nai', 'nail', 'nailed', 'naive', 'naked', 'naltrexone', 'nam', 'name', 'named', 'nameee', 'nap', 'napped', 'napping', 'nappy', 'narcan', 'narcissist', 'narcolepsy', 'narcoleptic', 'narcotic', 'narrative', 'narrator', 'narrowing', 'nasal', 'nasty', 'nation', 'native', 'natural', 'naturally', 'nature', 'naughty', 'nausea', 'nauseam', 'nauseate', 'nauseated', 'nauseating', 'nauseous', 'nausiousworst', 'navigate', 'navigating', 'nc', 'ne', 'near', 'nearby', 'nearer', 'nearest', 'nearing', 'nearly', 'neat', 'necessarily', 'necessary', 'necessity', 'neck', 'nectarine', 'nederland', 'need', 'needdo', 'needed', 'needi', 'needing', 'needingwanting', 'needle', 'needy', 'neee', 'neevr', 'nefarious', 'neg', 'negative', 'negatively', 'negativity', 'neglect', 'neglected', 'neglecting', 'negotiating', 'neighbor', 'neighborhood', 'neighbour', 'neighbourhood', 'neither', 'nephew', 'nephrectomy', 'nerd', 'nerdy', 'nerf', 'nerve', 'nervous', 'nervousfirst', 'ness', 'nest', 'netflix', 'netflixvideo', 'netherlands', 'neti', 'network', 'networkno', 'neurological', 'neurone', 'neuropathy', 'neurotic', 'neurotrophy', 'neutral', 'nevada', 'never', 'neverending', 'nevermind', 'neversmoker', 'nevertheless', 'neverwinter', 'nevmo75', 'new', 'newbie', 'newborn', 'newcomer', 'newcomerjt', 'newest', 'newfound', 'newish', 'newly', 'newneed', 'news', 'newspaper', 'newton', 'nex', 'next', 'nexti', 'nextmonth', 'nexts', 'nexus', 'nfl', 'ngl', 'ngml', 'nh', 'nibble', 'nic', 'nice', 'nicehow', 'nicei', 'nicely', 'nicer', 'nicest', 'niche', 'nicht', 'nickel', 'nickname', 'nicobate', 'nicodemon', 'nicoderm', 'nicolette', 'nicorette', 'nicorettenic', 'nicotin', 'nicotine', 'nicotine19', 'nicotineaddicted', 'nicotinecontaining', 'nicotinecravings', 'nicotinedope', 'nicotineend', 'nicotinefree', 'nicotinefreeherbal', 'nicotineif', 'nicotinenicotine', 'nicotinequitting', 'nictone', 'niece', 'niggle', 'niggling', 'night', 'night3rd', 'nightclub', 'nightfall', 'nightgoing', 'nighti', 'nightly', 'nightmare', 'nightmarily', 'nightmarishly', 'nightsfirst', 'nightshift', 'nighttough', 'nightwhat', 'nightwing', 'nihilism', 'nihilist', 'nihilistic', 'nine', 'nineclub', 'nineteen', 'ninety', 'nintendo', 'nip', 'nit', 'nite', 'nitrosamine', 'njoy', 'njoys', 'no', 'noalmost', 'nobody', 'nocigs', 'nod', 'nodding', 'node', 'nofap', 'nogginneed', 'nogo', 'nohow', 'noise', 'noisy', 'non', 'nonaa', 'nonadhd', 'nonalcoholic', 'nonalcoholics', 'noncessation', 'nonchalant', 'nonconfrontational', 'nondenture', 'nondrinker', 'nondrinking', 'none', 'nonesmoker', 'nonetheless', 'nonexistence', 'nonexistent', 'nonfunctioning', 'nonissue', 'nonjudgmental', 'nonmedicated', 'nonnicotine', 'nonpc', 'nonperson', 'nonprogramworking', 'nonreligious', 'nonremovable', 'nonsense', 'nonsense102', 'nonsmall', 'nonsmoker', 'nonsmokerafter', 'nonsmoking', 'nonsmokingchildself', 'nonsocial', 'nonstop', 'nonvapers', 'noon', 'nope', 'nopebattle', 'norcal', 'nordic', 'nore', 'norfolk', 'norm', 'normal', 'normal17', 'normalcy', 'normalday', 'normalelevated', 'normalgained', 'normalhow', 'normalif', 'normalis', 'normalise', 'normalised', 'normality', 'normally', 'normalquit', 'normalsmoking', 'normalthis', 'normaltrying', 'normaltwo', 'norman', 'normie', 'normies', 'north', 'norway', 'nose', 'nosmoking', 'nostalgia', 'nostalgic', 'not9', 'notably', 'notcelebrated', 'notch', 'note', 'notebook', 'notebookred', 'noted', 'notexplain', 'nothing', 'noti', 'noticable', 'notice', 'noticeable', 'noticed', 'noticing', 'notification', 'noting', 'notion', 'notlung', 'notorious', 'notsmoking', 'notsoterrible', 'notwhole', 'nourishingly', 'novel', 'november', 'now26', 'now3rd', 'now4', 'nowadays', 'nowbeing', 'nowbl', 'nowchanged', 'nowcold', 'nowfirst', 'nowhelp', 'nowhere', 'nowhow', 'nowi', 'nowim', 'nowmy', 'nownearly', 'nowonly', 'nowquitting', 'nowshould', 'nowslight', 'nowtold', 'nowweight', 'nowwhat', 'nowwhich', 'nowwork', 'nowwow', 'nowyou', 'np', 'nrt', 'nrtpatches', 'nrts', 'nsfw', 'nth', 'nuance', 'nudge', 'nugget', 'numb', 'numb2', 'numbed', 'number', 'numbering', 'numbing', 'numbness', 'numbnesssome', 'numbs', 'numeral', 'numerical', 'numerous', 'nun', 'nuptials', 'nurse', 'nursing', 'nurture', 'nut', 'nutrient', 'nutrition', 'nuts5th', 'nutshell', 'nutt', 'nutty', 'nv', 'ny', 'nyc', 'nyr', 'o2', 'oa', 'oak', 'oatmeal', 'ob', 'obedience', 'obese', 'object', 'objective', 'objectively', 'obligated', 'obligation', 'obligationsdesires', 'obligatory', 'obliged', 'oblivion', 'obnoxious', 'obnoxiousi', 'obscure', 'obscured', 'obscuring', 'observation', 'observe', 'observed', 'observer', 'observing', 'obsessed', 'obsessing', 'obsession', 'obsessive', 'obssesed', 'obssesion', 'obstacle', 'obstacleam', 'obtain', 'obtainable', 'obvious', 'obviously', 'ocasional', 'ocassionally', 'occasion', 'occasional', 'occasionall', 'occasionally', 'occassions', 'occupied', 'occupy', 'occupying', 'occur', 'occurred', 'occurrence', 'occurring', 'occurs', 'ocd', 'ocean', 'oclock', 'oct', 'oct12', 'october', 'octoberwhat', 'octopus', 'ocurring', 'od', 'odaat', 'odaat21', 'odaataa', 'odd', 'oddly', 'odor', 'ofc', 'ofcause', 'offagain', 'offam', 'offend', 'offended', 'offender', 'offending', 'offends', 'offense', 'offensivejust', 'offer', 'offered', 'offerim', 'offering', 'offerwill', 'offi', 'offical', 'office', 'officer', 'official', 'officially', 'offing', 'offmaybe', 'offmyselfi', 'offputting', 'offwondering', 'oft', 'often', 'ofteni', 'oftentimes', 'og', 'oh', 'ohhhh', 'ohsotender', 'oil', 'oily', 'ok', 'okay', 'okayfeeling', 'okey', 'old', 'oldand', 'older', 'oldest', 'oldfashioned', 'oldtimer', 'olive', 'olnine', 'omg', 'ominous', 'omission', 'ompletely', 'onagain', 'oncefull', 'onceis', 'oncesuccessful', 'ondoes', 'one', 'one3', 'oneand', 'onedge', 'onedon', 'onehundred', 'onei', 'onelooking', 'oneness', 'onenot', 'oneoccasional', 'oneoff', 'oneonone', 'onesneed', 'onetime', 'oneyear', 'ongoing', 'onhelp', 'online', 'onlinea', 'onlinetell', 'onone', 'onset', 'onsexual', 'onsmoking', 'ontario', 'onto', 'onunstoppable', 'onward', 'onwards', 'onworse', 'ooky', 'oopsies', 'oozing', 'op', 'open', 'opened', 'opener', 'opening', 'openly', 'openmindedness', 'openness', 'opennessmaxx', 'openwilling', 'opera', 'operate', 'operating', 'operation', 'opertunity', 'opiate', 'opiatewhatever', 'opinion', 'opinionsi', 'oportunity', 'opportunity', 'oppose', 'opposed', 'opposing', 'opposit', 'opposite', 'opt', 'opted', 'optimism', 'optimistic', 'optimizing', 'option', 'optionthats', 'oral', 'orange', 'orangebutted', 'ordeal', 'ordealfeeling', 'order', 'ordered', 'ordering', 'ordinary', 'organ', 'organic', 'organically', 'organisation', 'organise', 'organization', 'organize', 'organized', 'organizing', 'orgasm', 'orginazation', 'orgy', 'orientation', 'oriented', 'original', 'originally', 'orleans', 'oro', 'osiyo', 'ot', 'otc', 'othering', 'othermultiple', 'others', 'othersfor', 'othershow', 'othersthe', 'othertimes', 'otherwise', 'otherwisealright', 'ought', 'ounce', 'out', 'outany', 'outbananas', 'outblinders', 'outbreak', 'outbubble', 'outburst', 'outcast', 'outcasted', 'outcaved', 'outclear', 'outcome', 'outcomeaa', 'outcoming', 'outday', 'outdoor', 'outdoors', 'outdreams', 'outer', 'outgoing', 'outgrown', 'outi', 'outing', 'outlet', 'outline', 'outlook', 'outneed', 'outpatient', 'outrageously', 'outreach', 'outreached', 'outserious', 'outside', 'outsideany', 'outsider', 'outsideso', 'outsome', 'outsource', 'outsponsor', 'outstanding', 'outta', 'outtrying', 'outward', 'outweigh', 'outweighed', 'outweighing', 'outweighs', 'outweird', 'oven', 'over', 'overachiever', 'overall', 'overboard', 'overcame', 'overcan', 'overcome', 'overcoming', 'overconfidence', 'overcontrolling', 'overdo', 'overdose', 'overdosed', 'overdoses', 'overdosing', 'overdosingnot', 'overdrammtic', 'overdrawn', 'overdue', 'overeating', 'overfocusing', 'overfome', 'overhaul', 'overheard', 'overindulgence', 'overlap', 'overload', 'overloaded', 'overlook', 'overlooking', 'overly', 'overnight', 'overnights', 'overpaying', 'overpowering', 'overreacting', 'overreaction', 'overrun', 'overseeing', 'overshadowed', 'overshare', 'oversleeping', 'overslept', 'overstep', 'overstimulates', 'overt', 'overthink', 'overthinking', 'overthinkinghaving', 'overthinkingwhere', 'overthrown', 'overtime', 'overturn', 'overweight', 'overwhelm', 'overwhelmed', 'overwhelming', 'overwhelmingi', 'overwhelmingly', 'overwhelms', 'overworking', 'overwrote', 'overzealous', 'owe', 'owed', 'owes', 'owi', 'owl', 'owncoming', 'owned', 'owner', 'ownership', 'ownhigher', 'ownhow', 'owning', 'ownmaybe', 'ownneed', 'owns', 'ownserious', 'oxford', 'oxy', 'oxygen', 'oxys', 'oxytocin', 'oynb', 'oyu', 'oz', 'p', 'pa', 'pace', 'paced', 'pacifier', 'pacing', 'pack', 'packaday', 'package', 'packdaily', 'packday', 'packed', 'packet', 'packi', 'packing', 'pact', 'pad', 'paedos', 'pagan', 'page', 'paid', 'pain', 'painful', 'painfully', 'painkiller', 'painless', 'painstaking', 'painstakingly', 'paint', 'painted', 'painting', 'paipo', 'pair', 'paired', 'pairing', 'pal', 'palace', 'pale', 'palestine', 'pall', 'pallet', 'palm', 'palmed', 'palmoplantar', 'palpation', 'palpitation', 'palpitationsflutters', 'pamphlet', 'panal', 'pancake', 'panceatitis', 'pancreas', 'pancreatitis', 'pandemic', 'panedeine', 'panel', 'pang', 'panic', 'panicanxiety', 'panick', 'panicked', 'panicking', 'panicky', 'pant', 'pantsyeah', 'paper', 'paperhttpswwwacademiaedu45596910comparisonofsubstancedependencytreatmentmodels', 'papillary', 'parable', 'paracetamol', 'paradox', 'paradoxical', 'paradoxically', 'paragraph', 'paraldehyde', 'parallel', 'paralyzed', 'paramedic', 'parametersstrength', 'paramount', 'paranasal', 'paranoia', 'paranoid', 'paraphernalia', 'parasite', 'parasitemurderers', 'parasitic', 'pardon', 'parent', 'parental', 'parentblaming', 'parenthating', 'parentified', 'parenting', 'parentsguardians', 'pariah', 'paris', 'park', 'parked', 'parking', 'parkinson', 'parosmia', 'part', 'partake', 'parted', 'parthenon', 'parti', 'partial', 'partially', 'participant', 'participate', 'participated', 'participating', 'participation', 'particular', 'particularly', 'partied', 'partiesbars', 'partiesoccasions', 'partly', 'partmonth', 'partmy', 'partner', 'partnership', 'parttime', 'party', 'partybar', 'partyheavy', 'partying', 'pas', 'pass', 'passage', 'passe', 'passed', 'passenger', 'passfeeling', 'passing', 'passion', 'passionate', 'passionately', 'passive', 'passively', 'password', 'past', 'past2', 'pastmemories', 'paststarted', 'pastthose', 'pat', 'patch', 'patched', 'patchesday', 'patchesmeds', 'patchessecond', 'patchwithout', 'path', 'pathattitude', 'pathdirection', 'pathetic', 'patheticdoomed', 'pathetici', 'pathological', 'pathologically', 'pathology', 'patience', 'patience150th', 'patient', 'patienthow', 'patiently', 'patientrereading', 'patio', 'patrol', 'patter', 'pattern', 'pause', 'paused', 'pausing', 'paving', 'paw', 'pay', 'paycheck', 'payday', 'paying', 'payment', 'paymentcredit', 'pb', 'pc', 'pcp', 'pdf', 'peace', 'peacealano', 'peaceful', 'peacefully', 'peacei', 'peaceneed', 'peach', 'peachy', 'peak', 'peaked', 'peanut', 'peculiar', 'pedaled', 'pedophile', 'pee', 'peed', 'peeing', 'peel', 'peeleis', 'peeling', 'peep', 'peer', 'peeve', 'peice', 'pelvis', 'pen', 'penalty', 'penance', 'pencil', 'pencilled', 'pending', 'penetrated', 'penniless', 'penning', 'pennsylvania', 'penny', 'penpal', 'people', 'people3', 'peopleany', 'peoplebut', 'peoplehavent', 'peopleidk', 'peoplein', 'peoplestarted', 'pep', 'pepper', 'peppermint', 'per', 'perceive', 'perceived', 'percent', 'percentage', 'perception', 'percocet', 'perennial', 'perfect', 'perfection', 'perfectionism', 'perfectly', 'perforation', 'perform', 'performance', 'performer', 'performing', 'perfume', 'perfumecologne', 'perhaps', 'peril', 'period', 'periodic', 'periodically', 'periodjust', 'perk', 'permanence', 'permanent', 'permanently', 'permeant', 'permission', 'permitted', 'permitting', 'perosn', 'perpetual', 'perpetuate', 'perpetuates', 'perplexed', 'perscribed', 'persevere', 'persevered', 'persevering', 'persian', 'persist', 'persisted', 'persistent', 'persistently', 'persists', 'person', 'persona', 'personal', 'personality', 'personally', 'personi', 'perspective', 'pertaining', 'pertinent', 'pervious', 'pescetarianism', 'pescription', 'pesky', 'pessimist', 'pessimistic', 'pet', 'pete', 'peter', 'petite', 'petitioned', 'petty', 'pfizer', 'pg', 'phantasm', 'phantom', 'pharmacist', 'pharmacology', 'pharmacy', 'phase', 'phased', 'phasehangovers', 'phasehow', 'phd', 'pheard', 'phenomenal', 'phenomenally', 'phenomenon', 'philippine', 'philly', 'philosopher', 'philosophical', 'philosophy', 'phlegm', 'phlegmy', 'phoenix', 'phone', 'phoned', 'phonequestion', 'phony', 'photo', 'photographed', 'photoshttpsmimgurcomassghzji', 'phrase', 'phrased', 'phycologist', 'physic', 'physical', 'physically', 'physicalmental', 'physician', 'physicist', 'physicoconscious', 'physiological', 'physiologically', 'physiotherapist', 'physique', 'pic', 'pick', 'picked', 'picket', 'picking', 'pickup', 'picky', 'picture', 'picturing', 'pie', 'piece', 'piecing', 'pier', 'pigeonhole', 'pilate', 'pile', 'pilfered', 'pill', 'pillow', 'pillstop', 'pilot', 'pimple', 'pimply', 'pin', 'pinched', 'pinching', 'pine', 'pineapple', 'pingpong', 'pink', 'pinky', 'pinpoint', 'pint', 'pipe', 'piper', 'piss', 'pissed', 'pisseddrunk', 'pissing', 'pissy', 'pit', 'pitch', 'pitcher', 'pitiful', 'pity', 'pitying', 'pixie', 'pk', 'place', 'placebo', 'placed', 'placeholder', 'placehow', 'plague', 'plagued', 'plaguing', 'plain', 'plainly', 'plan', 'plane', 'planet', 'planned', 'planning', 'plant', 'planted', 'plastered', 'plastic', 'plate', 'platform', 'platitude', 'plausible', 'play', 'played', 'player', 'playful', 'playground', 'playing', 'plea', 'pleaaaaseee', 'pleaae', 'plead', 'pleasant', 'pleasantly', 'pleasantry', 'please', 'pleasecan', 'pleased', 'pleasefeeling', 'pleasehi', 'pleaseneed', 'pleaserepeated', 'pleasesobriety', 'pleasing', 'pleasurable', 'pleasure', 'pledge', 'plentiful', 'plenty', 'plethora', 'plot', 'plotting', 'plp', 'pls', 'pls21', 'pluck', 'plug', 'plugged', 'plugging', 'plummeted', 'plunge', 'plus', 'ply', 'plz', 'pm', 'pndemic', 'pneumonia', 'pocket', 'pod', 'podcast', 'podcasts', 'podium', 'poetic', 'point', 'pointalcoholic', 'pointat', 'pointed', 'pointer', 'pointhas', 'pointing', 'pointit', 'pointless', 'poison', 'poisoned', 'poisoning', 'poisonous', 'poke', 'poker', 'polacrilex', 'poland', 'pole', 'police', 'policing', 'policy', 'polished', 'polite', 'politely', 'political', 'politics', 'pollhttpswwwredditcompollpemb7dwhat', 'pollhttpswwwredditcompollpiyadkfor', 'pollhttpswwwredditcompollpl9z3qwhich', 'pollhttpswwwredditcompollplupobwhich', 'pollhttpswwwredditcompollq5yc8zwhich', 'pollute', 'polluting', 'polytechnic', 'pomp', 'pompous', 'pond', 'ponder', 'poo', 'pool', 'pooling', 'poop', 'poopy', 'poor', 'poorday', 'poorly', 'poossmelly', 'pop', 'popped', 'popping', 'poppy', 'popular', 'population', 'porch', 'pore', 'poring', 'porn', 'portion', 'pose', 'posed', 'poser', 'position', 'positive', 'positivei', 'positively', 'positivity', 'possessed', 'possession', 'possibility', 'possible', 'possibleif', 'possibleis', 'possibly', 'post', 'postam', 'postcovid', 'postday', 'posted', 'poster', 'posthttpswwwredditcomralcoholicsanonymouscommentsq90lwzgoodbyeutmsourceshareamputmmediumweb2xampcontext3httpswwwredditcomralcoholicsanonymouscommentsq90lwzgoodbyeutmsourceshareamputmmediumweb2xampcontext3', 'posti', 'posting', 'postinghttpswwwredditcomrstopdrinkingcommentsg26i1mcelebrating18monthsjustwentthroughmypost', 'postive', 'postjust', 'postmeal', 'postop', 'postpone', 'postponed', 'postshould', 'postsmoking', 'posttrying', 'posture', 'pot', 'potassium', 'potato', 'potcigarette', 'potential', 'potentiality', 'potentially', 'pothos', 'potion', 'pouch', 'pound', 'pounding', 'pour', 'poured', 'pouring', 'pours', 'poverty', 'powder', 'power', 'powerbutbwhat', 'powered', 'powerful', 'powerive', 'powerless', 'powerlessness', 'pp', 'pp11112', 'ppd', 'ppi', 'ppl', 'ppp', 'practical', 'practically', 'practice', 'practiced', 'practicing', 'practising', 'prank', 'pray', 'prayed', 'prayer', 'prayersreflections', 'praying', 'pre', 'preach', 'preacher', 'preaching', 'preachy', 'preamble', 'precancerous', 'precedence', 'preceding', 'precious', 'precisely', 'precovid', 'predator', 'predicament', 'predictable', 'predisposed', 'predisposition', 'prednisone', 'predominately', 'preemptively', 'preestablished', 'preexisting', 'prefer', 'preferable', 'preferably', 'preference', 'preferred', 'pregame', 'pregnancy', 'pregnant', 'pregnantkiddo', 'prejudice', 'premature', 'prematurely', 'premeditated', 'preoccupied', 'preoccupy', 'prep', 'prepandemic', 'preparation', 'prepare', 'prepared', 'preparing', 'prepping', 'prequit', 'prerogative', 'prescribe', 'prescribed', 'prescription', 'presence', 'present', 'presentable', 'presentation', 'presented', 'presenthttpsiimgurcomsognkozjpgmy', 'presently', 'preservation', 'preset', 'press', 'pressed', 'pressing', 'pressure', 'pressured', 'pressuring', 'prestige', 'presumably', 'presume', 'pretend', 'pretended', 'pretending', 'pretense', 'pretentious', 'pretty', 'prevalence', 'prevalent', 'prevent', 'preventable', 'preventative', 'prevented', 'preventing', 'prevention', 'prevents', 'preview', 'previous', 'previously', 'previouslywhat', 'preworkout', 'prey', 'price', 'prick', 'pricking', 'pride', 'prideful', 'prilosec', 'primal', 'primarily', 'primary', 'prime', 'primoradial', 'princess', 'principal', 'principia', 'principle', 'printing', 'prior', 'prioritize', 'priority', 'prison', 'prisoner', 'privacycourt', 'private', 'privately', 'privet', 'privilege', 'prize', 'pro', 'proactive', 'proactively', 'prob', 'probability', 'probable', 'probably', 'probablydefinitely', 'probation', 'probationer', 'probiotic', 'probioticshere', 'problem', 'problemaddiction', 'problemadvice', 'problematic', 'problemdo', 'problemes', 'problemhabit', 'problemhallucinations', 'problemive', 'problemsbuddies', 'problemsim', 'problemsmore', 'problemsolving', 'problemspast', 'problemswhat', 'probly', 'probs', 'procede', 'procedure', 'proceed', 'proceeded', 'proceeding', 'proceeds', 'procent', 'process', 'process15', 'process35', 'processed', 'processing', 'processwhat', 'processwhy', 'proclaim', 'proclaimed', 'procrastinate', 'procrastinated', 'procrastinating', 'procrastination', 'procure', 'prodrug', 'produce', 'produced', 'producing', 'product', 'production', 'productive', 'productivity', 'prof', 'profession', 'professional', 'professionalism', 'professionally', 'professor', 'profile', 'profit', 'profound', 'profusely', 'prognosis', 'program', 'program90', 'programday', 'programeverything', 'programhow', 'programi', 'programme', 'programmed', 'programming', 'programprogram', 'programsteps', 'programwhat', 'progress', 'progressalmost', 'progressday', 'progressed', 'progressing', 'progression', 'progressive', 'progressively', 'progressrelapsed', 'project', 'projecting', 'prolly', 'prolong', 'prolonged', 'prominent', 'promise', 'promised', 'promisedcake', 'promisei', 'promising', 'promo', 'promote', 'promoted', 'prompt', 'prompted', 'prompting', 'promptly', 'prone', 'pronounced', 'proof', 'prooven', 'propaganda', 'propagates', 'propensity', 'proper', 'properly', 'property', 'prophecy', 'prophet', 'proponent', 'proportion', 'proposal', 'propose', 'proposed', 'proposes', 'proposing', 'proposition', 'proscons', 'proselytize', 'prospect', 'prospector', 'prostitution', 'protect', 'protected', 'protection', 'protein', 'protester', 'protesting', 'protocol', 'proud', 'proudest', 'proudly', 'proudsmall', 'proustian', 'prove', 'proved', 'proven', 'provide', 'provided', 'providence', 'provider', 'provides', 'providewould', 'providing', 'province', 'proving', 'provokes', 'provoking', 'proxy', 'prudence', 'prudent', 'prune', 'pruning', 'psilocybin', 'psoriasis', 'pst', 'psych', 'psychaitrist', 'psychatrist', 'psyche', 'psychedelic', 'psychedelics', 'psychiatric', 'psychiatrist', 'psychiatry', 'psychic', 'psycho', 'psychoactive', 'psychological', 'psychologically', 'psychologicalquestions', 'psychologist', 'psychology', 'psychonaunts', 'psychosis', 'psychosomatically', 'psychotherapist', 'psychotherapy', 'psychotic', 'psyciatrist', 'psyhciatrist', 'psyical', 'ptsd', 'pub', 'pubbar', 'puberty', 'public', 'publicly', 'published', 'puck', 'puddle', 'puededay', 'puff', 'puffed', 'puffi', 'puffing', 'puffone', 'puffy', 'pugh', 'puke', 'puked', 'puking', 'pull', 'pulled', 'pulling', 'pullups', 'pulmologist', 'pulmonary', 'pulmonologist', 'pulsative', 'pummel', 'pump', 'pumped', 'pumping', 'pun', 'punch', 'punchcard', 'punched', 'punchedam', 'punching', 'punchline', 'punish', 'punished', 'punishedwhats', 'punishing', 'punishment', 'punker', 'puny', 'pupil', 'puppy', 'purchase', 'purchased', 'pure', 'purely', 'purged', 'purging', 'purifier', 'purple', 'purpose', 'purposeful', 'pursue', 'pursuing', 'push', 'pushback', 'pushed', 'pusher', 'pushing', 'pushpull', 'pushy', 'pussy', 'pustulosus', 'put', 'putting', 'puzzled', 'pyramid', 'q', 'qgain', 'qld', 'qualification', 'qualified', 'qualify', 'quality', 'quantify', 'quantity', 'quarantine', 'quarantined', 'quart', 'quarter', 'quarterly', 'queasy', 'queen', 'queer', 'queerlgbt', 'quelled', 'query', 'quest', 'question', 'questionable', 'questioncan', 'questioned', 'questioning', 'queue', 'queued', 'quick', 'quicker', 'quickest', 'quickly', 'quickmist', 'quicksand', 'quiet', 'quieter', 'quietly', 'quifor', 'quilt', 'quilting', 'quipped', 'quirk', 'quit', 'quit1', 'quita', 'quitanother', 'quitanyone', 'quitbecause', 'quitbeen', 'quitchantix', 'quitcold', 'quite', 'quiteatingmeat', 'quited', 'quitesure', 'quitframing', 'quitgonna', 'quitheavy', 'quithow', 'quiti', 'quiting', 'quitinghow', 'quitingincreased', 'quitjason', 'quitjaw', 'quitmom', 'quitneed', 'quitonly', 'quitothers', 'quitpet', 'quits', 'quits1', 'quitseven', 'quitstruggling', 'quitsure', 'quitsureday', 'quitted', 'quitter', 'quitthis', 'quitting', 'quitting14', 'quittingbeen', 'quittingday', 'quittingear', 'quittingecigarettes', 'quittinggetting', 'quittinghow', 'quittingim', 'quittingplease', 'quittingtwo', 'quittracker', 'quitviolent', 'quitwhat', 'quitwhen', 'quiz', 'quo', 'quota', 'quote', 'quoting', 'qutting', 'r', 'r12stepescape', 'rabbit', 'rabies', 'race', 'racer', 'racing', 'racingpounding', 'racquetball', 'radiant', 'radiates', 'radical', 'radically', 'radio', 'raf', 'rage', 'raging', 'raider', 'raiding', 'rail', 'rain', 'rainbow', 'raining', 'rainy', 'raise', 'raised', 'raisin', 'raising', 'ralcoholicsanonymous', 'ramadan', 'ramble', 'rambled', 'rambleneed', 'ramblesalcohol', 'rambley', 'rambling', 'rambly', 'ramp', 'rampage', 'rampant', 'ramped', 'ran', 'rancher', 'random', 'randomized', 'randomly', 'rang', 'range', 'ranged', 'ranging', 'ranking', 'rant', 'rant4', 'rantday', 'rantgoing', 'ranting', 'rape', 'raped', 'rapid', 'rapidly', 'raping', 'rapist', 'rare', 'rarely', 'rareofficially', 'rashly', 'rashness', 'raspberry', 'raspy', 'rat', 'rate', 'rather', 'rating', 'ratio', 'ration', 'rational', 'rationalised', 'rationalising', 'rationalization', 'rationalize', 'rationalized', 'rationalizing', 'rationally', 'rationaly', 'rattling', 'raunchier', 'rave', 'ravenous', 'raving', 'raw', 'ray', 'raze', 'razor', 'rbt', 'rc', 'rca', 'reach', 'reached', 'reaching', 'reachout', 'react', 'reacted', 'reacting', 'reactinghaving', 'reaction', 'reactionhusband', 'reactivate', 'reactive', 'reactively', 'reacts', 'read', 'read8', 'reader', 'readily', 'readin', 'readiness', 'reading', 'reading2', 'readingday', 'readingdiary', 'readingfeels', 'readinghelp', 'readingi', 'readingive', 'readinglearning', 'readinglosing', 'readingseeking', 'readingslip', 'readingsmoking', 'readingstruggling', 'readingturned', 'readingwhat', 'readingwhy', 'readingwould', 'readjusting', 'readjusts', 'ready', 'ready3', 'reafirming', 'reaks', 'real', 'realexcuses', 'realisation', 'realise', 'realised', 'realises', 'realisied', 'realising', 'realistic', 'realistically', 'realisticly', 'reality', 'realization', 'realize', 'realized', 'realizes', 'realizing', 'reall', 'reallllly', 'reallly', 'realllyyyyy', 'really', 'realm', 'realy', 'reaper', 'rear', 'rearrange', 'rearranged', 'reason', 'reasonable', 'reasonably', 'reasonexcuse', 'reasoning', 'reassurance', 'reassure', 'reassured', 'reassuring', 'rebel', 'rebellion', 'reborn', 'rebounded', 'rebuild', 'rebuilding', 'rebuying', 'rec', 'recall', 'recalled', 'recap', 'receive', 'received', 'receiving', 'recent', 'recently', 'recentlyand', 'reception', 'receptionist', 'receptor', 'recess', 'recession', 'recieved', 'recipe', 'recipient', 'reciprocal', 'reciprocate', 'recite', 'recites', 'reciting', 'reckless', 'reckon', 'reclaim', 'reclaimed', 'reclusive', 'recognise', 'recognising', 'recognize', 'recognized', 'recognizing', 'recoil', 'recollection', 'recomandation', 'recommend', 'recommendation', 'recommendationsfirst', 'recommendationstwo', 'recommended', 'recommending', 'recommends', 'recommondation', 'reconcile', 'reconciled', 'reconditioning', 'reconfirmed', 'recongize', 'reconnected', 'reconsider', 'reconstruction', 'reconstructive', 'recontacting', 'record', 'recorded', 'recording', 'recount', 'recourse', 'recover', 'recoverd', 'recovered', 'recoveredbit', 'recoverer', 'recovering', 'recoveringed', 'recoverstep', 'recovery', 'recovery5', 'recoverya', 'recoveryearly', 'recoveryheavy', 'recoveryrecovered', 'recoverystarting', 'recoverytraumatic', 'recreational', 'recreationally', 'recruit', 'recruiting', 'rectangular', 'rectify', 'recurring', 'recycle', 'recycles', 'recycling', 'red', 'redacted', 'reddit', 'reddithow', 'redditor', 'redditors', 'redditorshelp', 'redeem', 'redeemed', 'redeeming', 'redemption', 'redflags', 'redittor', 'redlabel', 'redo', 'redouble', 'redoubling', 'reduce', 'reduced', 'reducer', 'reduces', 'reducing', 'reduction', 'reductionnot', 'redundant', 'reeeaaaaally', 'reeeally', 'reek', 'reel', 'reeling', 'reengage', 'reestablish', 'reevaluate', 'refeel', 'refeeling', 'refer', 'reference', 'referencenot', 'referencing', 'referral', 'referred', 'referring', 'refers', 'refill', 'refine', 'refined', 'reflect', 'reflected', 'reflecting', 'reflection', 'reflective', 'reflects', 'reflux', 'reform', 'reformat', 'refrain', 'refrained', 'reframe', 'refresh', 'refreshing', 'refrigerator', 'refuge', 'refunded', 'refurbished', 'refuse', 'refused', 'refusing', 'regain', 'regained', 'regaining', 'regard', 'regarding', 'regardles', 'regardless', 'regardlessdoes', 'regards7', 'regenerate', 'regeneration', 'regimen', 'regiment', 'regimented', 'region', 'register', 'registerarrived', 'registered', 'registering', 'regression', 'regret', 'regretcw', 'regretful', 'regrettable', 'regrettably', 'regretted', 'regretting', 'regroup', 'regular', 'regularly', 'regularlyi', 'regulary', 'regulate', 'regulating', 'regulation', 'regurgitating', 'rehab', 'rehabhospital', 'rehabilitate', 'rehabilitating', 'rehabilitation', 'rehabmental', 'rehabs', 'rehabseek', 'rehearse', 'rehearsed', 'rehired', 'rehome', 'reignition', 'reinforce', 'reinforcement', 'reinforcing', 'reinstated', 'reintroduce', 'rejected', 'rejecting', 'rejection', 'rejuvenated', 'relaps', 'relapse', 'relapse20', 'relapsed', 'relapsei', 'relapser', 'relapsereason', 'relapsers', 'relapseso', 'relapsetrying', 'relapseunquit', 'relapsing', 'relapsingbut', 'relapsingcommitted', 'relapsingi', 'relaspe', 'relasped', 'relatable', 'relate', 'related', 'relatequit', 'relates', 'relating', 'relation', 'relational', 'relationship', 'relationshipcan', 'relationshipfirst', 'relationshiphelp', 'relationshipsalcohol', 'relationshipsemotions', 'relative', 'relatively', 'relativizeunstoppable', 'relax', 'relaxation', 'relaxed', 'relaxes', 'relaxing', 'relay', 'relayed', 'relearn', 'relearned', 'release', 'released', 'releasing', 'releaves', 'relented', 'relentless', 'relevant', 'reliable', 'reliance', 'reliant', 'relief', 'reliefstruggling', 'relies', 'relieve', 'relieved', 'relieving', 'relight', 'religion', 'religious', 'religiously', 'religiouspious', 'relive', 'relived', 'relives', 'reliving', 'relocated', 'relocating', 'reloved', 'reluctance', 'reluctant', 'reluctantly', 'rely', 'relying', 'rem', 'remain', 'remainder', 'remained', 'remaining', 'remains', 'remark', 'remarkable', 'remarked', 'rembber', 'remeber', 'remediescanker', 'remedy', 'remember', 'remembered', 'remembering', 'remembers', 'remembershould', 'remind', 'reminded', 'reminder', 'remindermy', 'remindersdeleting', 'reminding', 'reminds', 'remining', 'reminiscent', 'reminiscing', 'remission', 'remodeled', 'remorse', 'remorseful', 'remote', 'remotely', 'removal', 'remove', 'removed', 'removing', 'renal', 'renamed', 'rendered', 'renew', 'renewed', 'renewing', 'renovating', 'rent', 'renting', 'reoccur', 'reoccurring', 'rep', 'repair', 'repaired', 'repairing', 'reparable', 'repavlovdog', 'repay', 'repeat', 'repeated', 'repeatedly', 'repeating', 'repercussion', 'repetition', 'repetitive', 'replace', 'replaced', 'replacement', 'replacing', 'replapse', 'replay', 'replicate', 'replicates', 'replied', 'reply', 'replying', 'report', 'reported', 'reportshas', 'repossessed', 'represent', 'representing', 'represents', 'repressed', 'reprieve', 'reprimand', 'reprimanded', 'reproachable', 'repulsed', 'repurchased', 'repurpose', 'reputation', 'request', 'requested', 'requesting', 'require', 'required', 'requirement', 'requires', 'requiring', 'requit', 'rereading', 'reschedule', 'rescued', 'research', 'researched', 'researcher', 'researching', 'resemble', 'resembled', 'resembles', 'resent', 'resentful', 'resenting', 'resentment', 'reservation', 'reserve', 'reserved', 'reset', 'resetting', 'resident', 'residential', 'resides', 'residual', 'residue', 'resign', 'resignated', 'resigned', 'resilience', 'resilient', 'resist', 'resistance', 'resistant', 'resisted', 'resisting', 'resolutely', 'resolution', 'resolve', 'resolved', 'resolving', 'resonate', 'resonated', 'resort', 'resorted', 'resource', 'resourceful', 'resourceshttpsaaintergrouporgoiaaresources', 'respect', 'respected', 'respectful', 'respecting', 'respectively', 'respectour', 'respiration', 'respiratory', 'respite', 'respond', 'responded', 'responding', 'responds', 'responsability', 'response', 'responses1', 'responsesquestion', 'responseswanting', 'responsibility', 'responsible', 'responsibly', 'responsiblyalcoholism', 'rest', 'restart', 'restarted', 'restated', 'restaurant', 'rested', 'resting', 'restit', 'restless', 'restlessness', 'restmy', 'restorative', 'restore', 'restored', 'restores', 'restrained', 'restraining', 'restricted', 'restriction', 'restroom', 'result', 'resulted', 'resulting', 'resultsi', 'resume', 'resumed', 'resuming', 'resurface', 'resurfaced', 'resurfacing', 'retaking', 'retaliated', 'retaliating', 'retaliation', 'retention', 'rethink', 'retire', 'retired', 'retrain', 'retreat', 'retreated', 'retribution', 'retrieve', 'retrospect', 'retrospection', 'return', 'returnapproaching', 'returned', 'returning', 'returningand', 'reunion', 'revamps', 'reveal', 'revealed', 'revealing', 'reveals', 'revelation', 'revenge', 'revere', 'reversal', 'reverse', 'reversed', 'reversing', 'revert', 'reverted', 'revia', 'review', 'reviewing', 'revisit', 'revisited', 'revolution', 'revolutionary', 'revolve', 'revolved', 'revolves', 'revolving', 'reward', 'reward15', 'rewarded', 'rewarding', 'rewind', 'rewire', 'rewiring', 'reworked', 'reworking', 'rewrite', 'rhen', 'rhode', 'rhyme', 'rib', 'rice', 'rich', 'richen', 'rid', 'ridden', 'riddle', 'riddled', 'ride', 'ridiculous', 'ridiculously', 'riding', 'rids', 'rien', 'rift', 'right', 'rightabout', 'rightbad', 'rightdui', 'righteousness', 'rightfor', 'rightfully', 'righthow', 'righti', 'righting', 'rightits', 'rightlooking', 'rigid', 'rigorous', 'rigorously', 'rigt', 'riled', 'ring', 'ringing', 'ringtone', 'rinse', 'rinsed', 'riotreality', 'rip', 'ripped', 'ripping', 'rise', 'rising', 'risk', 'risking', 'risky', 'ritalin', 'rite', 'ritual', 'ritualistic', 'river', 'rlly', 'rly', 'rn', 'ro', 'road', 'roadblock', 'roadrunner', 'roadway', 'roam', 'roaring', 'roast', 'robbed', 'robbing', 'robe', 'robin', 'robotalcohol', 'robs', 'rock', 'rocket', 'rockin', 'rockmy', 'rockstar', 'rocky', 'rode', 'rodeo', 'roffmychest', 'rofo', 'roland', 'role', 'roll', 'rolled', 'roller', 'rollercoaster', 'rollies', 'rollin', 'rolling', 'rollover', 'roman', 'romania', 'romaniticizing', 'romantic', 'romanticising', 'romanticize', 'romanticized', 'romanticizing', 'rome', 'romeo', 'roof', 'roofie', 'roofing', 'room', 'roomate', 'roomates', 'roomforgive', 'roomit', 'roommate', 'roommateis', 'root', 'rooted', 'rooting', 'rope', 'rosary', 'rose', 'rot', 'rotate', 'rough', 'roughest', 'roughly', 'roughreally', 'roulette', 'round', 'rounded', 'route', 'routine', 'routinelifestyle', 'routinely', 'row', 'rowley', 'royalty', 'rped', 'rpgs', 'rsober', 'rsobermommyany', 'rstopdrinking', 'rstopsmoking', 'rub', 'rubbery', 'rubble', 'rude', 'rudimentary', 'rug', 'ruin', 'ruined', 'ruining', 'rule', 'ruled', 'ruler', 'ruling', 'rum', 'ruminating', 'rumination', 'rumor', 'run', 'rundoggo', 'rundown', 'runins', 'runner', 'running', 'runny', 'runsalcohol', 'rush', 'rushaddictive', 'rushed', 'rushing', 'russian', 'rut', 'rx', 'rythme', 'sabotage', 'sabotaged', 'sabotaging', 'sacred', 'sacrifice', 'sacrificed', 'sad', 'sadanxious', 'saddened', 'saddens', 'sadder', 'saddest', 'saddle', 'sadistic', 'sadly', 'sadness', 'safe', 'safeguard', 'safehealthy', 'safei', 'safely', 'safemeetings', 'safer', 'safest', 'safety', 'safeword', 'sagging', 'sahm', 'said', 'saidquestion', 'sailed', 'sailing', 'saint', 'sake', 'salad', 'salary', 'sale', 'salesman', 'saliva', 'salivating', 'salivation', 'salon', 'salt', 'salty', 'saltysugaryfatty', 'salvage', 'salvation', 'same3rd', 'sameis', 'samejust', 'sameone', 'samesore', 'sametwo', 'samhsa', 'sample', 'sampling', 'san', 'sand', 'sandstone', 'sane', 'saneneed', 'saner', 'sangria', 'sanitizer', 'sanitizers', 'sanity', 'santa', 'santaclause', 'santikarohttpswwwliberationparkorgaudio12stephtmgreat', 'santized', 'santizing', 'sap', 'sapling', 'sapping', 'sarcasm', 'sarcastic', 'sat', 'satan', 'satiety', 'satisfaction', 'satisfactionaddressing', 'satisfactory', 'satisfied', 'satisfy', 'satisfying', 'saturday', 'saturdayit', 'sauce', 'sauced', 'saudi', 'saul', 'sauna', 'sauron', 'save', 'saved', 'saving', 'saw', 'say', 'sayhow', 'sayin', 'saying', 'sayquit', 'saysmexican', 'saysorry', 'sc', 'scafell', 'scale', 'scalemake', 'scalp', 'scam', 'scammed', 'scan', 'scandinavia', 'scapegoat', 'scar', 'scarce', 'scare', 'scared', 'scaredidk', 'scaredlost', 'scarface', 'scariest', 'scaring', 'scarring', 'scary', 'scary4th', 'scatter', 'scattered', 'scenario', 'scene', 'scenery', 'scent', 'scewing', 'schedule', 'scheduled', 'scheduletipsideas', 'scheduling', 'schedulinglooking', 'scheme', 'scheming', 'schizophrenia', 'schizophrenic', 'schlirossis', 'scholarship', 'school', 'schooling', 'schoolwork', 'scide', 'science', 'sciencedrug', 'sciencefacts', 'scienctifically', 'scientific', 'scientifically', 'scientist', 'scifilike', 'scoffed', 'scoffing', 'scolded', 'scoliosis', 'scoobydoo', 'scope', 'scoped', 'scorching', 'score', 'scored', 'scorned', 'scotch', 'scotland', 'scottsdale', 'scout', 'scrambled', 'scratch', 'scratched', 'scratching', 'scream', 'scream72', 'screamcried', 'screamed', 'screaming', 'screen', 'screening', 'screenshots', 'screw', 'screwed', 'scroll', 'scrolling', 'scrubbed', 'scum', 'scurrying', 'se', 'sea', 'seak', 'seal', 'sealed', 'sealing', 'seam', 'search', 'searched', 'searching', 'searing', 'season', 'seat', 'seating', 'seclude', 'second', 'secondary', 'secondhand', 'secondly', 'secound', 'secret', 'secretary', 'secretarykh', 'secretive', 'secretly', 'sect', 'sectarian', 'section', 'sector', 'secular', 'secured', 'security', 'sedating', 'sedentary', 'see', 'see71', 'seealmost', 'seed', 'seeded', 'seedy', 'seei', 'seeing', 'seek', 'seeking', 'seeling', 'seem', 'seemd', 'seemed', 'seemingly', 'seems', 'seen', 'seep', 'seeped', 'seeps', 'seething', 'segment', 'segregated', 'seing', 'seize', 'seized', 'seizure', 'seldom', 'select', 'selected', 'selection', 'selective', 'self', 'selfanalysis', 'selfcentered', 'selfconscious', 'selfconsciouspostquit', 'selfcontrol', 'selfdeluded', 'selfdelusion', 'selfdestructed', 'selfdestruction', 'selfdestructive', 'selfdestructively', 'selfdiagnosed', 'selfdiscipline', 'selfef', 'selfesteem', 'selfexamination', 'selffeed', 'selffulfilling', 'selfharmed', 'selfimposed', 'selfimprovement', 'selfinflicted', 'selfish', 'selfishly', 'selfishness', 'selfkindnesscompassion', 'selfless', 'selflessness', 'selfloathinglooking', 'selflove', 'selfmedicating', 'selfmedication', 'selfpitty', 'selfpity', 'selfpreservation', 'selfquitting', 'selfreflect', 'selfrehabilitate', 'selfreliance', 'selfrespect', 'selfrestraint', 'selfrighteous', 'selfsabotage', 'selfsearching', 'selfseeking', 'selfserving', 'selfsufficiency', 'selfwill', 'selfwilled', 'selfworth', 'selfworthselflove', 'sell', 'selldescribed', 'selling', 'seltzer', 'semester', 'semesterexams', 'semi', 'semifreaking', 'semihelpful', 'semipermanent', 'semisuccessful', 'send', 'sending', 'sends', 'senior', 'senpai', 'sens', 'sensation', 'sense', 'sensealmost', 'senseless', 'sensible', 'sensibly', 'sensitive', 'sensitively', 'sensitivity', 'sensory', 'sensuality', 'sent', 'sentence', 'sentencing', 'sentiment', 'sentire', 'sep', 'separate', 'separated', 'separately', 'separating', 'separation', 'seperate', 'seperated', 'sept', 'september', 'septic', 'sequence', 'sequestered', 'serene', 'serenity', 'serf', 'series', 'serious', 'seriously', 'serriously', 'sertraline', 'servant', 'serve', 'served', 'serveintense', 'server', 'service', 'servicerestaurant', 'serving', 'session', 'set', 'setback', 'setteled', 'setting', 'settle', 'settled', 'settling', 'setup', 'seven', 'seventh', 'seventy', 'several', 'severals', 'severe', 'severely', 'severity', 'sex', 'sexeven', 'sexist', 'sexual', 'sexuality', 'sexually', 'sexy', 'sf', 'sh', 'shabbat', 'shackle', 'shade', 'shadow', 'shaggy', 'shake', 'shaken', 'shakeness', 'shaking', 'shaky', 'shall', 'shallow', 'sham', 'shamanic', 'shamble', 'shame', 'shamebased', 'shamed', 'shameful', 'shamefulembarrassed', 'shameguilt', 'shamelessly', 'shaming', 'shampoo', 'shape', 'shaped', 'shaping', 'shard', 'share', 'share30', 'shared', 'shareday', 'sharedetox', 'sharefamily', 'sharefuck', 'sharei', 'sharejust', 'sharenot', 'sharethank', 'sharewhy', 'sharing', 'shark', 'sharp', 'sharper', 'shattered', 'shaved', 'shaving', 'shawn', 'shebang', 'shed', 'sheep', 'sheer', 'sheet', 'sheikh', 'shelf', 'shell', 'shelling', 'shelter', 'shepherd', 'shes', 'shhhhheeeewwwww', 'shift', 'shifted', 'shifting', 'shimmery', 'shine', 'shining', 'ship', 'shir', 'shirt', 'shit', 'shitback', 'shitfaced', 'shitfriend', 'shiti', 'shitless', 'shitloads', 'shitter', 'shittier', 'shittiest', 'shitting', 'shitty', 'shittyokay', 'shittyselfish', 'shituation', 'shivering', 'shock', 'shocked', 'shocker', 'shocking', 'shoe', 'shoelace', 'shoemaker', 'shoesi', 'shook', 'shoot', 'shooter', 'shooting', 'shop', 'shoplibrary', 'shopping', 'shoreline', 'short', 'shortage', 'shortcoming', 'shortcomingsdefects', 'shortcut', 'shorten', 'shortened', 'shorter', 'shorti', 'shortly', 'shortness', 'shorttempered', 'shortterm', 'shot', 'shotgun', 'shouldcould', 'shoulder', 'shouldnt', 'shouldve', 'shout', 'shouted', 'shouting', 'shoutout', 'shove', 'shoved', 'show', 'showed', 'shower', 'showered', 'showering', 'showing', 'shown', 'shrink', 'shriveled', 'shrooms', 'shrug', 'shrugged', 'shss', 'sht', 'shtdiary', 'shunned', 'shut', 'shuteye', 'shuts', 'shutting', 'shy', 'si', 'sia', 'sib', 'siber', 'sibling', 'sice', 'sick', 'sickened', 'sickening', 'sicker', 'sickly', 'sickness', 'sickrisk', 'sid', 'side', 'sided', 'sideeffect', 'sideeffects', 'sidehow', 'sidekick', 'sidenote', 'sidesmoke', 'sidesober', 'sidewalk', 'sidewould', 'sidney', 'sigaret', 'sigarettes', 'sigelei', 'sigh', 'sigham', 'sighhh', 'sight', 'sighted', 'sign', 'signal', 'signed', 'significance', 'significant', 'significantly', 'signify', 'silence', 'silenced', 'silent', 'silkworth', 'silliest', 'silliness', 'silly', 'sillymenial', 'silver', 'silverback', 'similair', 'similar', 'similarity', 'similarly', 'similarpassed', 'simple', 'simpler', 'simplest', 'simplicity', 'simplifying', 'simply', 'simpson', 'simptoms', 'simultaneously', 'sin', 'since', 'sincehi', 'sincelerely', 'sinceproblem', 'sincere', 'sincerely', 'sincerelylove', 'sincerity', 'sind', 'sing', 'singe', 'singer', 'singing', 'single', 'singular', 'sink', 'sinking', 'sinus', 'sip', 'sipping', 'siren', 'sirilike', 'sister', 'sister33yo', 'sisterinlaw', 'sisyphus', 'sit', 'site', 'sits', 'sitting', 'situated', 'situation', 'situationfeeling', 'situationive', 'situationrelationship', 'situationteenager', 'situtation', 'six', 'sixstep', 'sixteen', 'sixth', 'size', 'skateboarding', 'skeleton', 'skeptical', 'skepticism', 'skill', 'skim', 'skin', 'skincare', 'skinnicotine', 'skinny', 'skip', 'skipped', 'skipping', 'skittish', 'skull', 'skunk', 'sky', 'skyrocket', 'skyscraper', 'slack', 'slacking', 'slam', 'slammed', 'slamming', 'slap', 'slapped', 'slate', 'slave', 'slavedriver', 'slavei', 'slavery', 'slaying', 'sleep', 'sleeper', 'sleepi', 'sleeping', 'sleepless', 'sleepover', 'sleepy', 'sleet', 'sleeve', 'slept', 'slew', 'slicer', 'slicing', 'slid', 'slide', 'slight', 'slightest', 'slightly', 'slim', 'slime', 'slimy', 'slip', 'slip12', 'slipped', 'slipper', 'slippery', 'slipping', 'slippingsober', 'slipup', 'slit', 'slithgly', 'slitting', 'slob', 'slogan', 'slope', 'slopedoesnt', 'sloppy', 'sloshed', 'slot', 'slow', 'slowed', 'slower', 'slowing', 'slowly', 'slowwwwwlllllyyyyy', 'sluggish', 'slump', 'slur', 'slurp', 'slurred', 'slurring', 'sly', 'small', 'smaller', 'smalltwo', 'smart', 'smarter', 'smash', 'smashed', 'smashing', 'smell', 'smelled', 'smelling', 'smelltaste', 'smelly', 'smelt', 'smile', 'smiled', 'smiling', 'smirnoff', 'smocking', 'smoggy', 'smoke', 'smoke250', 'smoke9', 'smokeand', 'smoked', 'smokedchewed', 'smokedday', 'smokefree', 'smokeif', 'smokeing', 'smokeinguseing', 'smokeit', 'smokelast', 'smokeless', 'smokeliquor', 'smokeneed', 'smokequestion', 'smoker', 'smoker2', 'smoker7', 'smokeranxiety', 'smokerdoes', 'smokereally', 'smokeri', 'smokerrelapsed', 'smokerscigs', 'smokersvapers', 'smokeryou', 'smokesanybody', 'smokesjuulzyn', 'smokeso', 'smokesvapes', 'smokethen', 'smokevape', 'smokey', 'smokies', 'smokiness', 'smoking', 'smoking1', 'smoking16yrs', 'smoking8th', 'smokingagainhey', 'smokingalmost', 'smokinganyone', 'smokingchewingvaping', 'smokingcouple', 'smokingdrugs', 'smokinghavent', 'smokinghaving', 'smokinghow', 'smokingi', 'smokingif', 'smokingit', 'smokingmore', 'smokingquitting', 'smokingrelated', 'smokingstress', 'smokingthree', 'smokingto', 'smokingvaping', 'smokingwould', 'smokinh', 'smoky', 'smomers', 'smoooking', 'smooth', 'smoother', 'smoothiefeeling', 'smoothiesblended', 'smoothy', 'smother', 'smudge', 'smudged', 'smug', 'smus', 'snack', 'snacking', 'snackingmunchingeating', 'snacksplease', 'snag', 'snake', 'snap', 'snapchap', 'snapped', 'snapping', 'snappingday', 'snapshot', 'snd', 'sneak', 'sneaked', 'sneakily', 'sneaking', 'sneaky', 'sneezing', 'sniffing', 'snipping', 'snob', 'snore', 'snoring', 'snoringdisturbed', 'snorting', 'snot', 'snotflem', 'snotty', 'snow', 'snowball', 'snowballing', 'snowflake', 'snowwheel', 'snuck', 'snuff', 'snuffed', 'snuffing', 'snuggle', 'snuggled', 'snus', 'snusing', 'snuss', 'so', 'so2', 'so29f', 'soaked', 'soapbox', 'soar', 'sob', 'sobbing', 'sober', 'sober2', 'sober44', 'sober5', 'sober99', 'sobera', 'soberanyone', 'soberattending', 'soberclean', 'soberday', 'soberdoes', 'sobered', 'soberhappy', 'soberhit', 'soberin', 'sobering', 'soberis', 'soberly', 'sobernever', 'soberone', 'soberslow', 'soberthis', 'soberversary', 'sobriety', 'sobriety1', 'sobriety30', 'sobrietyaa', 'sobrietyadjusting', 'sobrietycbd', 'sobrietydoes', 'sobrietyeight', 'sobrietyhalf', 'sobrietyi', 'sobrietyive', 'sobrietyrelationship', 'sobrietyseekertrying', 'sobrietythis', 'sobrother', 'soccer', 'sociability', 'sociable', 'social', 'socialise', 'socialising', 'socialization', 'socialize', 'socialized', 'socializing', 'socially', 'societal', 'society', 'sociopath', 'socrates', 'soda', 'sodium', 'sofa', 'soft', 'soften', 'softening', 'softer', 'sohey', 'soim', 'sol', 'solace', 'solar', 'sold', 'soldier', 'sole', 'solely', 'solemnly', 'soleness', 'solicitor', 'solid', 'solidaritystep', 'solidified', 'solitude', 'solo', 'solution', 'solutionsdo', 'solve', 'solved', 'solvency', 'solving', 'somebody', 'someday', 'somedays', 'somehow', 'somehowmy', 'someim', 'someone', 'someoneadvice', 'someonei', 'someplace', 'somereason', 'something', 'somethingcoffee', 'somethinghow', 'somethingi', 'somethings', 'somethingvape', 'sometime', 'sometimes', 'sometimesanyone', 'somewhat', 'somewhere', 'somthing', 'somtimes', 'somwhere', 'somy', 'son', 'sonfor', 'song', 'soo', 'soon', 'soonday', 'soondown', 'soonend', 'sooner', 'soonfather', 'sooni', 'soonminor', 'soontobe', 'sooo', 'soooo', 'sooooo', 'sooth', 'soothe', 'soothed', 'sootherbut', 'soothing', 'soover', 'sophistication', 'sophomore', 'soprano', 'sore', 'sorrow', 'sorry', 'sorryfeeling', 'sorryi', 'sort', 'sorta', 'sorted', 'sorting', 'sortof', 'sosobriety', 'sought', 'soul', 'soulmate', 'sound', 'sounded', 'sounding', 'soundly', 'soup', 'sour', 'source', 'sourcing', 'soured', 'sourheast', 'sourrounds', 'south', 'southbank', 'southern', 'soviet', 'spa', 'space', 'spaced', 'spacewhat', 'spain', 'span', 'spanked', 'spanking', 'spare', 'sparingly', 'spark', 'sparkling', 'sparse', 'sparsely', 'spartacus', 'spasm', 'spawned', 'spazzing', 'speak', 'speaker', 'speaking', 'speakingi', 'speaks', 'spearfishing', 'special', 'specialist', 'specialization', 'specialized', 'specializes', 'specially', 'specific', 'specifically', 'speck', 'spectator', 'spectrum', 'speech', 'speed', 'speedier', 'speeding', 'speekerim', 'spell', 'spelled', 'spelling', 'spencer', 'spencerreddit', 'spend', 'spending', 'spends', 'spent', 'spew', 'spicy', 'spied', 'spike', 'spill', 'spilled', 'spilling', 'spin', 'spinal', 'spine', 'spinning', 'spiral', 'spiraled', 'spiraling', 'spiralled', 'spirit', 'spiritual', 'spirituality', 'spiritually', 'spit', 'spite', 'spitting', 'spittoon', 'spitwatermaybe', 'splash', 'spleenliver', 'splendor', 'spliff', 'split', 'splitting', 'spo', 'spoiler', 'spoiling', 'spokane', 'spoke', 'spoken', 'sponcee', 'sponsee', 'sponseee', 'sponsees', 'sponseesponsor', 'sponseeswhere', 'sponser', 'sponseror', 'sponsers', 'sponses', 'sponsor', 'sponsored', 'sponsorfellow', 'sponsoring', 'sponsorship', 'sponsorsponsee', 'sponsorwhat', 'spontaneity', 'spontaneitywhat', 'spontaneous', 'spooky', 'spoon', 'spooning', 'sporadic', 'sporadically', 'sport', 'sporting', 'sporty', 'spot', 'spotlight', 'spotty', 'spouse', 'spousepartner', 'sprained', 'spray', 'spraying', 'spread', 'spreading', 'spree', 'spring', 'sprint', 'spritly', 'sprung', 'spt', 'spun', 'spur', 'spurt', 'square', 'squashed', 'squat', 'squeeze', 'squid', 'squint', 'squirming', 'srcly', 'sri', 'srsly', 'ssri', 'ssstupid', 'sswish', 'st', 'stab', 'stabbing', 'stabiliser', 'stability', 'stabilize', 'stabilized', 'stabilizing', 'stable', 'stack', 'stadium', 'staff', 'staffordshire', 'stag', 'stage', 'stagemy', 'staggered', 'staggering', 'stain', 'stained', 'stair', 'stakeday', 'stale', 'stalemate', 'stalked', 'stalker', 'stalking', 'stallionone', 'stamen', 'stand', 'standalone', 'standard', 'standing', 'standpoint', 'standstill', 'stank', 'staple', 'star', 'starch', 'stare', 'stared', 'stareted', 'staring', 'start', 'startcontinue', 'startday', 'started', 'startedstarted', 'startet', 'startgoing', 'starting', 'startling', 'startover', 'startwhen', 'starve', 'starving', 'stash', 'stashed', 'stashing', 'stat', 'state', 'stated', 'statehow', 'statement', 'stater', 'statewhen', 'stating', 'station', 'statistic', 'statistically', 'stats', 'status', 'staunch', 'stave', 'stay', 'stayed', 'staying', 'steadily', 'steady', 'steak', 'steal', 'stealer', 'stealing', 'steely', 'steep', 'steer', 'stella', 'stem', 'stemmed', 'stemming', 'stench', 'stent', 'stented', 'step', 'step5th', 'stepdad', 'stepdown', 'stepfather', 'stephow', 'stepped', 'stepping', 'steppowerless', 'steps12', 'steps4', 'stepscoming', 'stepsi', 'stepsnew', 'stepwork', 'stereotypical', 'steriods', 'stern', 'steroid', 'steve', 'stevens', 'steward', 'stick', 'sticki', 'sticking', 'sticky', 'stiff', 'stigma', 'stigmatised', 'stigmatized', 'stigs', 'stil', 'still', 'stillis', 'stillsuffering', 'stimulant', 'stimulate', 'stimulation', 'stimulus', 'stink', 'stinkier', 'stinking', 'stinky', 'stint', 'stirred', 'stirring', 'stis', 'stitch', 'stock', 'stoic', 'stoked', 'stoked60', 'stole', 'stolen', 'stomach', 'stomachabdomen', 'stomachmy', 'stone', 'stoned', 'stonehenge', 'stoner', 'stong', 'stood', 'stool', 'stop', 'stop28', 'stopaccepting', 'stopalmost', 'stopanger', 'stoped', 'stopi', 'stoping', 'stoplight', 'stopmaybe', 'stopped', 'stopping', 'stoppingfirst', 'stopplease', 'stopsmokers', 'stopsmoking', 'stopsorry', 'stopstart', 'stoptober', 'storage', 'store', 'storebought', 'storedoes', 'storey', 'storiesat', 'storiesonce', 'storiesworried', 'storing', 'storm', 'stormed', 'stormedfells', 'story', 'storytelling', 'storywhy', 'stove', 'straight', 'strain', 'stranded', 'strange', 'stranger', 'strapped', 'strategy', 'straterra', 'straw', 'streak', 'stream', 'streathamhttpswwwpearlchemistgroupcoukservicesstopsmoking', 'street', 'strenght', 'strenghten', 'strenghts', 'strength', 'strengthen', 'strengthenedi', 'strengthening', 'strengththis', 'strengthwork', 'strep', 'stresfull', 'streslast', 'stress', 'stressannoy', 'stressanxiety', 'stressed', 'stressed3', 'stressedwife', 'stressful', 'stressing', 'stressor', 'stressorsbut', 'stressstumbling', 'stretch', 'stretched', 'stretching', 'streteching', 'strict', 'strictly', 'stride', 'strife', 'strike', 'strikeshas', 'string', 'stringing', 'strip', 'stripped', 'stripper', 'strive', 'striving', 'stroke', 'stroking', 'strong', 'stronger', 'strongerthanaverage', 'strongest', 'strongi', 'strongis', 'strongly', 'strongstruggle', 'strongthank', 'strongwilled', 'struck', 'structural', 'structure', 'structurecommitment', 'structured', 'struggle', 'struggled', 'strugglewhy', 'struggling', 'struggling2', 'strugle', 'strung', 'stub', 'stubborn', 'stubbornly', 'stuck', 'student', 'studied', 'studio', 'study', 'studyhttpsredcaplinkconnectecigmusc', 'studyhttpsredcaplinkconnectecigstudy', 'studyhttpsredcaplinkg2qstudycurrent', 'studying', 'stuff', 'stuffed', 'stuffi', 'stuffing', 'stumble', 'stumbled', 'stumbling', 'stumped', 'stung', 'stunted', 'stupid', 'stupidblacked', 'stupidest', 'stupidi', 'stupidiest', 'stupidity', 'stupidly', 'stupidthings', 'stutter', 'style', 'sub', 'subbed', 'subbig', 'subconcious', 'subconscious', 'subconsciously', 'subhumanity', 'subi', 'subject', 'subjective', 'subjugated', 'submission', 'submit', 'submitted', 'submitting', 'submods', 'subohm', 'suboxone', 'subred', 'subreddit', 'subredditneed', 'subreddits', 'subscribe', 'subscribed', 'subscribing', 'subscription', 'subsequent', 'subsequently', 'subside', 'subsided', 'substamce', 'substance', 'substantial', 'substantially', 'substitute', 'substituted', 'substituting', 'subtank', 'subtle', 'subtlety', 'subtly', 'suburb', 'suburban', 'subway', 'succeas', 'succeed', 'succeed815', 'succeeded', 'succeeding', 'succeeds', 'succesful', 'success', 'success13', 'successbut', 'successful', 'successful2', 'successfull', 'successfully', 'successfullyhello', 'successfulone', 'successgot', 'successhas', 'succumb', 'succumbed', 'succumbingday', 'suceed', 'sucess', 'suck', 'suckdealing', 'sucked', 'suckin', 'sucking', 'sucks25', 'sucks40', 'sucksaa', 'sucksfell', 'sucky', 'sucsessfully', 'sudden', 'suddenly', 'suffer', 'suffered', 'suffering', 'suffers', 'sufficient', 'suffocated', 'suffocating', 'suffocation', 'sugar', 'sugarfree', 'sugarjunk', 'sugested', 'sugestionable', 'suggeested', 'suggest', 'suggested', 'suggesting', 'suggestion', 'suggestionletting', 'suggestionsadvice', 'suggestionsalcohol', 'suggestionsday', 'suggestionsdry', 'suggestionsis', 'suggestionsneed', 'suggestionsreplacing', 'suggestionssupport', 'suggestionstips', 'suggestionsuk', 'suggests', 'suicidal', 'suicidally', 'suicide', 'suing', 'suit', 'suitable', 'suitcase', 'sukoshi', 'sulfur', 'sulk', 'sulking', 'sum', 'summer', 'summon', 'summoned', 'sun', 'sunday', 'sundayday', 'sundayhttpswwwredditcomrstopsmokingcommentsp9mbpkadviceandencouragementneeded', 'sundayi', 'sundaytuesday', 'sundaywedding', 'sunk', 'sunlight', 'sunny', 'sunnyvale', 'sunrise', 'sunscreen', 'sunset', 'sunshine', 'sunup', 'sup', 'supa', 'super', 'supercar', 'superficial', 'superguitarist', 'superhuman', 'superior', 'supermarket', 'supernatural', 'supervised', 'supervision', 'supervisor', 'supper', 'supplement', 'supplemental', 'supplementing', 'supply', 'supplying', 'support', 'supportafter', 'supportday', 'supported', 'supporthelping', 'supporti', 'supporting', 'supportive', 'supportiveness', 'supportnewcomer', 'supportpersistent', 'supportwedding', 'suppose', 'supposed', 'supposedly', 'suppress', 'suppressed', 'suppresser', 'suppressing', 'supraventricular', 'supremely', 'supress', 'suprised', 'sure', 'surefire', 'surely', 'surewhats', 'surf', 'surface', 'surfacing', 'surfer', 'surfing', 'surge', 'surgeon', 'surgery', 'surgerysouthern', 'surgical', 'surmounting', 'surprise', 'surprised', 'surprisepregnant', 'surprising', 'surprisingly', 'surprisingly24', 'surreal', 'surreal5', 'surrender', 'surrendered', 'surrendering', 'surrenderwhat', 'surround', 'surrounded', 'surrounding', 'surroundings', 'survey', 'surveyi', 'survided', 'survival', 'survive', 'survived', 'surviving', 'survivor', 'susan', 'suspect', 'suspected', 'suspecting', 'suspicion', 'suspicious', 'sustain', 'sustainable', 'sustained', 'suuuuucks2', 'sux', 'swallow', 'swallowed', 'swallowing', 'swam', 'swap', 'swapped', 'swapping', 'swarm', 'swat', 'swaying', 'swear', 'swearing', 'swears', 'sweartoo', 'sweat', 'sweating', 'sweaty', 'sweden', 'swedish', 'sweep', 'sweet', 'sweeta', 'sweeter', 'sweetest', 'sweetheart', 'sweetness', 'swell', 'swelling', 'sweltering', 'swept', 'swhat', 'swig', 'swim', 'swimming', 'swing', 'swipe', 'swirling', 'switch', 'switched', 'switching', 'swollen', 'sword', 'swore', 'syllabushomework', 'symbol', 'symbolism', 'sympathetic', 'sympathizes', 'sympathy', 'symptom', 'symptomsside', 'symptomsthird', 'symtomps', 'symtoms', 'sync', 'syndrome', 'synthetic', 'syptoms', 'syracuse', 'syrup', 'system', 'systematically', 'systemfirst', 'tab', 'tabacco', 'tabasco', 'tabbacy', 'tabex', 'table', 'tablet', 'taboo', 'tachycardia', 'tackle', 'tackled', 'tackling', 'tact', 'tactic', 'tad', 'tag', 'tahoe', 'taille', 'tajin', 'take', 'takeacid', 'takeaway', 'takedoes', 'takeive', 'taken', 'takeok', 'takesexperiences', 'taking', 'tale', 'talent', 'talented', 'talk', 'talkative', 'talked', 'talker', 'talkim', 'talkimg', 'talkin', 'talking', 'talkingthinking', 'talkshame', 'tall', 'tallboy', 'tallest', 'tally', 'tallying', 'tame', 'tamper', 'tang', 'tangent', 'tango', 'tank', 'tanked', 'tantrum', 'tap', 'tape', 'taped', 'taper', 'tapered', 'tapering', 'tapping', 'taproot', 'tar', 'target', 'targeted', 'targeting', 'tarnished', 'tarry', 'task', 'taste', 'tastebud', 'tasted', 'tastiest', 'tasting', 'tasty', 'tattoo', 'taught', 'tax', 'taxi', 'taxing', 'tbh', 'tbhthink', 'tdlr', 'tdr', 'tea', 'teach', 'teacher', 'teaching', 'team', 'teambulding', 'teamfinally', 'teamprogram', 'tear', 'teared', 'tearing', 'teary', 'teasing', 'teaspoon', 'tech', 'technicality', 'technically', 'technique', 'techniquesdancing', 'technology', 'tedious', 'tedtalk', 'tedtalkim', 'tee', 'teen', 'teenage', 'teenager', 'teenageryoung', 'teeth', 'teh', 'tel', 'telephone', 'tell', 'telling', 'temp', 'temper', 'temperamental', 'temperature', 'tempered', 'temple', 'temporal', 'temporarily', 'temporary', 'tempt', 'temptation', 'tempted', 'tempting', 'ten', 'tend', 'tendency', 'tenderness', 'tending', 'tends', 'tenerife', 'tenet', 'tennissoccer', 'tense', 'tensing', 'tension', 'tentative', 'tenth', 'tequila', 'terdible', 'term', 'terminal', 'terminalhow', 'terminology', 'termnicotine', 'terrible', 'terribly', 'terrified', 'terrifiedi', 'terrifies', 'terrifying', 'territory', 'terror', 'test', 'testament', 'tested', 'tester', 'testified', 'testimony', 'testing', 'testosterone', 'testsbaselines', 'testsscans', 'tethered', 'texas', 'text', 'textbook', 'texted', 'texting', 'textssober', 'texture', 'texturize', 'tf', 'tgoi', 'th', 'thailand', 'thank', 'thanked', 'thankful', 'thankfula', 'thankfully', 'thanking', 'thanks', 'thanks13th', 'thanks14', 'thanks2', 'thanks4', 'thanks9th', 'thanksaa', 'thanksalcoholic', 'thanksalcoholics', 'thanksalright', 'thanksam', 'thanksanxious', 'thanksbig', 'thanksbooks', 'thankschest', 'thankscravings', 'thanksdating', 'thanksday', 'thanksdid', 'thanksdipsophobia', 'thanksdiscord', 'thanksdoes', 'thanksex', 'thanksfinding', 'thanksfirst', 'thanksgiving', 'thanksgoing', 'thankshaving', 'thankshow', 'thanksi', 'thanksideal', 'thanksin', 'thanksive', 'thanksjust', 'thankslong', 'thankslooking', 'thanksmy', 'thanksneeding', 'thanksnever', 'thanksoff', 'thanksonline', 'thanksphysical', 'thanksquestion', 'thanksquit', 'thanksquitting', 'thankssubstitutes', 'thankssupport', 'thanksthe', 'thanksthis', 'thankstips', 'thanksvomiting', 'thankswant', 'thanksways', 'thankswhat', 'thankswithdrawals', 'thankyou', 'thankyoucould', 'thar', 'that3', 'thatand', 'thatanybody', 'thatanyone', 'thatare', 'thatcrazy', 'thatd', 'thatfinding', 'thatfirst', 'thathad', 'thathelp', 'thathow', 'thati', 'thatll', 'thatnightmares', 'thatone', 'thats', 'thatten', 'thatthis', 'thattrying', 'thatwhat', 'thatwhen', 'thc', 'the1', 'theatre', 'thei', 'theme', 'themhow', 'themrecently', 'themself', 'themselveshow', 'themsome', 'thenfeeling', 'theologica', 'theology', 'theoretical', 'theory', 'therapeutic', 'therapist', 'therapy', 'there', 'there2', 'therealmost', 'theredetox', 'therefore', 'theregetting', 'therehey', 'thereim', 'thereready', 'thermostat', 'thesescram', 'thesis', 'thew', 'theyd', 'theyll', 'theymayannounceanewlockdown', 'theyr', 'theyre', 'theyve', 'theywent', 'thiamine', 'thick', 'thickreducing', 'thief', 'thin', 'thing', 'thing3', 'thingfinally', 'thingi', 'thinglast', 'thingsbut', 'thingtoday', 'thingvisiting', 'think', 'thinkam', 'thinkcan', 'thinker', 'thinkerim', 'thinki', 'thinking', 'thinkinghard', 'thinkmissing', 'thinksmus', 'thinner', 'thinning', 'third', 'thirsty', 'thirteen', 'thirty', 'thirtynine', 'this10th', 'this12', 'this21', 'this23yo', 'this24', 'this3', 'this3000', 'this9', 'thisafraid', 'thisanything', 'thisapproaching', 'thiscan', 'thisclean', 'thiscontinuing', 'thiscrazy', 'thisday', 'thisdeciding', 'thisdoes', 'thisfeeling', 'thisfriendsfamilycolleagues', 'thisgin', 'thishas', 'thishelp', 'thishey', 'thishospital', 'thishow', 'thisi', 'thisin', 'thisinto', 'thisjust', 'thislost', 'thismonday', 'thismy', 'thisnearly', 'thisneed', 'thisno', 'thison', 'thisone', 'thisquitting', 'thisrelapse', 'thisshould', 'thissleep', 'thisso', 'thissocial', 'thisstaying', 'thisstep', 'thisstomach', 'thisthe', 'thisthere', 'thisthis', 'thistle', 'thistodays', 'thistomorrow', 'thistwo', 'thisugh', 'thiswell', 'tho', 'thomas', 'thoracentesis', 'thorough', 'thoroughly', 'thoroughness', 'thou', 'though', 'thoughanyone', 'thoughbackpain', 'thoughi', 'thoughnicotine', 'thought', 'thoughtback', 'thoughtful', 'thoughts15', 'thoughtsa', 'thoughtsadhd', 'thoughtsadvicemaybe', 'thoughtsanybody', 'thoughtscan', 'thoughtsdiscussion', 'thoughtsexperiences', 'thoughtshas', 'thoughtshelp', 'thoughtsis', 'thoughtsmom', 'thoughtsmy', 'thoughtsplease', 'thoughtsquestion', 'thoughtsquestionsconcernsthoughtsconcerns', 'thoughtsshould', 'thoughtssocially', 'thoughtswhat', 'thousand', 'thr', 'thrall', 'thrash', 'thread', 'threat', 'threaten', 'threatened', 'threatening', 'threateningstopping', 'threating', 'three', 'threeheaded', 'threshold', 'threw', 'thrill', 'thrilled', 'thrilling', 'thrist', 'thrive', 'throat', 'throath', 'throbbing', 'througheating', 'throughhavent', 'throughi', 'throughly', 'throughout', 'throughquit', 'throught', 'throw', 'throwaway', 'throwing', 'thrown', 'throwup', 'thru', 'thrust', 'thst', 'thsts', 'thumb', 'thumpers', 'thunderdome', 'thurowthurrow', 'thurs', 'thursday', 'thursdaybut', 'thus', 'thx', 'thy', 'thyroid', 'ti', 'tia', 'tia10', 'tiaany', 'tiabook', 'tiacoin', 'tiaim', 'tianeptine', 'tiayoung', 'tic', 'ticked', 'ticket', 'ticking', 'tictac', 'tide', 'tidy', 'tie', 'tied', 'tier', 'tiered', 'tight', 'tighten', 'tighter', 'tightnes', 'tightness', 'til', 'till', 'time', 'time2', 'time20', 'time7595', 'timea', 'timeaccountability', 'timealcohol', 'timeany', 'timeclearly', 'timeday', 'timefriend', 'timehi', 'timehow', 'timei', 'timeim', 'timeit', 'timeits', 'timelife', 'timeline', 'timelonger', 'timely', 'timemy', 'timenot', 'timeoutpatient', 'timeprobably', 'timequitting', 'timer', 'timeralmost', 'timesbetter', 'timeslocations', 'timeslow', 'timesmy', 'timesthat', 'timetransformation', 'timeusing', 'timewell', 'timewhat', 'timey', 'timid', 'timing', 'tin', 'tinder', 'tinderall', 'tinged', 'tingle', 'tinglig', 'tingling', 'tingly', 'tinglynumb', 'tink', 'tinnitus', 'tinnitusheadache', 'tiny', 'tip', 'tipdon', 'tipp', 'tipps', 'tippy', 'tipsany', 'tipscutting', 'tipsi', 'tipsim', 'tipssmoking', 'tipssober', 'tipsstruggling', 'tipstips', 'tipsy', 'tiramisu', 'tired', 'tiredand', 'tiredhow', 'tiredi', 'tiredness', 'tiredphucked', 'tiring', 'tissue', 'tissue14', 'titime', 'title', 'titled', 'titlehow', 'titleso', 'titlewhere', 'titrate', 'tk', 'tldr', 'tlevel', 'tm', 'tmi', 'tmj', 'tn', 'tne', 'toast', 'toasted', 'tobacco', 'tobaccofree', 'tobacconicotine', 'tobacconist', 'tobacoo', 'tobeing', 'today', 'today10', 'today13', 'today30', 'todayalcohol', 'todayday', 'todayday2amp3', 'todaydepressed', 'todayfor', 'todayi', 'todayneed', 'todayof', 'todayonline', 'todayquitting', 'todayrage', 'todayrelationship', 'todaytwo', 'todaywhat', 'toddler', 'toe', 'together', 'together101', 'togetherone', 'togethers', 'tohappy', 'toi', 'toilet', 'toim', 'tojust', 'toke', 'token', 'tokyo', 'told', 'toldi', 'tolerable', 'tolerance', 'tolerant', 'tolerate', 'tolerated', 'toll', 'tolle', 'tolooking', 'tom', 'tomaking', 'tome', 'tomiss', 'tommorow', 'tomorow', 'tomorrow', 'tomorrowalmost', 'tomorrowi', 'tomorrowneed', 'ton', 'tonantabuse', 'tone', 'toned', 'tonedirection', 'tongue', 'tonic', 'tonight', 'tonightdid', 'tonightterrible', 'tonightwithdrawal', 'tonis', 'tonne', 'tony', 'toochanging', 'toocigarette', 'tooin', 'toois', 'took', 'tookbrain', 'tool', 'toolkit', 'toolkit85', 'toolsthoughts', 'toonot', 'tooo', 'tooooo', 'tooquitting', 'toostuck', 'tooth', 'toothache', 'toothbrush', 'toothe', 'toothpaste', 'toothpick', 'tooting', 'tootoday', 'toounexpected', 'toowhy', 'tooyouve', 'top', 'topic', 'topichow', 'topped', 'topping', 'toppling', 'toquit', 'toquitters', 'tore', 'torment', 'torn', 'toronto', 'torture', 'tortured', 'tosleep', 'toso', 'toss', 'tossed', 'tossing', 'tostep', 'total', 'totaled', 'totalled', 'totalling', 'totally', 'touch', 'touched', 'touching', 'touchstone', 'touché', 'tough', 'tougher', 'toughest', 'toughness', 'tought', 'tour', 'tourette', 'touring', 'tourist', 'tow', 'toward', 'towards', 'towed', 'towel', 'tower', 'towhat', 'town', 'townslambert', 'toxic', 'toxin', 'toy', 'toyota', 'tracer', 'track', 'tracked', 'tracker', 'tracki', 'tracking', 'trade', 'traded', 'trader', 'trading', 'tradition', 'traditional', 'traditionally', 'traffic', 'tragedy', 'tragic', 'trail', 'train', 'trained', 'trainer', 'training', 'trainwrecks', 'trait', 'tranquipan', 'trans', 'transcended', 'transfer', 'transference', 'transferred', 'transfixed', 'transform', 'transformation', 'transformed', 'transforming', 'transgender', 'transition', 'transitional', 'transitioned', 'transitioning', 'translate', 'translated', 'translates', 'transmission', 'transmit', 'transplant', 'transport', 'transportation', 'transportationrecovering', 'trap', 'trapped', 'trash', 'trashed', 'trashing', 'trauma', 'traumatic', 'traumatize', 'traumatized', 'traumatizing', 'travel', 'traveled', 'traveler', 'travelevents', 'traveling', 'travelled', 'travelling', 'tray', 'treacherous', 'treading', 'treadmill', 'treally', 'treason', 'treasonwithin', 'treasure', 'treasured', 'treat', 'treated', 'treating', 'treatment', 'treatmentresistant', 'tree', 'tremble', 'trembling', 'tremblingpins', 'tremendous', 'tremendously', 'tremens', 'tremor', 'trench', 'trend', 'trendy', 'trial', 'triangle', 'triathlete', 'tribute', 'trick', 'tricked', 'tricking', 'trickle', 'tricky', 'tried', 'trifecta', 'trigger', 'triggercravingurge', 'triggered', 'triggering', 'triggeringanxietyinducing', 'triglyceride', 'trimester', 'trio', 'trip', 'tripe', 'triple', 'tripled', 'triply', 'tripped', 'triumph', 'trivial', 'trolling', 'troop', 'troopsfirst', 'trope', 'trouble', 'troubled', 'troublesome', 'troubling', 'trough', 'troughout', 'truck', 'truckini', 'trudge', 'trudgingconquered', 'true', 'truei', 'truely', 'truly', 'trulyregretfeelingsupdate', 'truma', 'trump', 'trust', 'trusted', 'trusting', 'trustworthy', 'trusty', 'truth', 'truthful', 'truthfully', 'try', 'tryhard', 'tryina', 'trying', 'tryingthen', 'tryna', 'tsa', 'tsp', 'tthe', 'ttt', 'ttwo', 'tuck', 'tucked', 'tues', 'tuesday', 'tum', 'tumble', 'tumor', 'tumultuous', 'tune', 'tuneup', 'tunnel', 'tunnellast', 'tunnelnewcomer', 'tur', 'turkey', 'turkeyday', 'turkeyed', 'turkeyi', 'turkeyish', 'turkeywithdrawals', 'turkwy', 'turmoil', 'turn', 'turnaround', 'turned', 'turning', 'turnoff', 'turnover', 'turret', 'tutorial', 'tv', 'tw', 'twake', 'twat', 'twelve', 'twenty', 'twentyfive', 'twentyfour', 'twentytwo', 'twentyyearold', 'twice', 'twiddle', 'twin', 'twist', 'twisted', 'twisting', 'twitchy', 'two', 'twoletter', 'twon', 'twothree', 'tyheart', 'tyia', 'tylenol', 'type', 'type1', 'typed', 'typeset', 'typeshttpsedubaivisaae', 'typical', 'typically', 'typing', 'typo', 'tystopped', 'u', 'uae', 'uae14', 'uber', 'ubering', 'ubuttplugsrmesmoking', 'ucla', 'uff', 'ufo', 'ugh', 'ughck', 'ughday', 'ughhhhhh', 'ughs', 'uglier', 'ugliest', 'ugliness', 'ugly', 'uglysleep', 'uh', 'uk', 'ukireland', 'ukrainian', 'ukrehab', 'ulcer', 'ultimate', 'ultimately', 'ultimatum', 'ultra', 'ultrasound', 'um', 'umbrella', 'umpteen', 'umpteenth', 'un', 'unable', 'unaccustomed', 'unaddressed', 'unafraid', 'unalive', 'unaliving', 'unapologetic', 'unappetizing', 'unattainable', 'unattractive', 'unavailable', 'unavoidable', 'unaware', 'unbalanced', 'unbearable', 'unbearably', 'unbelievable', 'unbelievably', 'unbiased', 'unboxening', 'unbreakable', 'uncaring', 'uncertain', 'uncertainty', 'unchanged', 'unchecked', 'uncle', 'unclesil', 'uncomfortable', 'uncomfortablelooking', 'uncomfortableness', 'uncommon', 'uncompromising', 'unconditional', 'unconfident', 'unconscious', 'unconsciously', 'uncontrollable', 'uncontrollably', 'unconventional', 'uncovered', 'uncovering', 'uncracked', 'undefeated', 'underage', 'underestimate', 'undergo', 'undergoing', 'undergone', 'underground', 'underlying', 'undermattress', 'undermine', 'undermined', 'undermining', 'underneath', 'understand', 'understanding', 'understandingwanting', 'understandrepeat', 'understands', 'understandsober', 'understandwhat', 'understandwhy', 'understated', 'understatement', 'understood', 'undertake', 'underwater', 'underwear', 'undesisive', 'undiagnosed', 'undigested', 'undiluted', 'undo', 'undoable', 'undone', 'undoubtedly', 'undue', 'undying', 'une', 'uneasiness', 'uneasy', 'unemployed', 'unemployment', 'unenvelopening', 'uneven', 'unexpected', 'unexplainable', 'unfair', 'unfairweather', 'unfamiliar', 'unfashionable', 'unfeeling', 'unfocused', 'unfold', 'unfolded', 'unforeseen', 'unforgettable', 'unforgiveness', 'unforgivingly', 'unformatted', 'unfortunate', 'unfortunately', 'unfulfilled', 'unhappily', 'unhappy', 'unhealed', 'unhealthy', 'unhear', 'unheard', 'unhelathy', 'unhelpful', 'unhideable', 'unhinged', 'uni', 'unicorn', 'unimaginable', 'uninstall', 'uninstalled', 'unintentionally', 'uninterrupted', 'union', 'unique', 'uniqueness', 'uniquethe', 'unisom', 'unit', 'unite', 'united', 'unity', 'universally', 'universe', 'university', 'unjoining', 'unkept', 'unkind', 'unknowingly', 'unknown', 'unkown', 'unleash', 'unless', 'unlicensed', 'unlike', 'unlikely', 'unlive', 'unload', 'unloaded', 'unloading', 'unlock', 'unlocked', 'unloveable', 'unlucky', 'unmanageability', 'unmanageable', 'unmanaged', 'unmistakable', 'unmotivated', 'unnatural', 'unnecessarily', 'unnecessary', 'unnoficial', 'unnoticed', 'unobtanium', 'unofficial', 'unopened', 'unpack', 'unpaid', 'unpleasant', 'unpleasantness', 'unplugged', 'unpopular', 'unprepared', 'unprescribed', 'unprofessional', 'unprovoked', 'unquitting', 'unquotable', 'unreal', 'unreasonable', 'unrecognisable', 'unrecognizable', 'unrelated', 'unrelenting', 'unreliable', 'unremitting', 'unrepairable', 'unreservedly', 'unresponsive', 'unruly', 'unsafe', 'unscientific', 'unseen', 'unsettled', 'unsettling', 'unshackled', 'unsolvable', 'unspeakable', 'unstable', 'unstoppable', 'unsuccessful', 'unsuccessfully', 'unsupportive', 'unsure', 'unsurprisingly', 'unsuspecting', 'unsustainable', 'unthinking', 'untilif', 'untill', 'untimely', 'untold', 'untraceable', 'untreated', 'untrimmed', 'untrue', 'unused', 'unusual', 'unusually', 'unwell', 'unwilling', 'unwind', 'up1', 'up11', 'upafter', 'upalcohol', 'upasking', 'upat', 'upbeat', 'upbringing', 'upcan', 'upcoming', 'update', 'updated', 'updatednot', 'updatemessed', 'updating', 'updoes', 'upenough', 'upfiancée', 'upfood', 'upfront', 'upget', 'upheaval', 'upheld', 'uphieve', 'uphill', 'upholding', 'upim', 'uplifted', 'uplifting', 'uploaded', 'upmade', 'upnew', 'upon', 'upped', 'upper', 'upright', 'uprooted', 'ups', 'upset', 'upsetting', 'upshortness', 'upside', 'upstanding', 'upstate', 'upthis', 'uptight', 'upto', 'uptrying', 'upwards', 'upwhat', 'ur', 'urge', 'urged', 'urgency', 'urgenew', 'urgent', 'urgesjust', 'urgh', 'urine', 'us', 'usa', 'usaa', 'usage', 'usdrunk', 'use', 'useally', 'used', 'useful', 'usefulness', 'useless', 'uselessnessi', 'user', 'usernameday', 'useualy', 'ushelp', 'usig', 'using', 'usingdrinking', 'usingis', 'usself', 'usual', 'usually', 'uswe', 'uswhatever', 'ut', 'utensil', 'uti', 'utilitize', 'utilize', 'utmost', 'utter', 'utterly', 'uve', 'v', 'vacation', 'vacationing', 'vacay', 'vaccinated', 'vaccine', 'vaccum', 'vacuous', 'vacuum', 'vague', 'vaguely', 'vain', 'vale', 'valid', 'validate', 'validated', 'validation', 'valium', 'valuable', 'value', 'valued', 'vampire', 'vanderbilt', 'vanish', 'vanished', 'vanishes', 'vaoe', 'vape', 'vaped', 'vapedsmoked', 'vapeglo', 'vapehigh', 'vapejuul', 'vapeless', 'vaper', 'vapers', 'vapes', 'vapes1', 'vapesmoke', 'vapesset', 'vapid', 'vaping', 'vapingsmoking', 'vapor', 'varenicline', 'variable', 'variation', 'varied', 'varies', 'variety', 'various', 'varsity', 'vary', 'vascular', 'vastly', 'vaxxed', 've24f', 'veer', 'veering', 'veg', 'vega', 'vegetable', 'vegetarian', 'veggie', 'vehicle', 'vein', 'velo', 'velolyft', 'vending', 'vendor', 'vengeance', 'venice', 'vent', 'ventalmost', 'vented', 'venting', 'ventingsponsor', 'ventlets', 'ventolin', 'venture', 'ventured', 'venue', 'ver', 'verbage', 'verbal', 'verbalize', 'verbally', 'verge', 'verified', 'versa', 'verse', 'versed', 'version', 'versionbronchitis', 'versus', 'vertigo', 'vessel', 'vet', 'veteran', 'veterinarian', 'vetted', 'vi', 'via', 'viability', 'viable', 'vibe', 'vibegood', 'vibescomeing', 'vibing', 'vibrant', 'vice', 'vicinity', 'vicious', 'vicodin', 'victan', 'victim', 'victimshaming', 'victorious', 'victory', 'video', 'videogames', 'videographer', 'videosmy', 'vids', 'view', 'viewed', 'viewing', 'viewlikecomment', 'viewpointswhat', 'vigilance', 'vigilant', 'vigorous', 'viking', 'vile', 'vilify', 'villain', 'vincent', 'vindictive', 'viney', 'violate', 'violating', 'violation', 'violence', 'violent', 'violently', 'virgin', 'virtual', 'virtually', 'virtuallyonline', 'virtualonline', 'virtue', 'virus', 'visa', 'visceral', 'viscerally', 'viscous', 'visible', 'visibly', 'vision', 'visiondouble', 'visit', 'visitation', 'visited', 'visiting', 'visitor', 'visitshit', 'visual', 'vitamin', 'vitaminemineralwisw', 'vivid', 'vivitrol', 'vlog', 'vlogging', 'vo', 'vocabulary', 'vocal', 'vocalize', 'vocalized', 'vodka', 'voice', 'voicemail', 'voicesi', 'void', 'voidive', 'vol', 'volitiles', 'volition', 'voluntarily', 'voluntary', 'volunteer', 'volunteered', 'volunteering', 'vom', 'vomit', 'vomited', 'vomiting', 'voopoo', 'voulenteers', 'voulez', 'vous', 'vow', 'vowing', 'vraz5htxvkr71', 'vulnerability', 'vulnerable', 'vuse', 'vying', 'w', 'wa', 'waaay', 'waccy', 'wacky', 'waffling', 'wager', 'wagering', 'wagon', 'wail', 'wailed', 'wait', 'waited', 'waiter', 'waiting', 'waitress', 'waitressing', 'waive', 'wake', 'wakeup', 'waking', 'wale', 'walgreens', 'walk', 'walked', 'walker', 'walking', 'wall', 'waller', 'wallet', 'wallowed', 'wallpaper', 'walmart', 'wander', 'wandered', 'wanderer', 'wane', 'wank', 'wanma', 'wanna', 'want', 'wanted', 'wantedneeded', 'wanting', 'wantingtrying', 'wantneed', 'war', 'warchild', 'ward', 'wardrobe', 'warehouse', 'warm', 'warmer', 'warming', 'warmly', 'warmth', 'warn', 'warned', 'warner', 'warning', 'warped', 'warrant', 'warranted', 'warrior', 'wart', 'wary', 'wasam', 'wasent', 'wash', 'washed', 'washing', 'washington', 'washy', 'wasi', 'wasit', 'wasnt', 'waspossibly', 'waste', 'wasted', 'wastefulday', 'wasting', 'wat', 'watch', 'watched', 'watching', 'watchword', 'water', 'waterday', 'watered', 'watering', 'watermelon', 'wave', 'waved', 'waw6', 'wax', 'way', 'waya', 'wayanybody', 'waycan', 'waydoes', 'waygoing', 'wayhow', 'wayi', 'wayin', 'waysomething', 'waystips', 'waysto', 'waywent', 'wd', 'weak', 'weakaddicted', 'weakened', 'weakeness', 'weaker', 'weakest', 'weakling', 'weakness', 'weaknessshame', 'weaksauce', 'wealthy', 'wean', 'weaned', 'weaning', 'weapon', 'wear', 'weariness', 'wearing', 'weary', 'weather', 'weaving', 'web', 'webinar', 'website', 'wed', 'wedding', 'weddingfuneral', 'wedge', 'wednesday', 'wee', 'weed', 'weedftvery', 'weeding', 'weedwhen', 'week', 'week2', 'weekaddicted', 'weekand', 'weekday', 'weekend', 'weekendweekend', 'weekfor', 'weekhttpswwwredditcomrstopsmokingcommentspdwrihoneweekupdate', 'weekhttpswwwredditcomrstopsmokingcommentspif0txtwoweekupdate', 'weeklong', 'weekly', 'weekmonth', 'weeknight', 'weekquitting', 'weeksa', 'weeksecond', 'weeksheadaches', 'weekshttpswwwredditcomrstopsmokingcommentspif0txtwoweekupdate', 'weekshttpswwwredditcomrstopsmokingcommentspmvom4threeweekupdate', 'weeksmonths', 'weekthe', 'weekweek', 'weekwhich', 'weel', 'ween', 'weening', 'weigh', 'weighed', 'weighing', 'weighs', 'weight', 'weightspend', 'weird', 'weirdanyone', 'weirdest', 'weirdly', 'welbutrin', 'welcome', 'welcomed', 'welcomedaa', 'welcomedaana', 'welcomeempty', 'welcomehelp', 'welcomehigh', 'welcomehow', 'welcomeit', 'welcomequitting', 'welcomerealized', 'welcometraveling', 'welcoming', 'welfare', 'well', 'welladjusted', 'wellbalanced', 'wellbeing', 'wellbeingdesire', 'wellbrutinbupropion', 'wellbutrin', 'wellchantix', 'wellencouraging', 'wellgoodbye', 'welli', 'welling', 'wellintentioned', 'wellknown', 'wellneeded', 'wellness', 'wellpracticed', 'wellprogress', 'wellrude', 'wellstocked', 'welltry', 'wellwelcomed', 'welp', 'welpdid', 'went', 'wereare', 'wereis', 'werent', 'wernickekorsakoff', 'wernickekorsicoff', 'werthers', 'weshe', 'west', 'western', 'wet', 'wether', 'weve', 'wfh', 'whack', 'whacko', 'whacky', 'what6', 'whatever', 'whateverhas', 'whathever', 'whati', 'whatnot', 'whats', 'whatsapp', 'whatsapped', 'whatsapphttpschatwhatsappcomcnh9cldkdpol2wmllkoknvjoin', 'whatsoever', 'whatsofuckingever', 'wheel', 'wheelchair', 'wheeze', 'wheezing', 'whenever', 'whenif', 'whens', 'whereas', 'whereby', 'wherever', 'whether', 'whetherwhether', 'whew', 'whiff', 'whiiiiiillee', 'whilst', 'whim', 'whining', 'whip', 'whirlpool', 'whising', 'whiskey', 'whiskeyjust', 'whisky', 'whisper', 'whispered', 'whispering', 'whistle', 'whitch', 'white', 'whiteknuckled', 'whiteknuckling', 'whitened', 'whitening', 'whiteout', 'whiter', 'whitetorsoed', 'whne', 'who', 'whoa', 'whoever', 'whole', 'wholeheartedly', 'wholesome', 'wholly', 'whomever', 'whooooooooooooooooòpp2', 'whoopings', 'whose', 'whove', 'wht', 'whut', 'why', 'why5', 'whyahhg', 'whyquitcom', 'whywhen', 'whyyyy', 'wi', 'wiccan', 'wich', 'wicked', 'wicker', 'wide', 'wideeyedjoyful', 'wider', 'widespread', 'widget', 'wife', 'wifehusband', 'wiggle', 'wild', 'wilderness', 'wildest', 'wildfire', 'wildland', 'wildly', 'will', 'willed', 'williams', 'willing', 'willingly', 'willingness', 'willingtosponsor', 'willingwant', 'willpower', 'willthis', 'wilson', 'wim', 'win', 'wind', 'winday', 'winded', 'windedangerresentment', 'windex', 'winding', 'window', 'window3', 'windowim', 'windshield', 'windston', 'wine', 'wineaccepting', 'winebeer', 'winecocktail', 'winery', 'winespirits', 'winning', 'winter', 'wintergreen', 'winwin', 'wipe', 'wiped', 'wiping', 'wired', 'wisconsin', 'wisdom', 'wisdom1st', 'wisdomadvice', 'wisdomehelp', 'wisdomencouragement', 'wisdompreparing', 'wise', 'wiser', 'wisest', 'wish', 'wished', 'wishful', 'wishing', 'wit', 'witch', 'witchcraft', 'witdrawl', 'withany', 'withdraw', 'withdrawal', 'withdrawala', 'withdrawalcravings', 'withdrawalfree', 'withdrawali', 'withdrawalis', 'withdrawall', 'withdrawalsanyone', 'withdrawalsdoes', 'withdrawalshunger', 'withdrawalwithdrawal', 'withdrawel', 'withdrawing', 'withdrawl', 'withdrawls', 'withdrawn', 'withdrawqls', 'withdraws', 'withholding', 'within', 'withing', 'withnew', 'withouht', 'without', 'withoutgetting', 'withquestion', 'withrawal', 'withwe', 'witless', 'witness', 'witnessed', 'witnessing', 'wity', 'wjen', 'wmuch', 'wo', 'woah', 'wobble', 'wobbly', 'woe', 'woird', 'woke', 'woken', 'wokeup', 'woking', 'wole', 'wolf', 'woman', 'womansponsorship', 'womenmoms', 'wonder', 'wondered', 'wonderful', 'wonderfully', 'wondering', 'wonderinghow', 'wont', 'wontshouldnt', 'woo', 'wood', 'wooden', 'woodsfishingcampingexploring', 'woodworking', 'woohoo', 'woohooo', 'wool', 'wootit', 'woozy', 'word', 'wore', 'work', 'workaholism', 'workallen', 'workanyone', 'workaround', 'workback', 'workbalanceliferecovery', 'workbook', 'workclass', 'workday', 'workdoesnt', 'worked', 'workedhere', 'workedone', 'workedtrigger', 'worker', 'workim', 'working', 'workingbusy', 'workingi', 'workingnicotine', 'workout', 'workplace', 'workplacehow', 'workquitting', 'workrelated', 'workrelationship', 'workshop', 'worksports', 'worksusing', 'workswile', 'workthesteps', 'workweek', 'world', 'worldjoining', 'worldrace', 'worldwide', 'worm', 'worn', 'worried', 'worriedquit', 'worriedwhich', 'worriesblips', 'worrisome', 'worry', 'worrying', 'worse', 'worsehow', 'worseif', 'worsen', 'worsened', 'worsening', 'worsens', 'worship', 'worst', 'worstwhen', 'worth', 'worthless', 'worthwhile', 'worthy', 'woth', 'wothrawal', 'would', 'wouldnt', 'wouldve', 'wound', 'wounded', 'wout', 'wow', 'wowday', 'wpuld', 'wracked', 'wracking', 'wrap', 'wrapped', 'wrapping', 'wrath', 'wreck', 'wreckage', 'wrecked', 'wreckin', 'wrecking', 'wrecklessness', 'wrestle', 'wrestled', 'wrestling', 'wrist', 'wristband', 'wristbandidea', 'write', 'writer', 'writing', 'written', 'writting', 'wrll', 'wroite', 'wrong', 'wrongbeing', 'wrongdoing', 'wronged', 'wrongi', 'wrongly', 'wrongwhat', 'wrote', 'wtf', 'wtfholy', 'wtfyou', 'wtheir', 'wu14', 'wutting', 'wwwdeeplcomtranslator', 'wwwfromcanadaorghttpsfromcanadaorg', 'wwwfromcanadaorghttpswwwfromcanadaorg', 'wwwidaaorg', 'wwwidaaorghttpswwwidaaorg', 'wwwncbinlmnihgovpmcarticlespmc7083240httpswwwncbinlmnihgovpmcarticlespmc7083240', 'wwwtheguardiancomsociety2021sep27smokersmuchmorelikelytobeadmittedtohospitalwithcovid19studysuggestshttpswwwtheguardiancomsociety2021sep27smokersmuchmorelikelytobeadmittedtohospitalwithcovid19studysuggests', 'wyoming', 'x', 'xanax', 'xborderline', 'xc', 'xd', 'xhow', 'xl', 'xleaned', 'xoxmy', 'xrayed', 'xrays', 'xsymptomsside', 'xtc', 'xxdrink', 'xxxi', 'xxxxx', 'xylometazoline', 'ya', 'yacht', 'yada', 'yadda', 'yaddayadda', 'yaknowim', 'yall', 'yall22m', 'yallday', 'yallfeeling', 'yallfuc', 'yallhas', 'yalls', 'yalltoday', 'yanking', 'yard', 'yawn', 'yay', 'yayquit', 'yayslipped', 'ye', 'yea', 'yeah', 'yeahi', 'year', 'yearafter', 'yeari', 'yearly', 'yearns', 'years10593', 'yearsaa', 'yearsanxiety', 'yearshow', 'yearsif', 'yearsin', 'yearsive', 'yearslife', 'yearsmy', 'yearsneed', 'yearsnicotine', 'yearspacing', 'yearsthank', 'yearsthis', 'yearswent', 'yell', 'yelled', 'yelling', 'yellow', 'yellowed', 'yellower', 'yep', 'yes', 'yes85', 'yesteday', 'yesterday', 'yesterdaytoday', 'yesturday', 'yet', 'yield', 'yo', 'yoga', 'yogameditate', 'yogurt', 'yolo', 'yoohoos', 'york', 'you1', 'you13', 'you14', 'you210', 'you3', 'you4', 'you45', 'you538', 'you58', 'youaa', 'youadhd', 'youalcohol', 'youalternative', 'youanyone', 'youare', 'youbeen', 'youcan', 'youchecking', 'youclear', 'youd', 'youdaily', 'youday', 'youdeciding', 'youdid', 'youdo', 'youfederal', 'youfilling', 'youfirst', 'youfree', 'yougirlfriend', 'youhas', 'youhave', 'youhelp', 'youhow', 'youi', 'youirish', 'youive', 'youjust', 'youlgbtq', 'youlinks', 'youll', 'youmedical', 'youmeeting', 'youmeetings', 'younearly', 'younew', 'young', 'youngadulthood', 'younger', 'youngest', 'youngins', 'younobody', 'younot', 'youone', 'youonline', 'youpanic', 'youquitting', 'youre', 'yourehab', 'yourequesting', 'yoursef', 'yourself3', 'yourselfrelapse', 'yourselfyear', 'yoursthe', 'yoursthings', 'yous', 'youseeking', 'youself', 'yousingle', 'yousmoking', 'youso', 'youtemporary', 'youth', 'youthree', 'youtoday', 'youtube', 'youtubehttpstinyurlcomaag2kplaylist', 'youtubehttpstinyurlcomaag2kplaylistdaily', 'youurge', 'youve', 'youwhat', 'youwithdrawals', 'youyou', 'youyour', 'yoyo', 'ypaa', 'ypg', 'yr', 'yt', 'yukprepping', 'yummy', 'yuor', 'yup', 'zayed', 'zealot', 'zealous', 'zero', 'zerocal', 'zest', 'zilch', 'zing', 'zip', 'ziptied', 'zit', 'zoloft', 'zombie', 'zombiehow', 'zombiei', 'zombieish', 'zone', 'zonesneed', 'zoom', 'zoomhow', 'zoomparties', 'zoomshow', 'zumba', 'zyban', 'zybanwellbutrin', 'zyn', 'zyns', 'zypan', 'à', 'épile', 'ériclooking', 'ø']\n"
     ]
    },
    {
     "name": "stderr",
     "output_type": "stream",
     "text": [
      "C:\\Users\\ACCEP7ANCE\\AppData\\Roaming\\Python\\Python37\\site-packages\\sklearn\\utils\\deprecation.py:87: FutureWarning: Function get_feature_names is deprecated; get_feature_names is deprecated in 1.0 and will be removed in 1.2. Please use get_feature_names_out instead.\n",
      "  warnings.warn(msg, category=FutureWarning)\n"
     ]
    }
   ],
   "source": [
    "from sklearn.feature_extraction.text import CountVectorizer\n",
    "\n",
    "count_vect = count_vect = CountVectorizer(analyzer=clean_text_lemmatize)\n",
    "\n",
    "X_counts = count_vect.fit_transform(data_nopunct['selftext_title'])\n",
    "\n",
    "# Returns the number of rows and columns of X_counts i.e. 5567 text messages and 8104 unique words\n",
    "print(X_counts.shape)\n",
    "\n",
    "# Returns the unique words across alll text messages\n",
    "print(count_vect.get_feature_names())"
   ]
  },
  {
   "cell_type": "markdown",
   "metadata": {},
   "source": [
    "Now that the data has been vectorised, let's send it to a dataframe."
   ]
  },
  {
   "cell_type": "code",
   "execution_count": 10,
   "metadata": {},
   "outputs": [
    {
     "data": {
      "text/html": [
       "<div>\n",
       "<style scoped>\n",
       "    .dataframe tbody tr th:only-of-type {\n",
       "        vertical-align: middle;\n",
       "    }\n",
       "\n",
       "    .dataframe tbody tr th {\n",
       "        vertical-align: top;\n",
       "    }\n",
       "\n",
       "    .dataframe thead th {\n",
       "        text-align: right;\n",
       "    }\n",
       "</style>\n",
       "<table border=\"1\" class=\"dataframe\">\n",
       "  <thead>\n",
       "    <tr style=\"text-align: right;\">\n",
       "      <th></th>\n",
       "      <th></th>\n",
       "      <th>0</th>\n",
       "      <th>0000</th>\n",
       "      <th>0167</th>\n",
       "      <th>027</th>\n",
       "      <th>030</th>\n",
       "      <th>0330</th>\n",
       "      <th>042</th>\n",
       "      <th>0430</th>\n",
       "      <th>05</th>\n",
       "      <th>...</th>\n",
       "      <th>zumba</th>\n",
       "      <th>zyban</th>\n",
       "      <th>zybanwellbutrin</th>\n",
       "      <th>zyn</th>\n",
       "      <th>zyns</th>\n",
       "      <th>zypan</th>\n",
       "      <th>à</th>\n",
       "      <th>épile</th>\n",
       "      <th>ériclooking</th>\n",
       "      <th>ø</th>\n",
       "    </tr>\n",
       "  </thead>\n",
       "  <tbody>\n",
       "    <tr>\n",
       "      <th>0</th>\n",
       "      <td>0</td>\n",
       "      <td>0</td>\n",
       "      <td>0</td>\n",
       "      <td>0</td>\n",
       "      <td>0</td>\n",
       "      <td>0</td>\n",
       "      <td>0</td>\n",
       "      <td>0</td>\n",
       "      <td>0</td>\n",
       "      <td>0</td>\n",
       "      <td>...</td>\n",
       "      <td>0</td>\n",
       "      <td>0</td>\n",
       "      <td>0</td>\n",
       "      <td>0</td>\n",
       "      <td>0</td>\n",
       "      <td>0</td>\n",
       "      <td>0</td>\n",
       "      <td>0</td>\n",
       "      <td>0</td>\n",
       "      <td>0</td>\n",
       "    </tr>\n",
       "    <tr>\n",
       "      <th>1</th>\n",
       "      <td>0</td>\n",
       "      <td>0</td>\n",
       "      <td>0</td>\n",
       "      <td>0</td>\n",
       "      <td>0</td>\n",
       "      <td>0</td>\n",
       "      <td>0</td>\n",
       "      <td>0</td>\n",
       "      <td>0</td>\n",
       "      <td>0</td>\n",
       "      <td>...</td>\n",
       "      <td>0</td>\n",
       "      <td>0</td>\n",
       "      <td>0</td>\n",
       "      <td>0</td>\n",
       "      <td>0</td>\n",
       "      <td>0</td>\n",
       "      <td>0</td>\n",
       "      <td>0</td>\n",
       "      <td>0</td>\n",
       "      <td>0</td>\n",
       "    </tr>\n",
       "    <tr>\n",
       "      <th>2</th>\n",
       "      <td>0</td>\n",
       "      <td>0</td>\n",
       "      <td>0</td>\n",
       "      <td>0</td>\n",
       "      <td>0</td>\n",
       "      <td>0</td>\n",
       "      <td>0</td>\n",
       "      <td>0</td>\n",
       "      <td>0</td>\n",
       "      <td>0</td>\n",
       "      <td>...</td>\n",
       "      <td>0</td>\n",
       "      <td>0</td>\n",
       "      <td>0</td>\n",
       "      <td>0</td>\n",
       "      <td>0</td>\n",
       "      <td>0</td>\n",
       "      <td>0</td>\n",
       "      <td>0</td>\n",
       "      <td>0</td>\n",
       "      <td>0</td>\n",
       "    </tr>\n",
       "    <tr>\n",
       "      <th>3</th>\n",
       "      <td>0</td>\n",
       "      <td>0</td>\n",
       "      <td>0</td>\n",
       "      <td>0</td>\n",
       "      <td>0</td>\n",
       "      <td>0</td>\n",
       "      <td>0</td>\n",
       "      <td>0</td>\n",
       "      <td>0</td>\n",
       "      <td>0</td>\n",
       "      <td>...</td>\n",
       "      <td>0</td>\n",
       "      <td>0</td>\n",
       "      <td>0</td>\n",
       "      <td>0</td>\n",
       "      <td>0</td>\n",
       "      <td>0</td>\n",
       "      <td>0</td>\n",
       "      <td>0</td>\n",
       "      <td>0</td>\n",
       "      <td>0</td>\n",
       "    </tr>\n",
       "    <tr>\n",
       "      <th>4</th>\n",
       "      <td>0</td>\n",
       "      <td>0</td>\n",
       "      <td>0</td>\n",
       "      <td>0</td>\n",
       "      <td>0</td>\n",
       "      <td>0</td>\n",
       "      <td>0</td>\n",
       "      <td>0</td>\n",
       "      <td>0</td>\n",
       "      <td>0</td>\n",
       "      <td>...</td>\n",
       "      <td>0</td>\n",
       "      <td>0</td>\n",
       "      <td>0</td>\n",
       "      <td>0</td>\n",
       "      <td>0</td>\n",
       "      <td>0</td>\n",
       "      <td>0</td>\n",
       "      <td>0</td>\n",
       "      <td>0</td>\n",
       "      <td>0</td>\n",
       "    </tr>\n",
       "    <tr>\n",
       "      <th>...</th>\n",
       "      <td>...</td>\n",
       "      <td>...</td>\n",
       "      <td>...</td>\n",
       "      <td>...</td>\n",
       "      <td>...</td>\n",
       "      <td>...</td>\n",
       "      <td>...</td>\n",
       "      <td>...</td>\n",
       "      <td>...</td>\n",
       "      <td>...</td>\n",
       "      <td>...</td>\n",
       "      <td>...</td>\n",
       "      <td>...</td>\n",
       "      <td>...</td>\n",
       "      <td>...</td>\n",
       "      <td>...</td>\n",
       "      <td>...</td>\n",
       "      <td>...</td>\n",
       "      <td>...</td>\n",
       "      <td>...</td>\n",
       "      <td>...</td>\n",
       "    </tr>\n",
       "    <tr>\n",
       "      <th>3293</th>\n",
       "      <td>0</td>\n",
       "      <td>0</td>\n",
       "      <td>0</td>\n",
       "      <td>0</td>\n",
       "      <td>0</td>\n",
       "      <td>0</td>\n",
       "      <td>0</td>\n",
       "      <td>0</td>\n",
       "      <td>0</td>\n",
       "      <td>0</td>\n",
       "      <td>...</td>\n",
       "      <td>0</td>\n",
       "      <td>0</td>\n",
       "      <td>0</td>\n",
       "      <td>0</td>\n",
       "      <td>0</td>\n",
       "      <td>0</td>\n",
       "      <td>0</td>\n",
       "      <td>0</td>\n",
       "      <td>0</td>\n",
       "      <td>0</td>\n",
       "    </tr>\n",
       "    <tr>\n",
       "      <th>3294</th>\n",
       "      <td>0</td>\n",
       "      <td>0</td>\n",
       "      <td>0</td>\n",
       "      <td>0</td>\n",
       "      <td>0</td>\n",
       "      <td>0</td>\n",
       "      <td>0</td>\n",
       "      <td>0</td>\n",
       "      <td>0</td>\n",
       "      <td>0</td>\n",
       "      <td>...</td>\n",
       "      <td>0</td>\n",
       "      <td>0</td>\n",
       "      <td>0</td>\n",
       "      <td>0</td>\n",
       "      <td>0</td>\n",
       "      <td>0</td>\n",
       "      <td>0</td>\n",
       "      <td>0</td>\n",
       "      <td>0</td>\n",
       "      <td>0</td>\n",
       "    </tr>\n",
       "    <tr>\n",
       "      <th>3295</th>\n",
       "      <td>0</td>\n",
       "      <td>0</td>\n",
       "      <td>0</td>\n",
       "      <td>0</td>\n",
       "      <td>0</td>\n",
       "      <td>0</td>\n",
       "      <td>0</td>\n",
       "      <td>0</td>\n",
       "      <td>0</td>\n",
       "      <td>0</td>\n",
       "      <td>...</td>\n",
       "      <td>0</td>\n",
       "      <td>0</td>\n",
       "      <td>0</td>\n",
       "      <td>0</td>\n",
       "      <td>0</td>\n",
       "      <td>0</td>\n",
       "      <td>0</td>\n",
       "      <td>0</td>\n",
       "      <td>0</td>\n",
       "      <td>0</td>\n",
       "    </tr>\n",
       "    <tr>\n",
       "      <th>3296</th>\n",
       "      <td>0</td>\n",
       "      <td>0</td>\n",
       "      <td>0</td>\n",
       "      <td>0</td>\n",
       "      <td>0</td>\n",
       "      <td>0</td>\n",
       "      <td>0</td>\n",
       "      <td>0</td>\n",
       "      <td>0</td>\n",
       "      <td>0</td>\n",
       "      <td>...</td>\n",
       "      <td>0</td>\n",
       "      <td>0</td>\n",
       "      <td>0</td>\n",
       "      <td>0</td>\n",
       "      <td>0</td>\n",
       "      <td>0</td>\n",
       "      <td>0</td>\n",
       "      <td>0</td>\n",
       "      <td>0</td>\n",
       "      <td>0</td>\n",
       "    </tr>\n",
       "    <tr>\n",
       "      <th>3297</th>\n",
       "      <td>0</td>\n",
       "      <td>2</td>\n",
       "      <td>0</td>\n",
       "      <td>0</td>\n",
       "      <td>0</td>\n",
       "      <td>0</td>\n",
       "      <td>0</td>\n",
       "      <td>0</td>\n",
       "      <td>0</td>\n",
       "      <td>0</td>\n",
       "      <td>...</td>\n",
       "      <td>0</td>\n",
       "      <td>0</td>\n",
       "      <td>0</td>\n",
       "      <td>0</td>\n",
       "      <td>0</td>\n",
       "      <td>0</td>\n",
       "      <td>0</td>\n",
       "      <td>0</td>\n",
       "      <td>0</td>\n",
       "      <td>0</td>\n",
       "    </tr>\n",
       "  </tbody>\n",
       "</table>\n",
       "<p>3298 rows × 16626 columns</p>\n",
       "</div>"
      ],
      "text/plain": [
       "         0  0000  0167  027  030  0330  042  0430  05  ...  zumba  zyban  \\\n",
       "0     0  0     0     0    0    0     0    0     0   0  ...      0      0   \n",
       "1     0  0     0     0    0    0     0    0     0   0  ...      0      0   \n",
       "2     0  0     0     0    0    0     0    0     0   0  ...      0      0   \n",
       "3     0  0     0     0    0    0     0    0     0   0  ...      0      0   \n",
       "4     0  0     0     0    0    0     0    0     0   0  ...      0      0   \n",
       "...  .. ..   ...   ...  ...  ...   ...  ...   ...  ..  ...    ...    ...   \n",
       "3293  0  0     0     0    0    0     0    0     0   0  ...      0      0   \n",
       "3294  0  0     0     0    0    0     0    0     0   0  ...      0      0   \n",
       "3295  0  0     0     0    0    0     0    0     0   0  ...      0      0   \n",
       "3296  0  0     0     0    0    0     0    0     0   0  ...      0      0   \n",
       "3297  0  2     0     0    0    0     0    0     0   0  ...      0      0   \n",
       "\n",
       "      zybanwellbutrin  zyn  zyns  zypan  à  épile  ériclooking  ø  \n",
       "0                   0    0     0      0  0      0            0  0  \n",
       "1                   0    0     0      0  0      0            0  0  \n",
       "2                   0    0     0      0  0      0            0  0  \n",
       "3                   0    0     0      0  0      0            0  0  \n",
       "4                   0    0     0      0  0      0            0  0  \n",
       "...               ...  ...   ...    ... ..    ...          ... ..  \n",
       "3293                0    0     0      0  0      0            0  0  \n",
       "3294                0    0     0      0  0      0            0  0  \n",
       "3295                0    0     0      0  0      0            0  0  \n",
       "3296                0    0     0      0  0      0            0  0  \n",
       "3297                0    0     0      0  0      0            0  0  \n",
       "\n",
       "[3298 rows x 16626 columns]"
      ]
     },
     "execution_count": 10,
     "metadata": {},
     "output_type": "execute_result"
    }
   ],
   "source": [
    "X_counts_df = pd.DataFrame(X_counts.toarray(), columns = count_vect.get_feature_names())\n",
    "X_counts_df\n",
    "\n",
    "# Using toarray() method"
   ]
  },
  {
   "cell_type": "markdown",
   "metadata": {},
   "source": [
    "Here is another alternative way to perform the same task with the to_dense() method."
   ]
  },
  {
   "cell_type": "code",
   "execution_count": 11,
   "metadata": {
    "scrolled": true
   },
   "outputs": [
    {
     "name": "stderr",
     "output_type": "stream",
     "text": [
      "C:\\Users\\ACCEP7ANCE\\AppData\\Roaming\\Python\\Python37\\site-packages\\sklearn\\utils\\deprecation.py:87: FutureWarning: Function get_feature_names is deprecated; get_feature_names is deprecated in 1.0 and will be removed in 1.2. Please use get_feature_names_out instead.\n",
      "  warnings.warn(msg, category=FutureWarning)\n"
     ]
    },
    {
     "data": {
      "text/html": [
       "<div>\n",
       "<style scoped>\n",
       "    .dataframe tbody tr th:only-of-type {\n",
       "        vertical-align: middle;\n",
       "    }\n",
       "\n",
       "    .dataframe tbody tr th {\n",
       "        vertical-align: top;\n",
       "    }\n",
       "\n",
       "    .dataframe thead th {\n",
       "        text-align: right;\n",
       "    }\n",
       "</style>\n",
       "<table border=\"1\" class=\"dataframe\">\n",
       "  <thead>\n",
       "    <tr style=\"text-align: right;\">\n",
       "      <th></th>\n",
       "      <th></th>\n",
       "      <th>0</th>\n",
       "      <th>0000</th>\n",
       "      <th>0167</th>\n",
       "      <th>027</th>\n",
       "      <th>030</th>\n",
       "      <th>0330</th>\n",
       "      <th>042</th>\n",
       "      <th>0430</th>\n",
       "      <th>05</th>\n",
       "      <th>...</th>\n",
       "      <th>zumba</th>\n",
       "      <th>zyban</th>\n",
       "      <th>zybanwellbutrin</th>\n",
       "      <th>zyn</th>\n",
       "      <th>zyns</th>\n",
       "      <th>zypan</th>\n",
       "      <th>à</th>\n",
       "      <th>épile</th>\n",
       "      <th>ériclooking</th>\n",
       "      <th>ø</th>\n",
       "    </tr>\n",
       "  </thead>\n",
       "  <tbody>\n",
       "    <tr>\n",
       "      <th>0</th>\n",
       "      <td>0</td>\n",
       "      <td>0</td>\n",
       "      <td>0</td>\n",
       "      <td>0</td>\n",
       "      <td>0</td>\n",
       "      <td>0</td>\n",
       "      <td>0</td>\n",
       "      <td>0</td>\n",
       "      <td>0</td>\n",
       "      <td>0</td>\n",
       "      <td>...</td>\n",
       "      <td>0</td>\n",
       "      <td>0</td>\n",
       "      <td>0</td>\n",
       "      <td>0</td>\n",
       "      <td>0</td>\n",
       "      <td>0</td>\n",
       "      <td>0</td>\n",
       "      <td>0</td>\n",
       "      <td>0</td>\n",
       "      <td>0</td>\n",
       "    </tr>\n",
       "    <tr>\n",
       "      <th>1</th>\n",
       "      <td>0</td>\n",
       "      <td>0</td>\n",
       "      <td>0</td>\n",
       "      <td>0</td>\n",
       "      <td>0</td>\n",
       "      <td>0</td>\n",
       "      <td>0</td>\n",
       "      <td>0</td>\n",
       "      <td>0</td>\n",
       "      <td>0</td>\n",
       "      <td>...</td>\n",
       "      <td>0</td>\n",
       "      <td>0</td>\n",
       "      <td>0</td>\n",
       "      <td>0</td>\n",
       "      <td>0</td>\n",
       "      <td>0</td>\n",
       "      <td>0</td>\n",
       "      <td>0</td>\n",
       "      <td>0</td>\n",
       "      <td>0</td>\n",
       "    </tr>\n",
       "    <tr>\n",
       "      <th>2</th>\n",
       "      <td>0</td>\n",
       "      <td>0</td>\n",
       "      <td>0</td>\n",
       "      <td>0</td>\n",
       "      <td>0</td>\n",
       "      <td>0</td>\n",
       "      <td>0</td>\n",
       "      <td>0</td>\n",
       "      <td>0</td>\n",
       "      <td>0</td>\n",
       "      <td>...</td>\n",
       "      <td>0</td>\n",
       "      <td>0</td>\n",
       "      <td>0</td>\n",
       "      <td>0</td>\n",
       "      <td>0</td>\n",
       "      <td>0</td>\n",
       "      <td>0</td>\n",
       "      <td>0</td>\n",
       "      <td>0</td>\n",
       "      <td>0</td>\n",
       "    </tr>\n",
       "    <tr>\n",
       "      <th>3</th>\n",
       "      <td>0</td>\n",
       "      <td>0</td>\n",
       "      <td>0</td>\n",
       "      <td>0</td>\n",
       "      <td>0</td>\n",
       "      <td>0</td>\n",
       "      <td>0</td>\n",
       "      <td>0</td>\n",
       "      <td>0</td>\n",
       "      <td>0</td>\n",
       "      <td>...</td>\n",
       "      <td>0</td>\n",
       "      <td>0</td>\n",
       "      <td>0</td>\n",
       "      <td>0</td>\n",
       "      <td>0</td>\n",
       "      <td>0</td>\n",
       "      <td>0</td>\n",
       "      <td>0</td>\n",
       "      <td>0</td>\n",
       "      <td>0</td>\n",
       "    </tr>\n",
       "    <tr>\n",
       "      <th>4</th>\n",
       "      <td>0</td>\n",
       "      <td>0</td>\n",
       "      <td>0</td>\n",
       "      <td>0</td>\n",
       "      <td>0</td>\n",
       "      <td>0</td>\n",
       "      <td>0</td>\n",
       "      <td>0</td>\n",
       "      <td>0</td>\n",
       "      <td>0</td>\n",
       "      <td>...</td>\n",
       "      <td>0</td>\n",
       "      <td>0</td>\n",
       "      <td>0</td>\n",
       "      <td>0</td>\n",
       "      <td>0</td>\n",
       "      <td>0</td>\n",
       "      <td>0</td>\n",
       "      <td>0</td>\n",
       "      <td>0</td>\n",
       "      <td>0</td>\n",
       "    </tr>\n",
       "    <tr>\n",
       "      <th>...</th>\n",
       "      <td>...</td>\n",
       "      <td>...</td>\n",
       "      <td>...</td>\n",
       "      <td>...</td>\n",
       "      <td>...</td>\n",
       "      <td>...</td>\n",
       "      <td>...</td>\n",
       "      <td>...</td>\n",
       "      <td>...</td>\n",
       "      <td>...</td>\n",
       "      <td>...</td>\n",
       "      <td>...</td>\n",
       "      <td>...</td>\n",
       "      <td>...</td>\n",
       "      <td>...</td>\n",
       "      <td>...</td>\n",
       "      <td>...</td>\n",
       "      <td>...</td>\n",
       "      <td>...</td>\n",
       "      <td>...</td>\n",
       "      <td>...</td>\n",
       "    </tr>\n",
       "    <tr>\n",
       "      <th>3293</th>\n",
       "      <td>0</td>\n",
       "      <td>0</td>\n",
       "      <td>0</td>\n",
       "      <td>0</td>\n",
       "      <td>0</td>\n",
       "      <td>0</td>\n",
       "      <td>0</td>\n",
       "      <td>0</td>\n",
       "      <td>0</td>\n",
       "      <td>0</td>\n",
       "      <td>...</td>\n",
       "      <td>0</td>\n",
       "      <td>0</td>\n",
       "      <td>0</td>\n",
       "      <td>0</td>\n",
       "      <td>0</td>\n",
       "      <td>0</td>\n",
       "      <td>0</td>\n",
       "      <td>0</td>\n",
       "      <td>0</td>\n",
       "      <td>0</td>\n",
       "    </tr>\n",
       "    <tr>\n",
       "      <th>3294</th>\n",
       "      <td>0</td>\n",
       "      <td>0</td>\n",
       "      <td>0</td>\n",
       "      <td>0</td>\n",
       "      <td>0</td>\n",
       "      <td>0</td>\n",
       "      <td>0</td>\n",
       "      <td>0</td>\n",
       "      <td>0</td>\n",
       "      <td>0</td>\n",
       "      <td>...</td>\n",
       "      <td>0</td>\n",
       "      <td>0</td>\n",
       "      <td>0</td>\n",
       "      <td>0</td>\n",
       "      <td>0</td>\n",
       "      <td>0</td>\n",
       "      <td>0</td>\n",
       "      <td>0</td>\n",
       "      <td>0</td>\n",
       "      <td>0</td>\n",
       "    </tr>\n",
       "    <tr>\n",
       "      <th>3295</th>\n",
       "      <td>0</td>\n",
       "      <td>0</td>\n",
       "      <td>0</td>\n",
       "      <td>0</td>\n",
       "      <td>0</td>\n",
       "      <td>0</td>\n",
       "      <td>0</td>\n",
       "      <td>0</td>\n",
       "      <td>0</td>\n",
       "      <td>0</td>\n",
       "      <td>...</td>\n",
       "      <td>0</td>\n",
       "      <td>0</td>\n",
       "      <td>0</td>\n",
       "      <td>0</td>\n",
       "      <td>0</td>\n",
       "      <td>0</td>\n",
       "      <td>0</td>\n",
       "      <td>0</td>\n",
       "      <td>0</td>\n",
       "      <td>0</td>\n",
       "    </tr>\n",
       "    <tr>\n",
       "      <th>3296</th>\n",
       "      <td>0</td>\n",
       "      <td>0</td>\n",
       "      <td>0</td>\n",
       "      <td>0</td>\n",
       "      <td>0</td>\n",
       "      <td>0</td>\n",
       "      <td>0</td>\n",
       "      <td>0</td>\n",
       "      <td>0</td>\n",
       "      <td>0</td>\n",
       "      <td>...</td>\n",
       "      <td>0</td>\n",
       "      <td>0</td>\n",
       "      <td>0</td>\n",
       "      <td>0</td>\n",
       "      <td>0</td>\n",
       "      <td>0</td>\n",
       "      <td>0</td>\n",
       "      <td>0</td>\n",
       "      <td>0</td>\n",
       "      <td>0</td>\n",
       "    </tr>\n",
       "    <tr>\n",
       "      <th>3297</th>\n",
       "      <td>0</td>\n",
       "      <td>2</td>\n",
       "      <td>0</td>\n",
       "      <td>0</td>\n",
       "      <td>0</td>\n",
       "      <td>0</td>\n",
       "      <td>0</td>\n",
       "      <td>0</td>\n",
       "      <td>0</td>\n",
       "      <td>0</td>\n",
       "      <td>...</td>\n",
       "      <td>0</td>\n",
       "      <td>0</td>\n",
       "      <td>0</td>\n",
       "      <td>0</td>\n",
       "      <td>0</td>\n",
       "      <td>0</td>\n",
       "      <td>0</td>\n",
       "      <td>0</td>\n",
       "      <td>0</td>\n",
       "      <td>0</td>\n",
       "    </tr>\n",
       "  </tbody>\n",
       "</table>\n",
       "<p>3298 rows × 16626 columns</p>\n",
       "</div>"
      ],
      "text/plain": [
       "         0  0000  0167  027  030  0330  042  0430  05  ...  zumba  zyban  \\\n",
       "0     0  0     0     0    0    0     0    0     0   0  ...      0      0   \n",
       "1     0  0     0     0    0    0     0    0     0   0  ...      0      0   \n",
       "2     0  0     0     0    0    0     0    0     0   0  ...      0      0   \n",
       "3     0  0     0     0    0    0     0    0     0   0  ...      0      0   \n",
       "4     0  0     0     0    0    0     0    0     0   0  ...      0      0   \n",
       "...  .. ..   ...   ...  ...  ...   ...  ...   ...  ..  ...    ...    ...   \n",
       "3293  0  0     0     0    0    0     0    0     0   0  ...      0      0   \n",
       "3294  0  0     0     0    0    0     0    0     0   0  ...      0      0   \n",
       "3295  0  0     0     0    0    0     0    0     0   0  ...      0      0   \n",
       "3296  0  0     0     0    0    0     0    0     0   0  ...      0      0   \n",
       "3297  0  2     0     0    0    0     0    0     0   0  ...      0      0   \n",
       "\n",
       "      zybanwellbutrin  zyn  zyns  zypan  à  épile  ériclooking  ø  \n",
       "0                   0    0     0      0  0      0            0  0  \n",
       "1                   0    0     0      0  0      0            0  0  \n",
       "2                   0    0     0      0  0      0            0  0  \n",
       "3                   0    0     0      0  0      0            0  0  \n",
       "4                   0    0     0      0  0      0            0  0  \n",
       "...               ...  ...   ...    ... ..    ...          ... ..  \n",
       "3293                0    0     0      0  0      0            0  0  \n",
       "3294                0    0     0      0  0      0            0  0  \n",
       "3295                0    0     0      0  0      0            0  0  \n",
       "3296                0    0     0      0  0      0            0  0  \n",
       "3297                0    0     0      0  0      0            0  0  \n",
       "\n",
       "[3298 rows x 16626 columns]"
      ]
     },
     "execution_count": 11,
     "metadata": {},
     "output_type": "execute_result"
    }
   ],
   "source": [
    "X_counts_df = pd.DataFrame(count_vect.fit_transform(data_nopunct['selftext_title']).todense(), columns = count_vect.get_feature_names())\n",
    "X_counts_df\n",
    "\n",
    "#using to_dense() method"
   ]
  },
  {
   "cell_type": "markdown",
   "metadata": {},
   "source": [
    "## Initial EDA Visualisation\n",
    "Now to see our words, let's plot a horizontal bar chart with the frequency of our words inside."
   ]
  },
  {
   "cell_type": "code",
   "execution_count": 12,
   "metadata": {
    "scrolled": false
   },
   "outputs": [
    {
     "data": {
      "image/png": "[encoded data removed]",
      "text/plain": [
       "<Figure size 1080x720 with 1 Axes>"
      ]
     },
     "metadata": {
      "needs_background": "light"
     },
     "output_type": "display_data"
    }
   ],
   "source": [
    "plt.figure(figsize = (15,10))\n",
    "\n",
    "X_counts_df.sum().sort_values(ascending = True).tail(40).plot(kind = 'barh', title='Frequency of words in Smoking and Alcoholic Subreddits');"
   ]
  },
  {
   "cell_type": "markdown",
   "metadata": {},
   "source": [
    "Yikes, appears there are several additional words we need to remove as stop words. Let's add the irrelevant words into our stopwords to see if it yields a better result.\n",
    "\n",
    "These are the words to be removed:  \n",
    "day, im, like, time, year, feel, get, one, want, month, really, would, go, week, ive, dont, going, thing, even, of, my  meeting, people, first, aa, back, work, much, last, think, got, need, the"
   ]
  },
  {
   "cell_type": "code",
   "execution_count": 13,
   "metadata": {},
   "outputs": [
    {
     "name": "stderr",
     "output_type": "stream",
     "text": [
      "C:\\Users\\ACCEP7ANCE\\AppData\\Roaming\\Python\\Python37\\site-packages\\sklearn\\utils\\deprecation.py:87: FutureWarning: Function get_feature_names is deprecated; get_feature_names is deprecated in 1.0 and will be removed in 1.2. Please use get_feature_names_out instead.\n",
      "  warnings.warn(msg, category=FutureWarning)\n"
     ]
    },
    {
     "data": {
      "image/png": "[encoded data removed]",
      "text/plain": [
       "<Figure size 1080x720 with 1 Axes>"
      ]
     },
     "metadata": {
      "needs_background": "light"
     },
     "output_type": "display_data"
    }
   ],
   "source": [
    "new_stopwords = ['day', 'im', 'like', 'time', 'year', 'feel', 'get', 'one', 'want', 'month', 'really', 'would','go','week','ive','dont','going','thing','even', 'of', 'my' 'meeting', 'people', 'first', 'aa', 'back','work','much','last','think','got','need','the']\n",
    "add_stopwords = nltk.corpus.stopwords.words('english') + new_stopwords\n",
    "\n",
    "count_vect = count_vect = CountVectorizer(analyzer=clean_text_lemmatize_more_stopwords)\n",
    "\n",
    "\n",
    "X_counts = count_vect.fit_transform(data_nopunct['selftext_title'])\n",
    "\n",
    "\n",
    "X_counts_df = pd.DataFrame(count_vect.fit_transform(data_nopunct['selftext_title']).todense(), columns = count_vect.get_feature_names())\n",
    "\n",
    "\n",
    "plt.figure(figsize = (15,10))\n",
    "\n",
    "X_counts_df.sum().sort_values(ascending = True).tail(20).plot(kind = 'barh');"
   ]
  },
  {
   "cell_type": "markdown",
   "metadata": {},
   "source": [
    "Now this plot makes more sense.\n",
    "\n",
    "A few insights we can gather from this post. We can tell that posts that typically contains cigarette or smoke are very likely from the smoking subreddit, whereas sober, alcohol and drinking are likely from the alcoholic subreddits. These words are very useful for us to sort the posts out and can be used in our model for further evaluation and predictions."
   ]
  },
  {
   "cell_type": "markdown",
   "metadata": {},
   "source": [
    "## Apply N-Gram CountVectorizer (2,3)\n",
    "\n",
    "Let's Apply N-Gram CountVectorizer as well with (2,3) parameter."
   ]
  },
  {
   "cell_type": "code",
   "execution_count": 14,
   "metadata": {},
   "outputs": [],
   "source": [
    "ngram_vect = CountVectorizer(ngram_range=(2,3))\n",
    "X_counts_ngram = ngram_vect.fit_transform(data_nopunct['selftext_title'])\n",
    "# Apply our N-gram vectorizer with 2,3 parameter before fitting it into our vectorised data"
   ]
  },
  {
   "cell_type": "code",
   "execution_count": 15,
   "metadata": {
    "scrolled": true
   },
   "outputs": [
    {
     "name": "stderr",
     "output_type": "stream",
     "text": [
      "C:\\Users\\ACCEP7ANCE\\AppData\\Roaming\\Python\\Python37\\site-packages\\sklearn\\utils\\deprecation.py:87: FutureWarning: Function get_feature_names is deprecated; get_feature_names is deprecated in 1.0 and will be removed in 1.2. Please use get_feature_names_out instead.\n",
      "  warnings.warn(msg, category=FutureWarning)\n"
     ]
    }
   ],
   "source": [
    "X_counts_df_ngram = pd.DataFrame(X_counts_ngram.toarray())\n",
    "X_counts_df_ngram.columns = ngram_vect.get_feature_names()\n",
    "# Save our (2,3) vectorized data into our a dataframe"
   ]
  },
  {
   "cell_type": "markdown",
   "metadata": {},
   "source": [
    "Now will be an good time to view our most common 2-3 word phrases in our data."
   ]
  },
  {
   "cell_type": "code",
   "execution_count": 16,
   "metadata": {
    "scrolled": false
   },
   "outputs": [
    {
     "data": {
      "image/png": "[encoded data removed]",
      "text/plain": [
       "<Figure size 1080x576 with 1 Axes>"
      ]
     },
     "metadata": {
      "needs_background": "light"
     },
     "output_type": "display_data"
    }
   ],
   "source": [
    "plt.figure(figsize = (15,8))\n",
    "\n",
    "X_counts_df_ngram.sum().sort_values(ascending = True).tail(10).plot(kind = 'barh');"
   ]
  },
  {
   "cell_type": "markdown",
   "metadata": {},
   "source": [
    "It also appears that most people with smoking or alcholic problems might want to quit their habits too. This falls in line with a lot of our observations in rehabilitation centers\n",
    "\n",
    "** Need to troubleshoot why our cleaning function is not cleaning up our stopwords **"
   ]
  },
  {
   "cell_type": "markdown",
   "metadata": {},
   "source": [
    "## Apply TF-DIF Vectorization \n",
    "Let's also apply Term Frequency–Inverse Document Frequency (TF-IDF) vectorization to our data so that we can get a better gage of our model later. "
   ]
  },
  {
   "cell_type": "code",
   "execution_count": 17,
   "metadata": {},
   "outputs": [],
   "source": [
    "from sklearn.feature_extraction.text import TfidfVectorizer\n",
    "\n",
    "tfidf_vect = TfidfVectorizer(analyzer=clean_text_lemmatize_more_stopwords)\n",
    "X_tfidf = tfidf_vect.fit_transform(data_nopunct['selftext_title'])\n",
    "# Apply TF-DIF vectorization to our data, and then fit it into a data variable"
   ]
  },
  {
   "cell_type": "code",
   "execution_count": 18,
   "metadata": {},
   "outputs": [
    {
     "name": "stderr",
     "output_type": "stream",
     "text": [
      "C:\\Users\\ACCEP7ANCE\\AppData\\Roaming\\Python\\Python37\\site-packages\\sklearn\\utils\\deprecation.py:87: FutureWarning: Function get_feature_names is deprecated; get_feature_names is deprecated in 1.0 and will be removed in 1.2. Please use get_feature_names_out instead.\n",
      "  warnings.warn(msg, category=FutureWarning)\n"
     ]
    }
   ],
   "source": [
    "X_tfidf_df = pd.DataFrame(X_tfidf.toarray())\n",
    "X_tfidf_df.columns = tfidf_vect.get_feature_names()\n",
    "# Send our fitted data into our DataFrame"
   ]
  },
  {
   "cell_type": "code",
   "execution_count": 19,
   "metadata": {},
   "outputs": [
    {
     "data": {
      "image/png": "[encoded data removed]",
      "text/plain": [
       "<Figure size 1080x576 with 1 Axes>"
      ]
     },
     "metadata": {
      "needs_background": "light"
     },
     "output_type": "display_data"
    }
   ],
   "source": [
    "plt.figure(figsize = (15,8))\n",
    "\n",
    "X_tfidf_df.sum().sort_values(ascending = True).tail(10).plot(kind = 'barh');"
   ]
  },
  {
   "cell_type": "markdown",
   "metadata": {},
   "source": [
    "# Baseline Model\n",
    "--- \n",
    "Our baseline model is by looking at the proportions of post in one category, deciding if it belongs to one category by looking at the majority of the data."
   ]
  },
  {
   "cell_type": "code",
   "execution_count": 23,
   "metadata": {
    "scrolled": true
   },
   "outputs": [
    {
     "data": {
      "text/plain": [
       "1    0.556701\n",
       "0    0.443299\n",
       "Name: subreddit, dtype: float64"
      ]
     },
     "execution_count": 23,
     "metadata": {},
     "output_type": "execute_result"
    }
   ],
   "source": [
    "y.value_counts(normalize = True)\n",
    "# Baseline Model (Percentage of one over the other)"
   ]
  },
  {
   "cell_type": "markdown",
   "metadata": {},
   "source": [
    "This indicates to us that our dataset is likely to be alcoholic as there are more 1 (Alcoholic) than 0 (Smoking). Let's evaluate our prediction metrics based on our baseline model."
   ]
  },
  {
   "cell_type": "code",
   "execution_count": 69,
   "metadata": {},
   "outputs": [],
   "source": [
    "# Baseline Model Metrics code"
   ]
  },
  {
   "cell_type": "markdown",
   "metadata": {},
   "source": [
    "# Train Our Models\n",
    "---\n",
    "\n",
    "Let's start training our model to make a prediction.\n",
    "\n",
    "### Import Our Model Libraries"
   ]
  },
  {
   "cell_type": "code",
   "execution_count": 20,
   "metadata": {},
   "outputs": [],
   "source": [
    "from sklearn.model_selection import train_test_split\n",
    "from sklearn import metrics\n",
    "from sklearn.metrics import accuracy_score\n",
    "\n",
    "from sklearn.naive_bayes import BernoulliNB\n",
    "from sklearn.naive_bayes import GaussianNB\n",
    "from sklearn.naive_bayes import MultinomialNB"
   ]
  },
  {
   "cell_type": "markdown",
   "metadata": {},
   "source": [
    "## Testing with Count Vectorized Data (1,1)\n",
    "\n",
    "Let's start by testing our model with our (1,1) count Vectorized data on our 2 models, namely Naive Bayes (Bernoulli, Multinomial and Gaussian) and KNN Model.\n",
    "\n",
    "### Loading our Count Vectorised Data into our X and Y sets"
   ]
  },
  {
   "cell_type": "code",
   "execution_count": 68,
   "metadata": {},
   "outputs": [],
   "source": [
    "X = X_counts_df\n",
    "y = data['subreddit']"
   ]
  },
  {
   "cell_type": "markdown",
   "metadata": {},
   "source": [
    "### Train test and split our data into an 80/20 set"
   ]
  },
  {
   "cell_type": "code",
   "execution_count": 22,
   "metadata": {},
   "outputs": [],
   "source": [
    "X_train, X_test, y_train, y_test = train_test_split(X, y, test_size=.2, random_state=42)"
   ]
  },
  {
   "cell_type": "markdown",
   "metadata": {},
   "source": [
    "### Using Bernoulli Naive Bayes"
   ]
  },
  {
   "cell_type": "code",
   "execution_count": 24,
   "metadata": {},
   "outputs": [
    {
     "name": "stdout",
     "output_type": "stream",
     "text": [
      "BernoulliNB(binarize=True)\n",
      "0.8348484848484848\n"
     ]
    }
   ],
   "source": [
    "BernNB = BernoulliNB(binarize=True)\n",
    "BernNB.fit(X_train, y_train)\n",
    "print(BernNB)\n",
    "\n",
    "y_expect = y_test\n",
    "y_pred = BernNB.predict(X_test)\n",
    "\n",
    "print(accuracy_score(y_expect, y_pred))"
   ]
  },
  {
   "cell_type": "code",
   "execution_count": 25,
   "metadata": {},
   "outputs": [
    {
     "name": "stdout",
     "output_type": "stream",
     "text": [
      "0.8536770280515542\n"
     ]
    }
   ],
   "source": [
    "y_pred_train = BernNB.predict(X_train)\n",
    "\n",
    "print(accuracy_score(y_train, y_pred_train))\n",
    "# Train Data Metric"
   ]
  },
  {
   "cell_type": "markdown",
   "metadata": {},
   "source": []
  },
  {
   "cell_type": "markdown",
   "metadata": {},
   "source": [
    "### Using Multinomial Naive Bayes"
   ]
  },
  {
   "cell_type": "code",
   "execution_count": 26,
   "metadata": {
    "scrolled": true
   },
   "outputs": [
    {
     "name": "stdout",
     "output_type": "stream",
     "text": [
      "MultinomialNB()\n",
      "0.953030303030303\n"
     ]
    }
   ],
   "source": [
    "MultiNB = MultinomialNB()\n",
    "MultiNB.fit(X_train, y_train)\n",
    "print(MultiNB)\n",
    "\n",
    "\n",
    "y_pred = MultiNB.predict(X_test)\n",
    "\n",
    "print(accuracy_score(y_expect, y_pred))\n",
    "#Test Data Metric"
   ]
  },
  {
   "cell_type": "code",
   "execution_count": 27,
   "metadata": {},
   "outputs": [
    {
     "name": "stdout",
     "output_type": "stream",
     "text": [
      "0.9874905231235784\n"
     ]
    }
   ],
   "source": [
    "y_pred_train = MultiNB.predict(X_train)\n",
    "\n",
    "print(accuracy_score(y_train, y_pred_train))\n",
    "\n",
    "# Train Data Metric"
   ]
  },
  {
   "cell_type": "markdown",
   "metadata": {},
   "source": [
    "### Using Gaussian Naive Bayes"
   ]
  },
  {
   "cell_type": "code",
   "execution_count": 28,
   "metadata": {},
   "outputs": [
    {
     "name": "stdout",
     "output_type": "stream",
     "text": [
      "GaussianNB()\n",
      "0.7621212121212121\n"
     ]
    }
   ],
   "source": [
    "GausNB = GaussianNB()\n",
    "GausNB.fit(X_train, y_train)\n",
    "print(GausNB)\n",
    "\n",
    "\n",
    "y_pred = GausNB.predict(X_test)\n",
    "\n",
    "print(accuracy_score(y_expect, y_pred))"
   ]
  },
  {
   "cell_type": "code",
   "execution_count": 29,
   "metadata": {},
   "outputs": [
    {
     "name": "stdout",
     "output_type": "stream",
     "text": [
      "0.9916603487490523\n"
     ]
    }
   ],
   "source": [
    "y_pred_train = GausNB.predict(X_train)\n",
    "\n",
    "print(accuracy_score(y_train, y_pred_train))"
   ]
  },
  {
   "cell_type": "markdown",
   "metadata": {},
   "source": [
    "### Optimised Bernoulli Naive Bayes"
   ]
  },
  {
   "cell_type": "code",
   "execution_count": 30,
   "metadata": {
    "scrolled": false
   },
   "outputs": [
    {
     "name": "stdout",
     "output_type": "stream",
     "text": [
      "BernoulliNB(binarize=0.1)\n",
      "0.9196969696969697\n"
     ]
    }
   ],
   "source": [
    "BernNB = BernoulliNB(binarize=0.1)\n",
    "BernNB.fit(X_train, y_train)\n",
    "print(BernNB)\n",
    "\n",
    "y_expect = y_test\n",
    "y_pred = BernNB.predict(X_test)\n",
    "\n",
    "print(accuracy_score(y_expect, y_pred))"
   ]
  },
  {
   "cell_type": "code",
   "execution_count": 31,
   "metadata": {},
   "outputs": [
    {
     "name": "stdout",
     "output_type": "stream",
     "text": [
      "0.9594389689158453\n"
     ]
    }
   ],
   "source": [
    "y_pred_train = BernNB.predict(X_train)\n",
    "\n",
    "print(accuracy_score(y_train, y_pred_train))"
   ]
  },
  {
   "cell_type": "markdown",
   "metadata": {},
   "source": [
    "## KNN"
   ]
  },
  {
   "cell_type": "code",
   "execution_count": 32,
   "metadata": {},
   "outputs": [],
   "source": [
    "from sklearn.model_selection import train_test_split, cross_val_score\n",
    "from sklearn.preprocessing import StandardScaler\n",
    "from sklearn.model_selection import train_test_split\n",
    "\n",
    "from sklearn.neighbors import KNeighborsClassifier"
   ]
  },
  {
   "cell_type": "code",
   "execution_count": 33,
   "metadata": {},
   "outputs": [],
   "source": [
    "knn = KNeighborsClassifier(n_neighbors=40)"
   ]
  },
  {
   "cell_type": "markdown",
   "metadata": {},
   "source": [
    "## Cross Validation"
   ]
  },
  {
   "cell_type": "code",
   "execution_count": 34,
   "metadata": {
    "scrolled": true
   },
   "outputs": [
    {
     "data": {
      "text/plain": [
       "0.8514001495026162"
      ]
     },
     "execution_count": 34,
     "metadata": {},
     "output_type": "execute_result"
    }
   ],
   "source": [
    "cross_val_score(knn, X_train, y_train, cv=5).mean()"
   ]
  },
  {
   "cell_type": "code",
   "execution_count": 35,
   "metadata": {},
   "outputs": [
    {
     "data": {
      "text/plain": [
       "0.9245640636846095"
      ]
     },
     "execution_count": 35,
     "metadata": {},
     "output_type": "execute_result"
    }
   ],
   "source": [
    "knn.fit(X_train, y_train)\n",
    "knn.score(X_train, y_train)"
   ]
  },
  {
   "cell_type": "code",
   "execution_count": 36,
   "metadata": {
    "scrolled": true
   },
   "outputs": [
    {
     "data": {
      "text/plain": [
       "0.8742424242424243"
      ]
     },
     "execution_count": 36,
     "metadata": {},
     "output_type": "execute_result"
    }
   ],
   "source": [
    "knn.score(X_test, y_test)"
   ]
  },
  {
   "cell_type": "markdown",
   "metadata": {},
   "source": [
    "## Testing with (2,3) N-Gram Vectorizing"
   ]
  },
  {
   "cell_type": "code",
   "execution_count": 38,
   "metadata": {},
   "outputs": [],
   "source": [
    "X = X_counts_df_ngram\n",
    "y = data['subreddit']"
   ]
  },
  {
   "cell_type": "code",
   "execution_count": 39,
   "metadata": {},
   "outputs": [],
   "source": [
    "X_train, X_test, y_train, y_test = train_test_split(X, y, test_size=.2, random_state=42)"
   ]
  },
  {
   "cell_type": "markdown",
   "metadata": {},
   "source": [
    "## Using Bernoulli Naive Bayes to predict Subreddits"
   ]
  },
  {
   "cell_type": "code",
   "execution_count": 40,
   "metadata": {},
   "outputs": [
    {
     "name": "stdout",
     "output_type": "stream",
     "text": [
      "BernoulliNB(binarize=True)\n",
      "0.5863636363636363\n"
     ]
    }
   ],
   "source": [
    "BernNB = BernoulliNB(binarize=True)\n",
    "BernNB.fit(X_train, y_train)\n",
    "print(BernNB)\n",
    "\n",
    "y_expect = y_test\n",
    "y_pred = BernNB.predict(X_test)\n",
    "\n",
    "print(accuracy_score(y_expect, y_pred))"
   ]
  },
  {
   "cell_type": "code",
   "execution_count": 41,
   "metadata": {},
   "outputs": [
    {
     "name": "stdout",
     "output_type": "stream",
     "text": [
      "0.5496588324488249\n"
     ]
    }
   ],
   "source": [
    "y_pred_train = BernNB.predict(X_train)\n",
    "\n",
    "print(accuracy_score(y_train, y_pred_train))\n",
    "# Train Data Metric"
   ]
  },
  {
   "cell_type": "markdown",
   "metadata": {},
   "source": [
    "## Using Multinomial Naive Bayes to predict Subreddits"
   ]
  },
  {
   "cell_type": "code",
   "execution_count": 42,
   "metadata": {
    "scrolled": true
   },
   "outputs": [
    {
     "name": "stdout",
     "output_type": "stream",
     "text": [
      "MultinomialNB()\n",
      "0.8939393939393939\n"
     ]
    }
   ],
   "source": [
    "MultiNB = MultinomialNB()\n",
    "MultiNB.fit(X_train, y_train)\n",
    "print(MultiNB)\n",
    "\n",
    "\n",
    "y_pred = MultiNB.predict(X_test)\n",
    "\n",
    "print(accuracy_score(y_expect, y_pred))\n",
    "#Test Data Metric"
   ]
  },
  {
   "cell_type": "code",
   "execution_count": 43,
   "metadata": {},
   "outputs": [
    {
     "name": "stdout",
     "output_type": "stream",
     "text": [
      "0.9996209249431387\n"
     ]
    }
   ],
   "source": [
    "y_pred_train = MultiNB.predict(X_train)\n",
    "\n",
    "print(accuracy_score(y_train, y_pred_train))\n",
    "\n",
    "# Train Data Metric"
   ]
  },
  {
   "cell_type": "markdown",
   "metadata": {},
   "source": [
    "## Using Gaussian Naive Bayes to predict Subreddits"
   ]
  },
  {
   "cell_type": "code",
   "execution_count": 44,
   "metadata": {},
   "outputs": [
    {
     "name": "stdout",
     "output_type": "stream",
     "text": [
      "GaussianNB()\n",
      "0.8939393939393939\n"
     ]
    }
   ],
   "source": [
    "GausNB = GaussianNB()\n",
    "GausNB.fit(X_train, y_train)\n",
    "print(GausNB)\n",
    "\n",
    "\n",
    "y_pred = GausNB.predict(X_test)\n",
    "\n",
    "print(accuracy_score(y_expect, y_pred))"
   ]
  },
  {
   "cell_type": "code",
   "execution_count": 45,
   "metadata": {},
   "outputs": [
    {
     "name": "stdout",
     "output_type": "stream",
     "text": [
      "0.9988627748294162\n"
     ]
    }
   ],
   "source": [
    "y_pred_train = GausNB.predict(X_train)\n",
    "\n",
    "print(accuracy_score(y_train, y_pred_train))"
   ]
  },
  {
   "cell_type": "markdown",
   "metadata": {},
   "source": [
    "## Optimised Bernoulli Naive Bayes"
   ]
  },
  {
   "cell_type": "code",
   "execution_count": 46,
   "metadata": {
    "scrolled": false
   },
   "outputs": [
    {
     "name": "stdout",
     "output_type": "stream",
     "text": [
      "BernoulliNB(binarize=0.1)\n",
      "0.8257575757575758\n"
     ]
    }
   ],
   "source": [
    "BernNB = BernoulliNB(binarize=0.1)\n",
    "BernNB.fit(X_train, y_train)\n",
    "print(BernNB)\n",
    "\n",
    "y_expect = y_test\n",
    "y_pred = BernNB.predict(X_test)\n",
    "\n",
    "print(accuracy_score(y_expect, y_pred))"
   ]
  },
  {
   "cell_type": "code",
   "execution_count": 47,
   "metadata": {},
   "outputs": [
    {
     "name": "stdout",
     "output_type": "stream",
     "text": [
      "0.966262319939348\n"
     ]
    }
   ],
   "source": [
    "y_pred_train = BernNB.predict(X_train)\n",
    "\n",
    "print(accuracy_score(y_train, y_pred_train))"
   ]
  },
  {
   "cell_type": "markdown",
   "metadata": {},
   "source": [
    "## KNN"
   ]
  },
  {
   "cell_type": "code",
   "execution_count": 48,
   "metadata": {},
   "outputs": [],
   "source": [
    "from sklearn.model_selection import train_test_split, cross_val_score\n",
    "from sklearn.preprocessing import StandardScaler\n",
    "from sklearn.model_selection import train_test_split\n",
    "\n",
    "from sklearn.neighbors import KNeighborsClassifier"
   ]
  },
  {
   "cell_type": "code",
   "execution_count": 49,
   "metadata": {},
   "outputs": [],
   "source": [
    "knn = KNeighborsClassifier(n_neighbors=40)"
   ]
  },
  {
   "cell_type": "markdown",
   "metadata": {},
   "source": [
    "## Cross Validation"
   ]
  },
  {
   "cell_type": "code",
   "execution_count": 50,
   "metadata": {
    "scrolled": true
   },
   "outputs": [
    {
     "data": {
      "text/plain": [
       "0.47876559714795014"
      ]
     },
     "execution_count": 50,
     "metadata": {},
     "output_type": "execute_result"
    }
   ],
   "source": [
    "cross_val_score(knn, X_train, y_train, cv=5).mean()"
   ]
  },
  {
   "cell_type": "code",
   "execution_count": 51,
   "metadata": {},
   "outputs": [
    {
     "data": {
      "text/plain": [
       "0.5053070507960576"
      ]
     },
     "execution_count": 51,
     "metadata": {},
     "output_type": "execute_result"
    }
   ],
   "source": [
    "knn.fit(X_train, y_train)\n",
    "knn.score(X_train, y_train)"
   ]
  },
  {
   "cell_type": "code",
   "execution_count": 52,
   "metadata": {
    "scrolled": false
   },
   "outputs": [
    {
     "data": {
      "text/plain": [
       "0.4212121212121212"
      ]
     },
     "execution_count": 52,
     "metadata": {},
     "output_type": "execute_result"
    }
   ],
   "source": [
    "knn.score(X_test, y_test)"
   ]
  },
  {
   "cell_type": "markdown",
   "metadata": {},
   "source": [
    "## Testing with TF-DIF Vectorizing"
   ]
  },
  {
   "cell_type": "code",
   "execution_count": 53,
   "metadata": {},
   "outputs": [],
   "source": [
    "X = X_tfidf_df\n",
    "y = data['subreddit']"
   ]
  },
  {
   "cell_type": "code",
   "execution_count": 54,
   "metadata": {},
   "outputs": [],
   "source": [
    "X_train, X_test, y_train, y_test = train_test_split(X, y, test_size=.2, random_state=42)"
   ]
  },
  {
   "cell_type": "markdown",
   "metadata": {},
   "source": [
    "## Using Bernoulli Naive Bayes to predict Subreddits"
   ]
  },
  {
   "cell_type": "code",
   "execution_count": 55,
   "metadata": {},
   "outputs": [
    {
     "name": "stdout",
     "output_type": "stream",
     "text": [
      "BernoulliNB(binarize=True)\n",
      "0.5863636363636363\n"
     ]
    }
   ],
   "source": [
    "BernNB = BernoulliNB(binarize=True)\n",
    "BernNB.fit(X_train, y_train)\n",
    "print(BernNB)\n",
    "\n",
    "y_expect = y_test\n",
    "y_pred = BernNB.predict(X_test)\n",
    "\n",
    "print(accuracy_score(y_expect, y_pred))"
   ]
  },
  {
   "cell_type": "code",
   "execution_count": 56,
   "metadata": {},
   "outputs": [
    {
     "name": "stdout",
     "output_type": "stream",
     "text": [
      "0.5492797573919637\n"
     ]
    }
   ],
   "source": [
    "y_pred_train = BernNB.predict(X_train)\n",
    "\n",
    "print(accuracy_score(y_train, y_pred_train))\n",
    "# Train Data Metric"
   ]
  },
  {
   "cell_type": "markdown",
   "metadata": {},
   "source": [
    "## Using Multinomial Naive Bayes to predict Subreddits"
   ]
  },
  {
   "cell_type": "code",
   "execution_count": 57,
   "metadata": {
    "scrolled": true
   },
   "outputs": [
    {
     "name": "stdout",
     "output_type": "stream",
     "text": [
      "MultinomialNB()\n",
      "0.9606060606060606\n"
     ]
    }
   ],
   "source": [
    "MultiNB = MultinomialNB()\n",
    "MultiNB.fit(X_train, y_train)\n",
    "print(MultiNB)\n",
    "\n",
    "\n",
    "y_pred = MultiNB.predict(X_test)\n",
    "\n",
    "print(accuracy_score(y_expect, y_pred))\n",
    "#Test Data Metric"
   ]
  },
  {
   "cell_type": "code",
   "execution_count": 58,
   "metadata": {},
   "outputs": [
    {
     "name": "stdout",
     "output_type": "stream",
     "text": [
      "0.9909021986353298\n"
     ]
    }
   ],
   "source": [
    "y_pred_train = MultiNB.predict(X_train)\n",
    "\n",
    "print(accuracy_score(y_train, y_pred_train))\n",
    "\n",
    "# Train Data Metric"
   ]
  },
  {
   "cell_type": "markdown",
   "metadata": {},
   "source": [
    "## Using Gaussian Naive Bayes to predict Subreddits"
   ]
  },
  {
   "cell_type": "code",
   "execution_count": 59,
   "metadata": {},
   "outputs": [
    {
     "name": "stdout",
     "output_type": "stream",
     "text": [
      "GaussianNB()\n",
      "0.7424242424242424\n"
     ]
    }
   ],
   "source": [
    "GausNB = GaussianNB()\n",
    "GausNB.fit(X_train, y_train)\n",
    "print(GausNB)\n",
    "\n",
    "\n",
    "y_pred = GausNB.predict(X_test)\n",
    "\n",
    "print(accuracy_score(y_expect, y_pred))"
   ]
  },
  {
   "cell_type": "code",
   "execution_count": 60,
   "metadata": {},
   "outputs": [
    {
     "name": "stdout",
     "output_type": "stream",
     "text": [
      "0.9916603487490523\n"
     ]
    }
   ],
   "source": [
    "y_pred_train = GausNB.predict(X_train)\n",
    "\n",
    "print(accuracy_score(y_train, y_pred_train))"
   ]
  },
  {
   "cell_type": "markdown",
   "metadata": {},
   "source": [
    "## Optimised Bernoulli Naive Bayes"
   ]
  },
  {
   "cell_type": "code",
   "execution_count": 61,
   "metadata": {
    "scrolled": false
   },
   "outputs": [
    {
     "name": "stdout",
     "output_type": "stream",
     "text": [
      "BernoulliNB(binarize=0.1)\n",
      "0.9363636363636364\n"
     ]
    }
   ],
   "source": [
    "BernNB = BernoulliNB(binarize=0.1)\n",
    "BernNB.fit(X_train, y_train)\n",
    "print(BernNB)\n",
    "\n",
    "y_expect = y_test\n",
    "y_pred = BernNB.predict(X_test)\n",
    "\n",
    "print(accuracy_score(y_expect, y_pred))"
   ]
  },
  {
   "cell_type": "code",
   "execution_count": 62,
   "metadata": {},
   "outputs": [
    {
     "name": "stdout",
     "output_type": "stream",
     "text": [
      "0.9886277482941622\n"
     ]
    }
   ],
   "source": [
    "y_pred_train = BernNB.predict(X_train)\n",
    "\n",
    "print(accuracy_score(y_train, y_pred_train))"
   ]
  },
  {
   "cell_type": "markdown",
   "metadata": {},
   "source": [
    "## KNN"
   ]
  },
  {
   "cell_type": "code",
   "execution_count": 63,
   "metadata": {},
   "outputs": [],
   "source": [
    "from sklearn.model_selection import train_test_split, cross_val_score\n",
    "from sklearn.preprocessing import StandardScaler\n",
    "from sklearn.model_selection import train_test_split\n",
    "\n",
    "from sklearn.neighbors import KNeighborsClassifier"
   ]
  },
  {
   "cell_type": "code",
   "execution_count": 64,
   "metadata": {},
   "outputs": [],
   "source": [
    "knn = KNeighborsClassifier(n_neighbors=40)"
   ]
  },
  {
   "cell_type": "markdown",
   "metadata": {},
   "source": [
    "## Cross Validation"
   ]
  },
  {
   "cell_type": "code",
   "execution_count": 65,
   "metadata": {
    "scrolled": true
   },
   "outputs": [
    {
     "data": {
      "text/plain": [
       "0.9617172675521821"
      ]
     },
     "execution_count": 65,
     "metadata": {},
     "output_type": "execute_result"
    }
   ],
   "source": [
    "cross_val_score(knn, X_train, y_train, cv=5).mean()"
   ]
  },
  {
   "cell_type": "code",
   "execution_count": 66,
   "metadata": {},
   "outputs": [
    {
     "data": {
      "text/plain": [
       "0.9658832448824868"
      ]
     },
     "execution_count": 66,
     "metadata": {},
     "output_type": "execute_result"
    }
   ],
   "source": [
    "knn.fit(X_train, y_train)\n",
    "knn.score(X_train, y_train)"
   ]
  },
  {
   "cell_type": "code",
   "execution_count": 67,
   "metadata": {
    "scrolled": false
   },
   "outputs": [
    {
     "data": {
      "text/plain": [
       "0.953030303030303"
      ]
     },
     "execution_count": 67,
     "metadata": {},
     "output_type": "execute_result"
    }
   ],
   "source": [
    "knn.score(X_test, y_test)"
   ]
  },
  {
   "cell_type": "code",
   "execution_count": null,
   "metadata": {},
   "outputs": [],
   "source": []
  },
  {
   "cell_type": "code",
   "execution_count": null,
   "metadata": {},
   "outputs": [],
   "source": []
  },
  {
   "cell_type": "code",
   "execution_count": null,
   "metadata": {},
   "outputs": [],
   "source": []
  },
  {
   "cell_type": "code",
   "execution_count": null,
   "metadata": {},
   "outputs": [],
   "source": []
  },
  {
   "cell_type": "code",
   "execution_count": null,
   "metadata": {},
   "outputs": [],
   "source": []
  },
  {
   "cell_type": "code",
   "execution_count": null,
   "metadata": {},
   "outputs": [],
   "source": []
  },
  {
   "cell_type": "code",
   "execution_count": null,
   "metadata": {},
   "outputs": [],
   "source": []
  },
  {
   "cell_type": "code",
   "execution_count": null,
   "metadata": {},
   "outputs": [],
   "source": []
  },
  {
   "cell_type": "code",
   "execution_count": null,
   "metadata": {},
   "outputs": [],
   "source": []
  },
  {
   "cell_type": "code",
   "execution_count": null,
   "metadata": {},
   "outputs": [],
   "source": []
  }
 ],
 "metadata": {
  "kernelspec": {
   "display_name": "Python 3",
   "language": "python",
   "name": "python3"
  },
  "language_info": {
   "codemirror_mode": {
    "name": "ipython",
    "version": 3
   },
   "file_extension": ".py",
   "mimetype": "text/x-python",
   "name": "python",
   "nbconvert_exporter": "python",
   "pygments_lexer": "ipython3",
   "version": "3.7.6"
  }
 },
 "nbformat": 4,
 "nbformat_minor": 4
}

{
 "cells": [
  {
   "cell_type": "markdown",
   "metadata": {},
   "source": [
    "# EDA and Modelling\n",
    "---"
   ]
  },
  {
   "cell_type": "markdown",
   "metadata": {},
   "source": [
    "## Import Libraries"
   ]
  },
  {
   "cell_type": "code",
   "execution_count": 1,
   "metadata": {},
   "outputs": [],
   "source": [
    "import numpy as np\n",
    "import pandas as pd\n",
    "import re\n",
    "import string\n",
    "import nltk\n",
    "import seaborn as sns\n",
    "import matplotlib.pyplot as plt\n",
    "\n",
    "pd.set_option('display.max_colwidth', 100) # More readable pandas output for huge column sizes"
   ]
  },
  {
   "cell_type": "markdown",
   "metadata": {},
   "source": [
    "### Useful Functions"
   ]
  },
  {
   "cell_type": "markdown",
   "metadata": {},
   "source": [
    "Here is our function for our stopwords"
   ]
  },
  {
   "cell_type": "code",
   "execution_count": 2,
   "metadata": {},
   "outputs": [],
   "source": [
    "stopwords = nltk.corpus.stopwords.words('english') # These are our stop words\n",
    "add_stopwords = []"
   ]
  },
  {
   "cell_type": "markdown",
   "metadata": {},
   "source": [
    "This function removes punctuations, before tokenizing our text and then stemming the text after we removed stopwords."
   ]
  },
  {
   "cell_type": "code",
   "execution_count": 3,
   "metadata": {},
   "outputs": [],
   "source": [
    "ps = nltk.PorterStemmer()\n",
    "\n",
    "def clean_text_stem(text):\n",
    "    text = \"\".join([word.lower() for word in text if word not in string.punctuation])\n",
    "    # \\W matches any non-word character (equivalent to [^a-zA-Z0-9_]). This does not include spaces i.e. \\s\n",
    "    # Add a + just in case there are 2 or more spaces between certain words\n",
    "    clean_text = re.sub('[^a-zA-Z1-9]+', ' ', text)\n",
    "    tokens = re.split('\\W+', clean_text) # This function removes punctuations, before tokenizing our text and then stemming the text.\n",
    "    \n",
    "    # apply stemming and stopwords exclusion within the same step\n",
    "    text = [ps.stem(word) for word in tokens if word not in stopwords]\n",
    "    return text\n",
    "\n",
    "# Text Cleaner using stem method"
   ]
  },
  {
   "cell_type": "markdown",
   "metadata": {},
   "source": [
    "This function removes punctuations, before tokenizing our text and then lemmatizing the text after we removed stopwords."
   ]
  },
  {
   "cell_type": "code",
   "execution_count": 4,
   "metadata": {},
   "outputs": [],
   "source": [
    "wn = nltk.WordNetLemmatizer()\n",
    "\n",
    "def clean_text_lemmatize(text):\n",
    "    text = \"\".join([word.lower() for word in text if word not in string.punctuation])\n",
    "    # \\W matches any non-word character (equivalent to [^a-zA-Z0-9_]). This does not include spaces i.e. \\s\n",
    "    # Add a + just in case there are 2 or more spaces between certain words\n",
    "    clean_text = re.sub('[^a-zA-Z1-9]+', ' ', text)\n",
    "    tokens = re.split('\\W+', clean_text) # This function removes punctuations, before tokenizing our text and then stemming the text.\n",
    "    \n",
    "    # apply lemmatize and stopwords exclusion within the same step\n",
    "    text = [wn.lemmatize(word) for word in tokens if word not in stopwords]\n",
    "    return text"
   ]
  },
  {
   "cell_type": "markdown",
   "metadata": {},
   "source": [
    "This function removes punctuations, before tokenizing our text and then lemmatizing the text after we removed stopwords.\n",
    "\n",
    "The stopwords for this function can be adjusted in this particular function, compared to the previous ones. This needs to have a list add_stopwords declared before using."
   ]
  },
  {
   "cell_type": "code",
   "execution_count": 5,
   "metadata": {},
   "outputs": [],
   "source": [
    "def clean_text_lemmatize_more_stopwords(text):\n",
    "    text = \"\".join([word.lower() for word in text if word not in string.punctuation])\n",
    "    # \\W matches any non-word character (equivalent to [^a-zA-Z0-9_]). This does not include spaces i.e. \\s\n",
    "    # Add a + just in case there are 2 or more spaces between certain words\n",
    "    clean_text = re.sub('[^a-zA-Z1-9]+', ' ', text)\n",
    "    tokens = re.split('\\W+', clean_text)\n",
    "    \n",
    "    clean_tokens = []\n",
    "    for x in tokens:\n",
    "        clean_tokens.append(x.rstrip(' '))\n",
    "    \n",
    "    # apply lemmatize and stopwords exclusion within the same step\n",
    "    text = [wn.lemmatize(word) for word in clean_tokens if word not in add_stopwords] # This function removes punctuations, before tokenizing our text and then lemmatizing the text.\n",
    "    return text"
   ]
  },
  {
   "cell_type": "code",
   "execution_count": 6,
   "metadata": {},
   "outputs": [
    {
     "data": {
      "text/plain": [
       "['test', 'code', 'day', 'month', 'year', 'is', 'here', 'day', 'month', '']"
      ]
     },
     "execution_count": 6,
     "metadata": {},
     "output_type": "execute_result"
    }
   ],
   "source": [
    "text = 'test code day month year is here â€day month”'\n",
    "clean_text_lemmatize_more_stopwords(text)\n",
    "# clean_text_lemmatize_more_stopwords(text)"
   ]
  },
  {
   "cell_type": "markdown",
   "metadata": {},
   "source": [
    "This function simply remove punctuations in a given text."
   ]
  },
  {
   "cell_type": "code",
   "execution_count": 7,
   "metadata": {},
   "outputs": [],
   "source": [
    "def remove_punct(text):\n",
    "    # store character only if it is not a punctuation\n",
    "    text_nopunct = \"\".join([char for char in text if char not in string.punctuation])\n",
    "    return text_nopunct"
   ]
  },
  {
   "cell_type": "markdown",
   "metadata": {},
   "source": [
    "## Import Cleaned Data\n",
    "Let's start by importing our cleaned data from our previous notebook."
   ]
  },
  {
   "cell_type": "code",
   "execution_count": 8,
   "metadata": {
    "scrolled": true
   },
   "outputs": [
    {
     "data": {
      "text/html": [
       "<div>\n",
       "<style scoped>\n",
       "    .dataframe tbody tr th:only-of-type {\n",
       "        vertical-align: middle;\n",
       "    }\n",
       "\n",
       "    .dataframe tbody tr th {\n",
       "        vertical-align: top;\n",
       "    }\n",
       "\n",
       "    .dataframe thead th {\n",
       "        text-align: right;\n",
       "    }\n",
       "</style>\n",
       "<table border=\"1\" class=\"dataframe\">\n",
       "  <thead>\n",
       "    <tr style=\"text-align: right;\">\n",
       "      <th></th>\n",
       "      <th>Unnamed: 0</th>\n",
       "      <th>selftext</th>\n",
       "      <th>title</th>\n",
       "      <th>subreddit</th>\n",
       "    </tr>\n",
       "  </thead>\n",
       "  <tbody>\n",
       "    <tr>\n",
       "      <th>0</th>\n",
       "      <td>0</td>\n",
       "      <td>Been going pretty hard with drugs for a while recently quit and looking back at messages and pos...</td>\n",
       "      <td>Does anyone look back at messages and post s you have sent and cringe</td>\n",
       "      <td>1</td>\n",
       "    </tr>\n",
       "    <tr>\n",
       "      <th>1</th>\n",
       "      <td>1</td>\n",
       "      <td>So does anyone know if you can go to rehab and still keep your job if you work from home I need ...</td>\n",
       "      <td>Rehab and working from home</td>\n",
       "      <td>1</td>\n",
       "    </tr>\n",
       "    <tr>\n",
       "      <th>2</th>\n",
       "      <td>2</td>\n",
       "      <td>I didn t know how to phrase the question so I will try to clarify my F brother m has been drinki...</td>\n",
       "      <td>What would you have wanted your sibling to say when they noticed there was a problem with alcohol</td>\n",
       "      <td>1</td>\n",
       "    </tr>\n",
       "    <tr>\n",
       "      <th>3</th>\n",
       "      <td>3</td>\n",
       "      <td>I m not trying to sell y all insurance Rather I ve been looking at hosting an event meditation g...</td>\n",
       "      <td>What sort of liability insurance do y all have at your events</td>\n",
       "      <td>1</td>\n",
       "    </tr>\n",
       "    <tr>\n",
       "      <th>4</th>\n",
       "      <td>4</td>\n",
       "      <td>Im m and coming up on months sober now and im almost done with my th step Ive done the steps a c...</td>\n",
       "      <td>Does it actually get better</td>\n",
       "      <td>1</td>\n",
       "    </tr>\n",
       "  </tbody>\n",
       "</table>\n",
       "</div>"
      ],
      "text/plain": [
       "   Unnamed: 0  \\\n",
       "0           0   \n",
       "1           1   \n",
       "2           2   \n",
       "3           3   \n",
       "4           4   \n",
       "\n",
       "                                                                                              selftext  \\\n",
       "0  Been going pretty hard with drugs for a while recently quit and looking back at messages and pos...   \n",
       "1  So does anyone know if you can go to rehab and still keep your job if you work from home I need ...   \n",
       "2  I didn t know how to phrase the question so I will try to clarify my F brother m has been drinki...   \n",
       "3  I m not trying to sell y all insurance Rather I ve been looking at hosting an event meditation g...   \n",
       "4  Im m and coming up on months sober now and im almost done with my th step Ive done the steps a c...   \n",
       "\n",
       "                                                                                                title  \\\n",
       "0                              Does anyone look back at messages and post s you have sent and cringe    \n",
       "1                                                                        Rehab and working from home    \n",
       "2  What would you have wanted your sibling to say when they noticed there was a problem with alcohol    \n",
       "3                                      What sort of liability insurance do y all have at your events    \n",
       "4                                                                        Does it actually get better    \n",
       "\n",
       "   subreddit  \n",
       "0          1  \n",
       "1          1  \n",
       "2          1  \n",
       "3          1  \n",
       "4          1  "
      ]
     },
     "execution_count": 8,
     "metadata": {},
     "output_type": "execute_result"
    }
   ],
   "source": [
    "data = pd.read_csv('../data/cleaned_data.csv')\n",
    "data.head()"
   ]
  },
  {
   "cell_type": "markdown",
   "metadata": {},
   "source": [
    "## Count Vectorise (1,1) with Lemmatisation\n",
    "\n",
    "We will apply Natural Language Processing to our data by lemmatising the data first, followed by count vectorisation. \n",
    "\n",
    "We have opted to lemmatise the text instead of stemming as stemming results in words that are in weird formats (e.g. smoking becomes smok instead of smoke), and furthermore, we have access to hardware for faster processing.\n",
    "\n",
    "### Merging out selftext and title columns together"
   ]
  },
  {
   "cell_type": "code",
   "execution_count": 9,
   "metadata": {},
   "outputs": [],
   "source": [
    "data_nopunct = pd.DataFrame()\n",
    "\n",
    "data_nopunct['selftext_title'] = data['selftext'].apply(lambda x: remove_punct(str(x))) + data['title'].apply(lambda x: remove_punct(str(x)))\n",
    "# Remove punctuations from our selftext and title columns, then merging them into our combined seltext_title column\n",
    "\n",
    "data_nopunct.fillna('', inplace = True)\n",
    "# This should not appear here, but these code is here in case there is any potential null values."
   ]
  },
  {
   "cell_type": "markdown",
   "metadata": {},
   "source": [
    "### Count Vectorise (1,1) our Data"
   ]
  },
  {
   "cell_type": "code",
   "execution_count": 10,
   "metadata": {
    "scrolled": true
   },
   "outputs": [
    {
     "name": "stdout",
     "output_type": "stream",
     "text": [
      "(3298, 12927)\n",
      "['', 'aa', 'aaa', 'aac', 'aachats', 'aadd', 'aag', 'aagive', 'aareferencing', 'aaron', 'aasholes', 'aawhy', 'ab', 'aback', 'abandon', 'abandoned', 'abandoning', 'abandonment', 'abate', 'abdomen', 'abdominal', 'abhorrent', 'ability', 'abit', 'ablation', 'able', 'abloom', 'abnormal', 'abolishing', 'abolition', 'abortion', 'abou', 'abowt', 'abrahamic', 'abroad', 'abruptly', 'abscence', 'absence', 'absent', 'absolute', 'absolutely', 'absolution', 'absorb', 'absorbed', 'absorbs', 'absorption', 'abstain', 'abstained', 'abstaining', 'abstinence', 'absue', 'absurd', 'absurdly', 'abt', 'abu', 'abunch', 'abundant', 'abuse', 'abused', 'abuser', 'abusing', 'abusive', 'abusively', 'abv', 'abysmal', 'abyss', 'abzed', 'ac', 'aca', 'academia', 'academic', 'acai', 'accelerated', 'accent', 'accentuated', 'accept', 'acceptable', 'acceptance', 'accepted', 'accepting', 'accepts', 'access', 'accessibility', 'accessible', 'accessing', 'accessory', 'accident', 'accidentally', 'accidently', 'accommodate', 'accommodation', 'accomodation', 'accompanied', 'accompany', 'accomplish', 'accomplished', 'accomplishment', 'according', 'accordingly', 'accordion', 'account', 'accountabilibuddy', 'accountability', 'accountable', 'accountablemy', 'accounted', 'accounting', 'accruing', 'accumulate', 'accumulated', 'accumulating', 'accurate', 'accurately', 'accusation', 'accusatory', 'accused', 'accuses', 'accusing', 'accustomed', 'ace', 'acetaldehyde', 'acetic', 'achard', 'ache', 'achey', 'achieve', 'achieved', 'achievement', 'achieving', 'achilles', 'aching', 'achy', 'acid', 'acknowledge', 'acknowledged', 'acknowledges', 'acknowledging', 'acknowledgment', 'acne', 'acounter', 'acquaintance', 'acquire', 'acquired', 'acquiring', 'acrid', 'acrimony', 'acronym', 'across', 'acsqn', 'act', 'acted', 'acting', 'action', 'actionable', 'activated', 'activates', 'active', 'actively', 'activist', 'activity', 'actor', 'actress', 'actual', 'actually', 'actuallyy', 'acupuncture', 'acute', 'ad', 'adage', 'adamant', 'adaptive', 'add', 'added', 'adderall', 'addication', 'addicitve', 'addict', 'addicted', 'addicting', 'addiction', 'addictionsjust', 'addictive', 'adding', 'addition', 'additional', 'additionally', 'additive', 'addmitted', 'address', 'addressed', 'addressing', 'adducted', 'ade', 'adelaide', 'adequate', 'adhd', 'adherence', 'adhesive', 'adjective', 'adjust', 'adjusted', 'adjusting', 'adjustment', 'adjusts', 'administer', 'administration', 'admire', 'admiring', 'admission', 'admit', 'admits', 'admitted', 'admittedly', 'admitting', 'adolescence', 'adopt', 'adopted', 'adopter', 'adopting', 'adoption', 'adores', 'adrenaline', 'adress', 'adudible', 'adult', 'adulthood', 'advance', 'advanceadvice', 'advanced', 'advanceneed', 'advancequitting', 'advancetrying', 'advantage', 'advent', 'adventure', 'adverse', 'advert', 'advertised', 'advice', 'adviced', 'advicepain', 'adviceshould', 'advicestressed', 'advil', 'advisable', 'advise', 'advised', 'adviser', 'advises', 'advocacy', 'advocate', 'advocating', 'ae', 'aed', 'aerobic', 'aest', 'aesthetic', 'af', 'afec', 'aff', 'affair', 'affect', 'affected', 'affecting', 'affection', 'affectionate', 'affiliated', 'affiliation', 'affinity', 'affirm', 'affirmation', 'affirmed', 'affirming', 'affliction', 'afford', 'affordable', 'affront', 'afganistan', 'afghanistan', 'aforementioned', 'afraid', 'africa', 'afterlife', 'aftermath', 'afternoon', 'afterquitting', 'afters', 'aftertaste', 'afterward', 'afterwards', 'afterwars', 'aftr', 'ag', 'againa', 'againhey', 'againkeep', 'againmaking', 'againstarted', 'againwill', 'age', 'aged', 'agency', 'agenda', 'agent', 'aggravate', 'aggravating', 'aggravation', 'aggressive', 'aggressively', 'aghhhi', 'agian', 'agility', 'aging', 'agitated', 'agitation', 'agnostic', 'ago', 'agony', 'agoraphobia', 'agoraphobic', 'agree', 'agreed', 'agreeing', 'agreement', 'agrees', 'agreewhen', 'agression', 'ah', 'aha', 'ahah', 'ahalf', 'ahead', 'aheadletter', 'ahhg', 'ahhh', 'ahhhh', 'ahold', 'ahole', 'ahr', 'ahs', 'aid', 'aide', 'aided', 'ailment', 'aim', 'aimed', 'aiming', 'aimless', 'aimlessly', 'aint', 'air', 'airbnb', 'aired', 'airflow', 'airing', 'airplane', 'airport', 'airsoft', 'aisle', 'aita', 'aka', 'akin', 'akron', 'al', 'ala', 'alan', 'alano', 'alanon', 'alarm', 'alarming', 'alaska', 'alateen', 'albeit', 'alberta', 'alberto', 'alc', 'alchohol', 'alchoholic', 'alcholic', 'alcholics', 'alchool', 'alchy', 'alcohlic', 'alcohoicsanymous', 'alcohol', 'alcoholcan', 'alcoholcomplications', 'alcoholi', 'alcoholic', 'alcoholici', 'alcoholicsanonymous', 'alcoholism', 'aldous', 'aleen', 'alen', 'alert', 'alex', 'alexandre', 'ali', 'alienate', 'alienated', 'alienating', 'align', 'alike', 'alive', 'allan', 'allanyone', 'allegedly', 'allen', 'allergic', 'allergy', 'alleviate', 'alleviates', 'alleviating', 'alleyway', 'allfeeling', 'allhelp', 'allhere', 'alli', 'alljust', 'alll', 'allll', 'allllll', 'allmy', 'allocate', 'alloholic', 'allow', 'allowed', 'allowing', 'allows', 'allure', 'allways', 'ally', 'almighty', 'almost', 'almoust', 'alone', 'along', 'alongside', 'aloof', 'alot', 'aloud', 'alp', 'already', 'alright', 'alseep', 'also', 'alt', 'altar', 'alter', 'altercation', 'altering', 'alternated', 'alternating', 'alternative', 'although', 'alto', 'altogether', 'altoids', 'altruism', 'altruistic', 'aluminum', 'alway', 'always', 'alzheimers', 'ama', 'amanda', 'amazed', 'amazement', 'amazes', 'amazing', 'amazon', 'amber', 'ambien', 'ambition', 'ambitious', 'ambulance', 'ambulatory', 'amd', 'amen', 'amend', 'amended', 'amendment', 'amends', 'america', 'american', 'ammends', 'ammonia', 'among', 'amongst', 'amoung', 'amount', 'amounted', 'amp', 'amped', 'amphetamine', 'ample', 'amplified', 'amplifying', 'amusing', 'amy', 'an', 'ana', 'anal', 'analogy', 'analyse', 'analysis', 'analyze', 'analyzing', 'anarchist', 'anchor', 'anchored', 'ancient', 'andrew', 'android', 'anecdotally', 'anecdote', 'anesthesia', 'anesthetized', 'angel', 'angeles', 'angelo', 'anger', 'angle', 'anglo', 'angrier', 'angrily', 'angry', 'anguish', 'anhedonia', 'animal', 'animates', 'ankle', 'anna', 'annafurderer', 'annihilate', 'anniversary', 'annnnd', 'announce', 'announced', 'annoy', 'annoyance', 'annoyed', 'annoying', 'annual', 'anomaly', 'anon', 'anonymity', 'anonymous', 'anonymously', 'anorexia', 'another', 'answer', 'answered', 'answering', 'answerswhat', 'antabuse', 'antagonist', 'antelope', 'anti', 'antibiotic', 'antic', 'anticipated', 'anticipating', 'anticipation', 'antidepressant', 'antipsychotic', 'antique', 'antisocial', 'antithetical', 'antsy', 'anus', 'anvil', 'anxiety', 'anxious', 'anxiousness', 'anybodies', 'anybody', 'anycravings', 'anyhoo', 'anyhow', 'anylising', 'anymor', 'anymore', 'anymorecan', 'anymorei', 'anyone', 'anyones', 'anyonewhat', 'anything', 'anythingis', 'anytime', 'anyway', 'anyways', 'anywhere', 'anywho', 'aorry', 'ap', 'aparr', 'apart', 'apartment', 'apathy', 'apex', 'aplenty', 'apocalyptic', 'apologetic', 'apologise', 'apologised', 'apologising', 'apologize', 'apologized', 'apologizing', 'apology', 'app', 'appalachian', 'appalled', 'apparearance', 'apparent', 'apparently', 'appartment', 'appeal', 'appear', 'appearance', 'appeared', 'appearing', 'appears', 'appease', 'appeasing', 'appetite', 'appetizer', 'apple', 'appliance', 'applicability', 'applicable', 'application', 'applied', 'applies', 'apply', 'applying', 'appointment', 'appreciate', 'appreciated', 'appreciatedi', 'appreciatedim', 'appreciation', 'appreciative', 'apprentice', 'approach', 'approachable', 'approached', 'approaching', 'appropriate', 'appropriately', 'approval', 'approve', 'approved', 'approx', 'approximately', 'apps', 'appstore', 'apr', 'april', 'apt', 'apts', 'aqaaakarkfcirqkpawqhblrws', 'arab', 'arabic', 'arbitrary', 'archaic', 'archangel', 'architect', 'archived', 'arduous', 'area', 'areawasn', 'arent', 'argh', 'arguably', 'argue', 'argued', 'arguing', 'argument', 'argumentative', 'argumentatively', 'argumentos', 'arise', 'arizona', 'arkansas', 'arm', 'armani', 'armed', 'armpit', 'army', 'arnt', 'arose', 'around', 'aroused', 'arrange', 'arranged', 'arrangement', 'arrest', 'arrested', 'arresting', 'arrggggh', 'arrive', 'arrived', 'arrives', 'arriving', 'arrogance', 'arrogant', 'arround', 'arse', 'art', 'artery', 'article', 'artist', 'artwork', 'as', 'asap', 'asd', 'ash', 'ashamed', 'ashamedi', 'ashma', 'ashtray', 'asia', 'asian', 'aside', 'asinine', 'ask', 'asked', 'asker', 'askfirst', 'asking', 'asks', 'asleep', 'aslong', 'aspect', 'aspiration', 'aspiring', 'ass', 'assassination', 'assault', 'assaulted', 'assaulting', 'assay', 'assed', 'assemble', 'asserting', 'assertion', 'assessed', 'assessment', 'asset', 'asshole', 'assign', 'assigned', 'assignment', 'assist', 'assistance', 'assistant', 'assisted', 'assisting', 'associate', 'associated', 'associating', 'association', 'assorted', 'assortment', 'assume', 'assumed', 'assumes', 'assuming', 'assumption', 'assurance', 'assure', 'assured', 'assures', 'assuring', 'ast', 'asthma', 'asthmatic', 'astonishing', 'astonishingly', 'astounding', 'astray', 'astronomically', 'aswell', 'asylum', 'asymptomatic', 'ate', 'aterty', 'atheism', 'atheist', 'athiest', 'athlete', 'athletic', 'athletics', 'ativan', 'atlanta', 'atleast', 'atm', 'atomic', 'atomizer', 'atone', 'atoning', 'atreak', 'atrocious', 'atrophied', 'atrophy', 'att', 'atta', 'attach', 'attached', 'attachment', 'attack', 'attacked', 'attacking', 'attain', 'attaks', 'attempt', 'attempted', 'attempting', 'attend', 'attendance', 'attendant', 'attended', 'attending', 'attends', 'attention', 'attentiveness', 'attestant', 'attic', 'attire', 'attitude', 'attorney', 'attracted', 'attraction', 'attractive', 'attribute', 'attributed', 'attrition', 'au', 'aud', 'audible', 'audio', 'audiobook', 'audiobooks', 'auditory', 'aug', 'august', 'auidobook', 'aunt', 'aura', 'austin', 'austinites', 'australia', 'authentic', 'authenticity', 'author', 'authority', 'autism', 'autistic', 'auto', 'autoimmune', 'autoimmunity', 'automates', 'automatic', 'automatically', 'automotive', 'autonomous', 'autopilot', 'autumn', 'avail', 'availability', 'available', 'availed', 'avebury', 'avenue', 'average', 'averaged', 'averaging', 'averse', 'averted', 'avid', 'avoid', 'avoidance', 'avoidant', 'avoided', 'avoiding', 'await', 'awaiting', 'awake', 'awakened', 'awakening', 'awaking', 'aware', 'awareness', 'away', 'awayi', 'awe', 'awesome', 'awful', 'awfully', 'awhile', 'awkward', 'awkwardly', 'awkwardness', 'awkwardnessanother', 'awn', 'awoke', 'awoken', 'aws', 'awww', 'axial', 'axiom', 'ayahuasca', 'aynukt', 'ayyyyyyeee', 'az', 'b', 'ba', 'babayyy', 'babble', 'babe', 'babied', 'baby', 'babysit', 'babysitter', 'babysitting', 'babyst', 'bac', 'bacardi', 'baccy', 'bachelor', 'bachlors', 'back', 'backbeen', 'backed', 'backfirst', 'backgarden', 'background', 'backhow', 'backing', 'backlash', 'backpack', 'backpacker', 'backpacking', 'backpain', 'backseat', 'backsliding', 'backstory', 'backup', 'backward', 'backwards', 'backwoods', 'backyard', 'bad', 'badam', 'badge', 'badgering', 'badly', 'badmouthed', 'badsponsor', 'badyayy', 'bae', 'baffled', 'baffling', 'bag', 'baggage', 'baggies', 'baggy', 'bailed', 'bait', 'baited', 'baity', 'bake', 'baked', 'baking', 'balaam', 'balance', 'balanced', 'balancing', 'balcony', 'bald', 'ball', 'balled', 'balling', 'ballpark', 'bam', 'ban', 'banana', 'band', 'bandage', 'bandaid', 'bandwagon', 'bang', 'banged', 'banging', 'bank', 'banking', 'bankrolled', 'bankrupt', 'bankruptcy', 'banned', 'baptised', 'bar', 'barbaric', 'barbed', 'barbiturate', 'barcelona', 'bare', 'barelly', 'barely', 'bargaining', 'bark', 'barking', 'barley', 'barman', 'barred', 'barren', 'barrett', 'barrier', 'bartend', 'bartender', 'bartending', 'base', 'baseball', 'based', 'baseline', 'basement', 'bash', 'bashing', 'basic', 'basically', 'basicaly', 'basicly', 'basis', 'basketball', 'bastard', 'bastarding', 'bat', 'batch', 'bath', 'bathroom', 'bathtub', 'batman', 'batshit', 'battered', 'battery', 'battle', 'battling', 'bauer', 'bawled', 'bawling', 'bay', 'bb', 'bbf', 'bbq', 'bc', 'bcd', 'bcs', 'bcus', 'bday', 'bdcfb', 'beable', 'beach', 'beaded', 'beam', 'beaming', 'bean', 'bear', 'bearable', 'beard', 'beast', 'beastly', 'beat', 'beaten', 'beating', 'beautiful', 'beautify', 'beauty', 'beca', 'became', 'becb', 'beckoning', 'beckons', 'become', 'becomes', 'becoming', 'becouse', 'becuase', 'bed', 'bedridden', 'bedroom', 'bedsheet', 'bedtime', 'beef', 'beefed', 'beer', 'beery', 'beetroot', 'beforebigger', 'beforehand', 'beg', 'began', 'begets', 'begged', 'begging', 'begin', 'beginner', 'beginning', 'beginningback', 'begrudgingly', 'begun', 'behave', 'behaved', 'behaving', 'behavior', 'behavioral', 'behaviour', 'behavioural', 'behavioursthat', 'behind', 'behold', 'being', 'beirut', 'belch', 'belief', 'believe', 'believed', 'believer', 'believing', 'beligerantly', 'belittling', 'belive', 'bell', 'belladonna', 'bellaresearch', 'bellatake', 'belligerence', 'belligerent', 'belligerently', 'belly', 'belong', 'belonged', 'belonging', 'belongs', 'beloved', 'belt', 'benadryl', 'bench', 'bend', 'bended', 'bender', 'bendingly', 'beneficial', 'benefit', 'benefitting', 'benifits', 'bent', 'benzo', 'benzodiazepenes', 'benzos', 'berate', 'berating', 'berry', 'beseeched', 'beside', 'besides', 'best', 'bestfriend', 'bestfriends', 'bestowal', 'bestowed', 'bet', 'beta', 'betrayed', 'betrayer', 'better', 'betterit', 'betterment', 'betty', 'beu', 'bev', 'beverage', 'beverly', 'bewildered', 'bewilderment', 'beyond', 'bf', 'bfaaaa', 'bfc', 'bfda', 'bff', 'bfs', 'bi', 'bibasilar', 'bible', 'biblical', 'bic', 'bicycle', 'bidi', 'big', 'bigger', 'biggest', 'bigshot', 'bike', 'biking', 'bile', 'bilirubin', 'bill', 'billing', 'billion', 'billy', 'bin', 'binary', 'bind', 'binge', 'binged', 'binging', 'bingo', 'bio', 'biological', 'biology', 'biopsy', 'bipolar', 'bird', 'birmingham', 'birth', 'birthday', 'bit', 'bitch', 'bitchiness', 'bitching', 'bitchy', 'bite', 'biting', 'bitter', 'bitterly', 'bitterness', 'biz', 'bizarre', 'bjj', 'bklps', 'bla', 'black', 'blacked', 'blacking', 'blackout', 'bladder', 'blade', 'blah', 'blame', 'blamed', 'blaming', 'bland', 'blandness', 'blank', 'blanket', 'blanketed', 'blanking', 'blankly', 'blast', 'blasted', 'blasting', 'blatant', 'blazed', 'bleak', 'bleeding', 'bleeeeeh', 'blehhhh', 'blemish', 'blend', 'blended', 'bler', 'bless', 'blessed', 'blesshere', 'blessing', 'blew', 'blight', 'blimp', 'blind', 'blinded', 'blinder', 'blindfolded', 'blindly', 'blindness', 'blink', 'blinspot', 'blip', 'bliss', 'blissful', 'blister', 'blistered', 'bloated', 'bloating', 'block', 'blockage', 'blockchain', 'blocked', 'blocker', 'blocking', 'blog', 'blood', 'bloodadvice', 'bloodied', 'bloodline', 'bloodstream', 'bloodwork', 'bloody', 'blotchy', 'blow', 'blower', 'blowing', 'blown', 'blu', 'blubbering', 'blubbery', 'blue', 'bluefuzz', 'blunt', 'blunted', 'bluntly', 'blur', 'blurred', 'blurry', 'blurt', 'bmusc', 'bmws', 'bo', 'board', 'boat', 'bob', 'bobsled', 'bock', 'bodily', 'body', 'bodybuilding', 'bodyday', 'bogged', 'boggling', 'boiling', 'bol', 'bold', 'bolstering', 'bomb', 'bombarded', 'bombed', 'bonamassa', 'bond', 'bondage', 'bonded', 'bonding', 'bone', 'boner', 'bong', 'bonkers', 'bonus', 'book', 'bookclub', 'booked', 'booking', 'bookshelf', 'boom', 'boost', 'boosted', 'booster', 'boot', 'booted', 'booth', 'bootstrap', 'booze', 'boozing', 'bop', 'border', 'bordering', 'borderline', 'bordom', 'bored', 'boredom', 'boredome', 'boring', 'born', 'borrowed', 'bos', 'bot', 'botanical', 'bother', 'bothered', 'bothering', 'bottle', 'bottled', 'bottler', 'bottom', 'bottomless', 'bought', 'bounce', 'bouncing', 'bouncy', 'bound', 'boundary', 'boundry', 'bourbon', 'bout', 'bowel', 'bowl', 'bowling', 'box', 'boxed', 'boy', 'boyfried', 'boyfriend', 'boynton', 'bp', 'bpd', 'bpm', 'brace', 'bracelet', 'bracket', 'brag', 'bragged', 'bragging', 'brain', 'brained', 'brainer', 'brainfog', 'brainwash', 'brainwashed', 'brainwashing', 'braised', 'braises', 'branch', 'brand', 'branded', 'brando', 'brandy', 'brat', 'braveheart', 'braver', 'bravery', 'brawl', 'brazillian', 'brazillion', 'breach', 'bread', 'break', 'breakdown', 'breaker', 'breakfast', 'breaking', 'breakout', 'breakthrough', 'breakup', 'breast', 'breastfeed', 'breastfeeding', 'breath', 'breathalyzer', 'breathe', 'breathed', 'breathes', 'breathing', 'breathless', 'breathwork', 'breeze', 'breezed', 'breo', 'breqthe', 'brevity', 'brewery', 'brian', 'brick', 'bricking', 'bride', 'bridge', 'brief', 'briefly', 'bright', 'brighter', 'brilliant', 'brimming', 'bring', 'bringing', 'brings', 'brining', 'brink', 'brisbane', 'broach', 'broad', 'broadening', 'broccoli', 'broke', 'broken', 'bronchitis', 'bronchodilator', 'bronchus', 'bronzing', 'brooklyn', 'bros', 'brother', 'brought', 'brown', 'browning', 'brownish', 'browse', 'browsed', 'bruise', 'bruised', 'bruising', 'brunch', 'brush', 'brushed', 'brushing', 'brutal', 'brutally', 'brutually', 'bsyomf', 'btw', 'btwday', 'bubbalicious', 'bubble', 'bubbly', 'buck', 'buckwild', 'bud', 'buddhist', 'buddy', 'budge', 'budget', 'budging', 'buff', 'buffer', 'bug', 'buggy', 'build', 'building', 'built', 'bulimic', 'bulk', 'bull', 'bullet', 'bullied', 'bullsh', 'bullshit', 'bullshitter', 'bully', 'bullying', 'bum', 'bummed', 'bummer', 'bumming', 'bump', 'bumped', 'bunch', 'bupoprione', 'bupropion', 'buproprion', 'buproprione', 'buqtdpuzxvkpeaceful', 'bur', 'burden', 'buried', 'burj', 'burn', 'burned', 'burning', 'burnout', 'burnt', 'burny', 'burp', 'burping', 'burry', 'burst', 'burton', 'bury', 'burying', 'bus', 'bush', 'busier', 'busily', 'business', 'businessmen', 'busking', 'bussing', 'bussy', 'bust', 'busted', 'busy', 'busyday', 'butbwhat', 'buts', 'butt', 'butted', 'butter', 'butterfly', 'button', 'buttplugsrmesmoking', 'buuuuuuuut', 'buy', 'buying', 'buzz', 'buzzed', 'buzzer', 'buzzing', 'bvvp', 'byby', 'bye', 'byefew', 'byproduct', 'c', 'ca', 'caare', 'cab', 'cabby', 'cabin', 'cabinet', 'cackle', 'cactus', 'cad', 'cadc', 'cafeteria', 'caffeine', 'cage', 'cake', 'cal', 'calamity', 'calculate', 'calculation', 'caleb', 'calendly', 'caliburn', 'california', 'call', 'called', 'calling', 'callously', 'calm', 'calmed', 'calmer', 'calming', 'calmly', 'calmness', 'calorie', 'camcorder', 'came', 'camel', 'camera', 'camming', 'camomille', 'camp', 'campaign', 'camping', 'campus', 'can', 'canada', 'canadai', 'canadian', 'cancel', 'canceled', 'cancelled', 'cancer', 'cancerlandia', 'cancerous', 'cancerresearchuk', 'candidate', 'candle', 'candy', 'canker', 'cannabidiol', 'cannabis', 'cannew', 'cannot', 'canoe', 'cant', 'canyon', 'cap', 'capability', 'capable', 'capacity', 'capatable', 'capital', 'capitalism', 'capone', 'capsize', 'captain', 'caption', 'car', 'caramel', 'caravan', 'carbonated', 'carbonation', 'carcinogen', 'carcinoma', 'card', 'cardboard', 'cardiac', 'cardio', 'cardiologist', 'cardiovascular', 'care', 'cared', 'career', 'carefree', 'careful', 'carefully', 'carer', 'caress', 'caretaker', 'caring', 'carl', 'carlie', 'carnegie', 'carnival', 'carolina', 'carpet', 'carr', 'carrclose', 'carried', 'carrot', 'carrs', 'carry', 'carrying', 'cart', 'carton', 'carving', 'cascading', 'case', 'casetapering', 'cash', 'cashed', 'cashier', 'casino', 'cast', 'casting', 'casual', 'casually', 'cat', 'catalyst', 'cataract', 'catastrophe', 'catbox', 'catch', 'catchhi', 'catching', 'category', 'cater', 'cath', 'catharsis', 'cathartic', 'catholic', 'caught', 'cause', 'caused', 'causing', 'caustic', 'caution', 'cautious', 'cautiously', 'cave', 'caveat', 'caved', 'cavernous', 'caving', 'cb', 'cbba', 'cbd', 'cbn', 'cbt', 'cc', 'cca', 'cd', 'cdo', 'cdy', 'ce', 'cease', 'cedar', 'celcius', 'celebrant', 'celebrate', 'celebrated', 'celebrating', 'celebration', 'celebratory', 'celebrity', 'celere', 'celery', 'cell', 'cement', 'cemented', 'ceno', 'censoring', 'center', 'centerdness', 'centered', 'centerfold', 'centering', 'central', 'centre', 'centred', 'centredm', 'century', 'cept', 'ceremonial', 'ceremony', 'certain', 'certainly', 'certainty', 'certificate', 'cessation', 'cesspool', 'cetera', 'cetyl', 'cf', 'cfor', 'cgfq', 'cgvf', 'ch', 'chain', 'chained', 'chainsmoker', 'chainsmoking', 'chair', 'chaired', 'chairing', 'chairperson', 'chalk', 'chalked', 'challenge', 'challenged', 'challenging', 'challrnge', 'chamber', 'chamomile', 'champ', 'champagne', 'champix', 'chance', 'change', 'changed', 'changer', 'changin', 'changing', 'channel', 'chant', 'chantix', 'chany', 'chaos', 'chaotic', 'chap', 'chapter', 'character', 'charade', 'charcoal', 'charge', 'charged', 'charging', 'charismatic', 'charitably', 'charity', 'charleston', 'charlie', 'charlotte', 'charm', 'chart', 'chase', 'chased', 'chaser', 'chasing', 'chat', 'chatted', 'chatter', 'chatting', 'cheap', 'cheaper', 'cheapest', 'cheat', 'cheated', 'cheaterslove', 'cheating', 'check', 'checked', 'checkin', 'checking', 'checklist', 'checkout', 'checkpoint', 'cheek', 'cheeky', 'cheer', 'cheerful', 'cheerfully', 'cheering', 'cheersday', 'cheersquestion', 'cheese', 'cheeseburger', 'cheesy', 'cheever', 'chef', 'chemical', 'chemistry', 'cherish', 'cherished', 'cherishes', 'cherry', 'chess', 'chest', 'chesty', 'chevron', 'chew', 'chewed', 'chewing', 'chewy', 'chicago', 'chick', 'chicken', 'chickened', 'chief', 'child', 'childcare', 'childhood', 'childish', 'chill', 'chilled', 'chillin', 'chilly', 'chime', 'chiming', 'chimney', 'chip', 'chipper', 'chit', 'chm', 'chocolate', 'choice', 'choir', 'choke', 'choked', 'choking', 'choo', 'choohow', 'choose', 'chooses', 'choosing', 'chopper', 'chord', 'chore', 'chose', 'chosen', 'christ', 'christian', 'christianity', 'christmas', 'chronic', 'chronically', 'chronicle', 'chuck', 'chucking', 'chuckle', 'chug', 'chugging', 'chunk', 'church', 'churchy', 'churning', 'ci', 'cide', 'cider', 'cig', 'cigalike', 'cigar', 'cigaratte', 'cigarattes', 'cigaret', 'cigarette', 'cigaretteday', 'cigarettesi', 'cigaretts', 'cigaretttes', 'cigarillo', 'cigarretes', 'cigarrette', 'cigarrettes', 'cigarttessss', 'cigatettes', 'cigg', 'ciggaretes', 'ciggarette', 'ciggarettes', 'ciggarites', 'ciggars', 'ciggartes', 'ciggerate', 'ciggerates', 'ciggerette', 'ciggie', 'ciggies', 'ciggs', 'ciggy', 'cigs', 'cinema', 'cinnamon', 'circa', 'circle', 'circling', 'circulation', 'circumcised', 'circumstance', 'cirrhosis', 'cited', 'citisine', 'city', 'civil', 'civilized', 'ck', 'cked', 'cking', 'claim', 'claimed', 'claiming', 'clanking', 'clap', 'clara', 'clarify', 'clarity', 'clasped', 'class', 'classic', 'classical', 'classification', 'classified', 'classify', 'classmate', 'claw', 'cldkdpol', 'clean', 'cleaned', 'cleaner', 'cleaning', 'cleanmy', 'cleanout', 'cleanse', 'cleansed', 'clear', 'clearance', 'cleared', 'clearer', 'clearest', 'clearing', 'clearly', 'clearmind', 'cleaved', 'clench', 'clenched', 'clenching', 'clever', 'cleverly', 'clich', 'cliche', 'click', 'clicked', 'clicking', 'client', 'cliff', 'climate', 'climax', 'climb', 'climbed', 'climbing', 'cling', 'clinging', 'clingy', 'clinic', 'clinical', 'clinipace', 'clip', 'clipper', 'cliquey', 'clld', 'cloaking', 'clock', 'clockwork', 'clogged', 'clonazepam', 'clone', 'close', 'closed', 'closely', 'closer', 'closest', 'closet', 'closeted', 'closing', 'closure', 'clot', 'cloth', 'clothed', 'clothes', 'clothing', 'cloud', 'clouded', 'clouding', 'cloudy', 'clove', 'clown', 'club', 'clubhouse', 'clue', 'clueless', 'clung', 'clutch', 'clutching', 'cluttered', 'cluttering', 'cnh', 'co', 'coach', 'coached', 'coaching', 'coast', 'coastal', 'coaster', 'coaststudy', 'coat', 'coax', 'coca', 'cocaine', 'cocktail', 'cocky', 'coda', 'code', 'codependency', 'codependent', 'coffe', 'coffee', 'coffin', 'cogarette', 'cognition', 'cognitive', 'cohen', 'coherent', 'coil', 'coin', 'coincidentally', 'coincidently', 'coke', 'cola', 'cold', 'colder', 'cole', 'coliseum', 'collagaues', 'collapse', 'collapsed', 'collapsing', 'collateral', 'colleague', 'collect', 'collected', 'collecting', 'collection', 'collective', 'collectively', 'college', 'collision', 'colllege', 'cologne', 'colon', 'color', 'colorado', 'coloringrecovery', 'colossal', 'colour', 'column', 'com', 'coma', 'combat', 'combative', 'combed', 'combination', 'combined', 'combo', 'come', 'comeback', 'comeing', 'comer', 'comfort', 'comfortable', 'comfortably', 'comforting', 'comfy', 'comic', 'coming', 'comingrelapse', 'commandeers', 'commander', 'commemorate', 'commemoratethe', 'commence', 'commenced', 'commencing', 'commend', 'commendable', 'comment', 'commented', 'commenter', 'commenting', 'commentssmy', 'commercial', 'comming', 'commingled', 'commiserate', 'commission', 'commit', 'commitment', 'committal', 'committed', 'committedabolition', 'committing', 'common', 'commonly', 'commotion', 'commun', 'commune', 'communicate', 'communicated', 'communicating', 'communication', 'community', 'communityi', 'commute', 'companion', 'companionship', 'company', 'comparable', 'compare', 'compared', 'comparing', 'comparison', 'compartment', 'compartmentalise', 'compass', 'compassion', 'compassionate', 'compelled', 'compensate', 'compensated', 'compensation', 'compete', 'competed', 'competely', 'competence', 'competition', 'competitive', 'competiton', 'compiled', 'compiling', 'compl', 'complacent', 'complain', 'complained', 'complaining', 'complains', 'complaint', 'complete', 'completed', 'completely', 'completing', 'completion', 'completly', 'complex', 'complexity', 'compliance', 'complicate', 'complicated', 'complicating', 'complication', 'compliment', 'complimented', 'component', 'composed', 'composition', 'composure', 'compound', 'comprehend', 'comprehension', 'compressed', 'compression', 'comprise', 'compromised', 'compulsion', 'compulsive', 'compulsively', 'compulsivly', 'compunction', 'computer', 'comradery', 'con', 'conceal', 'conceding', 'conceited', 'conceived', 'concenti', 'concentrate', 'concentrated', 'concentrating', 'concentration', 'concept', 'conception', 'conceptual', 'conceptualize', 'concern', 'concerned', 'concerning', 'concerningly', 'concert', 'concerted', 'conciseness', 'conclude', 'concluding', 'conclusion', 'concrete', 'condemnation', 'condense', 'condenses', 'condescending', 'condition', 'conditionally', 'conditioned', 'condonation', 'condone', 'condoned', 'conducive', 'conduct', 'conducting', 'confess', 'confessed', 'confession', 'confessionary', 'confidant', 'confided', 'confidence', 'confident', 'confidential', 'confidentiality', 'confidently', 'confine', 'confined', 'confirmed', 'conflict', 'conflicted', 'conflicting', 'conformity', 'confront', 'confrontation', 'confrontational', 'confronted', 'confronting', 'confuse', 'confused', 'confusing', 'confusion', 'congested', 'congestion', 'congrats', 'congratulate', 'congratulated', 'congress', 'conjured', 'connect', 'connectecig', 'connected', 'connecting', 'connection', 'conquer', 'conquered', 'conscience', 'conscious', 'consciously', 'consciousness', 'consecutive', 'consecutively', 'consensual', 'consensus', 'consent', 'consequence', 'consequent', 'consequently', 'conservative', 'consider', 'considerable', 'considerably', 'consideration', 'considered', 'considering', 'considers', 'consipated', 'consist', 'consisted', 'consistency', 'consistent', 'consistently', 'consisting', 'consists', 'constant', 'constantly', 'constipated', 'constipation', 'constitute', 'constitutionally', 'constraint', 'construct', 'construction', 'constructive', 'constructively', 'consult', 'consultation', 'consulted', 'consulting', 'consume', 'consumed', 'consumes', 'consuming', 'consumption', 'consumptionbumps', 'contact', 'contacted', 'contacting', 'contain', 'contained', 'container', 'containing', 'contains', 'contego', 'contemplate', 'contemplated', 'contemplating', 'contemplation', 'contempt', 'contend', 'content', 'contention', 'contentment', 'contest', 'context', 'contingent', 'continually', 'continue', 'continued', 'continues', 'continuing', 'continuity', 'continuous', 'continuously', 'contraception', 'contract', 'contracted', 'contradict', 'contrast', 'contrasting', 'contribute', 'contributed', 'contributes', 'contributing', 'contriubted', 'control', 'controll', 'controlled', 'controller', 'controlling', 'controversial', 'controversy', 'convenience', 'convenient', 'conveniently', 'convention', 'conventional', 'conversation', 'conversationalist', 'convert', 'converted', 'convey', 'conviction', 'convince', 'convinced', 'convinces', 'convincing', 'convo', 'convoluted', 'convos', 'cook', 'cooked', 'cooking', 'cooky', 'cool', 'cooled', 'cooler', 'cooling', 'coolness', 'coolvomiting', 'coombia', 'coordination', 'coors', 'cop', 'copd', 'cope', 'coping', 'copious', 'copy', 'cordial', 'core', 'corinthian', 'corn', 'cornbread', 'corner', 'cornered', 'corona', 'corporate', 'corpse', 'correct', 'corrected', 'correctly', 'correlate', 'correlated', 'correlation', 'correspondence', 'corridor', 'corrupt', 'cosby', 'cosmic', 'cosplaying', 'cost', 'costco', 'costed', 'costing', 'costsi', 'costume', 'cosy', 'cotinine', 'cottage', 'cotton', 'couch', 'cough', 'coughed', 'coughing', 'could', 'couldmt', 'couldnt', 'counciling', 'counseler', 'counseling', 'counselling', 'counsellor', 'counselor', 'count', 'counted', 'counter', 'counterbalance', 'counterproductive', 'counting', 'countless', 'country', 'countryside', 'county', 'couole', 'coup', 'coupe', 'couple', 'coupled', 'coupling', 'courage', 'courageous', 'course', 'court', 'courtesy', 'courthouse', 'cousin', 'cover', 'covered', 'covering', 'covertly', 'coverup', 'covid', 'cow', 'coward', 'cowering', 'coworker', 'coworkers', 'coyote', 'coz', 'cozy', 'cp', 'cpl', 'cpr', 'cps', 'cq', 'crack', 'cracked', 'crackhead', 'cracking', 'crackle', 'craft', 'craigslist', 'craings', 'crammed', 'cramp', 'crankier', 'crankiness', 'cranky', 'crap', 'crappy', 'crappyness', 'crash', 'crashed', 'crashing', 'crate', 'crave', 'craved', 'craven', 'craves', 'craving', 'cravv', 'crawl', 'crawled', 'crawling', 'craziest', 'craziness', 'crazy', 'cream', 'create', 'created', 'creates', 'creating', 'creative', 'creativity', 'creator', 'creature', 'credential', 'credibility', 'credible', 'credit', 'creep', 'creeper', 'creeping', 'creepy', 'crept', 'crew', 'crib', 'cried', 'crier', 'criminal', 'cringe', 'cringey', 'cringing', 'cringy', 'cripple', 'crippled', 'crippling', 'crisis', 'criterion', 'critical', 'critically', 'criticism', 'criticize', 'croaky', 'crob', 'crohn', 'crop', 'cropping', 'crosby', 'cross', 'crossed', 'crossroad', 'crowd', 'crown', 'crucial', 'crucified', 'crude', 'cruel', 'cruise', 'cruising', 'crumbled', 'crumbling', 'crummy', 'crush', 'crushed', 'crushing', 'crust', 'crutch', 'cry', 'cryogenesis', 'cryptocurrency', 'crystal', 'ct', 'cu', 'cube', 'cuddle', 'cuddled', 'cue', 'cuggerates', 'culminated', 'culprit', 'cult', 'cultist', 'cultivating', 'culture', 'culty', 'cumulative', 'cunning', 'cunt', 'cuntish', 'cup', 'cupboard', 'curb', 'curbed', 'curbing', 'cure', 'cured', 'curiosity', 'curious', 'current', 'currently', 'curse', 'cursed', 'cursing', 'curtain', 'curve', 'cushion', 'cushy', 'cuss', 'cussed', 'custody', 'custom', 'customer', 'cut', 'cutback', 'cutest', 'cuting', 'cutout', 'cuttie', 'cutting', 'cuz', 'cv', 'cvtkctbrim', 'cw', 'cycle', 'cyclical', 'cycling', 'cyclist', 'cylinder', 'cynical', 'cystic', 'cytisine', 'cytokine', 'cz', 'da', 'dab', 'dabbled', 'dad', 'daddy', 'dailey', 'daily', 'dailymail', 'dailyponderables', 'dale', 'dalliance', 'damage', 'damaged', 'damaging', 'dammit', 'damn', 'damned', 'damnit', 'damp', 'dance', 'dancing', 'dancy', 'dang', 'danger', 'dangerous', 'dangerously', 'daniel', 'dank', 'danlos', 'daoist', 'dare', 'dared', 'darioi', 'darius', 'dariusoverturning', 'dark', 'darkest', 'darkness', 'darn', 'darren', 'dart', 'dash', 'data', 'date', 'dated', 'dating', 'daughter', 'david', 'davidnichtern', 'dawn', 'dawned', 'day', 'daydream', 'daydreaming', 'dayer', 'dayhard', 'dayhelp', 'dayi', 'daytime', 'db', 'dback', 'dbdcd', 'dbt', 'dc', 'dcary', 'dcyf', 'dd', 'ddoo', 'de', 'dea', 'deactivated', 'dead', 'deadliest', 'deadline', 'deadly', 'deaf', 'deal', 'dealbreaker', 'dealbreakers', 'dealer', 'dealing', 'dealt', 'dealthy', 'dear', 'dearly', 'death', 'deathbed', 'deathly', 'deathsticks', 'debate', 'debated', 'debating', 'debauchery', 'debilitating', 'debit', 'debris', 'debt', 'dec', 'decade', 'decaf', 'decease', 'deceased', 'deceive', 'deceiving', 'december', 'decency', 'decent', 'decently', 'decentralized', 'deception', 'decide', 'decided', 'decidedd', 'decides', 'deciding', 'decipher', 'decision', 'deck', 'decker', 'declare', 'decline', 'declined', 'declining', 'decompress', 'decoration', 'decrease', 'decreased', 'decreasing', 'dedicate', 'dedicated', 'dedication', 'deducting', 'deed', 'deeling', 'deem', 'deemed', 'deems', 'deep', 'deepened', 'deepening', 'deeper', 'deepest', 'deepl', 'deeply', 'def', 'default', 'defeat', 'defeated', 'defect', 'defective', 'defended', 'defender', 'defending', 'defense', 'defensive', 'deferring', 'deffenly', 'deffinetly', 'deficiency', 'deficient', 'deficit', 'defies', 'definately', 'define', 'defined', 'defines', 'definite', 'definitely', 'definitevly', 'definition', 'definitively', 'deflation', 'deflection', 'defo', 'defy', 'degenerate', 'degradation', 'degraded', 'degrading', 'degree', 'dehydrate', 'dehydrated', 'dehydrates', 'dehydration', 'delapilated', 'delay', 'delayed', 'delaying', 'delegitimize', 'delete', 'deleted', 'deleting', 'deli', 'deliberately', 'deliberatelyom', 'delicate', 'delicious', 'delight', 'delighted', 'delirious', 'delirium', 'deliverance', 'delivered', 'delivers', 'delivery', 'delt', 'deluded', 'deluding', 'delusion', 'delusional', 'delve', 'demand', 'demanded', 'demanding', 'demeanor', 'dementia', 'demise', 'demon', 'demonic', 'demonized', 'demonstrate', 'demonstrated', 'demonstration', 'demoralising', 'denial', 'denied', 'denies', 'denmark', 'denomination', 'denominational', 'dense', 'density', 'dent', 'dental', 'dentist', 'denture', 'deny', 'denying', 'deodorant', 'departing', 'department', 'departure', 'depend', 'dependant', 'depended', 'dependence', 'dependency', 'dependent', 'depending', 'depends', 'depersonalization', 'depletion', 'deployment', 'deposit', 'depressant', 'depressed', 'depresses', 'depressing', 'depression', 'depressive', 'deprivation', 'deprived', 'depriving', 'depro', 'depth', 'derail', 'derailing', 'deranged', 'derealization', 'derived', 'derrrrrrrrrrrrrrrrrrrrr', 'descends', 'descent', 'describe', 'described', 'describes', 'describing', 'descript', 'description', 'desect', 'desert', 'deserted', 'deserting', 'deserve', 'deserved', 'deserves', 'design', 'designated', 'designed', 'desire', 'desired', 'desiring', 'desk', 'desktop', 'despair', 'desparation', 'desperate', 'desperatei', 'desperately', 'desperation', 'despise', 'despite', 'dessert', 'destination', 'destined', 'destiny', 'destorying', 'destress', 'destroy', 'destroyed', 'destroying', 'destroys', 'destruct', 'destructed', 'destructing', 'destruction', 'destructive', 'destructively', 'detach', 'detached', 'detail', 'detect', 'detected', 'detection', 'deter', 'deteriorated', 'deteriorating', 'determinatiin', 'determination', 'determine', 'determined', 'determining', 'deterrent', 'deterring', 'detested', 'detox', 'detoxed', 'detoxing', 'detrimental', 'detrimentals', 'deucheflute', 'devastated', 'devastating', 'develop', 'develope', 'developed', 'developer', 'developing', 'development', 'develops', 'deviation', 'device', 'devil', 'devious', 'devolved', 'devote', 'dexs', 'df', 'dfe', 'dh', 'dhabi', 'dharmic', 'diabetes', 'diabetic', 'diablo', 'diagnosed', 'diagnosis', 'diahorrea', 'dialectic', 'dialog', 'dialogue', 'diarrhea', 'diary', 'diazepam', 'dice', 'dick', 'dickhead', 'dickhole', 'dicrease', 'dictated', 'didnt', 'die', 'died', 'dieing', 'diet', 'dietary', 'dietitian', 'diff', 'differ', 'difference', 'differencei', 'different', 'differently', 'differing', 'differs', 'difficult', 'difficulty', 'diffrent', 'diffuser', 'dig', 'digest', 'digestion', 'digestive', 'digging', 'digit', 'dignity', 'dilemma', 'dilerium', 'diligence', 'dilute', 'diluting', 'dim', 'dimension', 'diminish', 'diminishes', 'diminishing', 'diner', 'ding', 'dining', 'dinner', 'dip', 'diploma', 'dipped', 'dipping', 'dipsophobia', 'dire', 'direct', 'directed', 'direction', 'directionless', 'directly', 'director', 'directory', 'dirt', 'dirty', 'dis', 'disability', 'disabled', 'disagree', 'disagreement', 'disappear', 'disappeared', 'disappearing', 'disappears', 'disappearsif', 'disappoint', 'disappointed', 'disappointing', 'disappointment', 'disapproval', 'disassociates', 'disassociation', 'disaster', 'disastrous', 'disbanded', 'disbelief', 'discarded', 'discharge', 'discharged', 'discipline', 'disciplined', 'disclaimer', 'disclosed', 'disclosure', 'discography', 'discomfort', 'disconcerting', 'disconnect', 'disconnected', 'disconnection', 'discontent', 'discontinued', 'discord', 'discourage', 'discouraged', 'discouragement', 'discouraging', 'discourse', 'discover', 'discovered', 'discovering', 'discovery', 'discrete', 'discriminate', 'discus', 'discussed', 'discussing', 'discussion', 'disdain', 'disdainful', 'disease', 'disenfranchised', 'disentangle', 'disgrace', 'disguise', 'disguisting', 'disgust', 'disgusted', 'disgusting', 'disgustingly', 'dish', 'disheartening', 'dishonest', 'dishonesty', 'dishonor', 'disingenuous', 'disinterested', 'dislike', 'disliked', 'disliking', 'dismal', 'dismantle', 'dismay', 'dismayed', 'dismiss', 'dismissed', 'disneyland', 'disolving', 'disomfort', 'disorder', 'disordered', 'disorienting', 'dispatcher', 'dispensary', 'dispite', 'displaced', 'displacement', 'display', 'displaying', 'disposable', 'disposablevapeshop', 'disposal', 'dispose', 'disposed', 'disregard', 'disrepair', 'disrespect', 'disrespectful', 'disrupt', 'disrupted', 'disrupting', 'disruptive', 'disrythmia', 'dissapear', 'dissapoint', 'dissapointed', 'dissapointment', 'dissatisfaction', 'dissect', 'disservice', 'dissidence', 'dissipate', 'dissipates', 'dissociative', 'dissolve', 'dissolved', 'dissonance', 'distance', 'distanced', 'distancing', 'distant', 'distantly', 'distasteful', 'distill', 'distillate', 'distinct', 'distinction', 'distinguish', 'distorted', 'distortion', 'distract', 'distracted', 'distracting', 'distraction', 'distracts', 'distraught', 'distress', 'distressed', 'district', 'disturb', 'disturbance', 'disturbed', 'disturbing', 'disulfiram', 'disulfirum', 'ditch', 'ditching', 'diva', 'dive', 'dived', 'diverged', 'diversifying', 'diverting', 'divide', 'dividend', 'divine', 'divinely', 'diving', 'division', 'divorce', 'divorced', 'divorcing', 'diy', 'dizeeeeeeeeez', 'dizziness', 'dizzinness', 'dizzy', 'dizzying', 'dizzyness', 'djifmwsstylzlpbuwju', 'dk', 'dktsa', 'dkyzdndw', 'dl', 'dlgcvj', 'dm', 'doable', 'doc', 'doctor', 'doctore', 'document', 'documentary', 'documentation', 'documented', 'documenting', 'dodge', 'dodging', 'doesnt', 'dog', 'doge', 'dogged', 'dogging', 'doggo', 'dogshit', 'dohelp', 'doi', 'doin', 'dollar', 'dome', 'domestic', 'dominate', 'dominated', 'dominating', 'domino', 'donate', 'donated', 'donation', 'done', 'donkey', 'donor', 'dont', 'donut', 'doo', 'doom', 'doomed', 'doomsday', 'doopinion', 'door', 'doorknob', 'doorstep', 'doozie', 'doozy', 'dopamine', 'dope', 'doped', 'dopesick', 'dora', 'doraville', 'dork', 'dorm', 'dos', 'dosage', 'dose', 'dosing', 'dosnt', 'dot', 'dotrying', 'double', 'doubling', 'doubt', 'doubted', 'doubtful', 'doubting', 'douchebag', 'doug', 'dour', 'dove', 'down', 'downfall', 'downhill', 'downing', 'download', 'downloaded', 'downpour', 'downright', 'downsi', 'downside', 'downstairs', 'downtown', 'downvote', 'downvotes', 'downward', 'downwards', 'downyall', 'doze', 'dozen', 'dozing', 'dr', 'drafted', 'drag', 'dragged', 'dragging', 'dragon', 'drain', 'drained', 'draining', 'drama', 'dramatic', 'dramatically', 'drank', 'dranklack', 'drastic', 'drastically', 'draw', 'drawer', 'drawing', 'drawn', 'drclm', 'dread', 'dreaded', 'dreadful', 'dreading', 'dream', 'dreamed', 'dreaming', 'dreamlike', 'dreamt', 'dredging', 'drenched', 'dress', 'dressed', 'dresser', 'drier', 'drift', 'drifted', 'drifting', 'drill', 'drink', 'drinker', 'drinking', 'drinkingfuck', 'drinkingi', 'drinkinng', 'drinksi', 'drip', 'dripper', 'drive', 'drived', 'driven', 'driver', 'driveway', 'driving', 'drog', 'drone', 'droopy', 'drop', 'dropped', 'dropping', 'drove', 'drown', 'drowned', 'drowning', 'drowsiness', 'drowsy', 'drs', 'drug', 'drugged', 'druggies', 'drugging', 'drugscience', 'drugsis', 'drum', 'drunk', 'drunkam', 'drunken', 'drunkenly', 'drunker', 'drunkest', 'drusing', 'dry', 'dryer', 'drying', 'dt', 'dts', 'dual', 'dubai', 'dublin', 'duck', 'duct', 'dude', 'due', 'duel', 'dug', 'duh', 'duho', 'duis', 'dull', 'dulled', 'dulling', 'dumb', 'dumbass', 'dummy', 'dump', 'dumped', 'dumpster', 'dunked', 'dunno', 'duo', 'duration', 'dust', 'dusting', 'dusty', 'dutch', 'dutifully', 'duty', 'duvet', 'dv', 'dvaping', 'dwell', 'dwi', 'dwindled', 'dwindles', 'dy', 'dyed', 'dying', 'dyingi', 'dynamic', 'dynamical', 'dysfunctional', 'dysmorphia', 'dysplasia', 'e', 'ea', 'eaaba', 'eachother', 'eager', 'eagerly', 'ealised', 'ealr', 'ear', 'earl', 'earlier', 'earliest', 'early', 'earn', 'earned', 'earnest', 'earnestly', 'earning', 'earplug', 'earth', 'earthly', 'earthone', 'earthquake', 'ease', 'eased', 'easier', 'easiest', 'easilly', 'easily', 'easing', 'east', 'eastern', 'easy', 'easyer', 'easyway', 'eat', 'eaten', 'eater', 'eating', 'eats', 'eb', 'ebb', 'ebby', 'ec', 'ece', 'ecf', 'ecg', 'echo', 'ecig', 'ecigarettes', 'ecigs', 'eckhart', 'eco', 'economical', 'economy', 'ecstasy', 'ecstatic', 'ect', 'ectopic', 'eczema', 'ed', 'edda', 'edge', 'edged', 'edible', 'edit', 'editing', 'edition', 'edm', 'ednos', 'edu', 'edubaivisa', 'educate', 'educated', 'education', 'ee', 'eeben', 'eeca', 'eeeeca', 'eeff', 'ef', 'eff', 'effect', 'effected', 'effecting', 'effective', 'effectively', 'effectiveness', 'efficacy', 'efficiency', 'efficiently', 'effing', 'effort', 'effortless', 'effortlessly', 'eg', 'egg', 'eghiy', 'ego', 'eh', 'ehlers', 'ei', 'eight', 'eighth', 'either', 'eitheri', 'ejaculation', 'eject', 'ejuice', 'ekg', 'el', 'elaborate', 'elapsed', 'elated', 'elbow', 'elder', 'elderberry', 'elderly', 'eldest', 'electric', 'electrical', 'electrician', 'electronic', 'electronics', 'elegant', 'elemantary', 'element', 'elephant', 'elevate', 'elevated', 'elevates', 'elevation', 'elevator', 'eleven', 'elf', 'eligible', 'eliminate', 'eliminating', 'elimination', 'eliquid', 'elisabeth', 'eloquent', 'else', 'elsewhere', 'eludes', 'em', 'emaar', 'email', 'emailing', 'embark', 'embarking', 'embarrassed', 'embarrassing', 'embarrassment', 'embedded', 'embrace', 'embraced', 'embracing', 'emdr', 'emerged', 'emergency', 'emily', 'eminem', 'emirate', 'emo', 'emojis', 'emotion', 'emotional', 'emotionally', 'empathetic', 'empathic', 'empathise', 'empathy', 'emphasis', 'emphasize', 'emphasized', 'emphatically', 'emphysema', 'employed', 'employee', 'employer', 'employment', 'empower', 'empowered', 'empowering', 'emptiness', 'empty', 'emptying', 'emt', 'en', 'enable', 'enabled', 'enabler', 'enablers', 'enables', 'enabling', 'enact', 'enacted', 'encounter', 'encountered', 'encourage', 'encouraged', 'encouragement', 'encouragementadvice', 'encouragementdo', 'encourages', 'encouraging', 'end', 'endanger', 'endeavor', 'ended', 'ending', 'endless', 'endlessly', 'endorphin', 'endorse', 'endorsing', 'endulge', 'endurance', 'endure', 'endured', 'enduring', 'enemy', 'energetic', 'energized', 'energy', 'enfield', 'enforce', 'enforcement', 'engage', 'engaged', 'engaging', 'engineer', 'engineered', 'engineering', 'england', 'english', 'englishits', 'engorging', 'engrained', 'engraved', 'enhance', 'enhancement', 'enhances', 'enjoy', 'enjoyable', 'enjoyed', 'enjoyfull', 'enjoying', 'enjoyment', 'enjoys', 'enlarged', 'enlighten', 'enlightened', 'enlightening', 'enmeshed', 'enormous', 'enough', 'enoughh', 'enought', 'enraging', 'enslaved', 'enslaving', 'ensued', 'ensure', 'ensured', 'ensures', 'entail', 'entailed', 'entanglement', 'enter', 'entered', 'entering', 'enters', 'entertain', 'entertaining', 'entertainment', 'enthused', 'enthusiasm', 'enthusiastic', 'enticingly', 'entire', 'entirely', 'entirety', 'entitled', 'entity', 'entourage', 'entrance', 'entrepreneur', 'entrust', 'entry', 'envelops', 'envious', 'environment', 'envoyer', 'envy', 'enzyme', 'eon', 'ephemeral', 'epic', 'epidemic', 'epilepsy', 'epiphany', 'episode', 'epitome', 'equal', 'equally', 'equate', 'equating', 'equation', 'equinox', 'equip', 'equipped', 'equivalent', 'er', 'era', 'erase', 'erection', 'eric', 'ernest', 'eroded', 'errand', 'erratically', 'erred', 'error', 'ery', 'escalate', 'escalated', 'escalates', 'escalator', 'escapade', 'escape', 'escaped', 'escaping', 'escapism', 'esh', 'esophageal', 'esophagus', 'esp', 'especially', 'essay', 'essence', 'essential', 'essentially', 'establish', 'established', 'establishing', 'estate', 'esteem', 'estimate', 'esv', 'et', 'etc', 'etchas', 'eternal', 'eternally', 'eternity', 'ethanol', 'ether', 'ethereal', 'ethic', 'ethical', 'ethically', 'etiquette', 'ets', 'euphemism', 'euphoria', 'euphoric', 'euro', 'europe', 'european', 'evacuation', 'evade', 'evaluate', 'evaluated', 'evaporate', 'evaporates', 'evasive', 'eve', 'even', 'evening', 'eveningis', 'event', 'eventhough', 'eventual', 'eventually', 'eventualy', 'ever', 'everday', 'everlasting', 'everrryyyythingggggg', 'eversince', 'every', 'everybody', 'everybodyany', 'everybodylooking', 'everyday', 'everynight', 'everyone', 'everyoneis', 'everyones', 'everyonewithdrawal', 'everything', 'everytime', 'everywhere', 'evicted', 'evidence', 'evil', 'evocative', 'evolution', 'evolve', 'evolved', 'evolving', 'evrything', 'ex', 'exacerbates', 'exacerbation', 'exact', 'exacting', 'exactly', 'exaggerating', 'exaggeration', 'exam', 'examination', 'examine', 'example', 'exasperated', 'excedrin', 'exceed', 'exceeding', 'exceedingly', 'excel', 'excellent', 'except', 'exception', 'exceptional', 'exceptionally', 'excersizes', 'excess', 'excessive', 'excessively', 'exchange', 'excite', 'excited', 'excitedly', 'excitement', 'excites', 'exciting', 'excitingly', 'exclaimed', 'excluded', 'excluding', 'exclusively', 'excruciating', 'excruciatingly', 'excusable', 'excuse', 'excused', 'execpt', 'execute', 'exemple', 'exemption', 'exensive', 'exercise', 'exercised', 'exerciseday', 'exercising', 'exert', 'exhale', 'exhaling', 'exhaust', 'exhausted', 'exhaustible', 'exhausting', 'exhaustion', 'exhibit', 'exist', 'existance', 'existant', 'existed', 'existence', 'existent', 'existential', 'existing', 'exists', 'exit', 'exited', 'exonerated', 'expand', 'expanded', 'expect', 'expectation', 'expected', 'expecting', 'expects', 'expedia', 'expelling', 'expense', 'expensive', 'experience', 'experienced', 'experiencing', 'experiment', 'experimental', 'experimentation', 'experimenting', 'expert', 'expertly', 'expired', 'explain', 'explained', 'explaining', 'explains', 'explanation', 'expletive', 'explicitly', 'explode', 'exploited', 'exploration', 'explore', 'exploring', 'explosion', 'explosive', 'exponentially', 'expose', 'exposed', 'exposing', 'exposure', 'express', 'expressed', 'expressing', 'expression', 'exsactly', 'extend', 'extended', 'extensive', 'extensor', 'extent', 'external', 'extinguished', 'extinguisher', 'extinguishing', 'extra', 'extract', 'extracurricular', 'extraordinary', 'extravagant', 'extraverted', 'extreme', 'extremelly', 'extremely', 'eye', 'eyeball', 'eyed', 'eyeing', 'eyesight', 'ez', 'ezcdcv', 'ezly', 'f', 'fa', 'facade', 'face', 'facebook', 'faced', 'faceguys', 'facepalm', 'facet', 'facial', 'facilitates', 'facility', 'facilty', 'facing', 'fact', 'factor', 'factory', 'factually', 'fadd', 'fade', 'faded', 'fading', 'fag', 'fail', 'failed', 'faili', 'failing', 'fails', 'failure', 'faint', 'fair', 'fairly', 'faith', 'faithful', 'fake', 'faked', 'faking', 'fall', 'fallacy', 'fallen', 'falling', 'fallowing', 'false', 'falter', 'faltered', 'fame', 'familial', 'familiar', 'familly', 'family', 'famine', 'famous', 'fan', 'fanatic', 'fancy', 'fantasize', 'fantastic', 'fantastically', 'fantasy', 'far', 'farm', 'farmer', 'farming', 'fart', 'farted', 'farther', 'farthest', 'farting', 'fashion', 'fashioned', 'fast', 'faster', 'fastest', 'fasting', 'fat', 'fatal', 'fatalism', 'fate', 'father', 'fatherly', 'fathom', 'fatigue', 'fatigued', 'fatter', 'fatty', 'fault', 'faulty', 'faux', 'fav', 'favor', 'favorably', 'favorite', 'favour', 'favourite', 'favs', 'faydycurnr', 'fb', 'fbba', 'fbi', 'fc', 'fck', 'fcked', 'fcking', 'fd', 'fda', 'fdeacbfa', 'fe', 'fear', 'feared', 'fearful', 'fearing', 'fearless', 'fearlessly', 'feast', 'feat', 'feature', 'feb', 'february', 'fecba', 'fecommend', 'fed', 'federal', 'fee', 'feed', 'feedbacam', 'feedback', 'feeddback', 'feeding', 'feeing', 'feel', 'feeler', 'feelin', 'feeling', 'feining', 'fell', 'fella', 'fellettes', 'felling', 'fellow', 'fellowship', 'fellowshipping', 'felon', 'felony', 'felt', 'female', 'fence', 'fender', 'fentanyl', 'feral', 'ferrari', 'fes', 'festival', 'fetal', 'fetish', 'fever', 'fewer', 'ff', 'fggbdqz', 'fgvjc', 'fi', 'fianc', 'fiance', 'fiancee', 'fiber', 'fibroscan', 'fidget', 'fidgeting', 'fidgetty', 'fidgety', 'field', 'fiend', 'fiending', 'fifteen', 'fifth', 'fifty', 'fight', 'fighter', 'fighting', 'figuratively', 'figure', 'figured', 'figuring', 'fil', 'file', 'filed', 'filing', 'fill', 'filled', 'filler', 'filling', 'film', 'filmmaker', 'filter', 'filtered', 'filthy', 'final', 'finalize', 'finally', 'finance', 'financial', 'financially', 'financing', 'find', 'finding', 'fine', 'finger', 'fingertip', 'finish', 'finished', 'finishing', 'finite', 'fir', 'fire', 'fired', 'firefighter', 'fireplace', 'fireshooters', 'firing', 'firm', 'firmer', 'firmly', 'first', 'firstly', 'fish', 'fishbone', 'fishing', 'fissure', 'fit', 'fitness', 'fitter', 'fitting', 'five', 'fix', 'fixation', 'fixday', 'fixed', 'fixer', 'fixing', 'fizzled', 'fkn', 'fl', 'flag', 'flagship', 'flair', 'flaked', 'flaking', 'flame', 'flaming', 'flamy', 'flare', 'flareups', 'flaring', 'flash', 'flashback', 'flashed', 'flask', 'flat', 'flatmate', 'flavor', 'flavored', 'flavour', 'flaw', 'flawed', 'flawlessly', 'fleeting', 'flehm', 'flem', 'flesh', 'flew', 'flex', 'flexible', 'flick', 'flight', 'flinch', 'fling', 'flip', 'flipped', 'flipping', 'flirt', 'flirting', 'flirty', 'float', 'floater', 'floating', 'flog', 'flood', 'flooding', 'floor', 'floored', 'flop', 'flopping', 'florida', 'flourishing', 'flow', 'flowed', 'flower', 'flowered', 'flowing', 'flown', 'floyd', 'flu', 'fluctuating', 'fluid', 'flum', 'flunk', 'flush', 'flushed', 'flushing', 'flute', 'flutter', 'fly', 'flyer', 'flying', 'fm', 'fml', 'fmla', 'fmmm', 'fngs', 'fo', 'fob', 'focus', 'focused', 'focusing', 'focussing', 'fodq', 'foe', 'fog', 'fogged', 'foggier', 'foggy', 'foil', 'fold', 'folic', 'folk', 'follow', 'followed', 'follower', 'following', 'follows', 'fomo', 'fond', 'fondly', 'fondness', 'food', 'foodhelp', 'fool', 'fooled', 'fooling', 'foolish', 'foolishly', 'foolishness', 'foot', 'footage', 'football', 'foothold', 'footing', 'forbidden', 'forbidding', 'force', 'forced', 'forcing', 'ford', 'forecasting', 'forehead', 'foreign', 'foreigner', 'foremost', 'foreseeable', 'forest', 'forever', 'forfeited', 'forgave', 'forge', 'forget', 'forgets', 'forgettinf', 'forgetting', 'forgive', 'forgiven', 'forgiveness', 'forgives', 'forgiving', 'forgo', 'forgot', 'forgotten', 'fork', 'form', 'formal', 'formality', 'formally', 'format', 'formati', 'formation', 'formative', 'formatting', 'formed', 'former', 'forming', 'forseeable', 'fort', 'fortes', 'forth', 'forthright', 'fortitude', 'fortunate', 'fortunately', 'forty', 'forum', 'forward', 'foster', 'fought', 'foul', 'found', 'foundation', 'fountain', 'four', 'fourteen', 'fourth', 'foward', 'fown', 'foxhole', 'fqkiydrnamr', 'fractured', 'fragile', 'frail', 'frame', 'framework', 'framing', 'france', 'francisco', 'frankly', 'frantic', 'frantically', 'frat', 'fraternity', 'fraud', 'fray', 'freak', 'freaked', 'freakin', 'freaking', 'frederick', 'free', 'freebase', 'freed', 'freedom', 'freefall', 'freeing', 'freelancer', 'freely', 'freemax', 'freenegative', 'freetherapy', 'freezer', 'freezing', 'french', 'frequency', 'frequent', 'frequented', 'frequently', 'fresh', 'freshener', 'fresherday', 'freshly', 'freshman', 'freudian', 'fri', 'frickin', 'frickkken', 'friction', 'friday', 'fridge', 'fried', 'friend', 'friendgroup', 'friendless', 'friendliness', 'friendly', 'friendsfirst', 'friendship', 'friendsi', 'friendswas', 'fright', 'frighten', 'frightened', 'frightening', 'frittering', 'fro', 'fromcanada', 'front', 'frothing', 'frown', 'frowned', 'frozen', 'fruit', 'fruitful', 'frustrate', 'frustrated', 'frustrates', 'frustrating', 'frustration', 'fry', 'fryer', 'ft', 'fu', 'fuc', 'fuck', 'fucked', 'fucker', 'fuckin', 'fucking', 'fuckserious', 'fuckup', 'fucky', 'fuctioning', 'fuel', 'fueled', 'fueling', 'fuelled', 'fukn', 'fulfil', 'fulfill', 'fulfilled', 'fulfilling', 'fulfillingly', 'fulfillment', 'full', 'fullest', 'fully', 'fum', 'fumble', 'fume', 'fumessential', 'fuming', 'fun', 'function', 'functional', 'functioned', 'functioning', 'fund', 'fundamental', 'fundamentalist', 'funding', 'funeral', 'funk', 'funky', 'funniest', 'funny', 'furious', 'furniture', 'furst', 'furthermore', 'furthest', 'fuse', 'fusion', 'fuss', 'fussy', 'futile', 'future', 'futuristic', 'fuuuck', 'fuuuckam', 'fuuuuck', 'fuxk', 'fuzziness', 'fuzzy', 'fwb', 'fwiw', 'fxs', 'g', 'gaba', 'gag', 'gain', 'gained', 'gaining', 'gal', 'gall', 'gallbladder', 'gallon', 'gallstone', 'gambling', 'game', 'gameplan', 'gaming', 'gandalf', 'gane', 'gang', 'gangbanged', 'gap', 'garage', 'garbage', 'garden', 'gardening', 'garlic', 'garmin', 'garner', 'gas', 'gash', 'gaslight', 'gaslighted', 'gasoline', 'gassy', 'gastritis', 'gastro', 'gated', 'gather', 'gathered', 'gathering', 'gatorade', 'gaunt', 'gave', 'gaves', 'gb', 'gdrive', 'gear', 'geezer', 'gem', 'gen', 'gender', 'gene', 'general', 'generalized', 'generally', 'generated', 'generating', 'generation', 'generic', 'generous', 'generously', 'genetic', 'genetics', 'geniunely', 'genius', 'gent', 'gentle', 'gentleman', 'gentler', 'gently', 'genuine', 'genuinely', 'genus', 'geoff', 'gerald', 'gerd', 'german', 'germany', 'germanyday', 'gernoymous', 'geronymous', 'gesture', 'get', 'getaway', 'geting', 'getting', 'gf', 'gg', 'gguxta', 'gh', 'ghost', 'ghosted', 'ghosting', 'gi', 'giant', 'giantvapes', 'gibson', 'giddy', 'gift', 'gifted', 'gig', 'giggly', 'gilt', 'gimme', 'gin', 'ginger', 'gingerbread', 'giorgio', 'girl', 'girlfriend', 'girth', 'give', 'giveaway', 'given', 'giver', 'giving', 'glad', 'gladly', 'glamorizing', 'glamorous', 'gland', 'glare', 'glas', 'glass', 'glassware', 'glassy', 'glazed', 'gle', 'glimmer', 'glo', 'global', 'globaldrugsurvey', 'globe', 'gloom', 'glorified', 'glorifies', 'glorious', 'glove', 'glow', 'glowing', 'glue', 'glutamate', 'glutamine', 'glute', 'gnawing', 'gnwhy', 'go', 'goal', 'god', 'goddamn', 'godly', 'godsend', 'goin', 'going', 'gold', 'golden', 'goldifish', 'golf', 'golfing', 'golly', 'gone', 'goner', 'gonma', 'gonna', 'goo', 'good', 'goodbye', 'goodbyed', 'goodday', 'goodi', 'goodman', 'goodmorning', 'goodness', 'goodnight', 'goodreads', 'goof', 'google', 'googled', 'googling', 'goop', 'goose', 'goosebump', 'gopro', 'gosh', 'gospel', 'gossip', 'gossiped', 'gossiping', 'got', 'gotta', 'gotten', 'gouvernamental', 'gov', 'government', 'governor', 'govs', 'goweed', 'gp', 'grab', 'grabbed', 'grabbing', 'grace', 'gracious', 'grad', 'grade', 'gradually', 'graduate', 'graduated', 'graduating', 'graduation', 'graf', 'graft', 'grail', 'grain', 'gram', 'grammar', 'gran', 'grand', 'grandchild', 'grandfather', 'grandiosity', 'grandma', 'grandmother', 'grandpa', 'grandparent', 'grandson', 'grant', 'granted', 'grap', 'grapevine', 'grapey', 'graphic', 'grapple', 'grasp', 'grasping', 'grass', 'grateful', 'gratefully', 'gratification', 'gratify', 'gratitude', 'gratuitous', 'grave', 'gravings', 'gravitate', 'gravity', 'gravy', 'gray', 'greasy', 'great', 'greatanyone', 'greater', 'greatest', 'greatful', 'greatgoing', 'greatly', 'greatness', 'greed', 'greedy', 'green', 'greener', 'greenfront', 'greeting', 'grew', 'grey', 'grief', 'grievance', 'grieve', 'grieved', 'grieving', 'griffith', 'grill', 'grilling', 'grim', 'grimy', 'grind', 'grinding', 'grindr', 'grip', 'gripe', 'gripped', 'grocery', 'groggy', 'groomed', 'groove', 'gross', 'grotesque', 'ground', 'grounded', 'grounding', 'group', 'groupal', 'grow', 'growing', 'growler', 'grown', 'grownup', 'grows', 'growth', 'grubby', 'grudge', 'gruelling', 'grumpiness', 'grumpy', 'grunge', 'grunt', 'gsy', 'gt', 'gthe', 'guarantee', 'guaranteed', 'guard', 'guardian', 'guccounter', 'guce', 'guess', 'guessed', 'guessi', 'guessing', 'guest', 'guidance', 'guide', 'guided', 'guideline', 'guiding', 'guilt', 'guilted', 'guilty', 'guise', 'guit', 'guitar', 'guitarist', 'gulf', 'gulp', 'gum', 'gummies', 'gumvip', 'gun', 'gung', 'gunna', 'gunpoint', 'guqrdas', 'guru', 'guster', 'gut', 'guttate', 'gutted', 'gutter', 'guy', 'guysantabuse', 'guysany', 'guyshaving', 'guysi', 'guysone', 'guysthis', 'guyswhat', 'guzzling', 'gxbgr', 'gym', 'gymnastics', 'h', 'ha', 'habbit', 'habbits', 'habit', 'habitual', 'habitually', 'hack', 'hacking', 'hadnt', 'hadrian', 'hah', 'haha', 'hahaadded', 'hahah', 'hahaha', 'hair', 'haircut', 'haired', 'hairline', 'hairstylist', 'hairy', 'half', 'halfway', 'hall', 'hallowed', 'halloween', 'hallucination', 'hallucinogen', 'hallucinosis', 'halt', 'hamered', 'hammer', 'hammered', 'hand', 'handcuff', 'handcuffed', 'handed', 'handful', 'handicap', 'handle', 'handled', 'handling', 'handsome', 'hang', 'hanged', 'hanger', 'hanging', 'hangout', 'hangover', 'hangxiety', 'happen', 'happened', 'happenedabout', 'happening', 'happens', 'happier', 'happiest', 'happily', 'happiness', 'happy', 'happyer', 'harassed', 'harassing', 'harbouring', 'hard', 'hardcore', 'harder', 'hardest', 'hardly', 'hardship', 'harm', 'harmed', 'harmful', 'harmfull', 'harming', 'harmless', 'harmony', 'harness', 'harp', 'harsh', 'harvest', 'hashies', 'hashimotos', 'hask', 'hasnt', 'hassle', 'hastily', 'hat', 'hate', 'hated', 'hateful', 'hating', 'hatred', 'haulage', 'hauler', 'haunt', 'haunted', 'haunting', 'hav', 'havei', 'havent', 'havn', 'havnt', 'hawaii', 'hay', 'hazardous', 'haze', 'hazeldon', 'hazy', 'he', 'head', 'headache', 'headachy', 'headed', 'headedness', 'heading', 'headline', 'headphone', 'headrush', 'headstrong', 'headwhat', 'heal', 'healed', 'healer', 'healhy', 'healing', 'heals', 'health', 'healthcare', 'healthful', 'healthier', 'healthiest', 'healthily', 'healthline', 'healthy', 'healthyi', 'heap', 'hear', 'heard', 'hearing', 'hears', 'heart', 'heartache', 'heartbeat', 'heartbreak', 'heartbreaking', 'heartbroken', 'heartburn', 'hearted', 'heartedly', 'heartfelt', 'heartiest', 'heartily', 'heat', 'heater', 'heath', 'heathy', 'heating', 'heaven', 'heavenly', 'heavier', 'heaviest', 'heavily', 'heavy', 'heck', 'hectic', 'hedger', 'heed', 'heee', 'heeeeelpp', 'heel', 'heeling', 'heets', 'hegelian', 'hehe', 'hehehe', 'height', 'heightened', 'heightening', 'heirloom', 'held', 'hell', 'hella', 'hellacious', 'hellish', 'helllooooooo', 'hello', 'help', 'helped', 'helper', 'helpful', 'helpfulglutamate', 'helpfulis', 'helpfulupdate', 'helphelp', 'helphi', 'helpi', 'helping', 'helpless', 'helpline', 'helpppi', 'helpppl', 'helpweird', 'helpwhen', 'helth', 'hemingway', 'hemmerhoids', 'hemp', 'henbane', 'hence', 'hepatitis', 'herb', 'herbal', 'herbert', 'herculean', 'here', 'hereditary', 'herion', 'hermon', 'hero', 'heroic', 'heroin', 'heroine', 'hesitant', 'hesitate', 'hesitation', 'heterosexual', 'hey', 'heyjust', 'heyy', 'heyyyyyyy', 'hfl', 'hg', 'hhbrmfiwtzqlmqdj', 'hi', 'hiccup', 'hid', 'hidden', 'hidding', 'hide', 'hiding', 'hierarchy', 'high', 'higher', 'highest', 'highfull', 'highlight', 'highly', 'highness', 'highschool', 'hights', 'hiiigh', 'hijacked', 'hike', 'hiked', 'hiker', 'hiking', 'hilarious', 'hill', 'himsomeone', 'hinder', 'hinderance', 'hinderer', 'hindering', 'hinders', 'hindsight', 'hindu', 'hint', 'hip', 'hipaa', 'hippie', 'hire', 'hired', 'history', 'hit', 'hitherto', 'hitter', 'hitting', 'hive', 'hivemind', 'hja', 'hjr', 'hl', 'ho', 'hobby', 'hof', 'hold', 'holding', 'hole', 'holiday', 'holier', 'holler', 'hollow', 'hollywood', 'holy', 'home', 'homegroup', 'homeless', 'homelessness', 'homeostasis', 'homeowner', 'homesick', 'homesickness', 'hometown', 'homework', 'homicidal', 'homie', 'homosexual', 'hone', 'honest', 'honestly', 'honesty', 'honey', 'honeymoon', 'honor', 'honour', 'hoo', 'hoocp', 'hood', 'hook', 'hookah', 'hooked', 'hooking', 'hookup', 'hooooooooohboy', 'hoorah', 'hop', 'hope', 'hoped', 'hopeful', 'hopefully', 'hopefulness', 'hopehelp', 'hopeless', 'hopelessi', 'hopelessly', 'hopelessness', 'hoping', 'hopkins', 'hopping', 'horizon', 'hormonal', 'hormone', 'horn', 'hornet', 'horny', 'horrendous', 'horrible', 'horribly', 'horrid', 'horrific', 'horrifically', 'horrified', 'horror', 'horse', 'horseback', 'horseman', 'hospice', 'hospital', 'hospitalization', 'hospitalize', 'hospitalized', 'host', 'hostage', 'hosted', 'hostel', 'hosting', 'hot', 'hotel', 'hotline', 'hotrod', 'hour', 'hourly', 'hoursone', 'house', 'housed', 'housefor', 'household', 'housemate', 'houseneed', 'housework', 'housing', 'hovering', 'howdy', 'however', 'howlong', 'hp', 'hqd', 'hr', 'hsjohjw', 'htm', 'html', 'htmlaa', 'htmlthoughts', 'http', 'htxvkr', 'hubby', 'huddled', 'huff', 'huffing', 'hug', 'huge', 'hugely', 'hugged', 'hugging', 'hugh', 'huh', 'huhwhat', 'hulk', 'human', 'humanity', 'humanize', 'humanizing', 'humble', 'humbled', 'humbling', 'humbly', 'humid', 'humidifier', 'humiliated', 'humiliating', 'humiliation', 'humility', 'humor', 'humorousopenness', 'hump', 'hunch', 'hundred', 'hung', 'hunger', 'hungover', 'hungry', 'hurdle', 'hurricane', 'hurry', 'hurt', 'hurtful', 'hurting', 'husband', 'hushed', 'hust', 'husteling', 'hustle', 'hustling', 'huuuge', 'huxley', 'hve', 'hybrid', 'hyde', 'hydrate', 'hydrated', 'hype', 'hyped', 'hyper', 'hyperactivity', 'hypertension', 'hypnic', 'hypnogogic', 'hypnosis', 'hypnotherapist', 'hypnotherapy', 'hypnotist', 'hypnotized', 'hypo', 'hypochondriac', 'hypocrisy', 'hypocritical', 'hypomanic', 'hypothetical', 'hypoxia', 'hysterical', 'hyuur', 'ia', 'iam', 'ian', 'ibd', 'iboga', 'ibs', 'ibuprofen', 'ibyteapps', 'ice', 'iced', 'iching', 'ick', 'ickiness', 'icky', 'icon', 'icu', 'id', 'ida', 'idaa', 'idea', 'ideal', 'ideally', 'ideation', 'idek', 'identical', 'identified', 'identify', 'identifying', 'identity', 'ideology', 'idiocy', 'idiot', 'idiotic', 'idk', 'idling', 'idol', 'idolization', 'idolized', 'ie', 'iffy', 'ig', 'ignite', 'ignorance', 'ignorant', 'ignore', 'ignored', 'ignores', 'ignoring', 'ihas', 'ihi', 'ii', 'iike', 'iirc', 'ik', 'il', 'ill', 'illegal', 'illicit', 'illinois', 'illness', 'illogical', 'illuminated', 'illusion', 'illusory', 'illustrate', 'im', 'ima', 'image', 'imagery', 'imagine', 'imagined', 'imagining', 'imbalance', 'imbecile', 'imbibe', 'img', 'imgur', 'immature', 'immaturity', 'immeasurable', 'immeasurably', 'immediate', 'immediately', 'immeditate', 'immemorial', 'immense', 'immensely', 'immerse', 'immersed', 'immersion', 'immigrant', 'immoral', 'immortal', 'immune', 'immunity', 'imo', 'impa', 'impact', 'impacted', 'impacting', 'impair', 'impaired', 'impairment', 'impending', 'imperceptibly', 'imperfection', 'impermanent', 'impersonal', 'impinge', 'implant', 'implement', 'implemented', 'implied', 'implies', 'implode', 'implore', 'implores', 'implying', 'importance', 'important', 'importantly', 'impose', 'imposed', 'imposing', 'imposition', 'impossibility', 'impossible', 'impossibly', 'imposter', 'impound', 'impress', 'impressed', 'impression', 'impressionable', 'impressive', 'improper', 'improve', 'improved', 'improvement', 'improves', 'improving', 'impulse', 'impulsive', 'impulsively', 'impulsivity', 'in', 'ina', 'inability', 'inaccurate', 'inadequate', 'inappropiate', 'inappropriate', 'inattentive', 'inaugurated', 'inauguration', 'inbetween', 'inc', 'incapable', 'incapacitated', 'incarcerated', 'incarceration', 'incase', 'incense', 'incentive', 'incessant', 'incessantly', 'inch', 'incident', 'inclination', 'inclinded', 'incline', 'include', 'included', 'includes', 'including', 'inclusive', 'incoherent', 'income', 'incoming', 'incomplete', 'inconsiderate', 'inconsistent', 'inconstancy', 'incontinent', 'inconvenience', 'inconvenienced', 'inconvenient', 'incorrect', 'incorrectly', 'increase', 'increased', 'increasing', 'increasingly', 'incredible', 'incredibly', 'incurable', 'indecisive', 'indeed', 'indefinitely', 'independence', 'independent', 'independently', 'indescribable', 'indescribably', 'index', 'india', 'indicate', 'indicated', 'indicates', 'indicative', 'indicator', 'indifferent', 'indirect', 'indispensable', 'individual', 'individually', 'indoctrination', 'indoor', 'indoors', 'induce', 'induced', 'inducing', 'indulge', 'indulgence', 'indulging', 'industrial', 'industry', 'inebriating', 'inebriation', 'inefficient', 'inescapable', 'inescapably', 'inevitable', 'inevitably', 'inexorably', 'inexperience', 'infact', 'infantalized', 'infantry', 'infection', 'inferior', 'inferiority', 'infidelity', 'infinite', 'infinitely', 'infinity', 'infintely', 'inflamed', 'inflames', 'inflammation', 'inflammatory', 'inflict', 'inflicted', 'influence', 'influenced', 'influencer', 'info', 'inform', 'informal', 'information', 'informationaddiction', 'informationhealth', 'informed', 'infrequent', 'infrequently', 'infringement', 'infront', 'infuriated', 'infuriating', 'infused', 'ing', 'ingested', 'ingestion', 'ingrained', 'ingredient', 'inhabited', 'inhalation', 'inhalator', 'inhale', 'inhaled', 'inhaler', 'inhaling', 'inheritance', 'inherited', 'inhibition', 'inhibits', 'initally', 'initial', 'initially', 'initiate', 'initiated', 'initiative', 'initiatve', 'injure', 'injured', 'injury', 'inlove', 'inn', 'inner', 'innocent', 'innocently', 'innuendo', 'innumerable', 'inpatient', 'inposted', 'input', 'inputboyfriend', 'insane', 'insanely', 'insanity', 'insecure', 'insecurity', 'insensitive', 'inseparable', 'inshallah', 'inside', 'insidious', 'insight', 'insightful', 'insignificant', 'insinuate', 'insinuated', 'insinuating', 'insist', 'insisted', 'insistent', 'insisting', 'insists', 'insofar', 'insomnia', 'inspected', 'inspection', 'inspiration', 'inspirational', 'inspire', 'inspired', 'inspires', 'inspiring', 'instagram', 'instagramtears', 'installed', 'instance', 'instant', 'instantly', 'instead', 'instill', 'instilled', 'instinct', 'instinctively', 'institution', 'instread', 'instructed', 'instruction', 'instructor', 'instrumental', 'insular', 'insult', 'insulted', 'insulting', 'insurance', 'insure', 'insuring', 'insurmountable', 'int', 'intact', 'intake', 'intangible', 'integrate', 'integrity', 'intel', 'intellectual', 'intellectually', 'intelligence', 'intelligent', 'intend', 'intended', 'intending', 'intends', 'intense', 'intensely', 'intensified', 'intensify', 'intensity', 'intensive', 'intent', 'intention', 'intentional', 'intentionally', 'intentioned', 'intently', 'interact', 'interacted', 'interacting', 'interaction', 'interacts', 'interagation', 'intercepted', 'interconnected', 'interest', 'interested', 'interesting', 'interestingly', 'interfere', 'interfering', 'intergroup', 'intermingled', 'intermission', 'intermittent', 'internal', 'internalize', 'internally', 'international', 'internationally', 'internet', 'interning', 'internment', 'internship', 'interpret', 'interpretation', 'interrogate', 'interrupt', 'interrupted', 'interruption', 'intersection', 'interstate', 'intertwined', 'interval', 'intervening', 'intervention', 'interview', 'inthe', 'intimacy', 'intimate', 'intimately', 'intimidate', 'intimidated', 'intimidating', 'intolerable', 'intolerance', 'intoxicated', 'intoxicating', 'intoxication', 'intricacy', 'intrigue', 'intrigued', 'intriguing', 'intrinsic', 'intrinsically', 'intro', 'introduce', 'introduced', 'introduces', 'introducing', 'introduction', 'introductory', 'introspective', 'introvert', 'introverted', 'intrusive', 'intuition', 'intuitive', 'invalidate', 'invalidated', 'invalidating', 'invalided', 'invaluable', 'invariably', 'invasive', 'invented', 'inventory', 'invest', 'invested', 'investigate', 'investigation', 'investing', 'investment', 'investor', 'invincibility', 'invitation', 'invite', 'invited', 'inviting', 'invokes', 'involuntarily', 'involuntary', 'involve', 'involved', 'involves', 'involving', 'inward', 'io', 'iop', 'iossmflooking', 'iota', 'ipa', 'ipad', 'ipas', 'ipay', 'iphone', 'iplay', 'iq', 'iqos', 'ir', 'iraq', 'irascible', 'ireland', 'irish', 'irked', 'irl', 'ironic', 'ironically', 'irony', 'irratible', 'irrational', 'irrationally', 'irregular', 'irreparable', 'irreparably', 'irresistible', 'irresitable', 'irreversible', 'irritability', 'irritable', 'irritant', 'irritated', 'irritating', 'irritation', 'isaiah', 'ish', 'islamic', 'island', 'ism', 'isnt', 'isolate', 'isolated', 'isolating', 'isolation', 'issue', 'issued', 'issuie', 'italian', 'itattempt', 'itch', 'itching', 'itchy', 'itd', 'itdepression', 'item', 'itguilty', 'ithello', 'ithi', 'iti', 'itinerary', 'itkeep', 'itlit', 'itll', 'itlong', 'itneed', 'itnuoxr', 'itunes', 'iuido', 'iv', 'ive', 'ivy', 'iw', 'iwndday', 'iwndwyt', 'iwndwytalmost', 'iwndwytalright', 'iwndwytday', 'iwndwytfeeling', 'iwndwytmorning', 'iwndwytspiralling', 'iwndwytwhat', 'j', 'jack', 'jacket', 'jaded', 'jaeger', 'jager', 'jahbiddy', 'jail', 'jam', 'james', 'jameson', 'jan', 'jane', 'jangle', 'janice', 'janitorial', 'january', 'japan', 'japaneese', 'jar', 'jarring', 'jason', 'jaundice', 'jaw', 'jawline', 'jazzed', 'jc', 'jealous', 'jealousy', 'jeep', 'jeez', 'jefferson', 'jelly', 'jeopardize', 'jeopardizing', 'jeopardy', 'jerk', 'jerking', 'jerky', 'jersey', 'jesus', 'jfy', 'jill', 'jim', 'jimmie', 'jingle', 'jist', 'jitsu', 'jittery', 'jiu', 'jive', 'jk', 'jkqoxgukj', 'jnot', 'jo', 'job', 'jobless', 'jobpls', 'joe', 'jog', 'jogger', 'jogging', 'john', 'join', 'joined', 'joining', 'joint', 'joke', 'joked', 'joking', 'jolly', 'jolt', 'jon', 'jonesing', 'jonny', 'jonnylee', 'jordanfirst', 'jose', 'jot', 'jotform', 'jotting', 'journal', 'journaled', 'journaling', 'journalist', 'journey', 'journeyare', 'journeyhash', 'joy', 'joyful', 'joyfully', 'joyless', 'joyous', 'jpg', 'jpgcrossed', 'jre', 'jt', 'judge', 'judged', 'judgement', 'judgemental', 'judging', 'judgingjust', 'judgment', 'judgmental', 'juggled', 'juice', 'juicing', 'jul', 'julie', 'july', 'jumbled', 'jump', 'jumped', 'jumping', 'jun', 'june', 'jung', 'junior', 'junk', 'junkie', 'junky', 'juo', 'jus', 'justice', 'justifiable', 'justification', 'justified', 'justify', 'justifying', 'juul', 'juuling', 'juuls', 'k', 'kalchohol', 'kalcohol', 'kalms', 'kanger', 'kansa', 'karma', 'kay', 'kayaking', 'kayla', 'ke', 'keen', 'keenly', 'keep', 'keeper', 'keeping', 'kellyi', 'kept', 'kernel', 'ketamine', 'kettle', 'kevtdhz', 'key', 'keyboard', 'keyring', 'kfacts', 'kg', 'kh', 'khalifa', 'kick', 'kickback', 'kickboxing', 'kicked', 'kicker', 'kickin', 'kicking', 'kickstarter', 'kid', 'kidanyone', 'kidding', 'kiddo', 'kidnapped', 'kidney', 'kiff', 'kiffstory', 'kill', 'killed', 'killer', 'killing', 'kilter', 'kin', 'kind', 'kinda', 'kinder', 'kindergarten', 'kindle', 'kindled', 'kindling', 'kindly', 'kindness', 'king', 'kinteresting', 'kiosk', 'kirkland', 'kiss', 'kissing', 'kit', 'kitchen', 'kitten', 'kjow', 'kjwl', 'klonopin', 'klujdl', 'km', 'kmfpmx', 'knack', 'knee', 'knelt', 'knew', 'knife', 'knock', 'knocked', 'knocking', 'know', 'knowing', 'knowledgable', 'knowledge', 'knowledgeable', 'known', 'knox', 'knuckle', 'knuckled', 'knuckling', 'kong', 'konw', 'kool', 'korsakoff', 'korsicoff', 'koty', 'kozecke', 'kpins', 'kplaylist', 'kqvngg', 'kratom', 'kryptonite', 'kudzu', 'kyle', 'l', 'la', 'lab', 'label', 'labeled', 'labeling', 'labor', 'labored', 'labyrinth', 'laced', 'lack', 'lacked', 'lacking', 'lactose', 'lad', 'ladder', 'lady', 'lagging', 'laid', 'lambert', 'lame', 'lament', 'lamenting', 'lamp', 'land', 'landed', 'landing', 'landlord', 'landscape', 'landslide', 'lane', 'language', 'lanka', 'lap', 'lapse', 'lapsed', 'laptop', 'large', 'largely', 'larger', 'largest', 'lark', 'lash', 'lashing', 'lasik', 'last', 'lasted', 'laster', 'lasting', 'lastly', 'lat', 'latching', 'late', 'lately', 'latent', 'later', 'latest', 'latter', 'laugh', 'laughed', 'laughing', 'launched', 'launching', 'laundry', 'laurel', 'lava', 'law', 'lawn', 'lawsuit', 'lawyer', 'laxative', 'lay', 'layed', 'layer', 'laying', 'layoff', 'layout', 'laziness', 'lazy', 'lb', 'lbgtq', 'lcbo', 'le', 'lead', 'leader', 'leadership', 'leading', 'leaf', 'leafed', 'league', 'leak', 'leaked', 'lean', 'leaning', 'leap', 'learn', 'learned', 'learning', 'learnt', 'lease', 'leasing', 'least', 'leave', 'leaving', 'lebanon', 'lebowski', 'lecture', 'lecturing', 'led', 'lee', 'leech', 'leeching', 'left', 'leg', 'legacy', 'legal', 'legalization', 'legally', 'legend', 'legion', 'legislation', 'legit', 'legitimate', 'legitimately', 'lego', 'leisure', 'lemme', 'lemon', 'lemonade', 'lend', 'length', 'lengthen', 'lengthy', 'lens', 'leo', 'lere', 'lesion', 'lessen', 'lesser', 'lesson', 'lest', 'let', 'lethal', 'lethargic', 'letshighlight', 'letter', 'letting', 'lettuce', 'level', 'leveled', 'lexapro', 'lg', 'lgbt', 'lgbtq', 'liability', 'liar', 'libby', 'liberal', 'liberated', 'liberating', 'liberationpark', 'libido', 'library', 'librium', 'license', 'licensed', 'lick', 'licken', 'licorice', 'lid', 'lie', 'lied', 'lieu', 'life', 'lifeblah', 'lifei', 'lifelong', 'lifespan', 'lifestyle', 'lifetime', 'lifetipslife', 'lifey', 'lift', 'lifted', 'liften', 'lifting', 'light', 'lighted', 'lightening', 'lighter', 'lightheaded', 'lighting', 'lightly', 'like', 'liked', 'likei', 'likelihood', 'likely', 'likewise', 'liking', 'lil', 'lile', 'limb', 'limbo', 'lime', 'limit', 'limitation', 'limited', 'limiter', 'limiting', 'limitless', 'limping', 'linda', 'lindsey', 'line', 'lineage', 'linear', 'linearly', 'lined', 'lingered', 'lingering', 'lingers', 'lining', 'link', 'linked', 'linking', 'lion', 'lip', 'lipping', 'liq', 'liqour', 'liquid', 'liquor', 'liquour', 'list', 'listday', 'listed', 'listen', 'listened', 'listening', 'listeningstuck', 'listens', 'listenting', 'listerine', 'lit', 'liter', 'literal', 'literally', 'literature', 'litre', 'litter', 'littered', 'little', 'live', 'lived', 'livejournal', 'lively', 'liver', 'livestream', 'livi', 'living', 'livrs', 'lizard', 'lkbgh', 'lkinda', 'llike', 'lmao', 'lmaoanyone', 'lmaoare', 'lmfao', 'lmfaoseriously', 'lo', 'load', 'loaded', 'loading', 'loathes', 'loathing', 'lobby', 'local', 'locale', 'locally', 'locate', 'located', 'location', 'lock', 'lockbox', 'lockdown', 'locked', 'lode', 'lodge', 'lodged', 'log', 'logic', 'logical', 'logically', 'login', 'logistically', 'logistics', 'logo', 'logoration', 'lokos', 'lol', 'lolcoffee', 'lolday', 'lolhow', 'loli', 'lollooking', 'lollypops', 'lolweight', 'lolwhat', 'loma', 'london', 'lone', 'loneliness', 'lonely', 'loner', 'lonesome', 'long', 'longed', 'longer', 'longest', 'longi', 'longing', 'longs', 'longtime', 'lonley', 'look', 'lookalikes', 'looked', 'looking', 'lookout', 'looming', 'looooong', 'loooot', 'loop', 'loose', 'loosely', 'loosen', 'loosening', 'loosing', 'lord', 'los', 'lose', 'loser', 'loses', 'losing', 'loss', 'lost', 'lostdid', 'lot', 'lotr', 'lottery', 'lotus', 'loud', 'louder', 'loudly', 'louis', 'lounge', 'lousy', 'love', 'loved', 'lovely', 'lover', 'loving', 'lovingly', 'low', 'lower', 'lowering', 'lowest', 'lowkey', 'loyal', 'lozenge', 'lozengeshey', 'lsbu', 'lsd', 'lsw', 'lt', 'lubricant', 'lucid', 'luck', 'lucked', 'luckely', 'luckfirst', 'luckfully', 'lucki', 'luckily', 'lucklast', 'lucksmoke', 'lucky', 'luggage', 'luke', 'lunatic', 'lunch', 'lunchtime', 'lunesta', 'lung', 'lured', 'lurk', 'lurked', 'lurker', 'lurking', 'luscious', 'lust', 'lusted', 'luster', 'lutheran', 'luxurious', 'luxury', 'lv', 'lving', 'lvls', 'lwz', 'ly', 'lyft', 'lyfting', 'lying', 'lyme', 'lymph', 'mabye', 'macaroni', 'machine', 'macho', 'mackinac', 'macroscopic', 'mad', 'madddd', 'maddening', 'made', 'madness', 'mafuck', 'magazine', 'magic', 'magical', 'magically', 'magnesium', 'magnet', 'magnificent', 'magnitude', 'mail', 'mailbox', 'mailed', 'mailto', 'main', 'mainly', 'mainstream', 'maintain', 'maintained', 'maintaining', 'maintenance', 'maintence', 'majer', 'major', 'majority', 'majorly', 'make', 'maker', 'makeup', 'making', 'malady', 'malaise', 'malaligned', 'male', 'malformation', 'malicious', 'malignancy', 'malignant', 'malipulative', 'mall', 'malnourished', 'man', 'managable', 'managble', 'manage', 'manageable', 'managed', 'management', 'manager', 'manages', 'managing', 'manahed', 'mandate', 'mandatory', 'mane', 'maneuver', 'manger', 'manhattan', 'mania', 'maniac', 'manic', 'manifest', 'manifesting', 'manipulate', 'manipulated', 'manipulates', 'manipulating', 'manipulation', 'manipulative', 'manipulator', 'manned', 'manner', 'mantra', 'manual', 'manually', 'manufacturer', 'manure', 'many', 'map', 'maple', 'marathon', 'march', 'marching', 'marcoi', 'marcosander', 'marcosandercoaching', 'margarita', 'marge', 'margin', 'marijuana', 'marilyn', 'marine', 'mark', 'marked', 'marker', 'market', 'marketed', 'marketing', 'marlboro', 'marlon', 'marriage', 'married', 'marry', 'marrying', 'martha', 'martyr', 'maruman', 'marveled', 'marveling', 'marvelous', 'mary', 'maryland', 'mashed', 'mask', 'masking', 'masochist', 'masochistic', 'masquerade', 'masqueraded', 'mass', 'massage', 'massive', 'massively', 'master', 'mastered', 'masturbate', 'match', 'matched', 'mate', 'matej', 'material', 'materialist', 'materialize', 'materialized', 'math', 'mathematically', 'matrix', 'matter', 'mattered', 'matthew', 'mattress', 'mature', 'maturity', 'maura', 'maureen', 'max', 'maxed', 'maximum', 'maxx', 'may', 'maybe', 'mayish', 'mayne', 'mayweather', 'maze', 'mb', 'mba', 'mbpk', 'mcdonald', 'mcdonalds', 'mcl', 'md', 'mdma', 'meager', 'meal', 'mealmost', 'mean', 'meaning', 'meaningful', 'meaningless', 'meant', 'meantime', 'meanwhile', 'measure', 'measured', 'measurement', 'measuring', 'meat', 'mechanic', 'mechanical', 'mechanisim', 'mechanism', 'med', 'meday', 'mediation', 'medic', 'medical', 'medically', 'medicare', 'medicate', 'medicated', 'medicating', 'medication', 'medicinally', 'medicine', 'medicinenet', 'mediocre', 'meditate', 'meditated', 'meditating', 'meditation', 'medium', 'meekly', 'meen', 'meet', 'meeting', 'mefirst', 'mefuck', 'mega', 'meguys', 'meh', 'mehow', 'mei', 'mejust', 'mel', 'melancholia', 'melancholic', 'melatonin', 'melbourne', 'mellow', 'melt', 'meltdown', 'melter', 'melting', 'member', 'membership', 'meme', 'memorable', 'memorial', 'memory', 'men', 'menace', 'mend', 'mended', 'menial', 'mening', 'ment', 'mental', 'mentality', 'mentally', 'menthol', 'mentholated', 'mentholy', 'mention', 'mentioned', 'mentioning', 'mentor', 'mentoring', 'menu', 'merch', 'mercy', 'mere', 'merely', 'meridian', 'merry', 'mesh', 'mesmoked', 'mess', 'message', 'messaged', 'messaging', 'messanger', 'messed', 'messing', 'messy', 'met', 'metabolism', 'metal', 'metallic', 'metaphor', 'metaphorically', 'metastasis', 'meteor', 'meter', 'meth', 'methadone', 'method', 'methodology', 'meticulously', 'mever', 'mexican', 'mexico', 'mf', 'mfers', 'mg', 'mia', 'mic', 'michael', 'michelle', 'mickey', 'micro', 'microdosing', 'microphone', 'microscopic', 'mid', 'middle', 'midnight', 'midnite', 'midst', 'midterm', 'midway', 'midweek', 'midwest', 'midwestern', 'midwife', 'might', 'mighty', 'migraine', 'migrane', 'mike', 'mikei', 'mil', 'mild', 'mildly', 'mile', 'milestone', 'militant', 'military', 'milk', 'mill', 'millenials', 'miller', 'million', 'millionaire', 'millionth', 'mimicking', 'mimosa', 'min', 'mind', 'mindcontroling', 'minded', 'mindedness', 'mindful', 'mindfully', 'mindfulness', 'mindhacks', 'minding', 'mindless', 'mindlessly', 'mindset', 'mine', 'mineral', 'mingle', 'mini', 'minimal', 'minimally', 'minimised', 'minimize', 'minimum', 'minmum', 'minnesota', 'minor', 'minority', 'mint', 'minty', 'minus', 'minuscule', 'minute', 'miracle', 'miracolous', 'miraculous', 'miraculously', 'mirage', 'mirror', 'mirtazipine', 'misadventure', 'miscarriage', 'mischaracterization', 'misdeed', 'misdemeanor', 'misdiagnosed', 'misdomener', 'miserable', 'miserably', 'misery', 'mishandling', 'misinformation', 'mismanaging', 'miss', 'missed', 'missing', 'mission', 'mississippi', 'mist', 'mistake', 'mistaken', 'mistakesresentment', 'mistreat', 'mistreatment', 'mistrust', 'misunderstanding', 'misunderstood', 'mitcham', 'mitigated', 'mix', 'mixed', 'mixie', 'mixing', 'mj', 'ml', 'mmol', 'mnf', 'mo', 'moan', 'moaning', 'mobile', 'mobility', 'moblie', 'mockery', 'mocktails', 'mod', 'modafinil', 'mode', 'model', 'modeled', 'modelos', 'moderate', 'moderated', 'moderately', 'moderating', 'moderation', 'modern', 'modest', 'modifying', 'module', 'moe', 'mohamed', 'moisturizers', 'moke', 'mold', 'molested', 'mom', 'moment', 'momentarily', 'momentary', 'momentum', 'momma', 'mommy', 'mon', 'monastery', 'monday', 'monetary', 'money', 'moneytell', 'mongering', 'monitor', 'monitored', 'monitoring', 'monk', 'monkey', 'mono', 'monolithic', 'monologue', 'monotheistic', 'monotone', 'monotonous', 'monster', 'montenegro', 'month', 'monthly', 'monthwill', 'montjs', 'monumental', 'mooch', 'mood', 'moodiness', 'moody', 'moon', 'mop', 'mope', 'mopped', 'moral', 'morality', 'morally', 'morbidity', 'morbidly', 'moreless', 'moreover', 'morex', 'morgue', 'morning', 'mortality', 'mortgage', 'mortified', 'moscow', 'mostly', 'motel', 'moth', 'mother', 'motif', 'motion', 'motionless', 'motivate', 'motivated', 'motivates', 'motivating', 'motivation', 'motivational', 'motivator', 'motive', 'motor', 'motorcycle', 'motto', 'mould', 'mountain', 'mountaineering', 'mountaintop', 'mounting', 'mourn', 'mourning', 'mouth', 'mouthing', 'mouthwash', 'move', 'moved', 'movement', 'movie', 'moving', 'mp', 'mph', 'mpty', 'mr', 'mreatf', 'mri', 'mst', 'msurface', 'mt', 'mtf', 'mtfking', 'mtg', 'much', 'muchla', 'mucous', 'mucus', 'mucusincreased', 'muenshester', 'muffin', 'mug', 'mule', 'multi', 'multiple', 'multiply', 'multitude', 'mum', 'mummy', 'munch', 'munchies', 'munching', 'mundane', 'municipality', 'municpal', 'murder', 'murdered', 'murderer', 'murdering', 'musc', 'muscle', 'muscular', 'museum', 'mush', 'mushroom', 'music', 'musical', 'musician', 'must', 'muster', 'mutals', 'mute', 'muted', 'mutiple', 'mutual', 'muzzle', 'mv', 'mwntally', 'myelf', 'mykonos', 'myle', 'myopia', 'myriad', 'mysef', 'mysel', 'myselfadvice', 'myselfcan', 'myselfi', 'myselfmy', 'myselfsober', 'mysterious', 'mysteriously', 'mystic', 'mystical', 'myth', 'mythology', 'n', 'na', 'nacho', 'nagging', 'naggy', 'nah', 'nahyan', 'nai', 'nail', 'nailed', 'naive', 'naked', 'naltrexone', 'nam', 'name', 'named', 'nameee', 'nap', 'napped', 'napping', 'nappy', 'narcan', 'narcissist', 'narcolepsy', 'narcoleptic', 'narcotic', 'narrative', 'narrator', 'narrowing', 'nasal', 'nasty', 'nation', 'native', 'natural', 'naturally', 'nature', 'naughty', 'nausea', 'nauseam', 'nauseate', 'nauseated', 'nauseating', 'nauseous', 'nausiousworst', 'navigate', 'navigating', 'nbsp', 'nc', 'ncbi', 'nd', 'ne', 'near', 'nearby', 'nearer', 'nearest', 'nearing', 'nearly', 'neat', 'necessarily', 'necessary', 'necessity', 'neck', 'nectarine', 'nederland', 'need', 'needed', 'needing', 'needle', 'needy', 'neee', 'neevr', 'nefarious', 'neg', 'negative', 'negatively', 'negativity', 'neglect', 'neglected', 'neglecting', 'negotiating', 'neighbor', 'neighborhood', 'neighbour', 'neighbourhood', 'neither', 'nephew', 'nephrectomy', 'nerd', 'nerdy', 'nerf', 'nerve', 'nervous', 'nervousfirst', 'nervousness', 'ness', 'nest', 'netflix', 'netherlands', 'neti', 'network', 'neurological', 'neurone', 'neuropathy', 'neurotic', 'neurotrophy', 'neutral', 'nevada', 'never', 'neverending', 'nevermind', 'nevertheless', 'neverwinter', 'nevmo', 'new', 'newbie', 'newborn', 'newcomer', 'newest', 'newfound', 'newly', 'newneed', 'news', 'newspaper', 'newton', 'nex', 'next', 'nextmonth', 'nexts', 'nexus', 'nfl', 'ng', 'ngl', 'nh', 'nht', 'nibble', 'nic', 'nice', 'nicely', 'nicer', 'nicest', 'niche', 'nicht', 'nick', 'nickel', 'nickname', 'nicobate', 'nicodemon', 'nicoderm', 'nicolette', 'nicorette', 'nicotin', 'nicotine', 'nictone', 'niece', 'niggle', 'niggling', 'night', 'nightclub', 'nightfall', 'nightly', 'nightmare', 'nightmarily', 'nightmarishly', 'nightshift', 'nightwing', 'nih', 'nihilism', 'nihilist', 'nihilistic', 'nine', 'nineclub', 'nineteen', 'ninety', 'nintendo', 'nip', 'nit', 'nite', 'nitrosamine', 'njoy', 'njoys', 'nlm', 'nlqhvjcxn', 'no', 'noalmost', 'nobody', 'nod', 'nodding', 'node', 'nofap', 'noggin', 'noise', 'noisy', 'non', 'nonalcoholic', 'nonchalant', 'none', 'nonetheless', 'nonexistent', 'nonjudgmental', 'nonsense', 'nonsmoker', 'nonsmoking', 'nonstop', 'noon', 'noone', 'nope', 'norcal', 'nordic', 'nore', 'norfolk', 'norm', 'normal', 'normalcy', 'normalis', 'normalise', 'normalised', 'normality', 'normally', 'norman', 'normie', 'normies', 'north', 'norway', 'nose', 'nostalgia', 'nostalgic', 'notably', 'notch', 'note', 'notebook', 'noted', 'nothing', 'noti', 'noticable', 'notice', 'noticeable', 'noticed', 'noticing', 'notification', 'noting', 'notion', 'notorious', 'nourishingly', 'novel', 'november', 'nowadays', 'nowbl', 'nowchanged', 'nowhere', 'nowi', 'nownearly', 'nowtold', 'np', 'npu', 'nqjqn', 'nrt', 'nrts', 'nsdsmhw', 'nsfw', 'nt', 'nth', 'nuance', 'nudge', 'nuds', 'nugget', 'numb', 'numbed', 'number', 'numbering', 'numbing', 'numbness', 'numbs', 'numeral', 'numerical', 'numerous', 'nun', 'nuptials', 'nurse', 'nursing', 'nurture', 'nut', 'nutrient', 'nutrition', 'nutshell', 'nutt', 'nutty', 'nv', 'ny', 'nyc', 'nyr', 'nytimes', 'oa', 'oaalegmusic', 'oaf', 'oak', 'oatmeal', 'ob', 'obedience', 'obese', 'object', 'objective', 'objectively', 'obligated', 'obligation', 'obligatory', 'obliged', 'oblivion', 'obnoxious', 'obscure', 'obscured', 'obscuring', 'observation', 'observe', 'observed', 'observer', 'observing', 'obsessed', 'obsessing', 'obsession', 'obsessive', 'obssesed', 'obssesion', 'obstacle', 'obtain', 'obtainable', 'obvious', 'obviously', 'ocasional', 'ocassionally', 'occasion', 'occasional', 'occasionall', 'occasionally', 'occassions', 'occupied', 'occupy', 'occupying', 'occur', 'occurred', 'occurrence', 'occurring', 'occurs', 'ocd', 'ocean', 'oct', 'october', 'octopus', 'ocurring', 'od', 'odaat', 'odd', 'oddly', 'odor', 'ofc', 'ofcause', 'offe', 'offend', 'offended', 'offender', 'offending', 'offends', 'offense', 'offensive', 'offer', 'offered', 'offering', 'offical', 'office', 'officer', 'official', 'officially', 'offing', 'offmychest', 'offmyselfi', 'oft', 'often', 'oftentimes', 'og', 'oh', 'ohhhh', 'ohm', 'oiaa', 'oil', 'oily', 'ok', 'okay', 'okey', 'old', 'older', 'oldest', 'ole', 'olfactory', 'olive', 'olnine', 'omg', 'ominous', 'omission', 'ompletely', 'one', 'oneness', 'ongoing', 'onhelp', 'online', 'onlinetell', 'ons', 'onset', 'onsmoking', 'ontario', 'onto', 'onward', 'onwards', 'oo', 'ookavx', 'ooky', 'oopsies', 'oozing', 'op', 'opem', 'open', 'opened', 'opener', 'opening', 'openly', 'openness', 'opera', 'operate', 'operating', 'operation', 'opertunity', 'opiate', 'opinion', 'oportunity', 'opportunity', 'oppose', 'opposed', 'opposing', 'opposit', 'opposite', 'opt', 'opted', 'optimism', 'optimistic', 'optimizing', 'option', 'oral', 'orange', 'ordeal', 'order', 'ordered', 'ordering', 'ordinary', 'org', 'organ', 'organic', 'organically', 'organisation', 'organise', 'organization', 'organize', 'organized', 'organizing', 'orgasm', 'orginazation', 'orgy', 'orientation', 'oriented', 'original', 'originally', 'orleans', 'oro', 'osiyo', 'osjk', 'ot', 'otc', 'othering', 'others', 'othertimes', 'otherwise', 'otiytbljzqc', 'ought', 'ounce', 'out', 'outbreak', 'outburst', 'outcast', 'outcasted', 'outcome', 'outdoor', 'outdoors', 'outer', 'outgoing', 'outgrown', 'outing', 'outlet', 'outline', 'outlook', 'outpatient', 'outrageously', 'outreach', 'outreached', 'outside', 'outsider', 'outsource', 'outstanding', 'outta', 'outward', 'outweigh', 'outweighed', 'outweighing', 'outweighs', 'oven', 'over', 'overachiever', 'overall', 'overboard', 'overcame', 'overcan', 'overcome', 'overcoming', 'overconfidence', 'overdo', 'overdose', 'overdosed', 'overdoses', 'overdosing', 'overdrammtic', 'overdrawn', 'overdue', 'overeating', 'overfocusing', 'overfome', 'overhaul', 'overheard', 'overindulgence', 'overlap', 'overload', 'overloaded', 'overlook', 'overlooking', 'overly', 'overnight', 'overnights', 'overpaying', 'overpowering', 'overreacting', 'overreaction', 'overrun', 'overseeing', 'overshadowed', 'overshare', 'oversleeping', 'overslept', 'overstep', 'overstimulates', 'overt', 'overthink', 'overthinking', 'overtime', 'overturn', 'overweight', 'overwhelm', 'overwhelmed', 'overwhelming', 'overwhelmingly', 'overwhelms', 'overworking', 'overwrote', 'overzealous', 'owe', 'owed', 'owes', 'owi', 'owl', 'owned', 'owner', 'ownership', 'owning', 'owns', 'oxford', 'oxy', 'oxygen', 'oxys', 'oxytocin', 'oynb', 'oyu', 'oz', 'p', 'pa', 'pace', 'paced', 'pacifier', 'pacing', 'pack', 'package', 'packed', 'packet', 'packing', 'pact', 'pad', 'paedos', 'pagan', 'page', 'paid', 'pain', 'painful', 'painfully', 'painkiller', 'painless', 'painstaking', 'painstakingly', 'paint', 'painted', 'painting', 'paipo', 'pair', 'paired', 'pairing', 'pal', 'palace', 'pale', 'palestine', 'pall', 'pallet', 'palm', 'palmed', 'palmoplantar', 'palpation', 'palpitation', 'pamphlet', 'panal', 'pancake', 'panceatitis', 'pancreas', 'pancreatitis', 'pandemic', 'panedeine', 'panel', 'pang', 'panic', 'panick', 'panicked', 'panicking', 'panicky', 'pant', 'paper', 'papillary', 'parable', 'paracetamol', 'paradox', 'paradoxical', 'paradoxically', 'paragraph', 'paraldehyde', 'parallel', 'paralyzed', 'paramedic', 'parameter', 'paramount', 'paranasal', 'paranoia', 'paranoid', 'paraphernalia', 'parasite', 'parasitic', 'pardon', 'parent', 'parental', 'parented', 'parentified', 'parenting', 'pariah', 'paris', 'park', 'parked', 'parking', 'parkinson', 'parosmia', 'part', 'partake', 'parted', 'parthenon', 'partial', 'partially', 'participant', 'participate', 'participated', 'participating', 'participation', 'particular', 'particularly', 'partied', 'partly', 'partner', 'partnership', 'party', 'partying', 'pas', 'pass', 'passage', 'passe', 'passed', 'passenger', 'passing', 'passion', 'passionate', 'passionately', 'passive', 'passively', 'password', 'past', 'pasta', 'paststarted', 'pat', 'patch', 'patched', 'patchesday', 'path', 'pathetic', 'pathological', 'pathologically', 'pathology', 'patience', 'patient', 'patiently', 'patio', 'patrol', 'patter', 'pattern', 'pause', 'paused', 'pausing', 'paving', 'pavlov', 'paw', 'pay', 'paycheck', 'payday', 'paying', 'payment', 'pb', 'pc', 'pcp', 'pdf', 'pdwrih', 'peace', 'peaceful', 'peacefully', 'peaceneed', 'peach', 'peachy', 'peak', 'peaked', 'peanut', 'pearlchemistgroup', 'peculiar', 'ped', 'pedaled', 'pedophile', 'pee', 'peed', 'peeing', 'peel', 'peele', 'peeling', 'peep', 'peer', 'peeve', 'pefqv', 'peice', 'pelvis', 'pemb', 'pen', 'penalty', 'penance', 'pencil', 'pencilled', 'pending', 'penetrated', 'penniless', 'penning', 'pennsylvania', 'penny', 'penpal', 'people', 'peopleidk', 'peoplestarted', 'pep', 'pepper', 'peppermint', 'per', 'perceive', 'perceived', 'percent', 'percentage', 'perception', 'percocet', 'perennial', 'perfect', 'perfection', 'perfectionism', 'perfectly', 'perforation', 'perform', 'performance', 'performer', 'performing', 'perfume', 'perhaps', 'peril', 'period', 'periodic', 'periodically', 'perk', 'permanence', 'permanent', 'permanently', 'permeant', 'permission', 'permitted', 'permitting', 'perosn', 'perpetual', 'perpetuate', 'perpetuates', 'perplexed', 'perscribed', 'persevere', 'persevered', 'persevering', 'persian', 'persist', 'persisted', 'persistent', 'persistently', 'persists', 'person', 'persona', 'personal', 'personality', 'personally', 'perspective', 'pertaining', 'pertinent', 'pervious', 'pescetarianism', 'pescription', 'pesky', 'pessimist', 'pessimistic', 'pet', 'pete', 'peter', 'petite', 'petitioned', 'petty', 'pfizer', 'pg', 'phantasm', 'phantom', 'pharmacist', 'pharmacology', 'pharmacy', 'phase', 'phased', 'phasehow', 'phd', 'pheard', 'phenomenal', 'phenomenally', 'phenomenon', 'philippine', 'philly', 'philosopher', 'philosophical', 'philosophy', 'phlegm', 'phlegmy', 'phoenix', 'phone', 'phoned', 'phony', 'photo', 'photographed', 'phrase', 'phrased', 'phucked', 'phycologist', 'physic', 'physical', 'physically', 'physician', 'physicist', 'physico', 'physiological', 'physiologically', 'physiotherapist', 'physique', 'pic', 'pick', 'picked', 'picket', 'picking', 'pickup', 'picky', 'picture', 'picturing', 'pie', 'piece', 'piecing', 'pier', 'pif', 'pigeonhole', 'pilate', 'pile', 'pilfered', 'pill', 'pillow', 'pilot', 'pimple', 'pimply', 'pin', 'pinched', 'pinching', 'pine', 'pineapple', 'ping', 'pink', 'pinky', 'pinpoint', 'pint', 'pious', 'pipe', 'piper', 'piss', 'pissed', 'pissing', 'pissy', 'pit', 'pitch', 'pitcher', 'pitiful', 'pitty', 'pity', 'pitying', 'pixie', 'piyadk', 'pjpg', 'pjr', 'pk', 'pl', 'place', 'placebo', 'placed', 'placeholder', 'plague', 'plagued', 'plaguing', 'plain', 'plainly', 'plan', 'plane', 'planet', 'planned', 'planning', 'plant', 'planted', 'plastered', 'plastic', 'plate', 'platform', 'platitude', 'plausible', 'play', 'played', 'player', 'playful', 'playground', 'playing', 'plea', 'pleaaaaseee', 'pleaae', 'plead', 'pleasant', 'pleasantly', 'pleasantry', 'please', 'pleased', 'pleasehi', 'pleaserepeated', 'pleasesobriety', 'pleasing', 'pleasurable', 'pleasure', 'pledge', 'plentiful', 'plenty', 'plethora', 'plot', 'plotting', 'plp', 'pls', 'pluck', 'plug', 'plugged', 'plugging', 'plummeted', 'plunge', 'plupob', 'plus', 'ply', 'plz', 'pm', 'pmc', 'pmday', 'pmvom', 'pndemic', 'pneumonia', 'png', 'pocket', 'pod', 'podcast', 'podcasts', 'podium', 'poetic', 'point', 'pointed', 'pointer', 'pointing', 'pointless', 'poison', 'poisoned', 'poisoning', 'poisonous', 'poke', 'poker', 'polacrilex', 'poland', 'polar', 'pole', 'police', 'policing', 'policy', 'polished', 'polite', 'politely', 'political', 'politics', 'poll', 'pollute', 'polluting', 'polytechnic', 'pomp', 'pompous', 'pond', 'ponder', 'pong', 'poo', 'pool', 'pooling', 'poop', 'poopy', 'poor', 'poorday', 'poorly', 'poos', 'pop', 'popped', 'popping', 'poppy', 'popular', 'population', 'porch', 'pore', 'poring', 'porn', 'portion', 'pose', 'posed', 'poser', 'position', 'positive', 'positively', 'positivity', 'possessed', 'possession', 'possibility', 'possible', 'possibleif', 'possibly', 'post', 'posted', 'poster', 'posting', 'postive', 'postpone', 'postponed', 'posture', 'pot', 'potassium', 'potato', 'potential', 'potentiality', 'potentially', 'pothos', 'potion', 'pouch', 'pound', 'pounding', 'pour', 'poured', 'pouring', 'pours', 'poverty', 'powder', 'power', 'powered', 'powerful', 'powerless', 'powerlessness', 'pp', 'ppd', 'ppi', 'ppl', 'ppp', 'practical', 'practically', 'practice', 'practiced', 'practicing', 'practising', 'prank', 'pray', 'prayed', 'prayer', 'praying', 'pre', 'preach', 'preacher', 'preaching', 'preachy', 'preamble', 'precancerous', 'precedence', 'preceding', 'precious', 'precisely', 'predator', 'predicament', 'predictable', 'predisposed', 'predisposition', 'prednisone', 'predominately', 'preemptively', 'prefer', 'preferable', 'preferably', 'preference', 'preferred', 'pregame', 'pregnancy', 'pregnant', 'prejudice', 'premature', 'prematurely', 'premeditated', 'preoccupied', 'preoccupy', 'prep', 'preparation', 'prepare', 'prepared', 'preparing', 'prepping', 'prerogative', 'prescribe', 'prescribed', 'prescription', 'presence', 'present', 'presentable', 'presentation', 'presented', 'presently', 'preservation', 'preset', 'press', 'pressed', 'pressing', 'pressure', 'pressured', 'pressuring', 'prestige', 'presumably', 'presume', 'pretend', 'pretended', 'pretending', 'pretense', 'pretentious', 'pretty', 'prevalence', 'prevalent', 'prevent', 'preventable', 'preventative', 'prevented', 'preventing', 'prevention', 'prevents', 'preview', 'previous', 'previously', 'preworkout', 'prey', 'price', 'prick', 'pricking', 'pride', 'prideful', 'prilosec', 'primal', 'primarily', 'primary', 'prime', 'primoradial', 'princess', 'principal', 'principia', 'principle', 'printing', 'prior', 'prioritize', 'priority', 'prison', 'prisoner', 'privacy', 'private', 'privately', 'privet', 'privilege', 'prize', 'pro', 'proactive', 'proactively', 'prob', 'probability', 'probable', 'probably', 'probation', 'probationer', 'probiotic', 'problem', 'problematic', 'problemes', 'problemhallucinations', 'problemsbuddies', 'probly', 'probs', 'procede', 'procedure', 'proceed', 'proceeded', 'proceeding', 'proceeds', 'procent', 'process', 'processed', 'processing', 'proclaim', 'proclaimed', 'procrastinate', 'procrastinated', 'procrastinating', 'procrastination', 'procure', 'produce', 'produced', 'producing', 'product', 'production', 'productive', 'productivity', 'prof', 'profession', 'professional', 'professionalism', 'professionally', 'professor', 'profile', 'profit', 'profound', 'profusely', 'prognosis', 'program', 'programme', 'programmed', 'programming', 'progress', 'progressed', 'progressing', 'progression', 'progressive', 'progressively', 'project', 'projecting', 'prolly', 'prolong', 'prolonged', 'prominent', 'promise', 'promised', 'promising', 'promo', 'promote', 'promoted', 'prompt', 'prompted', 'prompting', 'promptly', 'prone', 'pronounced', 'proof', 'prooven', 'propaganda', 'propagates', 'propensity', 'proper', 'properly', 'property', 'prophecy', 'prophet', 'proponent', 'proportion', 'proposal', 'propose', 'proposed', 'proposes', 'proposing', 'proposition', 'proselytize', 'prospect', 'prospector', 'prostitution', 'protect', 'protected', 'protection', 'protein', 'protester', 'protesting', 'protocol', 'proud', 'proudest', 'proudly', 'proustian', 'prove', 'proved', 'proven', 'provide', 'provided', 'providence', 'provider', 'provides', 'providewould', 'providing', 'province', 'proving', 'provokes', 'provoking', 'proxy', 'prudence', 'prudent', 'prune', 'pruning', 'psilocybin', 'psoriasis', 'pst', 'psych', 'psychaitrist', 'psychatrist', 'psyche', 'psychedelic', 'psychedelics', 'psychiatric', 'psychiatrist', 'psychiatry', 'psychic', 'psycho', 'psychoactive', 'psychological', 'psychologically', 'psychologist', 'psychology', 'psychonaunts', 'psychosis', 'psychosomatically', 'psychotherapist', 'psychotherapy', 'psychotic', 'psyciatrist', 'psyhciatrist', 'psyical', 'ptsd', 'pub', 'puberty', 'public', 'publicly', 'published', 'pubmed', 'puck', 'puddle', 'puede', 'puff', 'puffed', 'puffi', 'puffing', 'puffy', 'pugh', 'puke', 'puked', 'puking', 'pull', 'pulled', 'pulling', 'pulmologist', 'pulmonary', 'pulmonologist', 'pulsative', 'pummel', 'pump', 'pumped', 'pumping', 'pums', 'pun', 'punch', 'punched', 'punchedam', 'punching', 'punish', 'punished', 'punishing', 'punishment', 'punker', 'puny', 'pupil', 'puppy', 'purchase', 'purchased', 'pure', 'purely', 'purged', 'purging', 'purifier', 'purple', 'purpose', 'purposeful', 'pursue', 'pursuing', 'push', 'pushback', 'pushed', 'pusher', 'pushing', 'pushy', 'pussy', 'pustulosus', 'put', 'putting', 'puzzled', 'pyramid', 'q', 'qaxi', 'qgain', 'qld', 'qma', 'qp', 'qr', 'qrv', 'qstudy', 'qualification', 'qualified', 'qualify', 'quality', 'quantify', 'quantity', 'quarantine', 'quarantined', 'quart', 'quarter', 'quarterly', 'queasy', 'queen', 'queer', 'quelled', 'query', 'quest', 'question', 'questionable', 'questioned', 'questioning', 'queue', 'queued', 'quick', 'quicker', 'quickest', 'quickly', 'quickmist', 'quicksand', 'quiet', 'quieter', 'quietly', 'quifor', 'quilt', 'quilting', 'quipped', 'quirk', 'quit', 'quita', 'quite', 'quited', 'quitesure', 'quitframing', 'quiting', 'quitinghow', 'quitneed', 'quits', 'quitsure', 'quitted', 'quitter', 'quitting', 'quittracker', 'quiz', 'quo', 'quota', 'quote', 'quoting', 'qutting', 'qzvulztyfzssxennf', 'r', 'rabbit', 'rabies', 'race', 'racer', 'racing', 'racquetball', 'radiant', 'radiates', 'radical', 'radically', 'radio', 'raf', 'rage', 'raging', 'raider', 'raiding', 'rail', 'rain', 'rainbow', 'raining', 'rainy', 'raise', 'raised', 'raisin', 'raising', 'ramadan', 'ramble', 'rambled', 'rambling', 'rambly', 'ramp', 'rampage', 'rampant', 'ramped', 'ran', 'rancher', 'random', 'randomized', 'randomly', 'rang', 'range', 'ranged', 'ranging', 'ranking', 'rant', 'rantday', 'rantgoing', 'ranting', 'rape', 'raped', 'rapid', 'rapidly', 'raping', 'rapist', 'rare', 'rarely', 'rashly', 'rashness', 'raspberry', 'raspy', 'rat', 'rate', 'rather', 'rating', 'ratio', 'ration', 'rational', 'rationalised', 'rationalising', 'rationalization', 'rationalize', 'rationalized', 'rationalizing', 'rationally', 'rationaly', 'rattling', 'raunchier', 'rave', 'ravenous', 'raving', 'raw', 'ray', 'raze', 'razor', 'rbt', 'rca', 'rch', 'rd', 'reach', 'reached', 'reaching', 'react', 'reacted', 'reacting', 'reaction', 'reactivate', 'reactive', 'reactively', 'reacts', 'read', 'reader', 'readily', 'readin', 'readiness', 'reading', 'readingday', 'readingfeels', 'readinglosing', 'readingslip', 'readjusting', 'ready', 'reafirming', 'reaks', 'real', 'realisation', 'realise', 'realised', 'realises', 'realisied', 'realising', 'realistic', 'realistically', 'realisticly', 'reality', 'realization', 'realize', 'realized', 'realizes', 'realizing', 'reall', 'reallllly', 'reallly', 'realllyyyyy', 'really', 'realm', 'realy', 'reaper', 'rear', 'rearrange', 'rearranged', 'reason', 'reasonable', 'reasonably', 'reasoning', 'reassurance', 'reassure', 'reassured', 'reassuring', 'rebel', 'rebellion', 'reborn', 'rebounded', 'rebuild', 'rebuilding', 'rec', 'recall', 'recalled', 'recap', 'receive', 'received', 'receiving', 'recent', 'recently', 'reception', 'receptionist', 'receptor', 'recess', 'recession', 'recieved', 'recipe', 'recipient', 'reciprocal', 'reciprocate', 'recite', 'recites', 'reciting', 'reckless', 'reckon', 'reclaim', 'reclaimed', 'reclusive', 'recognise', 'recognising', 'recognize', 'recognized', 'recognizing', 'recoil', 'recollection', 'recomandation', 'recommend', 'recommendation', 'recommended', 'recommending', 'recommends', 'recommondation', 'reconcile', 'reconciled', 'reconditioning', 'reconfirmed', 'recongize', 'reconnected', 'reconsider', 'reconstruction', 'reconstructive', 'recontacting', 'record', 'recorded', 'recording', 'recount', 'recourse', 'recover', 'recoverd', 'recovered', 'recoverer', 'recovering', 'recovery', 'recreational', 'recreationally', 'recruit', 'recruiting', 'rectangular', 'rectify', 'recurring', 'recycle', 'recycles', 'recycling', 'red', 'redacted', 'redcap', 'redd', 'reddit', 'redditor', 'redditors', 'redeem', 'redeemed', 'redeeming', 'redemption', 'redittor', 'redo', 'redouble', 'redoubling', 'reduce', 'reduced', 'reducer', 'reduces', 'reducing', 'reduction', 'redundant', 'reeeaaaaally', 'reeeally', 'reek', 'reel', 'reeling', 'reevaluate', 'ref', 'refer', 'reference', 'referencing', 'referral', 'referred', 'referrer', 'referring', 'refers', 'refill', 'refine', 'refined', 'reflect', 'reflected', 'reflecting', 'reflection', 'reflective', 'reflects', 'reflux', 'reform', 'reformat', 'refrain', 'refrained', 'reframe', 'refresh', 'refreshing', 'refrigerator', 'refuge', 'refunded', 'refurbished', 'refuse', 'refused', 'refusing', 'regain', 'regained', 'regaining', 'regard', 'regarding', 'regardles', 'regardless', 'regardlessdoes', 'regenerate', 'regeneration', 'regimen', 'regiment', 'regimented', 'region', 'register', 'registered', 'registering', 'regression', 'regret', 'regretful', 'regretfully', 'regrettable', 'regrettably', 'regretted', 'regretting', 'regroup', 'regular', 'regularly', 'regulary', 'regulate', 'regulating', 'regulation', 'regurgitating', 'rehab', 'rehabilitate', 'rehabilitating', 'rehabilitation', 'rehabs', 'rehearse', 'rehearsed', 'rehired', 'rehome', 'reignition', 'reinforce', 'reinforcement', 'reinforcing', 'reinstated', 'rejected', 'rejecting', 'rejection', 'rejuvenated', 'relaps', 'relapse', 'relapsed', 'relapser', 'relapsers', 'relapsetrying', 'relapsing', 'relaspe', 'relasped', 'relatable', 'relate', 'related', 'relatequit', 'relates', 'relating', 'relation', 'relational', 'relationship', 'relative', 'relatively', 'relativize', 'relax', 'relaxation', 'relaxed', 'relaxes', 'relaxing', 'relay', 'relayed', 'relearn', 'relearned', 'release', 'released', 'releasing', 'releaves', 'relented', 'relentless', 'relevant', 'reliable', 'reliance', 'reliant', 'relief', 'relies', 'relieve', 'relieved', 'relieving', 'relight', 'religion', 'religious', 'religiously', 'relive', 'relived', 'relives', 'reliving', 'relocated', 'relocating', 'reloved', 'reluctance', 'reluctant', 'reluctantly', 'rely', 'relying', 'rem', 'remain', 'remainder', 'remained', 'remaining', 'remains', 'remark', 'remarkable', 'remarked', 'rembber', 'remeber', 'remedy', 'remember', 'remembered', 'remembering', 'remembers', 'remembershould', 'remind', 'reminded', 'reminder', 'reminding', 'reminds', 'remining', 'reminiscent', 'reminiscing', 'remission', 'remodeled', 'remorse', 'remorseful', 'remote', 'remotely', 'removable', 'removal', 'remove', 'removed', 'removing', 'renal', 'renamed', 'rendered', 'renew', 'renewed', 'renewing', 'renovating', 'rent', 'rente', 'renting', 'reoccur', 'reoccurring', 'rep', 'repair', 'repaired', 'repairing', 'reparable', 'repay', 'repeat', 'repeated', 'repeatedly', 'repeating', 'repercussion', 'repetition', 'repetitive', 'replace', 'replaced', 'replacement', 'replacing', 'replapse', 'replay', 'replicate', 'replicates', 'replied', 'reply', 'replying', 'report', 'reported', 'repossessed', 'represent', 'representing', 'represents', 'repressed', 'reprieve', 'reprimand', 'reprimanded', 'reproachable', 'repulsed', 'repurpose', 'reputation', 'request', 'requested', 'requesting', 'require', 'required', 'requirement', 'requires', 'requiring', 'rereading', 'reschedule', 'rescued', 'research', 'researched', 'researcher', 'researching', 'resemble', 'resembled', 'resembles', 'resent', 'resentful', 'resenting', 'resentment', 'reservation', 'reserve', 'reserved', 'reset', 'resetting', 'resident', 'residential', 'resides', 'residual', 'residue', 'resign', 'resignated', 'resigned', 'resilience', 'resilient', 'resist', 'resistance', 'resistant', 'resisted', 'resisting', 'resolutely', 'resolution', 'resolve', 'resolved', 'resolving', 'resonate', 'resonated', 'resort', 'resorted', 'resource', 'resourceful', 'respect', 'respected', 'respectful', 'respecting', 'respectively', 'respiration', 'respiratory', 'respite', 'respond', 'responded', 'responding', 'responds', 'responsability', 'response', 'responsibility', 'responsible', 'responsibly', 'responsiblyalcoholism', 'rest', 'restart', 'restarted', 'restated', 'restaurant', 'rested', 'resting', 'restless', 'restlessness', 'restorative', 'restore', 'restored', 'restores', 'restrained', 'restraining', 'restraint', 'restricted', 'restriction', 'restroom', 'result', 'resulted', 'resulting', 'resultsi', 'resume', 'resumed', 'resuming', 'resurface', 'resurfaced', 'resurfacing', 'retaking', 'retaliated', 'retaliating', 'retaliation', 'retention', 'rethink', 'retire', 'retired', 'retrain', 'retreat', 'retreated', 'retribution', 'retrieve', 'retrospect', 'retrospection', 'return', 'returnapproaching', 'returned', 'returning', 'reunion', 'revamps', 'reveal', 'revealed', 'revealing', 'reveals', 'revelation', 'revenge', 'revere', 'reversal', 'reverse', 'reversed', 'reversing', 'revert', 'reverted', 'revia', 'review', 'reviewing', 'revisit', 'revisited', 'revolution', 'revolutionary', 'revolve', 'revolved', 'revolves', 'revolving', 'reward', 'rewarded', 'rewarding', 'rewind', 'rewire', 'rewiring', 'reworked', 'reworking', 'rewrite', 'rezre', 'rhat', 'rhen', 'rhode', 'rhyme', 'rib', 'rice', 'rich', 'richen', 'riclooking', 'rid', 'ridden', 'riddle', 'riddled', 'ride', 'ridiculous', 'ridiculously', 'riding', 'rids', 'rien', 'rift', 'right', 'righteousness', 'rightfully', 'righting', 'rigid', 'rigorous', 'rigorously', 'rigt', 'riled', 'ring', 'ringing', 'ringtone', 'rinse', 'rinsed', 'riotreality', 'rip', 'ripped', 'ripping', 'rise', 'rising', 'risk', 'risking', 'risky', 'ritalin', 'rite', 'ritual', 'ritualistic', 'river', 'rlly', 'rly', 'rn', 'ro', 'road', 'roadblock', 'roadrunner', 'roadway', 'roam', 'roaring', 'roast', 'robbed', 'robbing', 'robe', 'robin', 'robot', 'robs', 'rock', 'rocket', 'rockin', 'rockmy', 'rockstar', 'rocky', 'rode', 'rodeo', 'rofo', 'roland', 'role', 'roll', 'rolled', 'roller', 'rollercoaster', 'rollies', 'rollin', 'rolling', 'rollover', 'roman', 'romania', 'romaniticizing', 'romantic', 'romanticising', 'romanticize', 'romanticized', 'romanticizing', 'rome', 'romeo', 'roof', 'roofie', 'roofing', 'room', 'roomate', 'roomates', 'roommate', 'root', 'rooted', 'rooting', 'rope', 'rosary', 'rose', 'ross', 'rot', 'rotate', 'rough', 'roughest', 'roughly', 'roulette', 'round', 'rounded', 'route', 'routine', 'routinely', 'row', 'rowley', 'royalty', 'rpgs', 'rpm', 'rtio', 'rub', 'rubbery', 'rubble', 'rude', 'rudimentary', 'rug', 'ruin', 'ruined', 'ruining', 'rule', 'ruled', 'ruler', 'ruling', 'rum', 'ruminating', 'rumination', 'rumor', 'run', 'rundoggo', 'rundown', 'runner', 'running', 'runny', 'rush', 'rushed', 'rushing', 'russian', 'rut', 'rx', 'ry', 'rythme', 'sabotage', 'sabotaged', 'sabotaging', 'sacred', 'sacrifice', 'sacrificed', 'sad', 'saddened', 'saddens', 'sadder', 'saddest', 'saddle', 'sadistic', 'sadly', 'sadness', 'safe', 'safeguard', 'safely', 'safer', 'safest', 'safety', 'safeword', 'sagging', 'sahm', 'said', 'sailed', 'sailing', 'saint', 'sake', 'salad', 'salary', 'sale', 'salesman', 'saliva', 'salivating', 'salivation', 'salmost', 'salon', 'salt', 'salty', 'salvage', 'salvation', 'samejust', 'samhsa', 'sample', 'sampling', 'san', 'sand', 'sandosh', 'sandstone', 'sane', 'saner', 'sangria', 'sanitizer', 'sanitizers', 'sanity', 'santa', 'santaclause', 'santikaro', 'santized', 'santizing', 'sap', 'sapling', 'sapping', 'sarcasm', 'sarcastic', 'sat', 'satan', 'satiety', 'satisfaction', 'satisfactory', 'satisfied', 'satisfy', 'satisfying', 'saturday', 'sauce', 'sauced', 'saudi', 'saul', 'sauna', 'sauron', 'save', 'saved', 'saving', 'saw', 'say', 'sayin', 'saying', 'sbaq', 'sbwti', 'sc', 'scafell', 'scale', 'scalp', 'scam', 'scammed', 'scan', 'scandinavia', 'scapegoat', 'scar', 'scarce', 'scare', 'scared', 'scaredidk', 'scaredlost', 'scarface', 'scariest', 'scaring', 'scarring', 'scary', 'scatter', 'scattered', 'scenario', 'scene', 'scenery', 'scent', 'scewing', 'schedule', 'scheduled', 'scheduling', 'scheme', 'scheming', 'schizophrenia', 'schizophrenic', 'schlirossis', 'scholarship', 'school', 'schooling', 'schoolwork', 'sci', 'science', 'scienctifically', 'scientific', 'scientifically', 'scientist', 'scoffed', 'scoffing', 'scolded', 'scoliosis', 'scooby', 'scope', 'scoped', 'scorching', 'score', 'scored', 'scorned', 'scotch', 'scotland', 'scottsdale', 'scout', 'scram', 'scrambled', 'scratch', 'scratched', 'scratching', 'scream', 'screamed', 'screaming', 'screen', 'screening', 'screenshots', 'screw', 'screwed', 'scroll', 'scrolling', 'scrubbed', 'scum', 'scurrying', 'se', 'sea', 'seak', 'seal', 'sealed', 'sealing', 'seam', 'search', 'searched', 'searching', 'searing', 'season', 'seat', 'seating', 'sec', 'seclude', 'second', 'secondary', 'secondhand', 'secondly', 'secound', 'secret', 'secretary', 'secretive', 'secretly', 'sect', 'sectarian', 'section', 'sector', 'secular', 'secured', 'security', 'sedating', 'sedentary', 'see', 'seed', 'seeded', 'seedy', 'seeing', 'seek', 'seekertrying', 'seeking', 'seeling', 'seem', 'seemd', 'seemed', 'seemingly', 'seems', 'seen', 'seep', 'seeped', 'seeps', 'seething', 'segment', 'segregated', 'seing', 'seize', 'seized', 'seizure', 'seldom', 'select', 'selected', 'selection', 'selective', 'self', 'selfish', 'selfishly', 'selfishness', 'selfless', 'selflessness', 'selfquitting', 'selfrighteous', 'sell', 'selling', 'seltzer', 'semester', 'semi', 'send', 'sending', 'sends', 'senior', 'senpai', 'sens', 'sensation', 'sense', 'sensealmost', 'senseless', 'sensible', 'sensibly', 'sensitive', 'sensitively', 'sensitivity', 'sensory', 'sensuality', 'sent', 'sentence', 'sentencing', 'sentiment', 'sentire', 'sep', 'separate', 'separated', 'separately', 'separating', 'separation', 'seperate', 'seperated', 'sept', 'september', 'septic', 'sequence', 'sequestered', 'serene', 'serenity', 'serf', 'series', 'serious', 'seriously', 'serriously', 'sertraline', 'servant', 'serve', 'served', 'server', 'service', 'serving', 'session', 'set', 'setback', 'setteled', 'setting', 'settle', 'settled', 'settling', 'setup', 'seven', 'seventh', 'seventy', 'several', 'severals', 'severe', 'severely', 'severity', 'sex', 'sexist', 'sexual', 'sexuality', 'sexually', 'sexy', 'sf', 'sh', 'shabbat', 'shackle', 'shade', 'shadow', 'shaggy', 'shake', 'shaken', 'shakeness', 'shaking', 'shaky', 'shall', 'shallow', 'sham', 'shamanic', 'shamble', 'shame', 'shamed', 'shameful', 'shamelessly', 'shaming', 'shampoo', 'shape', 'shaped', 'shaping', 'shard', 'share', 'shared', 'shareday', 'sharefamily', 'sharethank', 'sharing', 'shark', 'sharp', 'sharper', 'shattered', 'shaved', 'shaving', 'shawn', 'shebang', 'shed', 'sheep', 'sheer', 'sheet', 'sheikh', 'shelf', 'shell', 'shelling', 'shelter', 'shepherd', 'shes', 'shhhhheeeewwwww', 'shift', 'shifted', 'shifting', 'shimmery', 'shine', 'shining', 'ship', 'shir', 'shirt', 'shit', 'shitfaced', 'shiti', 'shitless', 'shitloads', 'shitter', 'shittier', 'shittiest', 'shitting', 'shitty', 'shituation', 'shivering', 'shock', 'shocked', 'shocker', 'shocking', 'shoe', 'shoelace', 'shoemaker', 'shook', 'shoot', 'shooter', 'shooting', 'shop', 'shopping', 'shoreline', 'short', 'shortage', 'shortcoming', 'shortcut', 'shorten', 'shortened', 'shorter', 'shortly', 'shortness', 'shortterm', 'shot', 'shotgun', 'shoulder', 'shouldnt', 'shout', 'shouted', 'shouting', 'shoutout', 'shove', 'shoved', 'show', 'showed', 'shower', 'showered', 'showering', 'showing', 'shown', 'shplp', 'shrink', 'shriveled', 'shrooms', 'shrug', 'shrugged', 'shss', 'sht', 'shunned', 'shut', 'shuteye', 'shuts', 'shutting', 'shy', 'si', 'sia', 'sib', 'siber', 'sibling', 'sice', 'sick', 'sickened', 'sickening', 'sicker', 'sickly', 'sickness', 'sid', 'side', 'sided', 'sidekick', 'sidenote', 'sidesober', 'sidewalk', 'sidney', 'sig', 'sigaret', 'sigarettes', 'sigelei', 'sigh', 'sigham', 'sighhh', 'sight', 'sighted', 'sign', 'signal', 'signed', 'significance', 'significant', 'significantly', 'signify', 'sil', 'silence', 'silenced', 'silent', 'silkworth', 'silliest', 'silliness', 'silly', 'silver', 'silverback', 'similair', 'similar', 'similarity', 'similarly', 'simple', 'simpler', 'simplest', 'simplicity', 'simplifying', 'simply', 'simpson', 'simptoms', 'simultaneously', 'sin', 'since', 'sincelerely', 'sincere', 'sincerely', 'sincerity', 'sind', 'sing', 'singe', 'singer', 'singing', 'single', 'singular', 'sink', 'sinking', 'sinus', 'sip', 'sipping', 'siren', 'siri', 'sister', 'sisyphus', 'sit', 'site', 'sitez', 'sits', 'sitting', 'situated', 'situation', 'situationi', 'situtation', 'six', 'sixlw', 'sixteen', 'sixth', 'size', 'sized', 'sk', 'skateboarding', 'skeleton', 'skeptical', 'skepticism', 'skill', 'skim', 'skin', 'skincare', 'skinny', 'skip', 'skipped', 'skipping', 'skittish', 'skull', 'skunk', 'sky', 'skyrocket', 'skyscraper', 'slack', 'slacking', 'slam', 'slammed', 'slamming', 'slap', 'slapped', 'slate', 'slave', 'slavedriver', 'slavery', 'slaying', 'sleep', 'sleeper', 'sleeping', 'sleepless', 'sleepover', 'sleepy', 'sleet', 'sleeve', 'slept', 'slew', 'slicer', 'slicing', 'slid', 'slide', 'slight', 'slightest', 'slightly', 'slim', 'slime', 'slimy', 'slip', 'slipped', 'slipper', 'slippery', 'slipping', 'slippingsober', 'slit', 'slithgly', 'slitting', 'slob', 'slogan', 'slope', 'sloppy', 'sloshed', 'slot', 'slow', 'slowed', 'slower', 'slowing', 'slowly', 'slowwwwwlllllyyyyy', 'sluggish', 'slump', 'slur', 'slurp', 'slurred', 'slurring', 'sly', 'small', 'smaller', 'smart', 'smarter', 'smash', 'smashed', 'smashing', 'smdwdywvq', 'smell', 'smelled', 'smelling', 'smelly', 'smelt', 'smile', 'smiled', 'smiling', 'smirnoff', 'smocking', 'smoggy', 'smoke', 'smoked', 'smokedday', 'smokefree', 'smokefreeapp', 'smokeing', 'smokeless', 'smoker', 'smokeryou', 'smokey', 'smokies', 'smokiness', 'smoking', 'smokingmore', 'smokingquitting', 'smokingstress', 'smokinh', 'smoky', 'smomers', 'smoooking', 'smooth', 'smoother', 'smoothie', 'smoothy', 'smother', 'smudge', 'smudged', 'smug', 'smus', 'snack', 'snacking', 'snag', 'snake', 'snap', 'snapchap', 'snapped', 'snapping', 'snapshot', 'snd', 'sneak', 'sneaked', 'sneakily', 'sneaking', 'sneaky', 'sneezing', 'sniffing', 'snipping', 'snob', 'snore', 'snoring', 'snorting', 'snot', 'snotty', 'snow', 'snowball', 'snowballing', 'snowflake', 'snowwheel', 'snuck', 'snuff', 'snuffed', 'snuffing', 'snuggle', 'snuggled', 'snus', 'snusing', 'snuss', 'so', 'soaked', 'soap', 'soar', 'sob', 'sobbing', 'sober', 'soberanyone', 'sobered', 'sobering', 'soberly', 'sobermommy', 'sobertoday', 'soberversary', 'sobriety', 'sobrietyeight', 'sobrietyhalf', 'soccer', 'sociability', 'sociable', 'social', 'socialise', 'socialising', 'socialization', 'socialize', 'socialized', 'socializing', 'socially', 'societal', 'society', 'sociopath', 'socrates', 'soda', 'sodium', 'sofa', 'soft', 'soften', 'softening', 'softer', 'sognkoz', 'sol', 'solace', 'solar', 'sold', 'soldier', 'sole', 'solely', 'solemnly', 'soleness', 'solicitor', 'solid', 'solidarity', 'solidified', 'solitude', 'solo', 'solution', 'solve', 'solved', 'solvency', 'solving', 'somebody', 'someday', 'somedays', 'somehow', 'someim', 'someone', 'someoneadvice', 'someplace', 'somereason', 'something', 'sometime', 'sometimes', 'somewhat', 'somewhere', 'somthing', 'somtimes', 'somwhere', 'son', 'sonfor', 'song', 'soo', 'soon', 'sooner', 'sooo', 'soooo', 'sooooo', 'sooth', 'soothe', 'soothed', 'soother', 'soothing', 'sophistication', 'sophomore', 'soprano', 'sore', 'sorrow', 'sorry', 'sorryi', 'sort', 'sorta', 'sorted', 'sorting', 'sought', 'soul', 'soulmate', 'sound', 'sounded', 'sounding', 'soundly', 'soup', 'sour', 'source', 'sourced', 'sourcing', 'soured', 'sourheast', 'sourrounds', 'south', 'southbank', 'southern', 'soviet', 'spa', 'space', 'spaced', 'spain', 'span', 'spanked', 'spanking', 'spare', 'sparingly', 'spark', 'sparkling', 'sparse', 'sparsely', 'spartacus', 'spasm', 'spawned', 'spazzing', 'speak', 'speaker', 'speaking', 'speaks', 'spearfishing', 'special', 'specialist', 'specialization', 'specialized', 'specializes', 'specially', 'specific', 'specifically', 'speck', 'spectator', 'spectrum', 'speech', 'speed', 'speedier', 'speeding', 'speeker', 'spell', 'spelled', 'spelling', 'spencer', 'spend', 'spending', 'spends', 'spent', 'spew', 'spicy', 'spied', 'spike', 'spill', 'spilled', 'spilling', 'spin', 'spinal', 'spine', 'spinning', 'spiral', 'spiraled', 'spiraling', 'spiralled', 'spirit', 'spiritual', 'spirituality', 'spiritually', 'spit', 'spite', 'spitting', 'spittoon', 'splash', 'spleen', 'splendor', 'spliff', 'split', 'splitting', 'spo', 'spoiler', 'spoiling', 'spokane', 'spoke', 'spoken', 'sponcee', 'sponsee', 'sponseee', 'sponsees', 'sponser', 'sponseror', 'sponsers', 'sponses', 'sponsor', 'sponsored', 'sponsoring', 'sponsorship', 'spontaneity', 'spontaneous', 'spooky', 'spoon', 'spooning', 'sporadic', 'sporadically', 'sport', 'sporting', 'sporty', 'spot', 'spotify', 'spotlight', 'spotty', 'spouse', 'sprained', 'spray', 'spraying', 'spread', 'spreading', 'spree', 'spring', 'sprint', 'spritly', 'sprung', 'spt', 'spun', 'spur', 'spurt', 'square', 'squashed', 'squat', 'squeeze', 'squid', 'squint', 'squirming', 'srcly', 'sri', 'srsly', 'ssghzji', 'ssobriety', 'ssri', 'sswish', 'st', 'stab', 'stabbing', 'stabiliser', 'stability', 'stabilize', 'stabilized', 'stabilizing', 'stable', 'stack', 'stadium', 'staff', 'staffordshire', 'stag', 'stage', 'staggered', 'staggering', 'stain', 'stained', 'stair', 'stake', 'stale', 'stalemate', 'stalked', 'stalker', 'stalking', 'stallion', 'stamen', 'stand', 'standalone', 'standard', 'standing', 'standpoint', 'standstill', 'stank', 'staple', 'star', 'starch', 'stare', 'stared', 'stareted', 'staring', 'start', 'startday', 'started', 'startet', 'startgoing', 'starting', 'startling', 'startover', 'starve', 'starving', 'stash', 'stashed', 'stashing', 'stat', 'state', 'stated', 'statement', 'stater', 'stating', 'station', 'statistic', 'statistically', 'stats', 'status', 'staunch', 'stave', 'stay', 'stayed', 'staying', 'steadily', 'steady', 'steak', 'steal', 'stealer', 'stealing', 'steam', 'steely', 'steep', 'steer', 'stella', 'stem', 'stemmed', 'stemming', 'stench', 'stent', 'stented', 'step', 'stepdad', 'stepdown', 'stepfather', 'stepped', 'stepper', 'stepping', 'stepwork', 'stereotypical', 'steriods', 'stern', 'steroid', 'steve', 'stevens', 'steward', 'stg', 'stick', 'sticking', 'sticky', 'stiff', 'stigma', 'stigmatised', 'stigmatized', 'stigs', 'stil', 'still', 'stimulant', 'stimulate', 'stimulation', 'stimulus', 'stink', 'stinkier', 'stinking', 'stinky', 'stint', 'stirred', 'stirring', 'stis', 'stitch', 'stock', 'stocked', 'stoic', 'stoked', 'stole', 'stolen', 'stomach', 'stone', 'stoned', 'stonehenge', 'stoner', 'stong', 'stood', 'stool', 'stop', 'stopaccepting', 'stopdrinking', 'stoped', 'stoping', 'stoplight', 'stopped', 'stopping', 'stopsmokers', 'stopsmoking', 'stoptober', 'storage', 'store', 'storey', 'storing', 'storm', 'stormed', 'story', 'storytelling', 'stove', 'straight', 'strain', 'stranded', 'strange', 'stranger', 'strapped', 'strategy', 'straterra', 'straw', 'streak', 'stream', 'streatham', 'street', 'strenght', 'strenghten', 'strenghts', 'strength', 'strengthen', 'strengthened', 'strengthening', 'strep', 'stres', 'stresfull', 'stress', 'stressed', 'stressful', 'stressing', 'stressor', 'stretch', 'stretched', 'stretching', 'streteching', 'strict', 'strictly', 'stride', 'strife', 'strike', 'string', 'stringing', 'strip', 'stripped', 'stripper', 'strive', 'striving', 'stroke', 'stroking', 'strong', 'stronger', 'strongest', 'strongis', 'strongly', 'strongthank', 'struck', 'structural', 'structure', 'structured', 'struggle', 'struggled', 'struggling', 'strugle', 'strung', 'stub', 'stubborn', 'stubbornly', 'stuck', 'student', 'studied', 'studio', 'study', 'studying', 'stuff', 'stuffed', 'stuffing', 'stumble', 'stumbled', 'stumbling', 'stumped', 'stung', 'stunted', 'stupid', 'stupidest', 'stupidiest', 'stupidity', 'stupidly', 'stutter', 'style', 'sub', 'subbed', 'subconcious', 'subconscious', 'subconsciously', 'subhumanity', 'subject', 'subjective', 'subjugated', 'submission', 'submit', 'submitted', 'submitting', 'suboxone', 'subreddit', 'subreddits', 'subscribe', 'subscribed', 'subscribing', 'subscription', 'subsequent', 'subsequently', 'subside', 'subsided', 'substamce', 'substance', 'substantial', 'substantially', 'substitute', 'substituted', 'substituting', 'subtank', 'subtle', 'subtlety', 'subtly', 'suburb', 'suburban', 'subway', 'succeas', 'succeed', 'succeeded', 'succeeding', 'succeeds', 'succesful', 'success', 'successful', 'successfull', 'successfully', 'succumb', 'succumbed', 'succumbing', 'suceed', 'sucess', 'suck', 'sucked', 'suckin', 'sucking', 'sucksaa', 'sucky', 'sucsessfully', 'sudden', 'suddenly', 'suffer', 'suffered', 'suffering', 'suffers', 'sufficiency', 'sufficient', 'suffocated', 'suffocating', 'suffocation', 'sugar', 'sugarfree', 'sugary', 'sugested', 'sugestionable', 'suggeested', 'suggest', 'suggested', 'suggesting', 'suggestion', 'suggests', 'suicidal', 'suicidally', 'suicide', 'suing', 'suit', 'suitable', 'suitcase', 'sukoshi', 'sulfur', 'sulk', 'sulking', 'sum', 'summer', 'summon', 'summoned', 'sun', 'sunday', 'sundayi', 'sunk', 'sunlight', 'sunny', 'sunnyvale', 'sunrise', 'sunscreen', 'sunset', 'sunshine', 'sunup', 'sup', 'supa', 'super', 'supercar', 'superficial', 'superhuman', 'superior', 'supermarket', 'supernatural', 'supervised', 'supervision', 'supervisor', 'supper', 'supplement', 'supplemental', 'supplementing', 'supply', 'supplying', 'support', 'supportday', 'supported', 'supporting', 'supportive', 'supportiveness', 'suppose', 'supposed', 'supposedly', 'suppress', 'suppressed', 'suppresser', 'suppressing', 'supraventricular', 'supremely', 'supress', 'suprised', 'sure', 'surefire', 'surely', 'surf', 'surface', 'surfacing', 'surfer', 'surfing', 'surge', 'surgeon', 'surgery', 'surgical', 'surmounting', 'surprise', 'surprised', 'surprising', 'surprisingly', 'surreal', 'surrender', 'surrendered', 'surrendering', 'surround', 'surrounded', 'surrounding', 'surroundings', 'survey', 'survided', 'survival', 'survive', 'survived', 'surviving', 'survivor', 'susan', 'suspect', 'suspected', 'suspecting', 'suspicion', 'suspicious', 'sustain', 'sustainable', 'sustained', 'suti', 'suuuuucks', 'sux', 'swallow', 'swallowed', 'swallowing', 'swam', 'swap', 'swapped', 'swapping', 'swarm', 'swat', 'swaying', 'swear', 'swearing', 'swears', 'sweat', 'sweating', 'sweaty', 'sweden', 'swedish', 'sweep', 'sweet', 'sweeter', 'sweetest', 'sweetheart', 'sweetness', 'swelling', 'sweltering', 'swept', 'swig', 'swim', 'swimming', 'swing', 'swipe', 'swirling', 'switch', 'switched', 'switching', 'swollen', 'sword', 'swore', 'syllabus', 'symbol', 'symbolism', 'sympathetic', 'sympathizes', 'sympathy', 'symptom', 'symtomps', 'symtoms', 'sync', 'syndrome', 'synthetic', 'syptoms', 'syracuse', 'syrup', 'system', 'systematically', 't', 'ta', 'tab', 'tabacco', 'tabasco', 'tabbacy', 'tabex', 'table', 'tablet', 'taboo', 'tachycardia', 'tackle', 'tackled', 'tackling', 'tacs', 'tact', 'tactic', 'tad', 'tag', 'tahoe', 'taille', 'tajin', 'take', 'takeaway', 'taken', 'taking', 'tale', 'talent', 'talented', 'talk', 'talkative', 'talked', 'talker', 'talkimg', 'talkin', 'talking', 'tall', 'tallboy', 'tallest', 'tally', 'tallying', 'tame', 'tamper', 'tang', 'tangent', 'tango', 'tank', 'tanked', 'tant', 'tantrum', 'tap', 'tape', 'taped', 'taper', 'tapered', 'tapering', 'tapping', 'taproot', 'tar', 'target', 'targeted', 'targeting', 'tarnished', 'tarp', 'tarry', 'task', 'taste', 'tastebud', 'tasted', 'tastiest', 'tasting', 'tasty', 'tattoo', 'taught', 'tax', 'taxi', 'taxing', 'tbh', 'tc', 'tdiary', 'tdlr', 'tdr', 'tea', 'teach', 'teacher', 'teaching', 'team', 'teambulding', 'teamfinally', 'tear', 'teared', 'tearing', 'teary', 'teasing', 'teaspoon', 'tech', 'technicality', 'technically', 'technique', 'technology', 'tedious', 'tedtalk', 'tedtalki', 'tedxtalks', 'tee', 'teen', 'teenage', 'teenager', 'teenheavenburn', 'teeth', 'teh', 'tel', 'telephone', 'tell', 'telling', 'temp', 'temper', 'temperamental', 'temperature', 'tempered', 'temple', 'temporal', 'temporarily', 'temporary', 'tempt', 'temptation', 'tempted', 'tempting', 'ten', 'tend', 'tendency', 'tender', 'tenderness', 'tending', 'tends', 'tenerife', 'tenet', 'tennis', 'tense', 'tensing', 'tension', 'tentative', 'tenth', 'tequila', 'terdible', 'term', 'terminal', 'terminology', 'terrible', 'terribly', 'terrified', 'terrifies', 'terrifying', 'territory', 'terror', 'test', 'testament', 'tested', 'tester', 'testified', 'testimony', 'testing', 'testosterone', 'tethered', 'texas', 'text', 'textbook', 'texted', 'texting', 'texture', 'texturize', 'tf', 'tgoi', 'th', 'thailand', 'thank', 'thanked', 'thankful', 'thankfully', 'thanking', 'thanks', 'thanksam', 'thankscravings', 'thanksday', 'thanksdoes', 'thanksfinding', 'thanksfirst', 'thanksgiving', 'thanksgoing', 'thankshow', 'thanksi', 'thanksjust', 'thankslong', 'thanksneeding', 'thanksoff', 'thanksonline', 'thanksquestion', 'thanksquit', 'thanksquitting', 'thanksthe', 'thanksthis', 'thankstips', 'thankswithdrawals', 'thankyou', 'thankyoucould', 'thar', 'thatd', 'thatll', 'thats', 'thattrying', 'thc', 'theatre', 'theguardian', 'thei', 'theme', 'themself', 'theologica', 'theology', 'theoretical', 'theory', 'therapeutic', 'therapist', 'therapy', 'there', 'therefore', 'therehey', 'thermostat', 'thesis', 'thew', 'theyr', 'theyre', 'theywent', 'thiamine', 'thick', 'thickreducing', 'thief', 'thin', 'thing', 'think', 'thinker', 'thinkerim', 'thinking', 'thinksmus', 'thinner', 'thinning', 'third', 'thirsty', 'thirteen', 'thirty', 'thisday', 'thisstomach', 'thistle', 'tho', 'thomas', 'thoracentesis', 'thorough', 'thoroughly', 'thoroughness', 'thou', 'though', 'thought', 'thoughtful', 'thoughtssocially', 'thousand', 'thr', 'thrall', 'thrash', 'thread', 'threat', 'threaten', 'threatened', 'threatening', 'threating', 'three', 'threshold', 'threw', 'thrill', 'thrilled', 'thrilling', 'thrist', 'thrive', 'throat', 'throath', 'throbbing', 'throughly', 'throughout', 'throught', 'throw', 'throwaway', 'throwing', 'thrown', 'throwup', 'thru', 'thrust', 'thst', 'thsts', 'thumb', 'thumpers', 'thunderdome', 'thurow', 'thurrow', 'thurs', 'thursday', 'thus', 'thx', 'thy', 'thyroid', 'ti', 'tia', 'tiabook', 'tiacoin', 'tiai', 'tianeptine', 'tic', 'ticked', 'ticket', 'ticking', 'tide', 'tidy', 'tie', 'tied', 'tier', 'tiered', 'tight', 'tighten', 'tighter', 'tightnes', 'tightness', 'tiktok', 'til', 'till', 'time', 'timeday', 'timeline', 'timely', 'timer', 'timey', 'timid', 'timing', 'tin', 'tinder', 'tinged', 'tingle', 'tinglig', 'tingling', 'tingly', 'tink', 'tinnitus', 'tiny', 'tinyurl', 'tip', 'tipp', 'tipps', 'tippy', 'tipsi', 'tipsy', 'tiramisu', 'tired', 'tiredhow', 'tiredi', 'tiredness', 'tiring', 'tissue', 'titime', 'title', 'titled', 'titlehow', 'titleso', 'titrate', 'tk', 'tl', 'tldr', 'tm', 'tmi', 'tmj', 'tn', 'tne', 'toast', 'toasted', 'tobacco', 'tobacconist', 'tobacoo', 'today', 'todayday', 'todayof', 'toddler', 'toe', 'together', 'togetherone', 'togethers', 'toi', 'toilet', 'toke', 'token', 'tokyo', 'told', 'tolerable', 'tolerance', 'tolerant', 'tolerate', 'tolerated', 'toll', 'tolle', 'tolooking', 'tom', 'tome', 'tommorow', 'tomorow', 'tomorrow', 'tomorrowi', 'tomorrowneed', 'ton', 'tone', 'toned', 'tongue', 'tonic', 'tonight', 'tonightdid', 'tonne', 'tony', 'took', 'tool', 'toolkit', 'tooo', 'tooooo', 'tooth', 'toothache', 'toothbrush', 'toothpaste', 'toothpick', 'tooting', 'top', 'topic', 'topped', 'topping', 'toppling', 'tore', 'torment', 'torn', 'toronto', 'torsoed', 'torture', 'tortured', 'toso', 'toss', 'tossed', 'tossing', 'total', 'totaled', 'totalled', 'totalling', 'totally', 'touch', 'touched', 'touching', 'touchstone', 'touchy', 'tough', 'tougher', 'toughest', 'toughness', 'tought', 'tour', 'tourette', 'touring', 'tourist', 'tow', 'toward', 'towards', 'towed', 'towel', 'tower', 'town', 'toxic', 'toxin', 'toy', 'toyota', 'tp', 'tracer', 'track', 'tracked', 'tracker', 'tracking', 'trade', 'traded', 'trader', 'trading', 'tradition', 'traditional', 'traditionally', 'traffic', 'tragedy', 'tragic', 'trail', 'train', 'trained', 'trainer', 'training', 'trainwrecks', 'trait', 'tranquipan', 'trans', 'transcended', 'transfer', 'transference', 'transferred', 'transfixed', 'transform', 'transformation', 'transformed', 'transforming', 'transgender', 'transgressive', 'transition', 'transitional', 'transitioned', 'transitioning', 'translate', 'translated', 'translates', 'translator', 'transmission', 'transmit', 'transplant', 'transport', 'transportation', 'trap', 'trapped', 'trash', 'trashed', 'trashing', 'trauma', 'traumatic', 'traumatize', 'traumatized', 'traumatizing', 'travel', 'traveled', 'traveler', 'traveling', 'travelled', 'travelling', 'tray', 'treacherous', 'treachery', 'treading', 'treadmill', 'treally', 'treason', 'treasure', 'treasured', 'treat', 'treated', 'treating', 'treatment', 'tree', 'tremble', 'trembling', 'tremendous', 'tremendously', 'tremens', 'tremor', 'trench', 'trend', 'trendy', 'trevor', 'trial', 'triangle', 'triathlete', 'tribute', 'trick', 'tricked', 'tricking', 'trickle', 'tricky', 'tried', 'trifecta', 'trigger', 'triggered', 'triggering', 'triglyceride', 'trimester', 'trio', 'trip', 'tripe', 'triple', 'tripled', 'triply', 'tripped', 'triumph', 'trivial', 'trolling', 'troop', 'troopsfirst', 'trope', 'trouble', 'troubled', 'troublesome', 'troubling', 'trough', 'troughout', 'truck', 'truckin', 'trudge', 'trudging', 'true', 'truely', 'truly', 'truma', 'trump', 'trust', 'trusted', 'trusting', 'trustworthy', 'trusty', 'truth', 'truthful', 'truthfully', 'try', 'tryina', 'trying', 'tryna', 'tsa', 'tsp', 'tthe', 'ttt', 'ttwo', 'tub', 'tuck', 'tucked', 'tues', 'tuesday', 'tum', 'tumble', 'tumor', 'tumultuous', 'tune', 'tunnel', 'tur', 'turkey', 'turkeyed', 'turkwy', 'turmoil', 'turn', 'turnaround', 'turned', 'turning', 'turnoff', 'turnover', 'turret', 'tutorial', 'tv', 'tw', 'twag', 'twat', 'twelve', 'twenty', 'twice', 'twiddle', 'twin', 'twist', 'twisted', 'twisting', 'twitchy', 'two', 'tx', 'tyheart', 'tyia', 'tylenol', 'type', 'typed', 'typeset', 'typical', 'typically', 'typing', 'typo', 'tystopped', 'u', 'uae', 'uber', 'ubering', 'ublx', 'uc', 'ucla', 'udhiqs', 'uff', 'ufo', 'ug', 'ugh', 'ughck', 'ughhhhhh', 'ughs', 'uglier', 'ugliest', 'ugliness', 'ugly', 'ugn', 'uh', 'ui', 'uk', 'ukrainian', 'ulcer', 'ultimate', 'ultimately', 'ultimatum', 'ultra', 'ultrasound', 'um', 'umbrella', 'umpteen', 'umpteenth', 'un', 'unable', 'unaccustomed', 'unaddressed', 'unafraid', 'unalive', 'unaliving', 'unapologetic', 'unappetizing', 'unattainable', 'unattractive', 'unavailable', 'unavoidable', 'unaware', 'unbalanced', 'unbearable', 'unbearably', 'unbelievable', 'unbelievably', 'unbiased', 'unboxening', 'unbreakable', 'uncaring', 'uncertain', 'uncertainty', 'unchanged', 'unchecked', 'uncle', 'uncomfortable', 'uncomfortableness', 'uncommon', 'uncompromising', 'unconditional', 'unconfident', 'unconscious', 'unconsciously', 'uncontrollable', 'uncontrollably', 'unconventional', 'uncovered', 'uncovering', 'uncracked', 'undefeated', 'underage', 'underestimate', 'undergo', 'undergoing', 'undergone', 'underground', 'underlying', 'undermine', 'undermined', 'undermining', 'underneath', 'understand', 'understanding', 'understandingwanting', 'understands', 'understated', 'understatement', 'understood', 'undertake', 'underwater', 'underwear', 'undesisive', 'undiagnosed', 'undigested', 'undiluted', 'undo', 'undoable', 'undone', 'undoubtedly', 'undue', 'undying', 'une', 'uneasiness', 'uneasy', 'unemployed', 'unemployment', 'unenvelopening', 'uneven', 'unexpected', 'unexplainable', 'unfair', 'unfairweather', 'unfamiliar', 'unfashionable', 'unfeeling', 'unfocused', 'unfold', 'unfolded', 'unforeseen', 'unforgettable', 'unforgiveness', 'unforgivingly', 'unformatted', 'unfortunate', 'unfortunately', 'unfulfilled', 'unhappily', 'unhappy', 'unhealed', 'unhealthy', 'unhear', 'unheard', 'unhelathy', 'unhelpful', 'unhideable', 'unhinged', 'uni', 'unicorn', 'unimaginable', 'uninstall', 'uninstalled', 'unintentionally', 'uninterrupted', 'uninvited', 'union', 'unique', 'uniqueness', 'unisom', 'unit', 'unite', 'united', 'unity', 'universally', 'universe', 'university', 'unkept', 'unkind', 'unknowingly', 'unknown', 'unkown', 'unleash', 'unless', 'unlicensed', 'unlike', 'unlikely', 'unlive', 'unload', 'unloaded', 'unloading', 'unlock', 'unlocked', 'unloveable', 'unlucky', 'unmanageability', 'unmanageable', 'unmanaged', 'unmistakable', 'unmotivated', 'unnatural', 'unnecessarily', 'unnecessary', 'unnoficial', 'unnoticed', 'unobtanium', 'unofficial', 'unopened', 'unpack', 'unpaid', 'unpleasant', 'unpleasantness', 'unplugged', 'unpopular', 'unprepared', 'unprescribed', 'unprofessional', 'unprovoked', 'unquotable', 'unreal', 'unreasonable', 'unrecognisable', 'unrecognizable', 'unrelated', 'unrelenting', 'unreliable', 'unremitting', 'unrepairable', 'unreservedly', 'unresponsive', 'unruly', 'unsafe', 'unscientific', 'unseen', 'unsettled', 'unsettling', 'unshackled', 'unsolvable', 'unspeakable', 'unspoken', 'unstable', 'unstoppable', 'unsuccessful', 'unsuccessfully', 'unsupportive', 'unsure', 'unsurprisingly', 'unsuspecting', 'unsustainable', 'unthinking', 'untill', 'untimely', 'untold', 'untraceable', 'untreated', 'untrimmed', 'untrue', 'unused', 'unusual', 'unusually', 'unwell', 'unwilling', 'unwind', 'upbeat', 'upbringing', 'upcoming', 'update', 'updated', 'updating', 'upevti', 'upfront', 'upheaval', 'upheld', 'uphieve', 'uphill', 'upholding', 'uplifted', 'uplifting', 'uploaded', 'uploads', 'upon', 'upped', 'upper', 'upright', 'uprooted', 'ups', 'upset', 'upsetting', 'upside', 'upstanding', 'upstate', 'upthis', 'uptight', 'upto', 'upwards', 'ur', 'urge', 'urged', 'urgency', 'urgent', 'urgesjust', 'urgh', 'urine', 'us', 'usa', 'usaa', 'usage', 'use', 'useally', 'used', 'useful', 'usefulness', 'useing', 'useless', 'uselessness', 'user', 'username', 'useualy', 'usig', 'using', 'usingis', 'usual', 'usually', 'ut', 'utensil', 'uti', 'utilitize', 'utilize', 'utm', 'utmost', 'utter', 'utterly', 'uv', 'uve', 'ux', 'uzuk', 'v', 'vacation', 'vacationing', 'vacay', 'vaccinated', 'vaccine', 'vaccum', 'vacuous', 'vacuum', 'vague', 'vaguely', 'vain', 'vale', 'valid', 'validate', 'validated', 'validation', 'valium', 'valuable', 'value', 'valued', 'vampire', 'vanderbilt', 'vanish', 'vanished', 'vanishes', 'vaoe', 'vape', 'vaped', 'vaper', 'vapers', 'vapes', 'vapid', 'vaping', 'vapor', 'varenicline', 'variable', 'variation', 'varied', 'varies', 'variety', 'various', 'varsity', 'vary', 'vascular', 'vastly', 'vawfkeo', 'vaxxed', 'veer', 'veering', 'veg', 'vega', 'vegetable', 'vegetarian', 'veggie', 'vehicle', 'vein', 'velo', 'vending', 'vendor', 'vengeance', 'venice', 'vent', 'vented', 'venting', 'ventolin', 'venture', 'ventured', 'venue', 'ver', 'verbage', 'verbal', 'verbalize', 'verbally', 'verge', 'verified', 'versa', 'verse', 'versed', 'version', 'versus', 'vertigo', 'vessel', 'vet', 'veteran', 'veterinarian', 'vetted', 'vfgk', 'vi', 'via', 'viability', 'viable', 'vibe', 'vibing', 'vibrant', 'vice', 'vicinity', 'vicious', 'vicodin', 'victan', 'victim', 'victorious', 'victory', 'video', 'videogames', 'videographer', 'vids', 'view', 'viewed', 'viewing', 'viewpoint', 'vigilance', 'vigilant', 'vigorous', 'viking', 'vile', 'vilify', 'villain', 'vincent', 'vindictive', 'vine', 'violate', 'violating', 'violation', 'violence', 'violent', 'violently', 'virgin', 'virtual', 'virtually', 'virtue', 'virus', 'visa', 'visceral', 'viscerally', 'viscous', 'visibility', 'visible', 'visibly', 'vision', 'visit', 'visitation', 'visited', 'visiting', 'visitor', 'visual', 'vitamin', 'vitamine', 'vivid', 'vivitrol', 'vlog', 'vlogging', 'vm', 'vo', 'vocabulary', 'vocal', 'vocalize', 'vocalized', 'vodka', 'voice', 'voicemail', 'void', 'vol', 'volitiles', 'volition', 'voluntarily', 'voluntary', 'volunteer', 'volunteered', 'volunteering', 'vom', 'vomit', 'vomited', 'vomiting', 'voopoo', 'voulenteers', 'voulez', 'vous', 'vow', 'vowing', 'vraz', 'vrpq', 'vt', 'vub', 'vulnerability', 'vulnerable', 'vuse', 'vx', 'vying', 'vz', 'w', 'wa', 'waaay', 'waccy', 'wacky', 'waffling', 'wager', 'wagering', 'wagon', 'wail', 'wailed', 'wait', 'waited', 'waiter', 'waiting', 'waitress', 'waitressing', 'waive', 'wake', 'wakeup', 'waking', 'wale', 'walgreens', 'walk', 'walked', 'walker', 'walking', 'wall', 'waller', 'wallet', 'wallowed', 'wallpaper', 'walmart', 'wan', 'wander', 'wandered', 'wanderer', 'wane', 'wank', 'wanma', 'wanna', 'want', 'wanted', 'wanting', 'war', 'warchild', 'ward', 'wardrobe', 'warehouse', 'warm', 'warmer', 'warming', 'warmly', 'warmth', 'warn', 'warned', 'warner', 'warning', 'warped', 'warrant', 'warranted', 'warrior', 'warriorvapersworldwide', 'wart', 'wary', 'wasent', 'wash', 'washed', 'washing', 'washington', 'washy', 'wasnt', 'waste', 'wasted', 'wasteful', 'wasting', 'wat', 'watch', 'watched', 'watching', 'watchword', 'water', 'watered', 'watering', 'watermelon', 'wave', 'waved', 'waw', 'wax', 'way', 'wayi', 'waysto', 'weak', 'weakened', 'weakeness', 'weaker', 'weakest', 'weakling', 'weakness', 'weaknessshame', 'wealthy', 'wean', 'weaned', 'weaning', 'weapon', 'wear', 'weariness', 'wearing', 'weary', 'weather', 'weaving', 'web', 'webinar', 'webp', 'website', 'webwfkaoqhe', 'wed', 'wedding', 'wedge', 'wednesday', 'wee', 'weed', 'weeding', 'week', 'weekday', 'weekend', 'weekly', 'weeknight', 'weeksecond', 'weel', 'ween', 'weening', 'weigh', 'weighed', 'weighing', 'weighs', 'weight', 'weird', 'weirdest', 'weirdly', 'welbutrin', 'welcome', 'welcomed', 'welcomehow', 'welcomerealized', 'welcoming', 'welfare', 'well', 'wellbeing', 'wellbrutin', 'wellbutrin', 'welling', 'wellness', 'wellprogress', 'welp', 'welpdid', 'went', 'werent', 'wernicke', 'werther', 'west', 'western', 'wet', 'wether', 'weve', 'wfh', 'whack', 'whacko', 'whacky', 'whatever', 'whathever', 'whatnot', 'whats', 'whatsapp', 'whatsapped', 'whatso', 'whatsoever', 'wheel', 'wheelchair', 'wheeze', 'wheezing', 'whenever', 'whereas', 'whereby', 'wherever', 'whether', 'whew', 'whiff', 'whiiiiiillee', 'whilst', 'whim', 'whining', 'whip', 'whirlpool', 'whising', 'whiskey', 'whiskeyjust', 'whisky', 'whisper', 'whispered', 'whispering', 'whistle', 'whitch', 'white', 'whitened', 'whitening', 'whiter', 'whne', 'whoa', 'whoever', 'whole', 'wholeheartedly', 'wholesome', 'wholly', 'whomever', 'whoooooooooooooooo', 'whoopings', 'whose', 'wht', 'whut', 'whyquit', 'whyyyy', 'wi', 'wiccan', 'wich', 'wicked', 'wicker', 'wide', 'wider', 'widget', 'width', 'wife', 'wiggle', 'wild', 'wilderness', 'wildest', 'wildfire', 'wildland', 'wildly', 'wile', 'will', 'willed', 'williams', 'willing', 'willingly', 'willingness', 'willpower', 'wilson', 'wim', 'win', 'wind', 'winded', 'windex', 'winding', 'window', 'windshield', 'windston', 'wine', 'winery', 'winning', 'winter', 'wintergreen', 'wipe', 'wiped', 'wiping', 'wired', 'wisconsin', 'wisdom', 'wisdomehelp', 'wise', 'wiser', 'wisest', 'wish', 'wished', 'wishful', 'wishing', 'wisw', 'wit', 'witch', 'witchcraft', 'witdrawl', 'withdraw', 'withdrawal', 'withdrawala', 'withdrawall', 'withdrawalshunger', 'withdrawel', 'withdrawing', 'withdrawl', 'withdrawls', 'withdrawn', 'withdrawqls', 'withdraws', 'withholding', 'within', 'withing', 'withouht', 'without', 'withoutgetting', 'withrawal', 'witless', 'witness', 'witnessed', 'witnessing', 'wity', 'wjen', 'wmllkoknv', 'wmllkoknvjoin', 'wn', 'woa', 'woah', 'wobble', 'wobbly', 'woe', 'woird', 'woke', 'woken', 'wokeup', 'woking', 'wolf', 'woman', 'wonder', 'wondered', 'wonderful', 'wonderfully', 'wondering', 'wont', 'woo', 'wood', 'wooden', 'woodworking', 'woohoo', 'woohooo', 'wool', 'woot', 'woozy', 'word', 'wore', 'work', 'workaholism', 'workallen', 'workaround', 'workbook', 'workday', 'worked', 'worker', 'working', 'workout', 'workplace', 'workshop', 'workweek', 'world', 'worldwide', 'worm', 'worn', 'worried', 'worriedquit', 'worrisome', 'worry', 'worrying', 'worse', 'worsehow', 'worsen', 'worsened', 'worsening', 'worsens', 'worship', 'worst', 'worth', 'worthless', 'worthwhile', 'worthy', 'woth', 'wothrawal', 'would', 'wouldnt', 'wound', 'wounded', 'wow', 'wp', 'wpuld', 'wracked', 'wracking', 'wrap', 'wrapped', 'wrapping', 'wrath', 'wreck', 'wreckage', 'wrecked', 'wreckin', 'wrecking', 'wrecklessness', 'wrestle', 'wrestled', 'wrestling', 'wrist', 'wristband', 'write', 'writer', 'writing', 'written', 'writting', 'wrll', 'wroite', 'wrong', 'wrongdoing', 'wronged', 'wrongly', 'wrote', 'wsfs', 'wtf', 'wtfholy', 'wu', 'wutting', 'wv', 'wwgj', 'www', 'wygslaaoqb', 'wyoming', 'x', 'xa', 'xanax', 'xc', 'xd', 'xec', 'xg', 'xhow', 'xj', 'xl', 'xleaned', 'xllmnvbs', 'xne', 'xone', 'xoxmy', 'xrayed', 'xrays', 'xsymptoms', 'xt', 'xtc', 'xti', 'xu', 'xwmuxesdc', 'xxdrink', 'xxxi', 'xxxxx', 'xy', 'xylometazoline', 'xzz', 'ya', 'yacht', 'yada', 'yadda', 'yahoo', 'yaknow', 'yall', 'yalls', 'yanking', 'yard', 'yawn', 'yay', 'yayquit', 'yc', 'ye', 'yea', 'yeah', 'year', 'yearly', 'yearns', 'yearsmy', 'yell', 'yelled', 'yelling', 'yellow', 'yellowed', 'yellower', 'yep', 'yes', 'yesteday', 'yesterday', 'yesturday', 'yet', 'yh', 'yield', 'yk', 'yo', 'yoga', 'yogurt', 'yolo', 'yoohoo', 'york', 'youaa', 'youanyone', 'youare', 'youbeen', 'youclear', 'youdaily', 'youday', 'youhow', 'youi', 'young', 'younger', 'youngest', 'youngins', 'youre', 'yourehab', 'yoursef', 'yous', 'youself', 'yousmoking', 'youth', 'youtoday', 'youtu', 'youtube', 'youwithdrawals', 'ypaa', 'ypbwz', 'ypg', 'yquo', 'yr', 'yt', 'ytc', 'yuk', 'yummy', 'yuor', 'yup', 'yx', 'yy', 'z', 'zayed', 'zealot', 'zealous', 'zero', 'zest', 'zgs', 'zhbjjc', 'zilch', 'zing', 'zip', 'zit', 'zk', 'zmrlfmjro', 'zoaekc', 'zocsyxlw', 'zoloft', 'zombie', 'zombiei', 'zone', 'zoom', 'zukr', 'zumba', 'zwfefk', 'zxm', 'zyban', 'zyn', 'zyns', 'zypan', 'zzdp']\n"
     ]
    },
    {
     "name": "stderr",
     "output_type": "stream",
     "text": [
      "C:\\Users\\ACCEP7ANCE\\AppData\\Roaming\\Python\\Python37\\site-packages\\sklearn\\utils\\deprecation.py:87: FutureWarning: Function get_feature_names is deprecated; get_feature_names is deprecated in 1.0 and will be removed in 1.2. Please use get_feature_names_out instead.\n",
      "  warnings.warn(msg, category=FutureWarning)\n"
     ]
    }
   ],
   "source": [
    "from sklearn.feature_extraction.text import CountVectorizer\n",
    "\n",
    "count_vect = count_vect = CountVectorizer(analyzer=clean_text_lemmatize)\n",
    "\n",
    "X_counts = count_vect.fit_transform(data_nopunct['selftext_title'])\n",
    "\n",
    "# Returns the number of rows and columns of X_counts i.e. 5567 text messages and 8104 unique words\n",
    "print(X_counts.shape)\n",
    "\n",
    "# Returns the unique words across alll text messages\n",
    "print(count_vect.get_feature_names())"
   ]
  },
  {
   "cell_type": "markdown",
   "metadata": {},
   "source": [
    "Now that the data has been vectorised, let's send it to a dataframe."
   ]
  },
  {
   "cell_type": "code",
   "execution_count": 11,
   "metadata": {},
   "outputs": [
    {
     "data": {
      "text/html": [
       "<div>\n",
       "<style scoped>\n",
       "    .dataframe tbody tr th:only-of-type {\n",
       "        vertical-align: middle;\n",
       "    }\n",
       "\n",
       "    .dataframe tbody tr th {\n",
       "        vertical-align: top;\n",
       "    }\n",
       "\n",
       "    .dataframe thead th {\n",
       "        text-align: right;\n",
       "    }\n",
       "</style>\n",
       "<table border=\"1\" class=\"dataframe\">\n",
       "  <thead>\n",
       "    <tr style=\"text-align: right;\">\n",
       "      <th></th>\n",
       "      <th></th>\n",
       "      <th>aa</th>\n",
       "      <th>aaa</th>\n",
       "      <th>aac</th>\n",
       "      <th>aachats</th>\n",
       "      <th>aadd</th>\n",
       "      <th>aag</th>\n",
       "      <th>aagive</th>\n",
       "      <th>aareferencing</th>\n",
       "      <th>aaron</th>\n",
       "      <th>...</th>\n",
       "      <th>zoom</th>\n",
       "      <th>zukr</th>\n",
       "      <th>zumba</th>\n",
       "      <th>zwfefk</th>\n",
       "      <th>zxm</th>\n",
       "      <th>zyban</th>\n",
       "      <th>zyn</th>\n",
       "      <th>zyns</th>\n",
       "      <th>zypan</th>\n",
       "      <th>zzdp</th>\n",
       "    </tr>\n",
       "  </thead>\n",
       "  <tbody>\n",
       "    <tr>\n",
       "      <th>0</th>\n",
       "      <td>1</td>\n",
       "      <td>0</td>\n",
       "      <td>0</td>\n",
       "      <td>0</td>\n",
       "      <td>0</td>\n",
       "      <td>0</td>\n",
       "      <td>0</td>\n",
       "      <td>0</td>\n",
       "      <td>0</td>\n",
       "      <td>0</td>\n",
       "      <td>...</td>\n",
       "      <td>0</td>\n",
       "      <td>0</td>\n",
       "      <td>0</td>\n",
       "      <td>0</td>\n",
       "      <td>0</td>\n",
       "      <td>0</td>\n",
       "      <td>0</td>\n",
       "      <td>0</td>\n",
       "      <td>0</td>\n",
       "      <td>0</td>\n",
       "    </tr>\n",
       "    <tr>\n",
       "      <th>1</th>\n",
       "      <td>1</td>\n",
       "      <td>0</td>\n",
       "      <td>0</td>\n",
       "      <td>0</td>\n",
       "      <td>0</td>\n",
       "      <td>0</td>\n",
       "      <td>0</td>\n",
       "      <td>0</td>\n",
       "      <td>0</td>\n",
       "      <td>0</td>\n",
       "      <td>...</td>\n",
       "      <td>0</td>\n",
       "      <td>0</td>\n",
       "      <td>0</td>\n",
       "      <td>0</td>\n",
       "      <td>0</td>\n",
       "      <td>0</td>\n",
       "      <td>0</td>\n",
       "      <td>0</td>\n",
       "      <td>0</td>\n",
       "      <td>0</td>\n",
       "    </tr>\n",
       "    <tr>\n",
       "      <th>2</th>\n",
       "      <td>1</td>\n",
       "      <td>0</td>\n",
       "      <td>0</td>\n",
       "      <td>0</td>\n",
       "      <td>0</td>\n",
       "      <td>0</td>\n",
       "      <td>0</td>\n",
       "      <td>0</td>\n",
       "      <td>0</td>\n",
       "      <td>0</td>\n",
       "      <td>...</td>\n",
       "      <td>0</td>\n",
       "      <td>0</td>\n",
       "      <td>0</td>\n",
       "      <td>0</td>\n",
       "      <td>0</td>\n",
       "      <td>0</td>\n",
       "      <td>0</td>\n",
       "      <td>0</td>\n",
       "      <td>0</td>\n",
       "      <td>0</td>\n",
       "    </tr>\n",
       "    <tr>\n",
       "      <th>3</th>\n",
       "      <td>1</td>\n",
       "      <td>1</td>\n",
       "      <td>0</td>\n",
       "      <td>0</td>\n",
       "      <td>0</td>\n",
       "      <td>0</td>\n",
       "      <td>0</td>\n",
       "      <td>0</td>\n",
       "      <td>0</td>\n",
       "      <td>0</td>\n",
       "      <td>...</td>\n",
       "      <td>0</td>\n",
       "      <td>0</td>\n",
       "      <td>0</td>\n",
       "      <td>0</td>\n",
       "      <td>0</td>\n",
       "      <td>0</td>\n",
       "      <td>0</td>\n",
       "      <td>0</td>\n",
       "      <td>0</td>\n",
       "      <td>0</td>\n",
       "    </tr>\n",
       "    <tr>\n",
       "      <th>4</th>\n",
       "      <td>1</td>\n",
       "      <td>0</td>\n",
       "      <td>0</td>\n",
       "      <td>0</td>\n",
       "      <td>0</td>\n",
       "      <td>0</td>\n",
       "      <td>0</td>\n",
       "      <td>0</td>\n",
       "      <td>0</td>\n",
       "      <td>0</td>\n",
       "      <td>...</td>\n",
       "      <td>0</td>\n",
       "      <td>0</td>\n",
       "      <td>0</td>\n",
       "      <td>0</td>\n",
       "      <td>0</td>\n",
       "      <td>0</td>\n",
       "      <td>0</td>\n",
       "      <td>0</td>\n",
       "      <td>0</td>\n",
       "      <td>0</td>\n",
       "    </tr>\n",
       "    <tr>\n",
       "      <th>...</th>\n",
       "      <td>...</td>\n",
       "      <td>...</td>\n",
       "      <td>...</td>\n",
       "      <td>...</td>\n",
       "      <td>...</td>\n",
       "      <td>...</td>\n",
       "      <td>...</td>\n",
       "      <td>...</td>\n",
       "      <td>...</td>\n",
       "      <td>...</td>\n",
       "      <td>...</td>\n",
       "      <td>...</td>\n",
       "      <td>...</td>\n",
       "      <td>...</td>\n",
       "      <td>...</td>\n",
       "      <td>...</td>\n",
       "      <td>...</td>\n",
       "      <td>...</td>\n",
       "      <td>...</td>\n",
       "      <td>...</td>\n",
       "      <td>...</td>\n",
       "    </tr>\n",
       "    <tr>\n",
       "      <th>3293</th>\n",
       "      <td>1</td>\n",
       "      <td>0</td>\n",
       "      <td>0</td>\n",
       "      <td>0</td>\n",
       "      <td>0</td>\n",
       "      <td>0</td>\n",
       "      <td>0</td>\n",
       "      <td>0</td>\n",
       "      <td>0</td>\n",
       "      <td>0</td>\n",
       "      <td>...</td>\n",
       "      <td>0</td>\n",
       "      <td>0</td>\n",
       "      <td>0</td>\n",
       "      <td>0</td>\n",
       "      <td>0</td>\n",
       "      <td>0</td>\n",
       "      <td>0</td>\n",
       "      <td>0</td>\n",
       "      <td>0</td>\n",
       "      <td>0</td>\n",
       "    </tr>\n",
       "    <tr>\n",
       "      <th>3294</th>\n",
       "      <td>1</td>\n",
       "      <td>0</td>\n",
       "      <td>0</td>\n",
       "      <td>0</td>\n",
       "      <td>0</td>\n",
       "      <td>0</td>\n",
       "      <td>0</td>\n",
       "      <td>0</td>\n",
       "      <td>0</td>\n",
       "      <td>0</td>\n",
       "      <td>...</td>\n",
       "      <td>0</td>\n",
       "      <td>0</td>\n",
       "      <td>0</td>\n",
       "      <td>0</td>\n",
       "      <td>0</td>\n",
       "      <td>0</td>\n",
       "      <td>0</td>\n",
       "      <td>0</td>\n",
       "      <td>0</td>\n",
       "      <td>0</td>\n",
       "    </tr>\n",
       "    <tr>\n",
       "      <th>3295</th>\n",
       "      <td>1</td>\n",
       "      <td>0</td>\n",
       "      <td>0</td>\n",
       "      <td>0</td>\n",
       "      <td>0</td>\n",
       "      <td>0</td>\n",
       "      <td>0</td>\n",
       "      <td>0</td>\n",
       "      <td>0</td>\n",
       "      <td>0</td>\n",
       "      <td>...</td>\n",
       "      <td>0</td>\n",
       "      <td>0</td>\n",
       "      <td>0</td>\n",
       "      <td>0</td>\n",
       "      <td>0</td>\n",
       "      <td>0</td>\n",
       "      <td>0</td>\n",
       "      <td>0</td>\n",
       "      <td>0</td>\n",
       "      <td>0</td>\n",
       "    </tr>\n",
       "    <tr>\n",
       "      <th>3296</th>\n",
       "      <td>0</td>\n",
       "      <td>0</td>\n",
       "      <td>0</td>\n",
       "      <td>0</td>\n",
       "      <td>0</td>\n",
       "      <td>0</td>\n",
       "      <td>0</td>\n",
       "      <td>0</td>\n",
       "      <td>0</td>\n",
       "      <td>0</td>\n",
       "      <td>...</td>\n",
       "      <td>0</td>\n",
       "      <td>0</td>\n",
       "      <td>0</td>\n",
       "      <td>0</td>\n",
       "      <td>0</td>\n",
       "      <td>0</td>\n",
       "      <td>0</td>\n",
       "      <td>0</td>\n",
       "      <td>0</td>\n",
       "      <td>0</td>\n",
       "    </tr>\n",
       "    <tr>\n",
       "      <th>3297</th>\n",
       "      <td>0</td>\n",
       "      <td>0</td>\n",
       "      <td>0</td>\n",
       "      <td>0</td>\n",
       "      <td>0</td>\n",
       "      <td>0</td>\n",
       "      <td>0</td>\n",
       "      <td>0</td>\n",
       "      <td>0</td>\n",
       "      <td>0</td>\n",
       "      <td>...</td>\n",
       "      <td>0</td>\n",
       "      <td>0</td>\n",
       "      <td>0</td>\n",
       "      <td>0</td>\n",
       "      <td>0</td>\n",
       "      <td>0</td>\n",
       "      <td>0</td>\n",
       "      <td>0</td>\n",
       "      <td>0</td>\n",
       "      <td>0</td>\n",
       "    </tr>\n",
       "  </tbody>\n",
       "</table>\n",
       "<p>3298 rows × 12927 columns</p>\n",
       "</div>"
      ],
      "text/plain": [
       "         aa  aaa  aac  aachats  aadd  aag  aagive  aareferencing  aaron  ...  \\\n",
       "0     1   0    0    0        0     0    0       0              0      0  ...   \n",
       "1     1   0    0    0        0     0    0       0              0      0  ...   \n",
       "2     1   0    0    0        0     0    0       0              0      0  ...   \n",
       "3     1   1    0    0        0     0    0       0              0      0  ...   \n",
       "4     1   0    0    0        0     0    0       0              0      0  ...   \n",
       "...  ..  ..  ...  ...      ...   ...  ...     ...            ...    ...  ...   \n",
       "3293  1   0    0    0        0     0    0       0              0      0  ...   \n",
       "3294  1   0    0    0        0     0    0       0              0      0  ...   \n",
       "3295  1   0    0    0        0     0    0       0              0      0  ...   \n",
       "3296  0   0    0    0        0     0    0       0              0      0  ...   \n",
       "3297  0   0    0    0        0     0    0       0              0      0  ...   \n",
       "\n",
       "      zoom  zukr  zumba  zwfefk  zxm  zyban  zyn  zyns  zypan  zzdp  \n",
       "0        0     0      0       0    0      0    0     0      0     0  \n",
       "1        0     0      0       0    0      0    0     0      0     0  \n",
       "2        0     0      0       0    0      0    0     0      0     0  \n",
       "3        0     0      0       0    0      0    0     0      0     0  \n",
       "4        0     0      0       0    0      0    0     0      0     0  \n",
       "...    ...   ...    ...     ...  ...    ...  ...   ...    ...   ...  \n",
       "3293     0     0      0       0    0      0    0     0      0     0  \n",
       "3294     0     0      0       0    0      0    0     0      0     0  \n",
       "3295     0     0      0       0    0      0    0     0      0     0  \n",
       "3296     0     0      0       0    0      0    0     0      0     0  \n",
       "3297     0     0      0       0    0      0    0     0      0     0  \n",
       "\n",
       "[3298 rows x 12927 columns]"
      ]
     },
     "execution_count": 11,
     "metadata": {},
     "output_type": "execute_result"
    }
   ],
   "source": [
    "X_counts_df = pd.DataFrame(X_counts.toarray(), columns = count_vect.get_feature_names())\n",
    "X_counts_df\n",
    "\n",
    "# Using toarray() method"
   ]
  },
  {
   "cell_type": "markdown",
   "metadata": {},
   "source": [
    "Here is another alternative way to perform the same task with the to_dense() method."
   ]
  },
  {
   "cell_type": "code",
   "execution_count": 12,
   "metadata": {
    "scrolled": true
   },
   "outputs": [
    {
     "name": "stderr",
     "output_type": "stream",
     "text": [
      "C:\\Users\\ACCEP7ANCE\\AppData\\Roaming\\Python\\Python37\\site-packages\\sklearn\\utils\\deprecation.py:87: FutureWarning: Function get_feature_names is deprecated; get_feature_names is deprecated in 1.0 and will be removed in 1.2. Please use get_feature_names_out instead.\n",
      "  warnings.warn(msg, category=FutureWarning)\n"
     ]
    },
    {
     "data": {
      "text/html": [
       "<div>\n",
       "<style scoped>\n",
       "    .dataframe tbody tr th:only-of-type {\n",
       "        vertical-align: middle;\n",
       "    }\n",
       "\n",
       "    .dataframe tbody tr th {\n",
       "        vertical-align: top;\n",
       "    }\n",
       "\n",
       "    .dataframe thead th {\n",
       "        text-align: right;\n",
       "    }\n",
       "</style>\n",
       "<table border=\"1\" class=\"dataframe\">\n",
       "  <thead>\n",
       "    <tr style=\"text-align: right;\">\n",
       "      <th></th>\n",
       "      <th></th>\n",
       "      <th>aa</th>\n",
       "      <th>aaa</th>\n",
       "      <th>aac</th>\n",
       "      <th>aachats</th>\n",
       "      <th>aadd</th>\n",
       "      <th>aag</th>\n",
       "      <th>aagive</th>\n",
       "      <th>aareferencing</th>\n",
       "      <th>aaron</th>\n",
       "      <th>...</th>\n",
       "      <th>zoom</th>\n",
       "      <th>zukr</th>\n",
       "      <th>zumba</th>\n",
       "      <th>zwfefk</th>\n",
       "      <th>zxm</th>\n",
       "      <th>zyban</th>\n",
       "      <th>zyn</th>\n",
       "      <th>zyns</th>\n",
       "      <th>zypan</th>\n",
       "      <th>zzdp</th>\n",
       "    </tr>\n",
       "  </thead>\n",
       "  <tbody>\n",
       "    <tr>\n",
       "      <th>0</th>\n",
       "      <td>1</td>\n",
       "      <td>0</td>\n",
       "      <td>0</td>\n",
       "      <td>0</td>\n",
       "      <td>0</td>\n",
       "      <td>0</td>\n",
       "      <td>0</td>\n",
       "      <td>0</td>\n",
       "      <td>0</td>\n",
       "      <td>0</td>\n",
       "      <td>...</td>\n",
       "      <td>0</td>\n",
       "      <td>0</td>\n",
       "      <td>0</td>\n",
       "      <td>0</td>\n",
       "      <td>0</td>\n",
       "      <td>0</td>\n",
       "      <td>0</td>\n",
       "      <td>0</td>\n",
       "      <td>0</td>\n",
       "      <td>0</td>\n",
       "    </tr>\n",
       "    <tr>\n",
       "      <th>1</th>\n",
       "      <td>1</td>\n",
       "      <td>0</td>\n",
       "      <td>0</td>\n",
       "      <td>0</td>\n",
       "      <td>0</td>\n",
       "      <td>0</td>\n",
       "      <td>0</td>\n",
       "      <td>0</td>\n",
       "      <td>0</td>\n",
       "      <td>0</td>\n",
       "      <td>...</td>\n",
       "      <td>0</td>\n",
       "      <td>0</td>\n",
       "      <td>0</td>\n",
       "      <td>0</td>\n",
       "      <td>0</td>\n",
       "      <td>0</td>\n",
       "      <td>0</td>\n",
       "      <td>0</td>\n",
       "      <td>0</td>\n",
       "      <td>0</td>\n",
       "    </tr>\n",
       "    <tr>\n",
       "      <th>2</th>\n",
       "      <td>1</td>\n",
       "      <td>0</td>\n",
       "      <td>0</td>\n",
       "      <td>0</td>\n",
       "      <td>0</td>\n",
       "      <td>0</td>\n",
       "      <td>0</td>\n",
       "      <td>0</td>\n",
       "      <td>0</td>\n",
       "      <td>0</td>\n",
       "      <td>...</td>\n",
       "      <td>0</td>\n",
       "      <td>0</td>\n",
       "      <td>0</td>\n",
       "      <td>0</td>\n",
       "      <td>0</td>\n",
       "      <td>0</td>\n",
       "      <td>0</td>\n",
       "      <td>0</td>\n",
       "      <td>0</td>\n",
       "      <td>0</td>\n",
       "    </tr>\n",
       "    <tr>\n",
       "      <th>3</th>\n",
       "      <td>1</td>\n",
       "      <td>1</td>\n",
       "      <td>0</td>\n",
       "      <td>0</td>\n",
       "      <td>0</td>\n",
       "      <td>0</td>\n",
       "      <td>0</td>\n",
       "      <td>0</td>\n",
       "      <td>0</td>\n",
       "      <td>0</td>\n",
       "      <td>...</td>\n",
       "      <td>0</td>\n",
       "      <td>0</td>\n",
       "      <td>0</td>\n",
       "      <td>0</td>\n",
       "      <td>0</td>\n",
       "      <td>0</td>\n",
       "      <td>0</td>\n",
       "      <td>0</td>\n",
       "      <td>0</td>\n",
       "      <td>0</td>\n",
       "    </tr>\n",
       "    <tr>\n",
       "      <th>4</th>\n",
       "      <td>1</td>\n",
       "      <td>0</td>\n",
       "      <td>0</td>\n",
       "      <td>0</td>\n",
       "      <td>0</td>\n",
       "      <td>0</td>\n",
       "      <td>0</td>\n",
       "      <td>0</td>\n",
       "      <td>0</td>\n",
       "      <td>0</td>\n",
       "      <td>...</td>\n",
       "      <td>0</td>\n",
       "      <td>0</td>\n",
       "      <td>0</td>\n",
       "      <td>0</td>\n",
       "      <td>0</td>\n",
       "      <td>0</td>\n",
       "      <td>0</td>\n",
       "      <td>0</td>\n",
       "      <td>0</td>\n",
       "      <td>0</td>\n",
       "    </tr>\n",
       "    <tr>\n",
       "      <th>...</th>\n",
       "      <td>...</td>\n",
       "      <td>...</td>\n",
       "      <td>...</td>\n",
       "      <td>...</td>\n",
       "      <td>...</td>\n",
       "      <td>...</td>\n",
       "      <td>...</td>\n",
       "      <td>...</td>\n",
       "      <td>...</td>\n",
       "      <td>...</td>\n",
       "      <td>...</td>\n",
       "      <td>...</td>\n",
       "      <td>...</td>\n",
       "      <td>...</td>\n",
       "      <td>...</td>\n",
       "      <td>...</td>\n",
       "      <td>...</td>\n",
       "      <td>...</td>\n",
       "      <td>...</td>\n",
       "      <td>...</td>\n",
       "      <td>...</td>\n",
       "    </tr>\n",
       "    <tr>\n",
       "      <th>3293</th>\n",
       "      <td>1</td>\n",
       "      <td>0</td>\n",
       "      <td>0</td>\n",
       "      <td>0</td>\n",
       "      <td>0</td>\n",
       "      <td>0</td>\n",
       "      <td>0</td>\n",
       "      <td>0</td>\n",
       "      <td>0</td>\n",
       "      <td>0</td>\n",
       "      <td>...</td>\n",
       "      <td>0</td>\n",
       "      <td>0</td>\n",
       "      <td>0</td>\n",
       "      <td>0</td>\n",
       "      <td>0</td>\n",
       "      <td>0</td>\n",
       "      <td>0</td>\n",
       "      <td>0</td>\n",
       "      <td>0</td>\n",
       "      <td>0</td>\n",
       "    </tr>\n",
       "    <tr>\n",
       "      <th>3294</th>\n",
       "      <td>1</td>\n",
       "      <td>0</td>\n",
       "      <td>0</td>\n",
       "      <td>0</td>\n",
       "      <td>0</td>\n",
       "      <td>0</td>\n",
       "      <td>0</td>\n",
       "      <td>0</td>\n",
       "      <td>0</td>\n",
       "      <td>0</td>\n",
       "      <td>...</td>\n",
       "      <td>0</td>\n",
       "      <td>0</td>\n",
       "      <td>0</td>\n",
       "      <td>0</td>\n",
       "      <td>0</td>\n",
       "      <td>0</td>\n",
       "      <td>0</td>\n",
       "      <td>0</td>\n",
       "      <td>0</td>\n",
       "      <td>0</td>\n",
       "    </tr>\n",
       "    <tr>\n",
       "      <th>3295</th>\n",
       "      <td>1</td>\n",
       "      <td>0</td>\n",
       "      <td>0</td>\n",
       "      <td>0</td>\n",
       "      <td>0</td>\n",
       "      <td>0</td>\n",
       "      <td>0</td>\n",
       "      <td>0</td>\n",
       "      <td>0</td>\n",
       "      <td>0</td>\n",
       "      <td>...</td>\n",
       "      <td>0</td>\n",
       "      <td>0</td>\n",
       "      <td>0</td>\n",
       "      <td>0</td>\n",
       "      <td>0</td>\n",
       "      <td>0</td>\n",
       "      <td>0</td>\n",
       "      <td>0</td>\n",
       "      <td>0</td>\n",
       "      <td>0</td>\n",
       "    </tr>\n",
       "    <tr>\n",
       "      <th>3296</th>\n",
       "      <td>0</td>\n",
       "      <td>0</td>\n",
       "      <td>0</td>\n",
       "      <td>0</td>\n",
       "      <td>0</td>\n",
       "      <td>0</td>\n",
       "      <td>0</td>\n",
       "      <td>0</td>\n",
       "      <td>0</td>\n",
       "      <td>0</td>\n",
       "      <td>...</td>\n",
       "      <td>0</td>\n",
       "      <td>0</td>\n",
       "      <td>0</td>\n",
       "      <td>0</td>\n",
       "      <td>0</td>\n",
       "      <td>0</td>\n",
       "      <td>0</td>\n",
       "      <td>0</td>\n",
       "      <td>0</td>\n",
       "      <td>0</td>\n",
       "    </tr>\n",
       "    <tr>\n",
       "      <th>3297</th>\n",
       "      <td>0</td>\n",
       "      <td>0</td>\n",
       "      <td>0</td>\n",
       "      <td>0</td>\n",
       "      <td>0</td>\n",
       "      <td>0</td>\n",
       "      <td>0</td>\n",
       "      <td>0</td>\n",
       "      <td>0</td>\n",
       "      <td>0</td>\n",
       "      <td>...</td>\n",
       "      <td>0</td>\n",
       "      <td>0</td>\n",
       "      <td>0</td>\n",
       "      <td>0</td>\n",
       "      <td>0</td>\n",
       "      <td>0</td>\n",
       "      <td>0</td>\n",
       "      <td>0</td>\n",
       "      <td>0</td>\n",
       "      <td>0</td>\n",
       "    </tr>\n",
       "  </tbody>\n",
       "</table>\n",
       "<p>3298 rows × 12927 columns</p>\n",
       "</div>"
      ],
      "text/plain": [
       "         aa  aaa  aac  aachats  aadd  aag  aagive  aareferencing  aaron  ...  \\\n",
       "0     1   0    0    0        0     0    0       0              0      0  ...   \n",
       "1     1   0    0    0        0     0    0       0              0      0  ...   \n",
       "2     1   0    0    0        0     0    0       0              0      0  ...   \n",
       "3     1   1    0    0        0     0    0       0              0      0  ...   \n",
       "4     1   0    0    0        0     0    0       0              0      0  ...   \n",
       "...  ..  ..  ...  ...      ...   ...  ...     ...            ...    ...  ...   \n",
       "3293  1   0    0    0        0     0    0       0              0      0  ...   \n",
       "3294  1   0    0    0        0     0    0       0              0      0  ...   \n",
       "3295  1   0    0    0        0     0    0       0              0      0  ...   \n",
       "3296  0   0    0    0        0     0    0       0              0      0  ...   \n",
       "3297  0   0    0    0        0     0    0       0              0      0  ...   \n",
       "\n",
       "      zoom  zukr  zumba  zwfefk  zxm  zyban  zyn  zyns  zypan  zzdp  \n",
       "0        0     0      0       0    0      0    0     0      0     0  \n",
       "1        0     0      0       0    0      0    0     0      0     0  \n",
       "2        0     0      0       0    0      0    0     0      0     0  \n",
       "3        0     0      0       0    0      0    0     0      0     0  \n",
       "4        0     0      0       0    0      0    0     0      0     0  \n",
       "...    ...   ...    ...     ...  ...    ...  ...   ...    ...   ...  \n",
       "3293     0     0      0       0    0      0    0     0      0     0  \n",
       "3294     0     0      0       0    0      0    0     0      0     0  \n",
       "3295     0     0      0       0    0      0    0     0      0     0  \n",
       "3296     0     0      0       0    0      0    0     0      0     0  \n",
       "3297     0     0      0       0    0      0    0     0      0     0  \n",
       "\n",
       "[3298 rows x 12927 columns]"
      ]
     },
     "execution_count": 12,
     "metadata": {},
     "output_type": "execute_result"
    }
   ],
   "source": [
    "X_counts_df = pd.DataFrame(count_vect.fit_transform(data_nopunct['selftext_title']).todense(), columns = count_vect.get_feature_names())\n",
    "X_counts_df\n",
    "\n",
    "#using to_dense() method"
   ]
  },
  {
   "cell_type": "markdown",
   "metadata": {},
   "source": [
    "## Initial EDA Visualisation\n",
    "Now to see our words, let's plot a horizontal bar chart with the frequency of our words inside."
   ]
  },
  {
   "cell_type": "code",
   "execution_count": 13,
   "metadata": {
    "scrolled": false
   },
   "outputs": [
    {
     "data": {
      "image/png": "[encoded data removed]",
      "text/plain": [
       "<Figure size 1080x720 with 1 Axes>"
      ]
     },
     "metadata": {
      "needs_background": "light"
     },
     "output_type": "display_data"
    }
   ],
   "source": [
    "plt.figure(figsize = (15,10))\n",
    "\n",
    "X_counts_df.sum().sort_values(ascending = True).tail(40).plot(kind = 'barh', title='Frequency of words in Smoking and Alcoholic Subreddits');"
   ]
  },
  {
   "cell_type": "markdown",
   "metadata": {},
   "source": [
    "Yikes, appears there are several additional words we need to remove as stop words. Let's add the irrelevant words into our stopwords to see if it yields a better result.\n",
    "\n",
    "These are the words to be removed:  \n",
    "day, im, like, time, year, feel, get, one, want, month, really, would, go, week, ive, dont, going, thing, even, of, my  meeting, people, first, aa, back, work, much, last, think, got, need, the"
   ]
  },
  {
   "cell_type": "code",
   "execution_count": 14,
   "metadata": {},
   "outputs": [
    {
     "name": "stderr",
     "output_type": "stream",
     "text": [
      "C:\\Users\\ACCEP7ANCE\\AppData\\Roaming\\Python\\Python37\\site-packages\\sklearn\\utils\\deprecation.py:87: FutureWarning: Function get_feature_names is deprecated; get_feature_names is deprecated in 1.0 and will be removed in 1.2. Please use get_feature_names_out instead.\n",
      "  warnings.warn(msg, category=FutureWarning)\n"
     ]
    },
    {
     "data": {
      "image/png": "[encoded data removed]",
      "text/plain": [
       "<Figure size 1080x720 with 1 Axes>"
      ]
     },
     "metadata": {
      "needs_background": "light"
     },
     "output_type": "display_data"
    }
   ],
   "source": [
    "new_stopwords = ['day', 'im', 'like', 'time', 'year', 'feel', 'get', 'one', 'want', 'month', 'really', 'would','go','week','ive','dont','going','thing','even', 'of', 'my' 'meeting', 'people', 'first', 'aa', 'back','work','much','last','think','got','need','the', '']\n",
    "add_stopwords = nltk.corpus.stopwords.words('english') + new_stopwords\n",
    "\n",
    "count_vect = CountVectorizer(analyzer=clean_text_lemmatize_more_stopwords, stop_words = add_stopwords)\n",
    "\n",
    "\n",
    "X_counts = count_vect.fit_transform(data_nopunct['selftext_title'])\n",
    "\n",
    "\n",
    "X_counts_df = pd.DataFrame(count_vect.fit_transform(data_nopunct['selftext_title']).todense(), columns = count_vect.get_feature_names())\n",
    "\n",
    "\n",
    "plt.figure(figsize = (15,10))\n",
    "\n",
    "X_counts_df.sum().sort_values(ascending = True).tail(20).plot(kind = 'barh');"
   ]
  },
  {
   "cell_type": "markdown",
   "metadata": {},
   "source": [
    "Now this plot makes more sense.\n",
    "\n",
    "A few insights we can gather from this post. We can tell that posts that typically contains cigarette or smoke are very likely from the smoking subreddit, whereas sober, alcohol and drinking are likely from the alcoholic subreddits. These words are very useful for us to sort the posts out and can be used in our model for further evaluation and predictions."
   ]
  },
  {
   "cell_type": "markdown",
   "metadata": {},
   "source": [
    "## Apply N-Gram CountVectorizer (2,2)\n",
    "\n",
    "Let's Apply N-Gram CountVectorizer as well with (2,2) parameter."
   ]
  },
  {
   "cell_type": "code",
   "execution_count": 15,
   "metadata": {},
   "outputs": [],
   "source": [
    "ngram_vect = CountVectorizer(ngram_range=(2,2))\n",
    "X_counts_ngram = ngram_vect.fit_transform(data_nopunct['selftext_title'])\n",
    "# Apply our N-gram vectorizer with 2,3 parameter before fitting it into our vectorised data"
   ]
  },
  {
   "cell_type": "code",
   "execution_count": 16,
   "metadata": {
    "scrolled": true
   },
   "outputs": [
    {
     "name": "stderr",
     "output_type": "stream",
     "text": [
      "C:\\Users\\ACCEP7ANCE\\AppData\\Roaming\\Python\\Python37\\site-packages\\sklearn\\utils\\deprecation.py:87: FutureWarning: Function get_feature_names is deprecated; get_feature_names is deprecated in 1.0 and will be removed in 1.2. Please use get_feature_names_out instead.\n",
      "  warnings.warn(msg, category=FutureWarning)\n"
     ]
    }
   ],
   "source": [
    "X_counts_df_ngram = pd.DataFrame(X_counts_ngram.toarray())\n",
    "X_counts_df_ngram.columns = ngram_vect.get_feature_names()\n",
    "# Save our (2,3) vectorized data into our a dataframe"
   ]
  },
  {
   "cell_type": "markdown",
   "metadata": {},
   "source": [
    "Now will be an good time to view our most common 2-3 word phrases in our data."
   ]
  },
  {
   "cell_type": "code",
   "execution_count": 17,
   "metadata": {
    "scrolled": false
   },
   "outputs": [
    {
     "data": {
      "image/png": "[encoded data removed]",
      "text/plain": [
       "<Figure size 1080x576 with 1 Axes>"
      ]
     },
     "metadata": {
      "needs_background": "light"
     },
     "output_type": "display_data"
    }
   ],
   "source": [
    "plt.figure(figsize = (15,8))\n",
    "\n",
    "X_counts_df_ngram.sum().sort_values(ascending = True).tail(10).plot(kind = 'barh');"
   ]
  },
  {
   "cell_type": "markdown",
   "metadata": {},
   "source": [
    "It also appears that most people with smoking or alcholic problems might want to quit their habits too. This falls in line with a lot of our observations in rehabilitation centers\n",
    "\n",
    "** Need to troubleshoot why our cleaning function is not cleaning up our stopwords **"
   ]
  },
  {
   "cell_type": "markdown",
   "metadata": {},
   "source": [
    "## Apply TF-DIF Vectorization \n",
    "Let's also apply Term Frequency–Inverse Document Frequency (TF-IDF) vectorization to our data so that we can get a better gage of our model later. "
   ]
  },
  {
   "cell_type": "code",
   "execution_count": 18,
   "metadata": {},
   "outputs": [],
   "source": [
    "from sklearn.feature_extraction.text import TfidfVectorizer\n",
    "\n",
    "tfidf_vect = TfidfVectorizer(analyzer=clean_text_lemmatize_more_stopwords)\n",
    "X_tfidf = tfidf_vect.fit_transform(data_nopunct['selftext_title'])\n",
    "# Apply TF-DIF vectorization to our data, and then fit it into a data variable"
   ]
  },
  {
   "cell_type": "code",
   "execution_count": 19,
   "metadata": {},
   "outputs": [
    {
     "name": "stderr",
     "output_type": "stream",
     "text": [
      "C:\\Users\\ACCEP7ANCE\\AppData\\Roaming\\Python\\Python37\\site-packages\\sklearn\\utils\\deprecation.py:87: FutureWarning: Function get_feature_names is deprecated; get_feature_names is deprecated in 1.0 and will be removed in 1.2. Please use get_feature_names_out instead.\n",
      "  warnings.warn(msg, category=FutureWarning)\n"
     ]
    }
   ],
   "source": [
    "X_tfidf_df = pd.DataFrame(X_tfidf.toarray())\n",
    "X_tfidf_df.columns = tfidf_vect.get_feature_names()\n",
    "# Send our fitted data into our DataFrame"
   ]
  },
  {
   "cell_type": "code",
   "execution_count": 20,
   "metadata": {},
   "outputs": [
    {
     "data": {
      "image/png": "[encoded data removed]",
      "text/plain": [
       "<Figure size 1080x576 with 1 Axes>"
      ]
     },
     "metadata": {
      "needs_background": "light"
     },
     "output_type": "display_data"
    }
   ],
   "source": [
    "plt.figure(figsize = (15,8))\n",
    "\n",
    "X_tfidf_df.sum().sort_values(ascending = True).tail(10).plot(kind = 'barh');"
   ]
  },
  {
   "cell_type": "markdown",
   "metadata": {},
   "source": [
    "# Baseline Model\n",
    "--- \n",
    "Our baseline model is by looking at the proportions of post in one category, deciding if it belongs to one category by looking at the majority of the data."
   ]
  },
  {
   "cell_type": "code",
   "execution_count": 21,
   "metadata": {
    "scrolled": true
   },
   "outputs": [
    {
     "data": {
      "text/plain": [
       "1    0.556701\n",
       "0    0.443299\n",
       "Name: subreddit, dtype: float64"
      ]
     },
     "execution_count": 21,
     "metadata": {},
     "output_type": "execute_result"
    }
   ],
   "source": [
    "X = X_counts_df\n",
    "y = data['subreddit']\n",
    "# Load the baseline data with our count vectorized data\n",
    "\n",
    "y.value_counts(normalize = True)\n",
    "# Baseline Model (Percentage of one over the other)"
   ]
  },
  {
   "cell_type": "markdown",
   "metadata": {},
   "source": [
    "This indicates to us that our dataset is likely to be alcoholic as there are more 1 (Alcoholic) than 0 (Smoking). Let's evaluate our prediction metrics based on our baseline model."
   ]
  },
  {
   "cell_type": "code",
   "execution_count": 22,
   "metadata": {},
   "outputs": [],
   "source": [
    "# Baseline Model Metrics code"
   ]
  },
  {
   "cell_type": "markdown",
   "metadata": {},
   "source": [
    "# Train Our Models\n",
    "---\n",
    "\n",
    "Let's start training our model to make a prediction.\n",
    "\n",
    "### Import Our Model Libraries"
   ]
  },
  {
   "cell_type": "code",
   "execution_count": 23,
   "metadata": {},
   "outputs": [],
   "source": [
    "from sklearn.model_selection import train_test_split\n",
    "from sklearn import metrics\n",
    "from sklearn.metrics import accuracy_score\n",
    "\n",
    "from sklearn.naive_bayes import BernoulliNB\n",
    "from sklearn.naive_bayes import GaussianNB\n",
    "from sklearn.naive_bayes import MultinomialNB"
   ]
  },
  {
   "cell_type": "markdown",
   "metadata": {},
   "source": [
    "## Testing with Count Vectorized Data (1,1)\n",
    "\n",
    "Let's start by testing our model with our (1,1) count Vectorized data on our 2 models, namely Naive Bayes (Bernoulli, Multinomial and Gaussian) and KNN Model.\n",
    "\n",
    "### Loading our Count Vectorised Data into our X and Y sets"
   ]
  },
  {
   "cell_type": "code",
   "execution_count": 24,
   "metadata": {},
   "outputs": [],
   "source": [
    "X = X_counts_df\n",
    "y = data['subreddit']"
   ]
  },
  {
   "cell_type": "markdown",
   "metadata": {},
   "source": [
    "### Train test and split our data into an 80/20 set"
   ]
  },
  {
   "cell_type": "code",
   "execution_count": 25,
   "metadata": {},
   "outputs": [],
   "source": [
    "X_train, X_test, y_train, y_test = train_test_split(X, y, test_size=.2, random_state=42)"
   ]
  },
  {
   "cell_type": "markdown",
   "metadata": {},
   "source": [
    "### Using Bernoulli Naive Bayes"
   ]
  },
  {
   "cell_type": "code",
   "execution_count": 26,
   "metadata": {},
   "outputs": [
    {
     "name": "stdout",
     "output_type": "stream",
     "text": [
      "BernoulliNB(binarize=True)\n",
      "0.85\n"
     ]
    }
   ],
   "source": [
    "BernNB = BernoulliNB(binarize=True)\n",
    "BernNB.fit(X_train, y_train)\n",
    "print(BernNB)\n",
    "\n",
    "y_expect = y_test\n",
    "y_pred = BernNB.predict(X_test)\n",
    "\n",
    "print(accuracy_score(y_expect, y_pred))"
   ]
  },
  {
   "cell_type": "code",
   "execution_count": 27,
   "metadata": {},
   "outputs": [
    {
     "name": "stdout",
     "output_type": "stream",
     "text": [
      "0.8843821076573162\n"
     ]
    }
   ],
   "source": [
    "y_pred_train = BernNB.predict(X_train)\n",
    "\n",
    "print(accuracy_score(y_train, y_pred_train))\n",
    "# Train Data Metric"
   ]
  },
  {
   "cell_type": "markdown",
   "metadata": {},
   "source": []
  },
  {
   "cell_type": "markdown",
   "metadata": {},
   "source": [
    "### Using Multinomial Naive Bayes"
   ]
  },
  {
   "cell_type": "code",
   "execution_count": 28,
   "metadata": {
    "scrolled": true
   },
   "outputs": [
    {
     "name": "stdout",
     "output_type": "stream",
     "text": [
      "MultinomialNB()\n",
      "0.9575757575757575\n"
     ]
    }
   ],
   "source": [
    "MultiNB = MultinomialNB()\n",
    "MultiNB.fit(X_train, y_train)\n",
    "print(MultiNB)\n",
    "\n",
    "\n",
    "y_pred = MultiNB.predict(X_test)\n",
    "\n",
    "print(accuracy_score(y_expect, y_pred))\n",
    "#Test Data Metric"
   ]
  },
  {
   "cell_type": "code",
   "execution_count": 29,
   "metadata": {},
   "outputs": [
    {
     "name": "stdout",
     "output_type": "stream",
     "text": [
      "0.9859742228961335\n"
     ]
    }
   ],
   "source": [
    "y_pred_train = MultiNB.predict(X_train)\n",
    "\n",
    "print(accuracy_score(y_train, y_pred_train))\n",
    "\n",
    "# Train Data Metric"
   ]
  },
  {
   "cell_type": "markdown",
   "metadata": {},
   "source": [
    "### Using Gaussian Naive Bayes"
   ]
  },
  {
   "cell_type": "code",
   "execution_count": 30,
   "metadata": {},
   "outputs": [
    {
     "name": "stdout",
     "output_type": "stream",
     "text": [
      "GaussianNB()\n",
      "0.7712121212121212\n"
     ]
    }
   ],
   "source": [
    "GausNB = GaussianNB()\n",
    "GausNB.fit(X_train, y_train)\n",
    "print(GausNB)\n",
    "\n",
    "\n",
    "y_pred = GausNB.predict(X_test)\n",
    "\n",
    "print(accuracy_score(y_expect, y_pred))"
   ]
  },
  {
   "cell_type": "code",
   "execution_count": 31,
   "metadata": {},
   "outputs": [
    {
     "name": "stdout",
     "output_type": "stream",
     "text": [
      "0.9427596664139499\n"
     ]
    }
   ],
   "source": [
    "y_pred_train = GausNB.predict(X_train)\n",
    "\n",
    "print(accuracy_score(y_train, y_pred_train))"
   ]
  },
  {
   "cell_type": "markdown",
   "metadata": {},
   "source": [
    "### Optimised Bernoulli Naive Bayes"
   ]
  },
  {
   "cell_type": "code",
   "execution_count": 32,
   "metadata": {
    "scrolled": false
   },
   "outputs": [
    {
     "name": "stdout",
     "output_type": "stream",
     "text": [
      "BernoulliNB(binarize=0.1)\n",
      "0.9181818181818182\n"
     ]
    }
   ],
   "source": [
    "BernNB = BernoulliNB(binarize=0.1)\n",
    "BernNB.fit(X_train, y_train)\n",
    "print(BernNB)\n",
    "\n",
    "y_expect = y_test\n",
    "y_pred = BernNB.predict(X_test)\n",
    "\n",
    "print(accuracy_score(y_expect, y_pred))"
   ]
  },
  {
   "cell_type": "code",
   "execution_count": 33,
   "metadata": {},
   "outputs": [
    {
     "name": "stdout",
     "output_type": "stream",
     "text": [
      "0.9507202426080363\n"
     ]
    }
   ],
   "source": [
    "y_pred_train = BernNB.predict(X_train)\n",
    "\n",
    "print(accuracy_score(y_train, y_pred_train))"
   ]
  },
  {
   "cell_type": "markdown",
   "metadata": {},
   "source": [
    "## KNN"
   ]
  },
  {
   "cell_type": "code",
   "execution_count": 34,
   "metadata": {},
   "outputs": [],
   "source": [
    "from sklearn.model_selection import train_test_split, cross_val_score\n",
    "from sklearn.preprocessing import StandardScaler\n",
    "from sklearn.model_selection import train_test_split\n",
    "\n",
    "from sklearn.neighbors import KNeighborsClassifier"
   ]
  },
  {
   "cell_type": "code",
   "execution_count": 35,
   "metadata": {},
   "outputs": [],
   "source": [
    "knn = KNeighborsClassifier(n_neighbors=40)"
   ]
  },
  {
   "cell_type": "markdown",
   "metadata": {},
   "source": [
    "## Cross Validation"
   ]
  },
  {
   "cell_type": "code",
   "execution_count": 36,
   "metadata": {
    "scrolled": true
   },
   "outputs": [
    {
     "data": {
      "text/plain": [
       "0.8847485768500949"
      ]
     },
     "execution_count": 36,
     "metadata": {},
     "output_type": "execute_result"
    }
   ],
   "source": [
    "cross_val_score(knn, X_train, y_train, cv=5).mean()"
   ]
  },
  {
   "cell_type": "code",
   "execution_count": 37,
   "metadata": {},
   "outputs": [
    {
     "data": {
      "text/plain": [
       "0.9071266110689916"
      ]
     },
     "execution_count": 37,
     "metadata": {},
     "output_type": "execute_result"
    }
   ],
   "source": [
    "knn.fit(X_train, y_train)\n",
    "knn.score(X_train, y_train)"
   ]
  },
  {
   "cell_type": "code",
   "execution_count": 38,
   "metadata": {
    "scrolled": true
   },
   "outputs": [
    {
     "data": {
      "text/plain": [
       "0.8621212121212121"
      ]
     },
     "execution_count": 38,
     "metadata": {},
     "output_type": "execute_result"
    }
   ],
   "source": [
    "knn.score(X_test, y_test)"
   ]
  },
  {
   "cell_type": "markdown",
   "metadata": {},
   "source": [
    "## Testing with (2,2) N-Gram Vectorizing"
   ]
  },
  {
   "cell_type": "code",
   "execution_count": 39,
   "metadata": {},
   "outputs": [],
   "source": [
    "X = X_counts_df_ngram\n",
    "y = data['subreddit']"
   ]
  },
  {
   "cell_type": "code",
   "execution_count": 40,
   "metadata": {},
   "outputs": [],
   "source": [
    "X_train, X_test, y_train, y_test = train_test_split(X, y, test_size=.2, random_state=42)"
   ]
  },
  {
   "cell_type": "markdown",
   "metadata": {},
   "source": [
    "## Using Bernoulli Naive Bayes to predict Subreddits"
   ]
  },
  {
   "cell_type": "code",
   "execution_count": 41,
   "metadata": {},
   "outputs": [
    {
     "name": "stdout",
     "output_type": "stream",
     "text": [
      "BernoulliNB(binarize=True)\n",
      "0.5878787878787879\n"
     ]
    }
   ],
   "source": [
    "BernNB = BernoulliNB(binarize=True)\n",
    "BernNB.fit(X_train, y_train)\n",
    "print(BernNB)\n",
    "\n",
    "y_expect = y_test\n",
    "y_pred = BernNB.predict(X_test)\n",
    "\n",
    "print(accuracy_score(y_expect, y_pred))"
   ]
  },
  {
   "cell_type": "code",
   "execution_count": 42,
   "metadata": {},
   "outputs": [
    {
     "name": "stdout",
     "output_type": "stream",
     "text": [
      "0.5568612585291888\n"
     ]
    }
   ],
   "source": [
    "y_pred_train = BernNB.predict(X_train)\n",
    "\n",
    "print(accuracy_score(y_train, y_pred_train))\n",
    "# Train Data Metric"
   ]
  },
  {
   "cell_type": "markdown",
   "metadata": {},
   "source": [
    "## Using Multinomial Naive Bayes to predict Subreddits"
   ]
  },
  {
   "cell_type": "code",
   "execution_count": 43,
   "metadata": {
    "scrolled": true
   },
   "outputs": [
    {
     "name": "stdout",
     "output_type": "stream",
     "text": [
      "MultinomialNB()\n",
      "0.9287878787878788\n"
     ]
    }
   ],
   "source": [
    "MultiNB = MultinomialNB()\n",
    "MultiNB.fit(X_train, y_train)\n",
    "print(MultiNB)\n",
    "\n",
    "\n",
    "y_pred = MultiNB.predict(X_test)\n",
    "\n",
    "print(accuracy_score(y_expect, y_pred))\n",
    "#Test Data Metric"
   ]
  },
  {
   "cell_type": "code",
   "execution_count": 44,
   "metadata": {},
   "outputs": [
    {
     "name": "stdout",
     "output_type": "stream",
     "text": [
      "0.9996209249431387\n"
     ]
    }
   ],
   "source": [
    "y_pred_train = MultiNB.predict(X_train)\n",
    "\n",
    "print(accuracy_score(y_train, y_pred_train))\n",
    "\n",
    "# Train Data Metric"
   ]
  },
  {
   "cell_type": "markdown",
   "metadata": {},
   "source": [
    "## Using Gaussian Naive Bayes to predict Subreddits"
   ]
  },
  {
   "cell_type": "code",
   "execution_count": 45,
   "metadata": {},
   "outputs": [
    {
     "name": "stdout",
     "output_type": "stream",
     "text": [
      "GaussianNB()\n",
      "0.8939393939393939\n"
     ]
    }
   ],
   "source": [
    "GausNB = GaussianNB()\n",
    "GausNB.fit(X_train, y_train)\n",
    "print(GausNB)\n",
    "\n",
    "\n",
    "y_pred = GausNB.predict(X_test)\n",
    "\n",
    "print(accuracy_score(y_expect, y_pred))"
   ]
  },
  {
   "cell_type": "code",
   "execution_count": 46,
   "metadata": {},
   "outputs": [
    {
     "name": "stdout",
     "output_type": "stream",
     "text": [
      "1.0\n"
     ]
    }
   ],
   "source": [
    "y_pred_train = GausNB.predict(X_train)\n",
    "\n",
    "print(accuracy_score(y_train, y_pred_train))"
   ]
  },
  {
   "cell_type": "markdown",
   "metadata": {},
   "source": [
    "## Optimised Bernoulli Naive Bayes"
   ]
  },
  {
   "cell_type": "code",
   "execution_count": 47,
   "metadata": {
    "scrolled": false
   },
   "outputs": [
    {
     "name": "stdout",
     "output_type": "stream",
     "text": [
      "BernoulliNB(binarize=0.1)\n",
      "0.9393939393939394\n"
     ]
    }
   ],
   "source": [
    "BernNB = BernoulliNB(binarize=0.1)\n",
    "BernNB.fit(X_train, y_train)\n",
    "print(BernNB)\n",
    "\n",
    "y_expect = y_test\n",
    "y_pred = BernNB.predict(X_test)\n",
    "\n",
    "print(accuracy_score(y_expect, y_pred))"
   ]
  },
  {
   "cell_type": "code",
   "execution_count": 48,
   "metadata": {},
   "outputs": [
    {
     "name": "stdout",
     "output_type": "stream",
     "text": [
      "0.9946929492039424\n"
     ]
    }
   ],
   "source": [
    "y_pred_train = BernNB.predict(X_train)\n",
    "\n",
    "print(accuracy_score(y_train, y_pred_train))"
   ]
  },
  {
   "cell_type": "markdown",
   "metadata": {},
   "source": [
    "## KNN"
   ]
  },
  {
   "cell_type": "code",
   "execution_count": 49,
   "metadata": {},
   "outputs": [],
   "source": [
    "from sklearn.model_selection import train_test_split, cross_val_score\n",
    "from sklearn.preprocessing import StandardScaler\n",
    "from sklearn.model_selection import train_test_split\n",
    "\n",
    "from sklearn.neighbors import KNeighborsClassifier"
   ]
  },
  {
   "cell_type": "code",
   "execution_count": 50,
   "metadata": {},
   "outputs": [],
   "source": [
    "knn = KNeighborsClassifier(n_neighbors=40)"
   ]
  },
  {
   "cell_type": "markdown",
   "metadata": {},
   "source": [
    "## Cross Validation"
   ]
  },
  {
   "cell_type": "code",
   "execution_count": 51,
   "metadata": {
    "scrolled": true
   },
   "outputs": [
    {
     "data": {
      "text/plain": [
       "0.5644377839112185"
      ]
     },
     "execution_count": 51,
     "metadata": {},
     "output_type": "execute_result"
    }
   ],
   "source": [
    "cross_val_score(knn, X_train, y_train, cv=5).mean()"
   ]
  },
  {
   "cell_type": "code",
   "execution_count": 52,
   "metadata": {},
   "outputs": [
    {
     "data": {
      "text/plain": [
       "0.7854435178165277"
      ]
     },
     "execution_count": 52,
     "metadata": {},
     "output_type": "execute_result"
    }
   ],
   "source": [
    "knn.fit(X_train, y_train)\n",
    "knn.score(X_train, y_train)"
   ]
  },
  {
   "cell_type": "code",
   "execution_count": 53,
   "metadata": {
    "scrolled": false
   },
   "outputs": [
    {
     "data": {
      "text/plain": [
       "0.5651515151515152"
      ]
     },
     "execution_count": 53,
     "metadata": {},
     "output_type": "execute_result"
    }
   ],
   "source": [
    "knn.score(X_test, y_test)"
   ]
  },
  {
   "cell_type": "markdown",
   "metadata": {},
   "source": [
    "## Testing with TF-DIF Vectorizing"
   ]
  },
  {
   "cell_type": "code",
   "execution_count": 54,
   "metadata": {},
   "outputs": [],
   "source": [
    "X = X_tfidf_df\n",
    "y = data['subreddit']"
   ]
  },
  {
   "cell_type": "code",
   "execution_count": 55,
   "metadata": {},
   "outputs": [],
   "source": [
    "X_train, X_test, y_train, y_test = train_test_split(X, y, test_size=.2, random_state=42)"
   ]
  },
  {
   "cell_type": "markdown",
   "metadata": {},
   "source": [
    "## Using Bernoulli Naive Bayes to predict Subreddits"
   ]
  },
  {
   "cell_type": "code",
   "execution_count": 56,
   "metadata": {},
   "outputs": [
    {
     "name": "stdout",
     "output_type": "stream",
     "text": [
      "BernoulliNB(binarize=True)\n",
      "0.5863636363636363\n"
     ]
    }
   ],
   "source": [
    "BernNB = BernoulliNB(binarize=True)\n",
    "BernNB.fit(X_train, y_train)\n",
    "print(BernNB)\n",
    "\n",
    "y_expect = y_test\n",
    "y_pred = BernNB.predict(X_test)\n",
    "\n",
    "print(accuracy_score(y_expect, y_pred))"
   ]
  },
  {
   "cell_type": "code",
   "execution_count": 57,
   "metadata": {},
   "outputs": [
    {
     "name": "stdout",
     "output_type": "stream",
     "text": [
      "0.5492797573919637\n"
     ]
    }
   ],
   "source": [
    "y_pred_train = BernNB.predict(X_train)\n",
    "\n",
    "print(accuracy_score(y_train, y_pred_train))\n",
    "# Train Data Metric"
   ]
  },
  {
   "cell_type": "markdown",
   "metadata": {},
   "source": [
    "## Using Multinomial Naive Bayes to predict Subreddits"
   ]
  },
  {
   "cell_type": "code",
   "execution_count": 58,
   "metadata": {
    "scrolled": true
   },
   "outputs": [
    {
     "name": "stdout",
     "output_type": "stream",
     "text": [
      "MultinomialNB()\n",
      "0.9545454545454546\n"
     ]
    }
   ],
   "source": [
    "MultiNB = MultinomialNB()\n",
    "MultiNB.fit(X_train, y_train)\n",
    "print(MultiNB)\n",
    "\n",
    "\n",
    "y_pred = MultiNB.predict(X_test)\n",
    "\n",
    "print(accuracy_score(y_expect, y_pred))\n",
    "#Test Data Metric"
   ]
  },
  {
   "cell_type": "code",
   "execution_count": 59,
   "metadata": {},
   "outputs": [
    {
     "name": "stdout",
     "output_type": "stream",
     "text": [
      "0.9886277482941622\n"
     ]
    }
   ],
   "source": [
    "y_pred_train = MultiNB.predict(X_train)\n",
    "\n",
    "print(accuracy_score(y_train, y_pred_train))\n",
    "\n",
    "# Train Data Metric"
   ]
  },
  {
   "cell_type": "markdown",
   "metadata": {},
   "source": [
    "## Using Gaussian Naive Bayes to predict Subreddits"
   ]
  },
  {
   "cell_type": "code",
   "execution_count": 60,
   "metadata": {},
   "outputs": [
    {
     "name": "stdout",
     "output_type": "stream",
     "text": [
      "GaussianNB()\n",
      "0.7606060606060606\n"
     ]
    }
   ],
   "source": [
    "GausNB = GaussianNB()\n",
    "GausNB.fit(X_train, y_train)\n",
    "print(GausNB)\n",
    "\n",
    "\n",
    "y_pred = GausNB.predict(X_test)\n",
    "\n",
    "print(accuracy_score(y_expect, y_pred))"
   ]
  },
  {
   "cell_type": "code",
   "execution_count": 61,
   "metadata": {},
   "outputs": [
    {
     "name": "stdout",
     "output_type": "stream",
     "text": [
      "0.9518574677786201\n"
     ]
    }
   ],
   "source": [
    "y_pred_train = GausNB.predict(X_train)\n",
    "\n",
    "print(accuracy_score(y_train, y_pred_train))"
   ]
  },
  {
   "cell_type": "markdown",
   "metadata": {},
   "source": [
    "## Optimised Bernoulli Naive Bayes"
   ]
  },
  {
   "cell_type": "code",
   "execution_count": 62,
   "metadata": {
    "scrolled": false
   },
   "outputs": [
    {
     "name": "stdout",
     "output_type": "stream",
     "text": [
      "BernoulliNB(binarize=0.1)\n",
      "0.9454545454545454\n"
     ]
    }
   ],
   "source": [
    "BernNB = BernoulliNB(binarize=0.1)\n",
    "BernNB.fit(X_train, y_train)\n",
    "print(BernNB)\n",
    "\n",
    "y_expect = y_test\n",
    "y_pred = BernNB.predict(X_test)\n",
    "\n",
    "print(accuracy_score(y_expect, y_pred))"
   ]
  },
  {
   "cell_type": "code",
   "execution_count": 63,
   "metadata": {},
   "outputs": [
    {
     "name": "stdout",
     "output_type": "stream",
     "text": [
      "0.9886277482941622\n"
     ]
    }
   ],
   "source": [
    "y_pred_train = BernNB.predict(X_train)\n",
    "\n",
    "print(accuracy_score(y_train, y_pred_train))"
   ]
  },
  {
   "cell_type": "markdown",
   "metadata": {},
   "source": [
    "## KNN"
   ]
  },
  {
   "cell_type": "code",
   "execution_count": 64,
   "metadata": {},
   "outputs": [],
   "source": [
    "from sklearn.model_selection import train_test_split, cross_val_score\n",
    "from sklearn.preprocessing import StandardScaler\n",
    "from sklearn.model_selection import train_test_split\n",
    "\n",
    "from sklearn.neighbors import KNeighborsClassifier"
   ]
  },
  {
   "cell_type": "code",
   "execution_count": 65,
   "metadata": {},
   "outputs": [],
   "source": [
    "knn = KNeighborsClassifier(n_neighbors=40)"
   ]
  },
  {
   "cell_type": "markdown",
   "metadata": {},
   "source": [
    "## Cross Validation"
   ]
  },
  {
   "cell_type": "code",
   "execution_count": 66,
   "metadata": {
    "scrolled": true
   },
   "outputs": [
    {
     "data": {
      "text/plain": [
       "0.9552706859870048"
      ]
     },
     "execution_count": 66,
     "metadata": {},
     "output_type": "execute_result"
    }
   ],
   "source": [
    "cross_val_score(knn, X_train, y_train, cv=5).mean()"
   ]
  },
  {
   "cell_type": "code",
   "execution_count": 67,
   "metadata": {},
   "outputs": [
    {
     "data": {
      "text/plain": [
       "0.9583017437452616"
      ]
     },
     "execution_count": 67,
     "metadata": {},
     "output_type": "execute_result"
    }
   ],
   "source": [
    "knn.fit(X_train, y_train)\n",
    "knn.score(X_train, y_train)"
   ]
  },
  {
   "cell_type": "code",
   "execution_count": 68,
   "metadata": {
    "scrolled": false
   },
   "outputs": [
    {
     "data": {
      "text/plain": [
       "0.943939393939394"
      ]
     },
     "execution_count": 68,
     "metadata": {},
     "output_type": "execute_result"
    }
   ],
   "source": [
    "knn.score(X_test, y_test)"
   ]
  },
  {
   "cell_type": "code",
   "execution_count": null,
   "metadata": {},
   "outputs": [],
   "source": []
  },
  {
   "cell_type": "markdown",
   "metadata": {},
   "source": [
    "# Conclusion and Recommendations\n",
    "---\n"
   ]
  },
  {
   "cell_type": "code",
   "execution_count": null,
   "metadata": {},
   "outputs": [],
   "source": []
  },
  {
   "cell_type": "code",
   "execution_count": null,
   "metadata": {},
   "outputs": [],
   "source": []
  },
  {
   "cell_type": "code",
   "execution_count": null,
   "metadata": {},
   "outputs": [],
   "source": []
  },
  {
   "cell_type": "code",
   "execution_count": null,
   "metadata": {},
   "outputs": [],
   "source": []
  },
  {
   "cell_type": "code",
   "execution_count": null,
   "metadata": {},
   "outputs": [],
   "source": []
  },
  {
   "cell_type": "code",
   "execution_count": null,
   "metadata": {},
   "outputs": [],
   "source": []
  },
  {
   "cell_type": "code",
   "execution_count": null,
   "metadata": {},
   "outputs": [],
   "source": []
  },
  {
   "cell_type": "code",
   "execution_count": null,
   "metadata": {},
   "outputs": [],
   "source": []
  }
 ],
 "metadata": {
  "kernelspec": {
   "display_name": "Python 3",
   "language": "python",
   "name": "python3"
  },
  "language_info": {
   "codemirror_mode": {
    "name": "ipython",
    "version": 3
   },
   "file_extension": ".py",
   "mimetype": "text/x-python",
   "name": "python",
   "nbconvert_exporter": "python",
   "pygments_lexer": "ipython3",
   "version": "3.7.6"
  }
 },
 "nbformat": 4,
 "nbformat_minor": 4
}
